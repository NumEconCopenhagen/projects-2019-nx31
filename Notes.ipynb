{
 "cells": [
  {
   "cell_type": "markdown",
   "metadata": {},
   "source": [
    "# Her kan vi laver noter til opgaver og eksamen!"
   ]
  },
  {
   "cell_type": "markdown",
   "metadata": {},
   "source": [
    "## Usefull for the exam ?"
   ]
  },
  {
   "cell_type": "markdown",
   "metadata": {},
   "source": [
    "We can make lists:\n",
    "\n",
    "1. **First** item\n",
    "2. _Second_ item\n",
    "3. ~~Third~~ item\n",
    "\n",
    "We can also do LaTeX math, e.g. $\\alpha^2$ (or \\\\(\\alpha^2\\\\)), or\n",
    "\n",
    "$$ X = \\int_0^{\\infty} \\frac{x}{x+1} dx $$\n",
    "\\\\[ X = \\int_0^{\\infty} \\frac{x}{x+1} dx \\\\]"
   ]
  },
  {
   "cell_type": "code",
   "execution_count": null,
   "metadata": {},
   "outputs": [],
   "source": []
  },
  {
   "cell_type": "markdown",
   "metadata": {},
   "source": [
    "# Notes before exam"
   ]
  },
  {
   "cell_type": "markdown",
   "metadata": {},
   "source": [
    "HALL0 Th0mas du er for vild!\n",
    "kbjj safjpasofjpaos\n",
    "From the great Northsman!"
   ]
  },
  {
   "cell_type": "code",
   "execution_count": 1,
   "metadata": {},
   "outputs": [
    {
     "name": "stdout",
     "output_type": "stream",
     "text": [
      "Hello from NX31\n"
     ]
    }
   ],
   "source": [
    "message = 'Hello from NX31'\n",
    "print(message)"
   ]
  },
  {
   "cell_type": "code",
   "execution_count": null,
   "metadata": {},
   "outputs": [],
   "source": [
    "message_back = 'Hello from EMCK3N'\n",
    "print(message_back)"
   ]
  },
  {
   "cell_type": "markdown",
   "metadata": {},
   "source": [
    "Notes for dataproject before exam!:\n",
    "\n",
    "- include dropdown widget for relative development for public employment\n",
    "- comment for code in the cell for code and comment for result in markdown\n",
    "- write what we want to do and how we do it - and comment on the results\n",
    "- navne/numre on figures and references\n",
    "- use only two ## to get get fx. 1.3\n"
   ]
  },
  {
   "cell_type": "markdown",
   "metadata": {},
   "source": [
    "# Head"
   ]
  },
  {
   "cell_type": "markdown",
   "metadata": {},
   "source": [
    "## neck"
   ]
  },
  {
   "cell_type": "code",
   "execution_count": null,
   "metadata": {},
   "outputs": [],
   "source": []
  },
  {
   "cell_type": "markdown",
   "metadata": {},
   "source": [
    "Notes for read me file\n",
    " - make sure to comment on that we get data from DST"
   ]
  },
  {
   "cell_type": "markdown",
   "metadata": {},
   "source": [
    "def plot_e(dataframe, Central):\n",
    "    ax = dataframe.loc[:,[Central]].plot()\n",
    "\n",
    "mylist = rFTEG.columns.unique().tolist()\n",
    "widgets.interact(plot_e, \n",
    "                  dataframe = widgets.fixed(rFTEG),\n",
    "                  Central = widgets.Dropdown(description='Sector', options=mylist)\n",
    "                 );"
   ]
  },
  {
   "cell_type": "markdown",
   "metadata": {},
   "source": [
    "use dogstrings more than comments"
   ]
  },
  {
   "cell_type": "markdown",
   "metadata": {},
   "source": [
    "# Feedback on model project\n",
    "\n",
    "### Top notes\n",
    "\n",
    "- Comment a bit much on the code\n",
    "- Comment on the results\n",
    "\n",
    "## Feedback from teacher on model\n",
    "\n",
    "In general I think it is very good assignment. It is very nice that you begin with a very thorough introduction where you present the models. You introduces the models very good. Is is very nice that you use so much space to introduce the models thoroughly. It makes it much easier to read the assignment and gives a good understanding for the issues. It's great that you compare the analytical solutions with the numerical. It is also nice that you have created the amount of interactivity you have. I don't have many comments because you made a great assignment.\n",
    "\n",
    "## Peer feedback\n",
    "\n",
    "#1\n",
    "\n",
    "The best part of the project was:\n",
    "I really liked the interactive plot at the end where everything was nicely showed and visually concluded for me.\n",
    "\n",
    "The hardest part of the project to understand was:\n",
    "Your plotting code is not commented very much, and as such is the hardest to understand.\n",
    "\n",
    "An idea for an improvement/clarification could be:\n",
    "Make the interactive plots in fully funded OLG and PAYG OLG one, such that one can interact with all the parameters in one plot - just as you do in the end!\n",
    "\n",
    "An idea for an extension could be:\n",
    "One could introduce unknown endowment shocks to the old, such that the young maximize utility with risk. One could also change the production function to something else.\n",
    "\n",
    "#2\n",
    "\n",
    "Very cool project. I like the structure of using sympy functions to find analytical solution and combine your result with scipy optimize.\n",
    "\n",
    "You could add more describing text, however your project is quite long already. So maybe just add more subsections.\n",
    "\n",
    "I don't have many comments as it is a good project. Just one thing: As there are many of the same steps multiple times, I don’t see the value added by repeating them again. Of course, it’s nice and interesting that you extend the model from an economical point of view - but coding-wise there is not much new stuff.\n",
    "\n",
    "#3\n",
    "\n",
    "The best part of the project was:\n",
    "You have a really nice order and structure that makes the project easy to read and navigate.\n",
    "\n",
    "The hardest part of the project to understand was:\n",
    "I think have done a good job by making the project easy to follow. Some parts are repeated why the reader really gets to understand your project.\n",
    "\n",
    "An idea for an improvement/clarification could be:\n",
    "No. I think you have done a really nice job!\n",
    "\n",
    "An idea for an extension could be:\n",
    "You could change some equations or ad something extra to make the project more your own and not a textbook example.\n",
    "\n",
    "#4\n",
    "\n",
    "The best part of the project was:\n",
    "Very well structured and documented.\n",
    "Nice balance between theory and numerical/algebraic solutions\n",
    "\n",
    "The hardest part of the project to understand was:\n",
    "Not really anything; one minor thing is the length of the project which can require a bit of scrolling going back and forth.\n",
    "\n",
    "An idea for an improvement/clarification could be:\n",
    "It might be benefitial to put some functions in an external class in order to make the notebook a bit shorter.\n",
    "\n",
    "You could consider making the widgets' min/max values in variables in order to reduce hardcoding, but this is minor.\n",
    "\n",
    "An idea for an extension could be:\n",
    "This project could be a very nice stepping stone for more advanced OLG models.\n"
   ]
  },
  {
   "cell_type": "markdown",
   "metadata": {},
   "source": [
    "# Feedback from teacher on data"
   ]
  },
  {
   "cell_type": "markdown",
   "metadata": {},
   "source": [
    "Top notes:\n",
    "- Structure\n",
    "- "
   ]
  },
  {
   "cell_type": "markdown",
   "metadata": {},
   "source": [
    "Passed, but need some additional content for the exam.\n",
    "\n",
    "It is very nice that you start your analysis out with an outline of what you are going to do throughout the analysis. In cell 5 I would prefer if you just created a dictionary with the keys you are going to use. I am aware that Anders showed you this way in the lectures. Good that you rename your columns to more understandable names in your analysis. I think you could have spend a bit more time on your analysis. It is very high level. You state that the growth in number of public employees is due to to the growth in the number of employees. I would be interesting if you had calculated the change in the number of employees. You could also decompose the growth at the different sectors. Very good work with the layout of your figure. Especially, the formatting of the axis. Please let me know if you have questions to my comments. "
   ]
  },
  {
   "cell_type": "markdown",
   "metadata": {},
   "source": [
    "# Feedback to data project"
   ]
  },
  {
   "cell_type": "markdown",
   "metadata": {},
   "source": [
    "Top notes:\n",
    "- Structure\n",
    "- "
   ]
  },
  {
   "cell_type": "markdown",
   "metadata": {},
   "source": [
    "#1\n",
    "\n",
    "The best part of the project was: The import of data and the data cleaning was explained very good.\n",
    "The hardest part of the project to understand was: what the story is. More text would be nice, where you explain the tables and figures.\n",
    "Maybe read your own text once more, there is grammar mistake, which can make it harder to understand what you mean (not that many).\n",
    "An idea for an improvement/clarification could be: write a bit more about data like the name if the table and what the content is.\n",
    "And of cause get the Interactive figure to work.\n",
    "An idea for an extension could be: It would improve with the Interactive figure."
   ]
  },
  {
   "cell_type": "markdown",
   "metadata": {},
   "source": [
    "#2\n",
    "\n",
    "The best part of the project was:\n",
    "Quite comprehensive and you have tried to make a lot of different data manipulations.\n",
    "Your introduction is very well documented (however the degree of documentation and explanation decreases a bit during the project).\n",
    "\n",
    "The hardest part of the project to understand was:\n",
    "It took me some time to get the pydst package on my computer. I don't know whether it is just my computer but it was not installed already so I had to find information online to get it installed. Maybe leave that kind of information when you are not using standard packages.\n",
    "\n",
    "An idea for an improvement/clarification could be:\n",
    "Maybe a bit too comprehensive. Rather make it shorter and more concise. I lost a bit track of what you were trying to do and why from time to time as you changed focus.\n",
    "An improvement could also be to have series on different axis. Showing time series where the have very different values makes it hard to the development in any of them. If you just want to check which of them is most import a table with their values might be better.\n",
    "\n",
    "An idea for an extension could be: (explain what and why):\n",
    "I wouldn't recommend you to extend it as it was quite comprehensive already."
   ]
  },
  {
   "cell_type": "markdown",
   "metadata": {},
   "source": [
    "#3\n",
    "\n",
    "The best part of the project was:\n",
    "The idea for the topic is nice.\n",
    "The whole code is really easy to understand since you commented on nearly every step along the way.\n",
    "I like the way you clean and structure the data step by step and left it in the project instead of doing everything in one cell.\n",
    "\n",
    "The hardest part of the project to understand was:\n",
    "Why exactly are you looking whether the distribution changed since the financial crisis? Is there any intuition why that should have happened or is it just out of the blue?\n",
    "That’s not really something that is hard to understand but I’m curious.\n",
    "\n",
    "An idea for an improvement/clarification could be:\n",
    "You could maybe explain the term FTE.\n",
    "The graph for the relative share of employment shows up right the first time I run it – so at least for me it seems fine.\n",
    "Get the interactive graph right, I’ve seen that another Feedback already commented on it.\n",
    "The column names are sometimes not in the right spot, i.e. in the descriptive statistics part where everything is a line higher than ‘sector’, maybe you can find a way to change that and make it consistent.\n",
    "There're some grammar and spelling mistakes which need to be erased.\n",
    "\n",
    "An idea for an extension could be:\n",
    "It might be interesting to have a comparison of the development of the wages in the private and public sector. Maybe they changed at different points in time. Think about the crisis where governments might have been able to keep wages at a certain level or even higher and private sectors had to cut back or stagnated."
   ]
  },
  {
   "cell_type": "markdown",
   "metadata": {},
   "source": [
    "#4\n",
    "\n",
    "The best part of the project: The whole setup is well structured and is easy to follow, which makes for an easy run through of the project. It is nice that you created an API instead of just downloading the Excel files and using them. It makes it more automatic for future use.\n",
    "\n",
    "The hardest part of the project to understand: Not really anything was difficult or hard to understand. Perhaps because you guys are not doing anything out of the usual. It is a shame that you did not get the interactive figure to work. That would have been some more demanding coding than what else is done.\n",
    "\n",
    "Idea for improvement / clarification: obviously to get the interactive figure to work :) Also, instead of just seeing some procentage calculations, maybe you could calculate some growth contributions, and plot them, or show them in a table. I thought that would give a better understanding of which sector is contributing to the total workforce development.\n",
    "\n",
    "Idea for an extension: You could look at a more disaggrageted level, and see if there are differences in the workforce development in different municipalities, ex. is the change in the workforce largest in the capital or?"
   ]
  },
  {
   "cell_type": "markdown",
   "metadata": {},
   "source": [
    "# Playground ! :D "
   ]
  },
  {
   "cell_type": "code",
   "execution_count": null,
   "metadata": {},
   "outputs": [],
   "source": [
    "##a: Guess\n",
    "#k_ss = 1\n",
    "#delta_v=1\n",
    "#r_ss = sm.symbols('r_ss')\n",
    "#w_ss = sm.symbols('w_ss')\n",
    "#\n",
    "#def r(k,alpha,A,delta):\n",
    "#    return alpha*A*k**(alpha-1)-delta\n",
    "#def w(k,alpha,A):\n",
    "#    return (1-alpha)*A*k**alpha\n",
    "#def c1_gen(w,s):\n",
    "#    return w-s\n",
    "#def c2_gen(r,s):\n",
    "#    return (1+r)*s\n",
    "#def utility(c1,c2,rho_v):\n",
    "#    rho_v>-1\n",
    "#    return np.log(c1) + (1/(1+rho_v))*np.log(c2)\n",
    "#\n",
    "##b: Calculate r_ss and w_ss for guess\n",
    "#r_ss = r(k_ss,alpha_v,A_v,delta_v)\n",
    "#w_ss = w(k_ss,alpha_v,A_v)\n",
    "#print('Interest Rate Steady State: ',r_ss)\n",
    "#print('Wages Steady State: ',w_ss)\n",
    "#\n",
    "##c: Solve household problem\n",
    "#s_ss = w_ss/(2+rho_v)\n",
    "#\n",
    "#print('Savings Steady State: ',s_ss)\n",
    "#\n",
    "#c1 = c1_gen(w_ss,s_ss)\n",
    "#c2 = c2_gen(r_ss,s_ss)\n",
    "#util = utility(c1,c2,rho_v)\n",
    "#print('Consumption 1 Steady State: ', c1)\n",
    "#print('Consumption 2 Steady State: ', c2)\n",
    "#print('Utility Steady State: ', util)\n",
    "#\n",
    "#\n",
    "#k_sst = ((1-alpha_v)/((2+rho_v)*(1+n_v)))**(1/(1-alpha_v))\n",
    "#print(k_sst)\n",
    "#\n",
    "#k_ss-k_sst == 0"
   ]
  },
  {
   "cell_type": "code",
   "execution_count": null,
   "metadata": {},
   "outputs": [],
   "source": [
    "#from numpy import *\n",
    "#from matplotlib.pyplot import *\n",
    "#\n",
    "#def k(k_t, alpha, A, rho, n):\n",
    "#    k = (1-alpha)*A*k_t**alpha/(2+rho)*(1+n)\n",
    "#    return (1-alpha)*A*k_t**alpha/(2+rho)*(1+n)\n",
    "#\n",
    "#k_t = linspace(0, 1, 100)    \n",
    "#k = zeros(len(k_t))\n",
    "#for i in range(len(k_t)):\n",
    "#    k[i] = f(k_t[i])\n",
    "#\n",
    "#plot(k_t, k)\n",
    "#xlabel('k_t')\n",
    "#ylabel('k_t+1')\n",
    "#legend(['(1-alpha)*A*k_t**alpha/(2+rho)*(1+n)'])\n",
    "#axis([0, 1, 0, 0.5])\n",
    "#title('The Transition Curve')\n",
    "#show()"
   ]
  },
  {
   "cell_type": "code",
   "execution_count": null,
   "metadata": {},
   "outputs": [],
   "source": [
    "import pickle\n",
    "import numpy as np\n",
    "\n",
    "from scipy.stats import norm # normal distribution\n",
    "\n",
    "%matplotlib inline\n",
    "import matplotlib.pyplot as plt\n",
    "import ipywidgets as widgets\n",
    "\n",
    "k_t = np.linspace(0, 1, 100)\n",
    "A = 1"
   ]
  },
  {
   "cell_type": "code",
   "execution_count": null,
   "metadata": {},
   "outputs": [],
   "source": [
    "def k(k_t, alpha, A, rho, n):\n",
    "    #k = (1-alpha)*A*k_t**alpha/(2+rho)*(1+n)\n",
    "    return (1-alpha)*A*k_t**alpha/(2+rho)*(1+n)\n",
    "\n",
    "def interactive_k(alpha, rho, n):\n",
    "    k(k_t, alpha, A, rho, n)\n",
    "    \n",
    "    fig = plt.figure(dpi=100)\n",
    "    ax = fig.add_subplot(1,1,1)\n",
    "    ax.set_xlim([0,1]) # fixed x range\n",
    "    ax.set_ylim([0,0.5]) # fixed y range\n",
    "    plt.plot(k_t,k(k_t, alpha, A, rho, n))\n",
    "    return plt"
   ]
  },
  {
   "cell_type": "code",
   "execution_count": null,
   "metadata": {},
   "outputs": [],
   "source": [
    "widgets.interact(interactive_k,\n",
    "    alpha=widgets.FloatSlider(description=\"$alpha$\", min=0.1, max=0.99, step=0.01, value=1/3),\n",
    "    rho=widgets.FloatSlider(description=\"$rho$\", min=-0.99, max=1, step=0.01, value=0.04),\n",
    "    n=widgets.FloatSlider(description=\"$n$\", min=0.00, max=0.1, step=0.01, value=0.02),\n",
    ");"
   ]
  }
 ],
 "metadata": {
  "kernelspec": {
   "display_name": "Python 3",
   "language": "python",
   "name": "python3"
  },
  "language_info": {
   "codemirror_mode": {
    "name": "ipython",
    "version": 3
   },
   "file_extension": ".py",
   "mimetype": "text/x-python",
   "name": "python",
   "nbconvert_exporter": "python",
   "pygments_lexer": "ipython3",
   "version": "3.7.1"
  }
 },
 "nbformat": 4,
 "nbformat_minor": 2
}
