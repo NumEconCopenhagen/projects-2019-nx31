{
 "cells": [
  {
   "cell_type": "markdown",
   "metadata": {},
   "source": [
    "# Her kan vi laver noter til opgaver og eksamen!"
   ]
  },
  {
   "cell_type": "markdown",
   "metadata": {},
   "source": [
    "HALL0 Th0mas du er for vild!\n",
    "kbjj safjpasofjpaos\n",
    "From the great Northsman!"
   ]
  },
  {
   "cell_type": "code",
   "execution_count": 1,
   "metadata": {},
   "outputs": [
    {
     "name": "stdout",
     "output_type": "stream",
     "text": [
      "Hello from NX31\n"
     ]
    }
   ],
   "source": [
    "message = 'Hello from NX31'\n",
    "print(message)"
   ]
  },
  {
   "cell_type": "code",
   "execution_count": null,
   "metadata": {},
   "outputs": [],
   "source": [
    "message_back = 'Hello from EMCK3N'\n",
    "print(message_back)"
   ]
  },
  {
   "cell_type": "markdown",
   "metadata": {},
   "source": [
    "Notes for dataproject before exam!:\n",
    "\n",
    "- include dropdown widget for relative development for public employment\n",
    "- comment for code in the cell for code and comment for result in markdown\n",
    "- write what we want to do and how we do it - and comment on the results\n",
    "- navne/numre on figures and references\n",
    "- use only two ## to get get fx. 1.3\n"
   ]
  },
  {
   "cell_type": "markdown",
   "metadata": {},
   "source": [
    "# Head"
   ]
  },
  {
   "cell_type": "markdown",
   "metadata": {},
   "source": [
    "## neck"
   ]
  },
  {
   "cell_type": "code",
   "execution_count": null,
   "metadata": {},
   "outputs": [],
   "source": []
  },
  {
   "cell_type": "markdown",
   "metadata": {},
   "source": [
    "Notes for read me file\n",
    " - make sure to comment on that we get data from DST"
   ]
  },
  {
   "cell_type": "markdown",
   "metadata": {},
   "source": [
    "def plot_e(dataframe, Central):\n",
    "    ax = dataframe.loc[:,[Central]].plot()\n",
    "\n",
    "mylist = rFTEG.columns.unique().tolist()\n",
    "widgets.interact(plot_e, \n",
    "                  dataframe = widgets.fixed(rFTEG),\n",
    "                  Central = widgets.Dropdown(description='Sector', options=mylist)\n",
    "                 );"
   ]
  },
  {
   "cell_type": "markdown",
   "metadata": {},
   "source": [
    "use dogstrings more than comments"
   ]
  },
  {
   "cell_type": "markdown",
   "metadata": {},
   "source": [
    "# Feedback from teacher"
   ]
  },
  {
   "cell_type": "markdown",
   "metadata": {},
   "source": [
    "Top notes:\n",
    "- Structure\n",
    "- "
   ]
  },
  {
   "cell_type": "markdown",
   "metadata": {},
   "source": [
    "Passed, but need some additional content for the exam.\n",
    "\n",
    "It is very nice that you start your analysis out with an outline of what you are going to do throughout the analysis. In cell 5 I would prefer if you just created a dictionary with the keys you are going to use. I am aware that Anders showed you this way in the lectures. Good that you rename your columns to more understandable names in your analysis. I think you could have spend a bit more time on your analysis. It is very high level. You state that the growth in number of public employees is due to to the growth in the number of employees. I would be interesting if you had calculated the change in the number of employees. You could also decompose the growth at the different sectors. Very good work with the layout of your figure. Especially, the formatting of the axis. Please let me know if you have questions to my comments. "
   ]
  },
  {
   "cell_type": "markdown",
   "metadata": {},
   "source": [
    "# Feedback to data project"
   ]
  },
  {
   "cell_type": "markdown",
   "metadata": {},
   "source": [
    "Top notes:\n",
    "- Structure\n",
    "- "
   ]
  },
  {
   "cell_type": "markdown",
   "metadata": {},
   "source": [
    "#1\n",
    "\n",
    "The best part of the project was: The import of data and the data cleaning was explained very good.\n",
    "The hardest part of the project to understand was: what the story is. More text would be nice, where you explain the tables and figures.\n",
    "Maybe read your own text once more, there is grammar mistake, which can make it harder to understand what you mean (not that many).\n",
    "An idea for an improvement/clarification could be: write a bit more about data like the name if the table and what the content is.\n",
    "And of cause get the Interactive figure to work.\n",
    "An idea for an extension could be: It would improve with the Interactive figure."
   ]
  },
  {
   "cell_type": "markdown",
   "metadata": {},
   "source": [
    "#2\n",
    "\n",
    "The best part of the project was:\n",
    "Quite comprehensive and you have tried to make a lot of different data manipulations.\n",
    "Your introduction is very well documented (however the degree of documentation and explanation decreases a bit during the project).\n",
    "\n",
    "The hardest part of the project to understand was:\n",
    "It took me some time to get the pydst package on my computer. I don't know whether it is just my computer but it was not installed already so I had to find information online to get it installed. Maybe leave that kind of information when you are not using standard packages.\n",
    "\n",
    "An idea for an improvement/clarification could be:\n",
    "Maybe a bit too comprehensive. Rather make it shorter and more concise. I lost a bit track of what you were trying to do and why from time to time as you changed focus.\n",
    "An improvement could also be to have series on different axis. Showing time series where the have very different values makes it hard to the development in any of them. If you just want to check which of them is most import a table with their values might be better.\n",
    "\n",
    "An idea for an extension could be: (explain what and why):\n",
    "I wouldn't recommend you to extend it as it was quite comprehensive already."
   ]
  },
  {
   "cell_type": "markdown",
   "metadata": {},
   "source": [
    "#3\n",
    "\n",
    "The best part of the project was:\n",
    "The idea for the topic is nice.\n",
    "The whole code is really easy to understand since you commented on nearly every step along the way.\n",
    "I like the way you clean and structure the data step by step and left it in the project instead of doing everything in one cell.\n",
    "\n",
    "The hardest part of the project to understand was:\n",
    "Why exactly are you looking whether the distribution changed since the financial crisis? Is there any intuition why that should have happened or is it just out of the blue?\n",
    "That’s not really something that is hard to understand but I’m curious.\n",
    "\n",
    "An idea for an improvement/clarification could be:\n",
    "You could maybe explain the term FTE.\n",
    "The graph for the relative share of employment shows up right the first time I run it – so at least for me it seems fine.\n",
    "Get the interactive graph right, I’ve seen that another Feedback already commented on it.\n",
    "The column names are sometimes not in the right spot, i.e. in the descriptive statistics part where everything is a line higher than ‘sector’, maybe you can find a way to change that and make it consistent.\n",
    "There're some grammar and spelling mistakes which need to be erased.\n",
    "\n",
    "An idea for an extension could be:\n",
    "It might be interesting to have a comparison of the development of the wages in the private and public sector. Maybe they changed at different points in time. Think about the crisis where governments might have been able to keep wages at a certain level or even higher and private sectors had to cut back or stagnated."
   ]
  },
  {
   "cell_type": "markdown",
   "metadata": {},
   "source": [
    "#4\n",
    "\n",
    "The best part of the project: The whole setup is well structured and is easy to follow, which makes for an easy run through of the project. It is nice that you created an API instead of just downloading the Excel files and using them. It makes it more automatic for future use.\n",
    "\n",
    "The hardest part of the project to understand: Not really anything was difficult or hard to understand. Perhaps because you guys are not doing anything out of the usual. It is a shame that you did not get the interactive figure to work. That would have been some more demanding coding than what else is done.\n",
    "\n",
    "Idea for improvement / clarification: obviously to get the interactive figure to work :) Also, instead of just seeing some procentage calculations, maybe you could calculate some growth contributions, and plot them, or show them in a table. I thought that would give a better understanding of which sector is contributing to the total workforce development.\n",
    "\n",
    "Idea for an extension: You could look at a more disaggrageted level, and see if there are differences in the workforce development in different municipalities, ex. is the change in the workforce largest in the capital or?"
   ]
  },
  {
   "cell_type": "code",
   "execution_count": null,
   "metadata": {},
   "outputs": [],
   "source": [
    "##a: Guess\n",
    "#k_ss = 1\n",
    "#delta_v=1\n",
    "#r_ss = sm.symbols('r_ss')\n",
    "#w_ss = sm.symbols('w_ss')\n",
    "#\n",
    "#def r(k,alpha,A,delta):\n",
    "#    return alpha*A*k**(alpha-1)-delta\n",
    "#def w(k,alpha,A):\n",
    "#    return (1-alpha)*A*k**alpha\n",
    "#def c1_gen(w,s):\n",
    "#    return w-s\n",
    "#def c2_gen(r,s):\n",
    "#    return (1+r)*s\n",
    "#def utility(c1,c2,rho_v):\n",
    "#    rho_v>-1\n",
    "#    return np.log(c1) + (1/(1+rho_v))*np.log(c2)\n",
    "#\n",
    "##b: Calculate r_ss and w_ss for guess\n",
    "#r_ss = r(k_ss,alpha_v,A_v,delta_v)\n",
    "#w_ss = w(k_ss,alpha_v,A_v)\n",
    "#print('Interest Rate Steady State: ',r_ss)\n",
    "#print('Wages Steady State: ',w_ss)\n",
    "#\n",
    "##c: Solve household problem\n",
    "#s_ss = w_ss/(2+rho_v)\n",
    "#\n",
    "#print('Savings Steady State: ',s_ss)\n",
    "#\n",
    "#c1 = c1_gen(w_ss,s_ss)\n",
    "#c2 = c2_gen(r_ss,s_ss)\n",
    "#util = utility(c1,c2,rho_v)\n",
    "#print('Consumption 1 Steady State: ', c1)\n",
    "#print('Consumption 2 Steady State: ', c2)\n",
    "#print('Utility Steady State: ', util)\n",
    "#\n",
    "#\n",
    "#k_sst = ((1-alpha_v)/((2+rho_v)*(1+n_v)))**(1/(1-alpha_v))\n",
    "#print(k_sst)\n",
    "#\n",
    "#k_ss-k_sst == 0"
   ]
  }
 ],
 "metadata": {
  "kernelspec": {
   "display_name": "Python 3",
   "language": "python",
   "name": "python3"
  },
  "language_info": {
   "codemirror_mode": {
    "name": "ipython",
    "version": 3
   },
   "file_extension": ".py",
   "mimetype": "text/x-python",
   "name": "python",
   "nbconvert_exporter": "python",
   "pygments_lexer": "ipython3",
   "version": "3.6.8"
  }
 },
 "nbformat": 4,
 "nbformat_minor": 2
}
