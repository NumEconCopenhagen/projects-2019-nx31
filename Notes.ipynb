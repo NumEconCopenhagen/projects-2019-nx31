{
 "cells": [
  {
   "cell_type": "markdown",
   "metadata": {},
   "source": [
    "# Her kan vi laver noter til opgaver og eksamen!"
   ]
  },
  {
   "cell_type": "code",
   "execution_count": null,
   "metadata": {},
   "outputs": [],
   "source": [
    "HALL0 Th0mas du er for vild!\n",
    "\n",
    "From the great Northsman!"
   ]
  },
  {
   "cell_type": "code",
   "execution_count": 1,
   "metadata": {},
   "outputs": [
    {
     "name": "stdout",
     "output_type": "stream",
     "text": [
      "Hello from NX31\n"
     ]
    }
   ],
   "source": [
    "message = 'Hello from NX31'\n",
    "print(message)"
   ]
  },
  {
   "cell_type": "code",
   "execution_count": null,
   "metadata": {},
   "outputs": [],
   "source": [
    "message_back = 'Hello from EMCK3N'\n",
    "print(message_back)"
   ]
  },
  {
   "cell_type": "markdown",
   "metadata": {},
   "source": [
    "Notes for dataproject before exam!:\n",
    "\n",
    "- include dropdown widget for relative development for public employment\n",
    "- comment for code in the cell for code and comment for result in markdown\n",
    "- write what we want to do and how we do it - and comment on the results\n",
    "- navne/numre on figures and references\n",
    "- use only two ## to get get fx. 1.3\n"
   ]
  },
  {
   "cell_type": "markdown",
   "metadata": {},
   "source": [
    "# Head"
   ]
  },
  {
   "cell_type": "markdown",
   "metadata": {},
   "source": [
    "## neck"
   ]
  },
  {
   "cell_type": "code",
   "execution_count": null,
   "metadata": {},
   "outputs": [],
   "source": []
  },
  {
   "cell_type": "markdown",
   "metadata": {},
   "source": [
    "Notes for read me file\n",
    " - make sure to comment on that we get data from DST"
   ]
  },
  {
   "cell_type": "markdown",
   "metadata": {},
   "source": [
    "def plot_e(dataframe, Central):\n",
    "    ax = dataframe.loc[:,[Central]].plot()\n",
    "\n",
    "mylist = rFTEG.columns.unique().tolist()\n",
    "widgets.interact(plot_e, \n",
    "                  dataframe = widgets.fixed(rFTEG),\n",
    "                  Central = widgets.Dropdown(description='Sector', options=mylist)\n",
    "                 );"
   ]
  }
 ],
 "metadata": {
  "kernelspec": {
   "display_name": "Python 3",
   "language": "python",
   "name": "python3"
  },
  "language_info": {
   "codemirror_mode": {
    "name": "ipython",
    "version": 3
   },
   "file_extension": ".py",
   "mimetype": "text/x-python",
   "name": "python",
   "nbconvert_exporter": "python",
   "pygments_lexer": "ipython3",
   "version": "3.7.1"
  }
 },
 "nbformat": 4,
 "nbformat_minor": 2
}
