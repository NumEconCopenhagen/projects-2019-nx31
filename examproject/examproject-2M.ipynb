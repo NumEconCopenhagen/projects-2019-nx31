{
 "cells": [
  {
   "cell_type": "markdown",
   "metadata": {},
   "source": [
    "## NX31 Examproject"
   ]
  },
  {
   "cell_type": "markdown",
   "metadata": {},
   "source": [
    "## Packages and extensions"
   ]
  },
  {
   "cell_type": "code",
   "execution_count": 1,
   "metadata": {},
   "outputs": [],
   "source": [
    "%load_ext autoreload\n",
    "%autoreload 2"
   ]
  },
  {
   "cell_type": "code",
   "execution_count": 2,
   "metadata": {},
   "outputs": [],
   "source": [
    "import numpy as np\n",
    "import scipy as sp\n",
    "from scipy import optimize\n",
    "from scipy import interpolate\n",
    "import sympy as sm\n",
    "from IPython.display import display\n",
    "import ipywidgets as widgets\n",
    "\n",
    "\n",
    "%matplotlib inline\n",
    "import matplotlib.pyplot as plt\n",
    "from matplotlib import cm\n",
    "from mpl_toolkits.mplot3d import Axes3D\n",
    "sm.init_printing(use_unicode=True)"
   ]
  },
  {
   "cell_type": "markdown",
   "metadata": {},
   "source": [
    "## Introduction\n",
    "\n",
    "This examproject is made by our own effort combined, with inspiration from Problem sets, Lecture notebooks and earlier delivered projects. We have also gotten inspiration from Google/Stackoverflow searches. "
   ]
  },
  {
   "cell_type": "markdown",
   "metadata": {},
   "source": [
    "# Human capital accumulation"
   ]
  },
  {
   "cell_type": "markdown",
   "metadata": {},
   "source": [
    "Consider a worker living in **two periods**, $t \\in \\{1,2\\}$. \n",
    "\n",
    "In each period she decides whether to **work ($l_t = 1$) or not ($l_t = 0$)**. \n",
    "\n",
    "She can *not* borrow or save and thus **consumes all of her income** in each period. "
   ]
  },
  {
   "cell_type": "markdown",
   "metadata": {},
   "source": [
    "If she **works** her **consumption** becomes:\n",
    "\n",
    "$$c_t = w h_t l_t\\,\\,\\text{if}\\,\\,l_t=1$$\n",
    "\n",
    "where $w$ is **the wage rate** and $h_t$ is her **human capital**. \n",
    "\n",
    "If she does **not work** her consumption becomes:\n",
    "\n",
    "$$c_t = b\\,\\,\\text{if}\\,\\,l_t=0$$\n",
    "\n",
    "where $b$ is the **unemployment benefits**."
   ]
  },
  {
   "cell_type": "markdown",
   "metadata": {},
   "source": [
    "Her **utility of consumption** is: \n",
    "\n",
    "$$ \\frac{c_t^{1-\\rho}}{1-\\rho} $$\n",
    "\n",
    "Her **disutility of working** is:\n",
    "\n",
    "$$ \\gamma l_t $$"
   ]
  },
  {
   "cell_type": "markdown",
   "metadata": {},
   "source": [
    "From period 1 to period 2, she **accumulates human capital** according to:\n",
    "\n",
    "$$ h_2 = h_1 + l_1 + \n",
    "\\begin{cases}\n",
    "0 & \\text{with prob. }0.5 \\\\\n",
    "\\Delta & \\text{with prob. }0.5 \n",
    "\\end{cases} \\\\\n",
    "$$\n",
    "\n",
    "where $\\Delta$ is a **stochastic experience gain**."
   ]
  },
  {
   "cell_type": "markdown",
   "metadata": {},
   "source": [
    "In the **second period** the worker thus solves:\n",
    "\n",
    "$$\n",
    "\\begin{eqnarray*}\n",
    "v_{2}(h_{2}) & = &\\max_{l_{2}} \\frac{c_2^{1-\\rho}}{1-\\rho} - \\gamma l_2\n",
    "\\\\ & \\text{s.t.} & \\\\\n",
    "c_{2}& = & w h_2 l_2 \\\\\n",
    "l_{2}& \\in &\\{0,1\\}\n",
    "\\\\ & \\text{ NEW - s.t.} & \\\\\n",
    "c_{2}& = & \\begin{cases}\n",
    "w h_2 & \n",
    "\\text{if }l_2 = 1  \\\\\n",
    "b & \\text{if }l_2 = 0 \n",
    "\\end{cases} \\\\\n",
    "\\end{eqnarray*}\n",
    "$$"
   ]
  },
  {
   "cell_type": "markdown",
   "metadata": {},
   "source": [
    "In the **first period** the worker thus solves:\n",
    "\n",
    "$$\n",
    "\\begin{eqnarray*}\n",
    "v_{1}(h_{1}) &=& \\max_{l_{1}} \\frac{c_1^{1-\\rho}}{1-\\rho} - \\gamma l_1 + \\beta\\mathbb{E}_{1}\\left[v_2(h_2)\\right]\n",
    "\\\\ & \\text{s.t.} & \\\\\n",
    "c_1 &=& w h_1 l_1 \\\\\n",
    "h_2 &=& h_1 + l_1 + \\begin{cases}\n",
    "0 & \\text{with prob. }0.5\\\\\n",
    "\\Delta & \\text{with prob. }0.5 \n",
    "\\end{cases}\\\\\n",
    "l_{1} &\\in& \\{0,1\\}\\\\\n",
    "\\end{eqnarray*}\n",
    "$$\n",
    "\n",
    "where $\\beta$ is the **discount factor** and $\\mathbb{E}_{1}\\left[v_2(h_2)\\right]$ is the **expected value of living in period two**."
   ]
  },
  {
   "cell_type": "markdown",
   "metadata": {},
   "source": [
    "The **parameters** of the model are:"
   ]
  },
  {
   "cell_type": "code",
   "execution_count": 3,
   "metadata": {},
   "outputs": [],
   "source": [
    "rho = 2\n",
    "beta = 0.96\n",
    "gamma = 0.1\n",
    "w = 2\n",
    "b = 1\n",
    "Delta = 0.1"
   ]
  },
  {
   "cell_type": "markdown",
   "metadata": {},
   "source": [
    "The **relevant levels of human capital** are:"
   ]
  },
  {
   "cell_type": "code",
   "execution_count": 4,
   "metadata": {},
   "outputs": [],
   "source": [
    "h_vec = np.linspace(0.1,1.5,100)"
   ]
  },
  {
   "cell_type": "markdown",
   "metadata": {},
   "source": [
    "**Question 1:** Solve the model in period 2 and illustrate the solution (including labor supply as a function of human capital). "
   ]
  },
  {
   "cell_type": "markdown",
   "metadata": {},
   "source": [
    "**Question 2:** Solve the model in period 1 and illustrate the solution (including labor supply as a function of human capital). "
   ]
  },
  {
   "cell_type": "markdown",
   "metadata": {},
   "source": [
    "**Question 3:** Will the worker never work if her potential wage income is lower than the unemployment benefits she can get? Explain and illustrate why or why not."
   ]
  },
  {
   "cell_type": "markdown",
   "metadata": {},
   "source": [
    "## **Answer 1**: Human capital accumulation\n",
    "\n",
    "For the three question concerning Human capital accumulation have taking a lot of inspiration from Problem set 7.4.\n",
    "\n",
    "Solving the model in period 2 and illustrating labor supply as a function of human capital.\n",
    "\n",
    "First we set up the functions of the model, both for period one and period two."
   ]
  },
  {
   "cell_type": "code",
   "execution_count": 5,
   "metadata": {},
   "outputs": [],
   "source": [
    "def utility(c,rho):\n",
    "    return c**(1 - rho)/(1 - rho) #CHANGED\n",
    "\n",
    "def c(w,h,l,b):\n",
    "    return w*h*l + b*(1 - l) #CHANGED\n",
    "\n",
    "def bequest(l,gamma):\n",
    "    return gamma*l\n",
    "\n",
    "def v2(w,h2,l2,b,rho,gamma):\n",
    "    return utility(c(w,h2,l2,b),rho) - bequest(l2,gamma)\n",
    "\n",
    "def v1(h1,l1,v2_interp,Delta,w,b,rho,gamma,beta):\n",
    "    \n",
    "    # a. v2 value, if no accumulation of humancapital\n",
    "    h2_No = h1 + l1 + 0\n",
    "    v2_No = v2_interp([h2_No])[0]\n",
    "    \n",
    "    # b. v2 value, if accumulation of human capital\n",
    "    h2_Yes = h1 + l1 + Delta\n",
    "    v2_Yes = v2_interp([h2_Yes])[0]\n",
    "    \n",
    "    # c. expected v2 value\n",
    "    v2 = 0.5*v2_No + 0.5*v2_Yes\n",
    "    \n",
    "    # d. total value\n",
    "    return utility(c(w,h1,l1,b),rho) - bequest(l1,gamma) + beta*v2"
   ]
  },
  {
   "cell_type": "markdown",
   "metadata": {},
   "source": [
    "We now ready to solve Question 1.1."
   ]
  },
  {
   "cell_type": "markdown",
   "metadata": {},
   "source": [
    "### Question 1.1\n",
    "\n",
    "Next we will define a function to solve the model for period 2."
   ]
  },
  {
   "cell_type": "code",
   "execution_count": 6,
   "metadata": {},
   "outputs": [],
   "source": [
    "def solve_period_2(rho,gamma,Delta):\n",
    "    \n",
    "    # Vectors\n",
    "    l2_vec = np.empty(100)\n",
    "    v2_vec = np.empty(100)\n",
    "    \n",
    "    # Solve for each h2\n",
    "    for i,h2 in enumerate(h_vec):\n",
    "        \n",
    "        # To work or not to work #CHANGED\n",
    "        if v2(w,h2,1,b,rho,gamma) < v2(w,h2,0,b,rho,gamma):\n",
    "            l2_vec[i] = 0\n",
    "        else:\n",
    "            l2_vec[i] = 1\n",
    "        \n",
    "        v2_vec[i] = v2(w,h2,l2_vec[i],b,rho,gamma)\n",
    "        \n",
    "    return l2_vec, v2_vec"
   ]
  },
  {
   "cell_type": "markdown",
   "metadata": {},
   "source": [
    "**CHANGED**\n",
    "\n",
    "Using our vectors for labor supply and utility for each value of human capital(h) in the given vector h_vec, we will solve the model for period 2. We will also illustrate this below."
   ]
  },
  {
   "cell_type": "code",
   "execution_count": 7,
   "metadata": {},
   "outputs": [],
   "source": [
    "# Symbols\n",
    "w = sm.symbols('w')\n",
    "h_2 = sm.symbols('h_2')\n",
    "rho = sm.symbols('rho')\n",
    "gamma = sm.symbols('gamma')\n",
    "v21 = sm.symbols('v_{2, l=1}')\n",
    "v20 = sm.symbols('v_{2, l=0}')\n",
    "b = sm.symbols('b')"
   ]
  },
  {
   "cell_type": "code",
   "execution_count": 8,
   "metadata": {},
   "outputs": [
    {
     "name": "stdout",
     "output_type": "stream",
     "text": [
      "Utility when working:\n"
     ]
    },
    {
     "data": {
      "image/png": "[encoded data removed]",
      "text/latex": [
       "$$\\left ( v_{2, \\quad l=1}\\right ) = - \\gamma + \\frac{\\left(h_{2} w\\right)^{- \\rho + 1}}{- \\rho + 1}$$"
      ],
      "text/plain": [
       "                          -ρ + 1\n",
       "                    (h₂⋅w)      \n",
       "(v_{2, l=1}) = -γ + ────────────\n",
       "                       -ρ + 1   "
      ]
     },
     "metadata": {},
     "output_type": "display_data"
    },
    {
     "name": "stdout",
     "output_type": "stream",
     "text": [
      "Utility whn not working:\n"
     ]
    },
    {
     "data": {
      "image/png": "[encoded data removed]",
      "text/latex": [
       "$$\\left ( v_{2, \\quad l=0}\\right ) = \\frac{b^{- \\rho + 1}}{- \\rho + 1}$$"
      ],
      "text/plain": [
       "                -ρ + 1\n",
       "               b      \n",
       "(v_{2, l=0}) = ───────\n",
       "                -ρ + 1"
      ]
     },
     "metadata": {},
     "output_type": "display_data"
    },
    {
     "name": "stdout",
     "output_type": "stream",
     "text": [
      "The kink in human capital is then where the two utilities are equal, so we set them equal and isolate h_2:\n"
     ]
    },
    {
     "data": {
      "image/png": "[encoded data removed]",
      "text/latex": [
       "$$\\frac{b^{- \\rho + 1}}{- \\rho + 1} = - \\gamma + \\frac{\\left(h_{2} w\\right)^{- \\rho + 1}}{- \\rho + 1}$$"
      ],
      "text/plain": [
       " -ρ + 1              -ρ + 1\n",
       "b              (h₂⋅w)      \n",
       "─────── = -γ + ────────────\n",
       " -ρ + 1           -ρ + 1   "
      ]
     },
     "metadata": {},
     "output_type": "display_data"
    },
    {
     "data": {
      "image/png": "[encoded data removed]",
      "text/latex": [
       "$$\\left [ \\frac{1}{w} \\left(b^{- \\rho + 1} - \\gamma \\rho + \\gamma\\right)^{- \\frac{1}{\\rho - 1}}\\right ]$$"
      ],
      "text/plain": [
       "⎡                    -1  ⎤\n",
       "⎢                   ─────⎥\n",
       "⎢                   ρ - 1⎥\n",
       "⎢⎛ -ρ + 1          ⎞     ⎥\n",
       "⎢⎝b       - γ⋅ρ + γ⎠     ⎥\n",
       "⎢────────────────────────⎥\n",
       "⎣           w            ⎦"
      ]
     },
     "execution_count": 8,
     "metadata": {},
     "output_type": "execute_result"
    }
   ],
   "source": [
    "# Solves for optimal h #CHANGED\n",
    "print(f'Utility when working:')\n",
    "v_21 = (w*h_2*1)**(1-rho)/(1-rho)-gamma\n",
    "display(sm.Eq(v21,v_21))\n",
    "print(f'Utility whn not working:')\n",
    "v_20 = b**(1-rho)/(1-rho)\n",
    "display(sm.Eq(v20,v_20))\n",
    "print(f'The kink in human capital is then where the two utilities are equal, so we set them equal and isolate h_2:')\n",
    "display(sm.Eq(v_20,v_21))\n",
    "f = v_21-v_20\n",
    "fs = sm.solve(f,h_2)\n",
    "fs"
   ]
  },
  {
   "cell_type": "code",
   "execution_count": 17,
   "metadata": {},
   "outputs": [
    {
     "name": "stdout",
     "output_type": "stream",
     "text": [
      "0.5556\n"
     ]
    }
   ],
   "source": [
    "rho = 2\n",
    "beta = 0.96\n",
    "gamma = 0.1\n",
    "w = 2\n",
    "b = 1\n",
    "opt_h2 = (b**(-rho + 1) - gamma*rho + gamma)**(-1/(rho - 1))/w\n",
    "print(f'{opt_h2:.4f}')"
   ]
  },
  {
   "cell_type": "code",
   "execution_count": 10,
   "metadata": {},
   "outputs": [
    {
     "data": {
      "image/png": "[encoded data removed]",
      "text/plain": [
       "<Figure size 864x432 with 2 Axes>"
      ]
     },
     "metadata": {},
     "output_type": "display_data"
    }
   ],
   "source": [
    "# Solving\n",
    "l2_vec,v2_vec = solve_period_2(rho,gamma,Delta)\n",
    "\n",
    "# Figure\n",
    "fig = plt.figure(figsize=(12,6))\n",
    "ax = fig.add_subplot(1,2,1)\n",
    "ax1 = fig.add_subplot(1,2,2)\n",
    "ax.plot(h_vec,l2_vec)\n",
    "ax1.plot(h_vec,v2_vec)\n",
    "\n",
    "# Labels\n",
    "font = {'family':'serif','color':'darkblue','weight':'normal','size': 16,}\n",
    "ax.set_xlabel('Human Capital ($h_2$)', fontdict=font)\n",
    "ax.set_ylabel('Labor supply ($l_2$)', fontdict=font)\n",
    "ax.set_title('Labor supply as a function of human capital in period 2', fontdict=font)\n",
    "ax.grid()\n",
    "ax1.grid()\n",
    "ax.plot(opt_h,0.5,marker='o')\n",
    "plt.tight_layout()"
   ]
  },
  {
   "cell_type": "markdown",
   "metadata": {},
   "source": [
    "**CHANGED**\n",
    "\n",
    "From the figures above, we see that with lower human capital she will tend to not work in period 2. The breakeven between working and not working is 0.5556, marked with a orange dot on the left plot. Thus she will choose to work if h>0.5556. This value is calculated above.\n",
    "\n",
    "This can also be seen by the kink in the graph. The figure to the left shows when at what human capital level, she will choose to work, whereas the figure on the right shows her total utility evolvement for values in human capital.\n",
    "\n",
    "\n"
   ]
  },
  {
   "cell_type": "markdown",
   "metadata": {},
   "source": [
    "### Question 1.2\n",
    "\n",
    "We will now solve the model for period one."
   ]
  },
  {
   "cell_type": "code",
   "execution_count": 11,
   "metadata": {},
   "outputs": [],
   "source": [
    "def solve_period_1(rho,gamma,beta,Delta,v1,v2_interp):\n",
    "    \n",
    "    # Vectors\n",
    "    l1_vec = np.empty(100)\n",
    "    v1_vec = np.empty(100)\n",
    "    \n",
    "    # Solve for each h1\n",
    "    for i,h1 in enumerate(h_vec):\n",
    "             \n",
    "        # To work or not to work\n",
    "        if v1(h1,1,v2_interp,Delta,w,b,rho,gamma,beta) < v1(h1,0,v2_interp,Delta,w,b,rho,gamma,beta):\n",
    "            l1_vec[i] = 0\n",
    "        else:\n",
    "            l1_vec[i] = 1\n",
    "        \n",
    "        v1_vec[i] = v1(h1,l1_vec[i],v2_interp,Delta,w,b,rho,gamma,beta)\n",
    "        \n",
    "    return l1_vec, v1_vec\n",
    "\n",
    "# Construct interpolator\n",
    "v2_interp = interpolate.RegularGridInterpolator((h_vec,), v2_vec, bounds_error=False, fill_value=None)"
   ]
  },
  {
   "cell_type": "code",
   "execution_count": 12,
   "metadata": {},
   "outputs": [],
   "source": [
    "# Symbols\n",
    "w = sm.symbols('w')\n",
    "h_1 = sm.symbols('h_1')\n",
    "rho = sm.symbols('rho')\n",
    "gamma = sm.symbols('gamma')\n",
    "v11 = sm.symbols('v_{1, l=1}')\n",
    "v10 = sm.symbols('v_{1, l=0}')\n",
    "b = sm.symbols('b')\n",
    "beta = sm.symbols('beta')\n",
    "v2 = sm.symbols('E{[v_2]}')"
   ]
  },
  {
   "cell_type": "code",
   "execution_count": 13,
   "metadata": {},
   "outputs": [
    {
     "name": "stdout",
     "output_type": "stream",
     "text": [
      "Utility when working:\n"
     ]
    },
    {
     "data": {
      "image/png": "[encoded data removed]",
      "text/latex": [
       "$$\\left ( v_{1, \\quad l=1}\\right ) = E{[v_2]} \\beta - \\gamma + \\frac{\\left(h_{1} w\\right)^{- \\rho + 1}}{- \\rho + 1}$$"
      ],
      "text/plain": [
       "                                      -ρ + 1\n",
       "                                (h₁⋅w)      \n",
       "(v_{1, l=1}) = E{[v_2]}⋅β - γ + ────────────\n",
       "                                   -ρ + 1   "
      ]
     },
     "metadata": {},
     "output_type": "display_data"
    },
    {
     "name": "stdout",
     "output_type": "stream",
     "text": [
      "Utility whn not working:\n"
     ]
    },
    {
     "data": {
      "image/png": "[encoded data removed]",
      "text/latex": [
       "$$\\left ( v_{1, \\quad l=0}\\right ) = \\frac{b^{- \\rho + 1}}{- \\rho + 1}$$"
      ],
      "text/plain": [
       "                -ρ + 1\n",
       "               b      \n",
       "(v_{1, l=0}) = ───────\n",
       "                -ρ + 1"
      ]
     },
     "metadata": {},
     "output_type": "display_data"
    },
    {
     "name": "stdout",
     "output_type": "stream",
     "text": [
      "The kink in human capital is then where the two utilities are equal, so we set them equal and isolate h_2:\n"
     ]
    },
    {
     "data": {
      "image/png": "[encoded data removed]",
      "text/latex": [
       "$$\\frac{b^{- \\rho + 1}}{- \\rho + 1} = E{[v_2]} \\beta - \\gamma + \\frac{\\left(h_{1} w\\right)^{- \\rho + 1}}{- \\rho + 1}$$"
      ],
      "text/plain": [
       " -ρ + 1                          -ρ + 1\n",
       "b                          (h₁⋅w)      \n",
       "─────── = E{[v_2]}⋅β - γ + ────────────\n",
       " -ρ + 1                       -ρ + 1   "
      ]
     },
     "metadata": {},
     "output_type": "display_data"
    },
    {
     "data": {
      "image/png": "[encoded data removed]",
      "text/latex": [
       "$$\\left [ \\frac{1}{w} \\left(E{[v_2]} \\beta \\rho - E{[v_2]} \\beta + b^{- \\rho + 1} - \\gamma \\rho + \\gamma\\right)^{- \\frac{1}{\\rho - 1}}\\right ]$$"
      ],
      "text/plain": [
       "⎡                                                -1  ⎤\n",
       "⎢                                               ─────⎥\n",
       "⎢                                               ρ - 1⎥\n",
       "⎢⎛                             -ρ + 1          ⎞     ⎥\n",
       "⎢⎝E{[v_2]}⋅β⋅ρ - E{[v_2]}⋅β + b       - γ⋅ρ + γ⎠     ⎥\n",
       "⎢────────────────────────────────────────────────────⎥\n",
       "⎣                         w                          ⎦"
      ]
     },
     "execution_count": 13,
     "metadata": {},
     "output_type": "execute_result"
    }
   ],
   "source": [
    "# Solves for the kink point in human capial i period 2\n",
    "print(f'Utility when working:')\n",
    "v_11 = (w*h_1*1)**(1-rho)/(1-rho)-gamma+beta*v2\n",
    "display(sm.Eq(v11,v_11))\n",
    "print(f'Utility whn not working:')\n",
    "v_10 = b**(1-rho)/(1-rho)\n",
    "display(sm.Eq(v10,v_10))\n",
    "print(f'The kink in human capital is then where the two utilities are equal, so we set them equal and isolate h_2:')\n",
    "display(sm.Eq(v_10,v_11))\n",
    "f1 = v_11-v_10\n",
    "f1s = sm.solve(f1,h_1)\n",
    "f1s"
   ]
  },
  {
   "cell_type": "code",
   "execution_count": 118,
   "metadata": {},
   "outputs": [
    {
     "name": "stdout",
     "output_type": "stream",
     "text": [
      "-0.43333\n"
     ]
    }
   ],
   "source": [
    "#Expected v_2\n",
    "v2 = (w*1.5*1)**(1-rho)/(1-rho)-gamma\n",
    "print(f'{v2:.5f}')"
   ]
  },
  {
   "cell_type": "code",
   "execution_count": 119,
   "metadata": {},
   "outputs": [
    {
     "name": "stdout",
     "output_type": "stream",
     "text": [
      "1.0331\n"
     ]
    }
   ],
   "source": [
    "# Breakeven human capital period 1\n",
    "print(f'{((v2*beta*rho - v2*beta + (b**(-rho + 1)) - gamma*rho + gamma)**(-1/(rho - 1)))/w:.4f}')"
   ]
  },
  {
   "cell_type": "markdown",
   "metadata": {},
   "source": [
    "**Changed**\n",
    "We know this is not the correct solution, as from the plot below, we see that is should be around 0.35. We suspect that our expect $v_2$ value is calculated wrong."
   ]
  },
  {
   "cell_type": "code",
   "execution_count": 114,
   "metadata": {},
   "outputs": [
    {
     "data": {
      "image/png": "[encoded data removed]",
      "text/plain": [
       "<Figure size 864x432 with 1 Axes>"
      ]
     },
     "metadata": {},
     "output_type": "display_data"
    }
   ],
   "source": [
    "# Solve model #CHANGED\n",
    "l1_vec,v1_vec = solve_period_1(rho,gamma,beta,Delta,v1,v2_interp)\n",
    "\n",
    "# Figure\n",
    "fig = plt.figure(figsize=(12,6))\n",
    "ax = fig.add_subplot(1,1,1)\n",
    "ax.plot(h_vec,l1_vec)\n",
    "\n",
    "# Labels\n",
    "font = {'family':'serif','color':'darkblue','weight':'normal','size': 16,}\n",
    "ax.set_xlabel('Human Capital ($h_1$)', fontdict=font)\n",
    "ax.set_ylabel('Labor supply ($l_1$)', fontdict=font)\n",
    "ax.set_title('Labor supply as a function of human capital in period 1', fontdict=font)\n",
    "ax.plot(0.345,0.5,marker='o') # Guessed value\n",
    "ax.grid()"
   ]
  },
  {
   "cell_type": "markdown",
   "metadata": {},
   "source": [
    "**Changed**\n",
    "\n",
    "We see again that with low human capital you will decide not to work in period two, in fact you will only work if your level of human capital is over 0.345.\n",
    "\n",
    "Below we have quickly found the kink in human capital with a short analytical solution."
   ]
  },
  {
   "cell_type": "markdown",
   "metadata": {},
   "source": [
    "### Question 1.3"
   ]
  },
  {
   "cell_type": "markdown",
   "metadata": {},
   "source": [
    "**CHANGED**\n",
    "To investigate if she will choose never to work, we instead look at on labor supply as as a functions of potential wages. We choose the highest level of human capital as we see, that the tendency is, that higher human capital leads to working. This is because she gets utility of higher human capital, and working leads to higher human capital.\n",
    "\n",
    "We will start by solving period 2."
   ]
  },
  {
   "cell_type": "code",
   "execution_count": 122,
   "metadata": {},
   "outputs": [],
   "source": [
    "rho = 2\n",
    "beta = 0.96\n",
    "gamma = 0.1\n",
    "b = 1\n",
    "Delta = 0.1"
   ]
  },
  {
   "cell_type": "code",
   "execution_count": 123,
   "metadata": {},
   "outputs": [],
   "source": [
    "def utility(c,rho):\n",
    "    return c**(1-rho)/(1-rho)\n",
    "\n",
    "def c(w,h,l,b):\n",
    "    return w*h*l + b*(1-l)\n",
    "\n",
    "def bequest(l,gamma):\n",
    "    return gamma*l\n",
    "\n",
    "def v2(w,h2,l2,b,rho,gamma):\n",
    "    return utility(c(w,h2,l2,b),rho) - bequest(l2,gamma)\n",
    "\n",
    "def v1(h1,l1,v2_interp,Delta,w,b,rho,gamma,beta):\n",
    "    \n",
    "    # a. v2 value, if no accumulation of humancapital\n",
    "    h2_No = h1 + l1 + 0\n",
    "    v2_No = v2_interp([h2_No])[0]\n",
    "    \n",
    "    # b. v2 value, if accumulation of human capital\n",
    "    h2_Yes = h1 + l1 + Delta\n",
    "    v2_Yes = v2_interp([h2_Yes])[0]\n",
    "    \n",
    "    # c. expected v2 value\n",
    "    v2 = 0.5*v2_No + 0.5*v2_Yes\n",
    "    \n",
    "    # d. total value\n",
    "    return utility(c(w,h1,l1,b),rho) - bequest(l1,gamma) + beta*v2"
   ]
  },
  {
   "cell_type": "markdown",
   "metadata": {},
   "source": [
    "**CHANGED**\n",
    "The function for period 2 is now dependent on a vector of values for income wage from approx. zero to two."
   ]
  },
  {
   "cell_type": "code",
   "execution_count": 124,
   "metadata": {},
   "outputs": [],
   "source": [
    "h2 = 1.5\n",
    "w_vec = np.linspace(1e-8,2,100)\n",
    "\n",
    "def solve_period_2_2(rho,gamma,Delta):\n",
    "    \n",
    "    # Vectors\n",
    "    l2_vec = np.empty(100)\n",
    "    v2_vec = np.empty(100)\n",
    "    \n",
    "    # Solve for each h2\n",
    "    for i,w in enumerate(w_vec):\n",
    "        \n",
    "        # to work or not to work; if utility is higher when not working, then you will not work, else you work\n",
    "        if v2(w,h2,1,b,rho,gamma) < v2(w,h2,0,b,rho,gamma):\n",
    "            l2_vec[i] = 0\n",
    "        else:\n",
    "            l2_vec[i] = 1\n",
    "        \n",
    "        v2_vec[i] = v2(w,h2,l2_vec[i],b,rho,gamma)\n",
    "        \n",
    "    return l2_vec, v2_vec"
   ]
  },
  {
   "cell_type": "code",
   "execution_count": 132,
   "metadata": {},
   "outputs": [
    {
     "data": {
      "text/plain": [
       "[<matplotlib.lines.Line2D at 0x1317ffa6a0>]"
      ]
     },
     "execution_count": 132,
     "metadata": {},
     "output_type": "execute_result"
    },
    {
     "data": {
      "image/png": "[encoded data removed]",
      "text/plain": [
       "<Figure size 864x432 with 1 Axes>"
      ]
     },
     "metadata": {},
     "output_type": "display_data"
    }
   ],
   "source": [
    "# Solving\n",
    "l2_vec,v2_vec = solve_period_2_2(rho,gamma,Delta)\n",
    "\n",
    "# Figure\n",
    "fig = plt.figure(figsize=(12,6))\n",
    "ax = fig.add_subplot(1,1,1)\n",
    "ax.plot(w_vec,l2_vec)\n",
    "\n",
    "# Labels\n",
    "font = {'family':'serif','color':'darkblue','weight':'normal','size': 16,}\n",
    "ax.set_xlabel('Income wage ($w$)', fontdict=font)\n",
    "ax.set_ylabel('Labor supply ($l_2$)', fontdict=font)\n",
    "ax.set_title('Labor supply as a function of wage income in period 2', fontdict=font)\n",
    "ax.grid()\n",
    "ax.plot(0.7407,0.5,marker='o')"
   ]
  },
  {
   "cell_type": "markdown",
   "metadata": {},
   "source": [
    "**CHANGED**\n",
    "If the wage is below 0.741 she will not work in periode 2, if the worker have a lower level of human capital than 1.5. This limit will increase, meaning lower human capital leads to higher wage demand. As utility decrease with the level of human capital, the wage will have to increase for the worker to choose to work.\n",
    "\n",
    "To find the exact limit value of income wage we have done a short analytical solution below."
   ]
  },
  {
   "cell_type": "code",
   "execution_count": 129,
   "metadata": {},
   "outputs": [],
   "source": [
    "# Symbols\n",
    "w = sm.symbols('w')\n",
    "h_2 = sm.symbols('h_2')\n",
    "rho = sm.symbols('rho')\n",
    "gamma = sm.symbols('gamma')\n",
    "v21 = sm.symbols('v_{2, l=1}')\n",
    "v20 = sm.symbols('v_{2, l=0}')\n",
    "b = sm.symbols('b')"
   ]
  },
  {
   "cell_type": "code",
   "execution_count": 130,
   "metadata": {},
   "outputs": [
    {
     "name": "stdout",
     "output_type": "stream",
     "text": [
      "Utility when working:\n"
     ]
    },
    {
     "data": {
      "image/png": "[encoded data removed]",
      "text/latex": [
       "$$\\left ( v_{2, \\quad l=1}\\right ) = - \\gamma + \\frac{\\left(h_{2} w\\right)^{- \\rho + 1}}{- \\rho + 1}$$"
      ],
      "text/plain": [
       "                          -ρ + 1\n",
       "                    (h₂⋅w)      \n",
       "(v_{2, l=1}) = -γ + ────────────\n",
       "                       -ρ + 1   "
      ]
     },
     "metadata": {},
     "output_type": "display_data"
    },
    {
     "name": "stdout",
     "output_type": "stream",
     "text": [
      "Utility whn not working:\n"
     ]
    },
    {
     "data": {
      "image/png": "[encoded data removed]",
      "text/latex": [
       "$$\\left ( v_{2, \\quad l=0}\\right ) = \\frac{b^{- \\rho + 1}}{- \\rho + 1}$$"
      ],
      "text/plain": [
       "                -ρ + 1\n",
       "               b      \n",
       "(v_{2, l=0}) = ───────\n",
       "                -ρ + 1"
      ]
     },
     "metadata": {},
     "output_type": "display_data"
    },
    {
     "name": "stdout",
     "output_type": "stream",
     "text": [
      "The kink in income wage is then where the two utilities are equal, so we set them equal and isolate w:\n"
     ]
    },
    {
     "data": {
      "image/png": "[encoded data removed]",
      "text/latex": [
       "$$\\frac{b^{- \\rho + 1}}{- \\rho + 1} = - \\gamma + \\frac{\\left(h_{2} w\\right)^{- \\rho + 1}}{- \\rho + 1}$$"
      ],
      "text/plain": [
       " -ρ + 1              -ρ + 1\n",
       "b              (h₂⋅w)      \n",
       "─────── = -γ + ────────────\n",
       " -ρ + 1           -ρ + 1   "
      ]
     },
     "metadata": {},
     "output_type": "display_data"
    },
    {
     "name": "stdout",
     "output_type": "stream",
     "text": [
      "[(b**(-rho + 1) - gamma*rho + gamma)**(-1/(rho - 1))/h_2]\n"
     ]
    },
    {
     "data": {
      "image/png": "[encoded data removed]",
      "text/latex": [
       "$$\\left [ \\frac{1}{h_{2}} \\left(b^{- \\rho + 1} - \\gamma \\rho + \\gamma\\right)^{- \\frac{1}{\\rho - 1}}\\right ]$$"
      ],
      "text/plain": [
       "⎡                    -1  ⎤\n",
       "⎢                   ─────⎥\n",
       "⎢                   ρ - 1⎥\n",
       "⎢⎛ -ρ + 1          ⎞     ⎥\n",
       "⎢⎝b       - γ⋅ρ + γ⎠     ⎥\n",
       "⎢────────────────────────⎥\n",
       "⎣           h₂           ⎦"
      ]
     },
     "execution_count": 130,
     "metadata": {},
     "output_type": "execute_result"
    }
   ],
   "source": [
    "# Solves for the kink point in income wage i period 2\n",
    "print(f'Utility when working:')\n",
    "v_21 = (w*h_2*1)**(1-rho)/(1-rho)-gamma\n",
    "display(sm.Eq(v21,v_21))\n",
    "print(f'Utility whn not working:')\n",
    "v_20 = b**(1-rho)/(1-rho)\n",
    "display(sm.Eq(v20,v_20))\n",
    "print(f'The kink in income wage is then where the two utilities are equal, so we set them equal and isolate w:')\n",
    "display(sm.Eq(v_20,v_21))\n",
    "f = v_21-v_20\n",
    "fs = sm.solve(f,w)\n",
    "print(fs)\n",
    "fs"
   ]
  },
  {
   "cell_type": "code",
   "execution_count": 131,
   "metadata": {},
   "outputs": [
    {
     "name": "stdout",
     "output_type": "stream",
     "text": [
      "0.7407\n"
     ]
    }
   ],
   "source": [
    "rho = 2\n",
    "beta = 0.96\n",
    "gamma = 0.1\n",
    "h_2 = 1.5\n",
    "b = 1\n",
    "print(f'{(b**(-rho + 1) - gamma*rho + gamma)**(-1/(rho - 1))/h_2:.4f}')"
   ]
  },
  {
   "cell_type": "markdown",
   "metadata": {},
   "source": [
    "Now we will solve for period 1, using the same the same procedure as above."
   ]
  },
  {
   "cell_type": "code",
   "execution_count": null,
   "metadata": {},
   "outputs": [],
   "source": [
    "h1 = 1.5\n",
    "\n",
    "def solve_period_1_2(rho,gamma,beta,Delta,v1,v2_interp):\n",
    "    \n",
    "    # Vectors\n",
    "    l1_vec = np.empty(100)\n",
    "    v1_vec = np.empty(100)\n",
    "    \n",
    "    # Solve for each h1\n",
    "    for i,w in enumerate(w_vec):\n",
    "             \n",
    "        # to work or not to work; if utility is higher when not working, then you will not work, else you work\n",
    "        if v1(h1,1,v2_interp,Delta,w,b,rho,gamma,beta) < v1(h1,0,v2_interp,Delta,w,b,rho,gamma,beta):\n",
    "            l1_vec[i] = 0\n",
    "        else:\n",
    "            l1_vec[i] = 1\n",
    "        \n",
    "        v1_vec[i] = v1(h1,l1_vec[i],v2_interp,Delta,w,b,rho,gamma,beta)\n",
    "        \n",
    "    return l1_vec, v1_vec\n",
    "\n",
    "# Construct interpolator\n",
    "v2_interp = interpolate.RegularGridInterpolator((w_vec,), v2_vec, bounds_error=False, fill_value=None)"
   ]
  },
  {
   "cell_type": "code",
   "execution_count": null,
   "metadata": {},
   "outputs": [],
   "source": [
    "# Solving\n",
    "l1_vec,v1_vec = solve_period_1_2(rho,gamma,beta,Delta,v1,v2_interp)\n",
    "\n",
    "# Figure\n",
    "fig = plt.figure(figsize=(12,6))\n",
    "ax = fig.add_subplot(1,1,1)\n",
    "ax.plot(w_vec,l1_vec)\n",
    "\n",
    "# Labels\n",
    "font = {'family':'serif','color':'darkblue','weight':'normal','size': 16,}\n",
    "ax.set_xlabel('Income wage ($w$)', fontdict=font)\n",
    "ax.set_ylabel('Labor supply ($l_1$)', fontdict=font)\n",
    "ax.set_title('Labor supply as a function of income wage in period 1', fontdict=font)\n",
    "ax.grid()\n",
    "ax.plot(0.619,0.5,marker='o') # guess"
   ]
  },
  {
   "cell_type": "code",
   "execution_count": null,
   "metadata": {},
   "outputs": [],
   "source": [
    "# Symbols\n",
    "w = sm.symbols('w')\n",
    "h_1 = sm.symbols('h_1')\n",
    "rho = sm.symbols('rho')\n",
    "gamma = sm.symbols('gamma')\n",
    "v11 = sm.symbols('v_{1, l=1}')\n",
    "v10 = sm.symbols('v_{1, l=0}')\n",
    "b = sm.symbols('b')\n",
    "beta = sm.symbols('beta')\n",
    "v2 = sm.symbols('E{[v_2]}')"
   ]
  },
  {
   "cell_type": "code",
   "execution_count": null,
   "metadata": {},
   "outputs": [],
   "source": [
    "# Solves for the kink point in human capial i period 2\n",
    "print(f'Utility when working:')\n",
    "v_11 = (w*h_1*1)**(1-rho)/(1-rho)-gamma+beta*v2\n",
    "display(sm.Eq(v11,v_11))\n",
    "print(f'Utility whn not working:')\n",
    "v_10 = b**(1-rho)/(1-rho)\n",
    "display(sm.Eq(v10,v_10))\n",
    "print(f'The kink in human capital is then where the two utilities are equal, so we set them equal and isolate h_2:')\n",
    "display(sm.Eq(v_10,v_11))\n",
    "f1 = v_11-v_10\n",
    "f1s = sm.solve(f1,w)\n",
    "print(f1s)\n",
    "f1s"
   ]
  },
  {
   "cell_type": "code",
   "execution_count": null,
   "metadata": {},
   "outputs": [],
   "source": [
    "rho = 2\n",
    "beta = 0.96\n",
    "gamma = 0.1\n",
    "h2 = 1.5\n",
    "b = 1\n",
    "w = (b**(-rho + 1) - gamma*rho + gamma)**(-1/(rho - 1))/h2\n",
    "print(f'{w:.4f}')"
   ]
  },
  {
   "cell_type": "code",
   "execution_count": null,
   "metadata": {},
   "outputs": [],
   "source": [
    "#Expected v_2\n",
    "v2 = (w*h2*1)**(1-rho)/(1-rho)-gamma\n",
    "print(f'{v2:.20f}')"
   ]
  },
  {
   "cell_type": "code",
   "execution_count": null,
   "metadata": {},
   "outputs": [],
   "source": [
    "h1 = 1.5\n",
    "print(f'{(v2*beta*rho - v2*beta + b**(-rho + 1) - gamma*rho + gamma)**(-1/(rho - 1))/h1:.4f}')"
   ]
  },
  {
   "cell_type": "markdown",
   "metadata": {},
   "source": [
    "Again, this is not corret, but the illustration above is correct, and show the level of income wage where no one will work."
   ]
  },
  {
   "cell_type": "markdown",
   "metadata": {},
   "source": [
    "# AS-AD model"
   ]
  },
  {
   "cell_type": "markdown",
   "metadata": {},
   "source": [
    "Consider the following **AS-AD model**. The **goods market equilibrium** is given by\n",
    "\n",
    "$$ y_{t} = -\\alpha r_{t} + v_{t} $$\n",
    "\n",
    "where $y_{t}$ is the **output gap**, $r_{t}$ is the **ex ante real interest** and $v_{t}$ is a **demand disturbance**. "
   ]
  },
  {
   "cell_type": "markdown",
   "metadata": {},
   "source": [
    "The central bank's **Taylor rule** is\n",
    "\n",
    "$$ i_{t} = \\pi_{t+1}^{e} + h \\pi_{t} + b y_{t}$$\n",
    "\n",
    "where $i_{t}$ is the **nominal interest rate**, $\\pi_{t}$ is the **inflation gap**, and $\\pi_{t+1}^{e}$ is the **expected inflation gap**. "
   ]
  },
  {
   "cell_type": "markdown",
   "metadata": {},
   "source": [
    "The **ex ante real interest rate** is given by \n",
    "\n",
    "$$ r_{t} = i_{t} - \\pi_{t+1}^{e} $$"
   ]
  },
  {
   "cell_type": "markdown",
   "metadata": {},
   "source": [
    "Together, the above implies that the **AD-curve** is\n",
    "\n",
    "$$ \\pi_{t} = \\frac{1}{h\\alpha}\\left[v_{t} - (1+b\\alpha)y_{t}\\right]$$"
   ]
  },
  {
   "cell_type": "markdown",
   "metadata": {},
   "source": [
    "Further, assume that the **short-run supply curve (SRAS)** is given by\n",
    "\n",
    "$$ \\pi_{t} = \\pi_{t}^{e} + \\gamma y_{t} + s_{t}$$\n",
    "\n",
    "where $s_t$ is a **supply disturbance**."
   ]
  },
  {
   "cell_type": "markdown",
   "metadata": {},
   "source": [
    "**Inflation expectations are adaptive** and given by\n",
    "\n",
    "$$ \\pi_{t}^{e} = \\phi\\pi_{t-1}^{e} + (1-\\phi)\\pi_{t-1}$$"
   ]
  },
  {
   "cell_type": "markdown",
   "metadata": {},
   "source": [
    "Together, this implies that the **SRAS-curve** can also be written as\n",
    "\n",
    "$$ \\pi_{t} = \\pi_{t-1} + \\gamma y_{t} - \\phi\\gamma y_{t-1} + s_{t} - \\phi s_{t-1} $$"
   ]
  },
  {
   "cell_type": "markdown",
   "metadata": {},
   "source": [
    "The **parameters** of the model are:"
   ]
  },
  {
   "cell_type": "code",
   "execution_count": null,
   "metadata": {},
   "outputs": [],
   "source": [
    "par = {}\n",
    "\n",
    "par['alpha'] = 5.76\n",
    "par['h'] = 0.5\n",
    "par['b'] = 0.5\n",
    "par['phi'] = 0\n",
    "par['gamma'] = 0.075"
   ]
  },
  {
   "cell_type": "markdown",
   "metadata": {},
   "source": [
    "## **Answer 2**: AS-AD Model"
   ]
  },
  {
   "cell_type": "markdown",
   "metadata": {},
   "source": [
    "**Question 1:** Use the ``sympy`` module to solve for the equilibrium values of output, $y_t$, and inflation, $\\pi_t$, (where AD = SRAS) given the parameters ($\\alpha$, $h$, $b$, $\\alpha$, $\\gamma$) and $y_{t-1}$ , $\\pi_{t-1}$, $v_t$, $s_t$, and $s_{t-1}$."
   ]
  },
  {
   "cell_type": "markdown",
   "metadata": {},
   "source": [
    "### **Answer 2.1:**  \n",
    "\n",
    "We start by defining the functions, and for that we need to make sympy symbols."
   ]
  },
  {
   "cell_type": "code",
   "execution_count": null,
   "metadata": {},
   "outputs": [],
   "source": [
    "# Defining variables for sympy math symbols\n",
    "\n",
    "# Variables\n",
    "y_t = sm.symbols('y_t')\n",
    "r_t = sm.symbols('r_t')\n",
    "v_t = sm.symbols('v_t')\n",
    "i_t = sm.symbols('i_t')\n",
    "pie_plus = sm.symbols('\\pi^e_{t+1}')\n",
    "pi_t = sm.symbols('pi_t')\n",
    "pie_t = sm.symbols('\\pi^e_t')\n",
    "s_t = sm.symbols('s_t')\n",
    "pie_minus = sm.symbols('\\pi^e_{t-1}')\n",
    "pi_minus = sm.symbols('\\pi_{t-1}')\n",
    "y_minus = sm.symbols('y_{t-1}')\n",
    "s_minus = sm.symbols('s_{t-1}')\n",
    "\n",
    "# Parameters\n",
    "alpha = sm.symbols('alpha')\n",
    "h = sm.symbols('h')\n",
    "b = sm.symbols('b')\n",
    "gamma = sm.symbols('gamma')\n",
    "phi = sm.symbols('phi')"
   ]
  },
  {
   "cell_type": "markdown",
   "metadata": {},
   "source": [
    "The model functions."
   ]
  },
  {
   "cell_type": "code",
   "execution_count": null,
   "metadata": {},
   "outputs": [],
   "source": [
    "print(f'The goods market equilibrium:')\n",
    "fy_t = -alpha*r_t+v_t\n",
    "display(sm.Eq(y_t,fy_t))\n",
    "print(f'The Taylor rule:')\n",
    "fi_t = pie_plus + h*pi_t + b*y_t\n",
    "display(sm.Eq(i_t,fi_t))\n",
    "print(f'The ex ante real interest rate:')\n",
    "fr_t = i_t - pie_plus\n",
    "display(sm.Eq(r_t,fr_t))\n",
    "print(f'The AD-curve:')\n",
    "fpi_t_AD = (1/(h*alpha))*(v_t - (1 + b*alpha)*y_t)\n",
    "display(sm.Eq(pi_t,fpi_t_AD))\n",
    "print(f'The short-run supply curve (SRAS):')\n",
    "fpi_t_SRAS = pie_t + gamma*y_t + s_t\n",
    "display(sm.Eq(pi_t,fpi_t_SRAS))\n",
    "print(f'Inflation expectations:')\n",
    "fpie_t_in = phi*pie_minus + (1 - phi)*pi_minus\n",
    "display(sm.Eq(pie_t,fpie_t_in))\n",
    "print(f'SRAS-curve with inflation expectations:')\n",
    "fpi_t_SRAS_in = pi_minus + gamma*y_t - phi*gamma*y_minus + s_t - phi*s_minus\n",
    "display(sm.Eq(pi_t,fpi_t_SRAS_in))"
   ]
  },
  {
   "cell_type": "markdown",
   "metadata": {},
   "source": [
    "Now we will solve for the equilibrium value of output, \\$y_t$, by setting the SRAS-curve and AD-curve equal to each other. "
   ]
  },
  {
   "cell_type": "code",
   "execution_count": null,
   "metadata": {},
   "outputs": [],
   "source": [
    "SRAS_curve = fpi_t_SRAS_in\n",
    "AD_curve = fpi_t_AD\n",
    "\n",
    "# Equalizing\n",
    "print(f'AD=SRAS')\n",
    "equal =  AD_curve-SRAS_curve\n",
    "display(sm.Eq(AD_curve,SRAS_curve))\n",
    "\n",
    "# Solving the model\n",
    "equal_solve_y = sm.solve(equal,y_t)[0]\n",
    "display(sm.Eq(y_t,equal_solve_y))"
   ]
  },
  {
   "cell_type": "markdown",
   "metadata": {},
   "source": [
    "We will insert our equilibrium value of output into the SRAS-curve function to find $\\pi_t$."
   ]
  },
  {
   "cell_type": "code",
   "execution_count": null,
   "metadata": {},
   "outputs": [],
   "source": [
    "print(f'SRAS-curve, with solved y_t:')\n",
    "SRAS_curve_solve_y = pi_minus + gamma*equal_solve_y - phi*gamma*y_minus + s_t - phi*s_minus\n",
    "display(sm.Eq(pi_t,SRAS_curve_solve_y))"
   ]
  },
  {
   "cell_type": "markdown",
   "metadata": {},
   "source": [
    "We have now solved for the equilibrium values of output and inflation given parameters and values."
   ]
  },
  {
   "cell_type": "markdown",
   "metadata": {},
   "source": [
    "**Question 2:** Find and illustrate the equilibrium when $y_{t-1} = \\pi_{t-1} = v_t = s_t = s_{t-1} = 0$. Illustrate how the equilibrium changes when instead $v_t = 0.1$."
   ]
  },
  {
   "cell_type": "markdown",
   "metadata": {},
   "source": [
    "### **Answer 2.2:**  \n",
    "\n",
    "We now set the variables to 0 and calculate the equilibrium values for the output gap and inflation gap."
   ]
  },
  {
   "cell_type": "code",
   "execution_count": null,
   "metadata": {},
   "outputs": [],
   "source": [
    "print(equal_solve_y)\n",
    "equal_solve_y"
   ]
  },
  {
   "cell_type": "code",
   "execution_count": null,
   "metadata": {},
   "outputs": [],
   "source": [
    "(-0*alpha*h + alpha*gamma*h*phi*0 + alpha*h*phi*0 - alpha*h*0 + 0)/(alpha*b + alpha*gamma*h + 1)"
   ]
  },
  {
   "cell_type": "code",
   "execution_count": null,
   "metadata": {},
   "outputs": [],
   "source": [
    "print(SRAS_curve_solve_y)\n",
    "SRAS_curve_solve_y"
   ]
  },
  {
   "cell_type": "code",
   "execution_count": null,
   "metadata": {},
   "outputs": [],
   "source": [
    "0 - gamma*phi*0 + gamma*(-0*alpha*h + alpha*gamma*h*phi*0 + alpha*h*phi*0 - alpha*h*0 + 0)/(alpha*b + alpha*gamma*h + 1) - phi*0 + 0"
   ]
  },
  {
   "cell_type": "markdown",
   "metadata": {},
   "source": [
    "To get a closer look we start by defining the variable values that we were given."
   ]
  },
  {
   "cell_type": "code",
   "execution_count": null,
   "metadata": {},
   "outputs": [],
   "source": [
    "# Variable values\n",
    "var = {}\n",
    "\n",
    "var['y_minus'] = 0\n",
    "var['pi_minus'] = 0\n",
    "var['s_minus'] = 0\n",
    "var['s'] = 0\n",
    "var['v'] = 0\n",
    "var['v_new'] = 0.1"
   ]
  },
  {
   "cell_type": "code",
   "execution_count": null,
   "metadata": {},
   "outputs": [],
   "source": [
    "# y\n",
    "y_value = sm.lambdify((alpha,h,b,phi,gamma,y_minus,pi_minus,s_minus, s_t,v_t),equal_solve_y)\n",
    "y_print = y_value(par['alpha'], par['h'],par['b'],par['phi'],par['gamma'],var['y_minus'],var['pi_minus'],var['s_minus'],var['s'],var['v'])\n",
    "print(f'The EQ value of the output gap is {y_print}')\n",
    "\n",
    "# pi\n",
    "pi_value = sm.lambdify((alpha,h,b,phi,gamma,y_minus,pi_minus,s_minus, s_t,v_t),SRAS_curve_solve_y)\n",
    "pi_print = pi_value(par['alpha'], par['h'],par['b'],par['phi'],par['gamma'],var['y_minus'],var['pi_minus'],var['s_minus'],var['s'],var['v'])\n",
    "print(f'The EQ value of the inflation gap is {pi_print}')"
   ]
  },
  {
   "cell_type": "code",
   "execution_count": null,
   "metadata": {},
   "outputs": [],
   "source": [
    "# y with demand shock\n",
    "print(f'Values of the output gap and the inflation gap, with demand shock of 0.1:')\n",
    "y_value = sm.lambdify((alpha,h,b,phi,gamma,y_minus,pi_minus,s_minus, s_t,v_t),equal_solve_y)\n",
    "y_print = y_value(par['alpha'], par['h'],par['b'],par['phi'],par['gamma'],var['y_minus'],var['pi_minus'],var['s_minus'],var['s'],var['v_new'])\n",
    "print(f'The value of the output gap is {y_print}')\n",
    "\n",
    "# pi with demand shock\n",
    "pi_value = sm.lambdify((alpha,h,b,phi,gamma,y_minus,pi_minus,s_minus, s_t,v_t),SRAS_curve_solve_y)\n",
    "pi_print = pi_value(par['alpha'], par['h'],par['b'],par['phi'],par['gamma'],var['y_minus'],var['pi_minus'],var['s_minus'],var['s'],var['v_new'])\n",
    "print(f'The value of the inflation gap is {pi_print}')"
   ]
  },
  {
   "cell_type": "markdown",
   "metadata": {},
   "source": [
    "When all the parameters are equal to 0, we see that the equilibrium values are also 0. This make sense, as their is no gap in equilibrium. The economy is now hit by a demand shock, $v_t = 0.1$ and we now see positive gaps in both output and inflation. This is great in accordance with economic theory."
   ]
  },
  {
   "cell_type": "markdown",
   "metadata": {},
   "source": [
    "Now we want to illustrate the AD-SRAS curve, so we define the two functions."
   ]
  },
  {
   "cell_type": "code",
   "execution_count": null,
   "metadata": {},
   "outputs": [],
   "source": [
    "# Defining the AD and SRAS functions\n",
    "def AD(y_t,h,b,alpha,v_t):\n",
    "    return (1/(h*alpha))*(v_t - (1 + b*alpha)*y_t)\n",
    "\n",
    "def SRAS(pi_minus,gamma,y_t,phi,y_minus,s_t,s_minus):\n",
    "    return pi_minus + gamma*y_t - phi*gamma*y_minus + s_t - phi*s_minus"
   ]
  },
  {
   "cell_type": "markdown",
   "metadata": {},
   "source": [
    "We now define the plot, including a slider so we can change between $v_t = 0$ $and$ $v_t = 0.1$"
   ]
  },
  {
   "cell_type": "code",
   "execution_count": null,
   "metadata": {},
   "outputs": [],
   "source": [
    "#Defining plot\n",
    "def AD_AS_plot(v_value):\n",
    "\n",
    "    y_lin = np.linspace(-0.2,0.2,100)\n",
    "    AD_curve = AD(y_t=y_lin,h=par['h'],b=par['b'],alpha=par['alpha'],v_t=v_value)\n",
    "    AD_curve_v = AD(y_t=y_lin,h=par['h'],b=par['b'],alpha=par['alpha'],v_t=v_value+0.1)\n",
    "    SRAS_curve = SRAS(pi_minus=var['pi_minus'], gamma=par['gamma'], y_t=y_lin, phi=par['phi'], y_minus=var['y_minus'], s_t=var['s'], s_minus=var['s_minus'])\n",
    "    \n",
    "    font = {'family':'serif','color':'darkblue','weight':'normal','size': 18,}\n",
    "\n",
    "    plt.figure(figsize=(12,8))\n",
    "    plt.plot(y_lin,AD_curve)\n",
    "    plt.plot(y_lin,AD_curve_v)\n",
    "    plt.plot(y_lin,SRAS_curve)\n",
    "    plt.title('Illustration of AD & SRAS',fontdict=font)\n",
    "    plt.grid(True)\n",
    "    plt.xlabel('Output gap',fontdict=font)\n",
    "    plt.ylabel('Inflation gap',fontdict=font)\n",
    "    plt.legend(('AD - no shock', 'AD - demand shock', 'SRAS'), loc='best',prop={'size':18})\n",
    "    \n",
    "    return plt\n",
    "\n",
    "plt.show(AD_AS_plot(0))"
   ]
  },
  {
   "cell_type": "markdown",
   "metadata": {},
   "source": [
    "From the figure above, we see that it is only the AD curve initially changes, when the economy is hit by a demand shock. It shifts right and the inflation and output increases initially.\n",
    "\n",
    "The figure also shows us the equilibrium we found earlier: No shock (0,0) and with shock (0.025 , 0.002)"
   ]
  },
  {
   "cell_type": "markdown",
   "metadata": {},
   "source": [
    "**Persistent disturbances:** Now, additionaly, assume that both the demand and the supply disturbances are AR(1) processes\n",
    "\n",
    "$$ v_{t} = \\delta v_{t-1} + x_{t} $$\n",
    "$$ s_{t} = \\omega s_{t-1} + c_{t} $$\n",
    "\n",
    "where $x_{t}$ is a **demand shock**, and $c_t$ is a **supply shock**. The **autoregressive parameters** are:"
   ]
  },
  {
   "cell_type": "code",
   "execution_count": null,
   "metadata": {},
   "outputs": [],
   "source": [
    "par['delta'] = 0.80\n",
    "par['omega'] = 0.15"
   ]
  },
  {
   "cell_type": "markdown",
   "metadata": {},
   "source": [
    "**Question 3:** Starting from $y_{-1} = \\pi_{-1} = s_{-1} = 0$, how does the economy evolve for $x_0 = 0.1$, $x_t = 0, \\forall t > 0$ and $c_t = 0, \\forall t \\geq 0$?"
   ]
  },
  {
   "cell_type": "markdown",
   "metadata": {},
   "source": [
    "### **Answer 2.3:**"
   ]
  },
  {
   "cell_type": "markdown",
   "metadata": {},
   "source": [
    "We are now given new information about how the demand and supply shocks behave. They are now given by AR(1) processes. We will start by defining this new addition to the model."
   ]
  },
  {
   "cell_type": "code",
   "execution_count": null,
   "metadata": {},
   "outputs": [],
   "source": [
    "# Defining new shocks\n",
    "def v_t(v_minus,x):\n",
    "    return par['delta']*v_minus+x\n",
    "def s_t(s_minus,c):\n",
    "    return par['omega']*s_minus+c"
   ]
  },
  {
   "cell_type": "markdown",
   "metadata": {},
   "source": [
    "We started off limiting our model to 10 periods. But after running the simulation once, we saw that we didn't get back to equilibrium. Instead we will set $T$ to $100$.\n",
    "Also we will set $x_0$ to be equal to $0.1$."
   ]
  },
  {
   "cell_type": "code",
   "execution_count": null,
   "metadata": {},
   "outputs": [],
   "source": [
    "# Definging periods, vectors, c, x and x_0\n",
    "T = 100\n",
    "y_vec = [0]\n",
    "pi_vec = [0]\n",
    "v_vec = [0]\n",
    "s_vec = [0]\n",
    "c_vec = np.zeros(T)\n",
    "x_vec = np.zeros(T)\n",
    "x_vec[1] = 0.1 # the first period is t-1"
   ]
  },
  {
   "cell_type": "code",
   "execution_count": null,
   "metadata": {},
   "outputs": [],
   "source": [
    "# Simulation of AD-AS Model\n",
    "for t in range(1,T):\n",
    "    \n",
    "    v_vec.append(v_t(v_vec[t-1], x_vec[t]))\n",
    "    s_vec.append(s_t(s_vec[t-1], c_vec[t]))\n",
    "    y_vec.append(y_value(par['alpha'], par['h'],par['b'],par['phi'],par['gamma'],y_vec[t-1],pi_vec[t-1],s_vec[t-1],s_vec[t],v_vec[t]))\n",
    "    pi_vec.append(pi_value(par['alpha'], par['h'],par['b'],par['phi'],par['gamma'],y_vec[t-1],pi_vec[t-1],s_vec[t-1],s_vec[t],v_vec[t]))"
   ]
  },
  {
   "cell_type": "code",
   "execution_count": null,
   "metadata": {},
   "outputs": [],
   "source": [
    "# Creating a figure\n",
    "periods = np.linspace(0,T,T)\n",
    "\n",
    "plot = plt.figure(figsize=(8,12))\n",
    "\n",
    "font = {'family':'serif','color':'darkblue','weight':'normal','size': 18,}\n",
    "\n",
    "ax = plot.add_subplot(311)\n",
    "ax2 = plot.add_subplot(312)\n",
    "ax3 = plot.add_subplot(313)\n",
    "\n",
    "ax.plot(y_vec,pi_vec)\n",
    "ax.set_title('Output gap and Inflation Gap',fontdict=font)\n",
    "ax.set_xlabel('Output gap',fontdict=font)\n",
    "ax.set_ylabel('Inflation gap',fontdict=font)\n",
    "ax.grid(linestyle='--', linewidth=1)\n",
    "\n",
    "ax2.plot(periods,y_vec)\n",
    "ax2.set_title('Output gap development over T periods',fontdict=font)\n",
    "ax2.set_xlabel('Time',fontdict=font)\n",
    "ax2.set_ylabel('Output gap',fontdict=font)\n",
    "ax2.grid(linestyle='--', linewidth=1)\n",
    "\n",
    "ax3.plot(periods,pi_vec)\n",
    "ax3.set_title('Inflation gap development over T periods',fontdict=font)\n",
    "ax3.set_xlabel('Time',fontdict=font)\n",
    "ax3.set_ylabel('Inflation gap',fontdict=font)\n",
    "ax3.grid(linestyle='--', linewidth=1)\n",
    "\n",
    "plt.tight_layout()"
   ]
  },
  {
   "cell_type": "markdown",
   "metadata": {},
   "source": [
    "From the above figure, we see that in period 0 the economy gets hit by a shock. This from the $x_0$ value of 0.1. Compared to the model from last question, where we see the shock hit the economy, but immediately the period after, returns to the equilibrium. We now see convergence in the economy over time."
   ]
  },
  {
   "cell_type": "markdown",
   "metadata": {},
   "source": [
    "**Stochastic shocks:** Now, additionally, assume that $x_t$ and $c_t$ are stochastic and normally distributed\n",
    "\n",
    "$$ x_{t}\\sim\\mathcal{N}(0,\\sigma_{x}^{2}) $$\n",
    "$$ c_{t}\\sim\\mathcal{N}(0,\\sigma_{c}^{2}) $$\n",
    "\n",
    "The **standard deviations of the shocks** are:"
   ]
  },
  {
   "cell_type": "code",
   "execution_count": null,
   "metadata": {},
   "outputs": [],
   "source": [
    "par['sigma_x'] = 3.492\n",
    "par['sigma_c'] = 0.2"
   ]
  },
  {
   "cell_type": "markdown",
   "metadata": {},
   "source": [
    "**Question 4:** Simulate the AS-AD model for 1,000 periods. Calculate the following five statistics:\n",
    "\n",
    "1. Variance of $y_t$, $var(y_t)$\n",
    "2. Variance of $\\pi_t$, $var(\\pi_t)$\n",
    "3. Correlation between $y_t$ and $\\pi_t$, $corr(y_t,\\pi_t)$\n",
    "4. Auto-correlation between $y_t$ and $y_{t-1}$, $corr(y_t,y_{t-1})$\n",
    "5. Auto-correlation between $\\pi_t$ and $\\pi_{t-1}$, $corr(\\pi_t,\\pi_{t-1})$"
   ]
  },
  {
   "cell_type": "markdown",
   "metadata": {},
   "source": [
    "### **Answer 2.4:**"
   ]
  },
  {
   "cell_type": "markdown",
   "metadata": {},
   "source": [
    "We are now given additional new information about how the stochastic shocks are distributed. We are given these standard deviations above."
   ]
  },
  {
   "cell_type": "code",
   "execution_count": null,
   "metadata": {},
   "outputs": [],
   "source": [
    "# Defining periods, vectors, c, x and x_0\n",
    "seed = 2019\n",
    "np.random.seed(seed)\n",
    "\n",
    "T = 1000\n",
    "y_vec2 = [0]\n",
    "pi_vec2 = [0]\n",
    "v_vec2 = [0]\n",
    "s_vec2 = [0]\n",
    "x_vec2 = np.random.normal(loc=0,scale=par['sigma_x'],size=T)\n",
    "c_vec2 = np.random.normal(loc=0,scale=par['sigma_c'],size=T)"
   ]
  },
  {
   "cell_type": "code",
   "execution_count": null,
   "metadata": {},
   "outputs": [],
   "source": [
    "# Simulation of AD-AS Model\n",
    "for t in range(1,T):\n",
    "    \n",
    "    v_vec2.append(v_t(v_vec2[t-1], x_vec2[t]))\n",
    "    s_vec2.append(s_t(s_vec2[t-1], c_vec2[t]))\n",
    "    \n",
    "    y_vec2.append(y_value(par['alpha'], par['h'],par['b'],par['phi'],par['gamma'],y_vec2[t-1],pi_vec2[t-1],s_vec2[t-1],s_vec2[t],v_vec2[t]))\n",
    "    pi_vec2.append(pi_value(par['alpha'], par['h'],par['b'],par['phi'],par['gamma'],y_vec2[t-1],pi_vec2[t-1],s_vec2[t-1],s_vec2[t],v_vec2[t]))"
   ]
  },
  {
   "cell_type": "code",
   "execution_count": null,
   "metadata": {},
   "outputs": [],
   "source": [
    "# Creating a figure\n",
    "periods2 = np.linspace(0,T,T)\n",
    "\n",
    "font = {'family':'serif','color':'darkblue','weight':'normal','size': 18,}\n",
    "\n",
    "plot2 = plt.figure(figsize=(8,12))\n",
    "\n",
    "ax = plot2.add_subplot(311)\n",
    "ax2 = plot2.add_subplot(312)\n",
    "ax3 = plot2.add_subplot(313)\n",
    "\n",
    "ax.plot(y_vec2,pi_vec2)\n",
    "ax.set_title('Output gap and Inflation Gap',fontdict=font)\n",
    "ax.set_xlabel('Output gap',fontdict=font)\n",
    "ax.set_ylabel('Inflation gap',fontdict=font)\n",
    "ax.grid(linestyle='--', linewidth=1)\n",
    "\n",
    "ax2.plot(periods2,y_vec2)\n",
    "ax2.set_title('Output gap development over T periods',fontdict=font)\n",
    "ax2.set_xlabel('Periods',fontdict=font)\n",
    "ax2.set_ylabel('Output gap',fontdict=font)\n",
    "ax2.grid(linestyle='--', linewidth=1)\n",
    "\n",
    "ax3.plot(periods2,pi_vec2)\n",
    "ax3.set_title('Inflation gap development over T periods',fontdict=font)\n",
    "ax3.set_xlabel('Periods',fontdict=font)\n",
    "ax3.set_ylabel('Inflation gap',fontdict=font)\n",
    "ax3.grid(linestyle='--', linewidth=1)\n",
    "\n",
    "plt.tight_layout()"
   ]
  },
  {
   "cell_type": "markdown",
   "metadata": {},
   "source": [
    "Looking at first plot above, we now see that output and inflation moves around a lot, compared to the model before. Compared to the model before, we now have an economy that is constantly hit, by small shocks on both demand and supply and the model. Whereas the model before was only hit once and then the shock disappears over time. We can also see that the gaps are now mean reverting and can be seen as stationary. We will now move on to find the five statistics."
   ]
  },
  {
   "cell_type": "code",
   "execution_count": null,
   "metadata": {},
   "outputs": [],
   "source": [
    "y_pi_corr = np.corrcoef(y_vec2,pi_vec2)\n",
    "y_auto = np.corrcoef(y_vec2[1:],y_vec2[:-1])\n",
    "pi_auto = np.corrcoef(pi_vec2[1:],pi_vec2[:-1])\n",
    "\n",
    "print(f'The variance of the output gap is: var(y_t) = {np.var(y_vec2):.4f}')\n",
    "print(f'The variance of the inflation gap is: var(pi_t) = {np.var(pi_vec2):.4f}')\n",
    "print(f'The correlation between the output gap and the inflation gap is: corr(y_t,pi_t) = {y_pi_corr[0,1]:.4f}')\n",
    "print(f'The autocorrelation between the output gap and the ougput gap in the previous period is: corr(y_t,y_t-1) = {y_auto[0,1]:.4f}')\n",
    "print(f'The autocorrelation between the inflation gap and the inflation gap in the previous period is: corr(pi_t,pi_t-1) = {pi_auto[0,1]:.4f}') "
   ]
  },
  {
   "cell_type": "markdown",
   "metadata": {},
   "source": [
    "**Question 5:** Plot how the correlation between $y_t$ and $\\pi_t$ changes with $\\phi$. Use a numerical optimizer or root finder to choose $\\phi\\in(0,1)$ such that the simulated correlation between $y_t$ and $\\pi_t$ comes close to 0.31. "
   ]
  },
  {
   "cell_type": "markdown",
   "metadata": {},
   "source": [
    "### **Answer 2.5:**"
   ]
  },
  {
   "cell_type": "markdown",
   "metadata": {},
   "source": [
    "In order to plot the correlation, we will create a simulation that, creates different y values and pi values, but all other parameters equal to the earlier questions. To do this, we will simulate the results by creating a simulation "
   ]
  },
  {
   "cell_type": "code",
   "execution_count": null,
   "metadata": {},
   "outputs": [],
   "source": [
    "# Setting seed, periods and simulation x and c\n",
    "seed = 2019\n",
    "np.random.seed(seed)\n",
    "\n",
    "T = 1000\n",
    "x_vec3 = np.random.normal(loc=0,scale=par['sigma_x'],size=T)\n",
    "c_vec3 = np.random.normal(loc=0,scale=par['sigma_c'],size=T)"
   ]
  },
  {
   "cell_type": "code",
   "execution_count": null,
   "metadata": {},
   "outputs": [],
   "source": [
    "# Simulation of AS-AD Model with change in phi\n",
    "def simulation_phi(phi):\n",
    "    y_vec3 = [0]\n",
    "    pi_vec3 = [0]\n",
    "    v_vec3 = [0]\n",
    "    s_vec3 = [0]\n",
    "    y_pi_corr2 = [0]\n",
    "    for t in range(1,T):\n",
    "\n",
    "        v_vec3.append(v_t(v_vec3[t-1], x_vec3[t]))\n",
    "        s_vec3.append(s_t(s_vec3[t-1], c_vec3[t]))\n",
    "    \n",
    "        y_vec3.append(y_value(par['alpha'], par['h'],par['b'],phi,par['gamma'],y_vec3[t-1],pi_vec3[t-1],s_vec3[t-1],s_vec3[t],v_vec3[t]))\n",
    "        pi_vec3.append(pi_value(par['alpha'], par['h'],par['b'],phi,par['gamma'],y_vec3[t-1],pi_vec3[t-1],s_vec3[t-1],s_vec3[t],v_vec3[t]))\n",
    "   \n",
    "            \n",
    "    y_pi_corr2 = np.corrcoef(y_vec3, pi_vec3)[1,0]\n",
    "    \n",
    "    return y_vec3, pi_vec3, y_pi_corr2\n",
    "\n",
    "y_vec3, pi_vec3, y_pi_corr2 = simulation_phi(par['phi'])"
   ]
  },
  {
   "cell_type": "markdown",
   "metadata": {},
   "source": [
    "We will now simulate the model for $\\phi$ to create the plot data for the correlation between $y$ and $\\pi$. After this we will plot the change in correlation and comment."
   ]
  },
  {
   "cell_type": "code",
   "execution_count": null,
   "metadata": {},
   "outputs": [],
   "source": [
    "#Simulating plot data\n",
    "phi_plot = np.linspace(1e-8,1,T)\n",
    "corr_plot = []\n",
    "\n",
    "for x in phi_plot:\n",
    "    y_vec3, pi_vec3, y_pi_corr2 = simulation_phi(x)\n",
    "    corr_plot.append(y_pi_corr2)"
   ]
  },
  {
   "cell_type": "code",
   "execution_count": null,
   "metadata": {},
   "outputs": [],
   "source": [
    "# Plotting correlation\n",
    "plt.figure(dpi=100)\n",
    "plt.xlabel('$\\phi$')\n",
    "plt.ylabel('Correlation')\n",
    "plt.title('Figure showing correlation between $y$ and $pi$')\n",
    "plt.plot(phi_plot,corr_plot, color = 'lightblue')\n",
    "plt.legend('Correlation', loc='best')\n",
    "plt.grid()\n",
    "plt.show()\n",
    "plt.tight_layout()"
   ]
  },
  {
   "cell_type": "markdown",
   "metadata": {},
   "source": [
    "From the figure above, we see that when the correlation is around 0.31, that we have a $\\phi$ of approx 0.95. We also see, that the correlation is increasing in $\\phi$. We will now use sympy optimizer to find the value of $\\phi$ that creates a correlation between $y$ and $\\pi$ of exactly $0.31$"
   ]
  },
  {
   "cell_type": "code",
   "execution_count": null,
   "metadata": {},
   "outputs": [],
   "source": [
    "obj_phi = lambda phi: np.corrcoef(simulation_phi(phi)[0], simulation_phi( phi)[1])[1,0] - 0.31\n",
    "\n",
    "result = optimize.root_scalar(obj_phi, x0 = 0.9, bracket = [0,1], method = 'brentq')\n",
    "\n",
    "phi_opt = result.root\n",
    "print(f'The optimized phi is, {phi_opt:.4f}')\n",
    "print(f'Test for correlation of this phi is, {np.corrcoef(simulation_phi(phi_opt)[0], simulation_phi(phi_opt)[1])[1,0]:.4f}')"
   ]
  },
  {
   "cell_type": "markdown",
   "metadata": {},
   "source": [
    "This results makes sense when we look at the figure above. We also set out initial guess, close enough, as we could see on the figure, that it was close to 0.9"
   ]
  },
  {
   "cell_type": "markdown",
   "metadata": {},
   "source": [
    "**Quesiton 6:** Use a numerical optimizer to choose $\\sigma_x>0$, $\\sigma_c>0$ and $\\phi\\in(0,1)$ to make the simulated statistics as close as possible to US business cycle data where:\n",
    "\n",
    "1. $var(y_t) = 1.64$\n",
    "2. $var(\\pi_t) = 0.21$\n",
    "3. $corr(y_t,\\pi_t) = 0.31$\n",
    "4. $corr(y_t,y_{t-1}) = 0.84$\n",
    "5. $corr(\\pi_t,\\pi_{t-1}) = 0.48$"
   ]
  },
  {
   "cell_type": "markdown",
   "metadata": {},
   "source": [
    "### **Answer 2.6:**"
   ]
  },
  {
   "cell_type": "markdown",
   "metadata": {},
   "source": []
  },
  {
   "cell_type": "code",
   "execution_count": null,
   "metadata": {},
   "outputs": [],
   "source": [
    "# Setting seed, periods and simulation x and c\n",
    "seed = 2019\n",
    "np.random.seed(seed)\n",
    "\n",
    "T = 1000\n"
   ]
  },
  {
   "cell_type": "code",
   "execution_count": null,
   "metadata": {},
   "outputs": [],
   "source": [
    "# Simulation of AS-AD Model with change in phi\n",
    "def simulation_opt(phi,sigma_x,sigma_c):\n",
    "    y_vec3 = [0]\n",
    "    pi_vec3 = [0]\n",
    "    v_vec3 = [0]\n",
    "    s_vec3 = [0]\n",
    "    y_pi_corr2 = [0]\n",
    "    x_vec3 = np.random.normal(loc=0,scale=sigma_x,size=T)\n",
    "    c_vec3 = np.random.normal(loc=0,scale=sigma_c,size=T)\n",
    "    for t in range(1,T):\n",
    "\n",
    "        v_vec3.append(v_t(v_vec3[t-1], x_vec3[t]))\n",
    "        s_vec3.append(s_t(s_vec3[t-1], c_vec3[t]))\n",
    "    \n",
    "        y_vec3.append(y_value(par['alpha'], par['h'],par['b'],phi,par['gamma'],y_vec3[t-1],pi_vec3[t-1],s_vec3[t-1],s_vec3[t],v_vec3[t]))\n",
    "        pi_vec3.append(pi_value(par['alpha'], par['h'],par['b'],phi,par['gamma'],y_vec3[t-1],pi_vec3[t-1],s_vec3[t-1],s_vec3[t],v_vec3[t]))\n",
    "   \n",
    "            \n",
    "    y_pi_corr2 = np.corrcoef(y_vec3, pi_vec3)[1,0]\n",
    "    \n",
    "    return y_vec3, pi_vec3, y_pi_corr2\n",
    "\n",
    "y_vec3, pi_vec3, y_pi_corr2 = simulation_opt(par['phi'],par['sigma_x'],par['sigma_c'])"
   ]
  },
  {
   "cell_type": "code",
   "execution_count": null,
   "metadata": {},
   "outputs": [],
   "source": [
    "obj = lambda phi: np.corrcoef(simulation_opt(phi,sigma_x,sigma_c)[0], simulation_opt(phi,sigma_x,sigma_c)[1])[1,0] - 0.31\n",
    "\n",
    "result = optimize.root_scalar(obj, x0 = 0,  bracket = [0,1], method = 'brentq')\n",
    "\n",
    "param_opt = result.root"
   ]
  },
  {
   "cell_type": "markdown",
   "metadata": {},
   "source": [
    "# Exchange economy"
   ]
  },
  {
   "cell_type": "markdown",
   "metadata": {},
   "source": [
    "Consider an **exchange economy** with\n",
    "\n",
    "1. 3 goods, $(x_1,x_2,x_3)$\n",
    "2. $N$ consumers indexed by \\\\( j \\in \\{1,2,\\dots,N\\} \\\\)\n",
    "3. Preferences are Cobb-Douglas with log-normally distributed coefficients\n",
    "\n",
    "    $$ \\begin{eqnarray*}\n",
    "    u^{j}(x_{1},x_{2},x_{3}) &=& \n",
    "    \\left(x_{1}^{\\beta_{1}^{j}}x_{2}^{\\beta_{2}^{j}}x_{3}^{\\beta_{3}^{j}}\\right)^{\\gamma}\\\\\n",
    "     &  & \\,\\,\\,\\beta_{i}^{j}=\\frac{\\alpha_{i}^{j}}{\\alpha_{1}^{j}+\\alpha_{2}^{j}+\\alpha_{3}^{j}} \\\\\n",
    "     &  & \\,\\,\\,\\boldsymbol{\\alpha}^{j}=(\\alpha_{1}^{j},\\alpha_{2}^{j},\\alpha_{3}^{j}) \\\\ \n",
    "     &  & \\,\\,\\,\\log(\\boldsymbol{\\alpha}^j) \\sim \\mathcal{N}(\\mu,\\Sigma) \\\\\n",
    "    \\end{eqnarray*} $$\n",
    "\n",
    "4. Endowments are exponentially distributed,\n",
    "\n",
    "$$\n",
    "\\begin{eqnarray*}\n",
    "\\boldsymbol{e}^{j} &=& (e_{1}^{j},e_{2}^{j},e_{3}^{j}) \\\\\n",
    " &  & e_i^j \\sim f, f(z;\\zeta) =  1/\\zeta \\exp(-z/\\zeta)\n",
    "\\end{eqnarray*}\n",
    "$$"
   ]
  },
  {
   "cell_type": "markdown",
   "metadata": {},
   "source": [
    "Let $p_3 = 1$ be the **numeraire**. The implied **demand functions** are:\n",
    "\n",
    "$$\n",
    "\\begin{eqnarray*}\n",
    "x_{i}^{\\star j}(p_{1},p_{2},\\boldsymbol{e}^{j})&=&\\beta^{j}_i\\frac{I^j}{p_{i}} \\\\\n",
    "\\end{eqnarray*}\n",
    "$$\n",
    "\n",
    "where consumer $j$'s income is\n",
    "\n",
    "$$I^j = p_1 e_1^j + p_2 e_2^j +p_3 e_3^j$$"
   ]
  },
  {
   "cell_type": "markdown",
   "metadata": {},
   "source": [
    "The **parameters** and **random preferences and endowments** are given by:"
   ]
  },
  {
   "cell_type": "code",
   "execution_count": null,
   "metadata": {},
   "outputs": [],
   "source": [
    "# a. parameters\n",
    "N = 50000\n",
    "mu = np.array([3,2,1])\n",
    "Sigma = np.array([[0.25, 0, 0], [0, 0.25, 0], [0, 0, 0.25]])\n",
    "gamma = 0.8\n",
    "zeta = 1\n",
    "\n",
    "# b. random draws\n",
    "seed = 1986\n",
    "np.random.seed(seed)\n",
    "\n",
    "# preferences\n",
    "alphas = np.exp(np.random.multivariate_normal(mu, Sigma, size=N))\n",
    "betas = alphas/np.reshape(np.sum(alphas,axis=1),(N,1))\n",
    "\n",
    "# endowments\n",
    "e1 = np.random.exponential(zeta,size=N)\n",
    "e2 = np.random.exponential(zeta,size=N)\n",
    "e3 = np.random.exponential(zeta,size=N)"
   ]
  },
  {
   "cell_type": "markdown",
   "metadata": {},
   "source": [
    "**Question 1:** Plot the histograms of the budget shares for each good across agents.\n",
    "\n",
    "Consider the **excess demand functions:**\n",
    "\n",
    "$$ z_i(p_1,p_2) = \\sum_{j=1}^N x_{i}^{\\star j}(p_{1},p_{2},\\boldsymbol{e}^{j}) - e_i^j$$\n",
    "\n",
    "**Question 2:** Plot the excess demand functions."
   ]
  },
  {
   "cell_type": "markdown",
   "metadata": {},
   "source": [
    "**Quesiton 3:** Find the Walras-equilibrium prices, $(p_1,p_2)$, where both excess demands are (approximately) zero, e.g. by using the following tâtonnement process:\n",
    "\n",
    "1. Guess on $p_1 > 0$, $p_2 > 0$ and choose tolerance $\\epsilon > 0$ and adjustment aggressivity parameter, $\\kappa > 0$.\n",
    "2. Calculate $z_1(p_1,p_2)$ and $z_2(p_1,p_2)$.\n",
    "3. If $|z_1| < \\epsilon$ and $|z_2| < \\epsilon$ then stop.\n",
    "4. Else set $p_1 = p_1 + \\kappa \\frac{z_1}{N}$ and $p_2 = p_2 + \\kappa \\frac{z_2}{N}$ and return to step 2."
   ]
  },
  {
   "cell_type": "markdown",
   "metadata": {},
   "source": [
    "**Question 4:** Plot the distribution of utility in the Walras-equilibrium and calculate its mean and variance."
   ]
  },
  {
   "cell_type": "markdown",
   "metadata": {},
   "source": [
    "**Question 5:** Find the Walras-equilibrium prices if instead all endowments were distributed equally. Discuss the implied changes in the distribution of utility. Does the value of $\\gamma$ play a role for your conclusions?"
   ]
  },
  {
   "cell_type": "markdown",
   "metadata": {},
   "source": [
    "## **Answer 3**: Exchange economy"
   ]
  },
  {
   "cell_type": "markdown",
   "metadata": {},
   "source": [
    "**Question 1:** Plot the histograms of the budget shares for each good across agents."
   ]
  },
  {
   "cell_type": "markdown",
   "metadata": {},
   "source": [
    "### **Answer 3.1:**"
   ]
  },
  {
   "cell_type": "markdown",
   "metadata": {},
   "source": [
    "We see from the demand function that the budget shares are the betas, we take a look at them below."
   ]
  },
  {
   "cell_type": "code",
   "execution_count": null,
   "metadata": {},
   "outputs": [],
   "source": [
    "print(betas)\n",
    "print(betas.shape)\n",
    "print(type(betas))"
   ]
  },
  {
   "cell_type": "markdown",
   "metadata": {},
   "source": [
    "We have three columns in for each good, below we plot them as histograms."
   ]
  },
  {
   "cell_type": "code",
   "execution_count": null,
   "metadata": {},
   "outputs": [],
   "source": [
    "fig = plt.figure(figsize=(12,8))\n",
    "ax1 = fig.add_subplot(1,3,1)\n",
    "ax2 = fig.add_subplot(1,3,2)\n",
    "ax3 = fig.add_subplot(1,3,3)\n",
    "\n",
    "font = {'family':'serif','color':'darkblue','weight':'normal','size': 16,}\n",
    "\n",
    "ax1.hist(betas[:,0], bins=100)\n",
    "ax2.hist(betas[:,1], bins=100)\n",
    "ax3.hist(betas[:,2], bins=100)\n",
    "\n",
    "fig.suptitle('Histograms of the budget shares',fontsize=20)\n",
    "ax1.set_ylabel('Consumers',fontdict=font)\n",
    "ax1.set_title('Good 1',fontdict=font)\n",
    "ax1.grid(linestyle='--', linewidth=1)\n",
    "ax2.set_title('Good 2',fontdict=font)\n",
    "ax2.grid(linestyle='--', linewidth=1)\n",
    "ax3.set_title('Good 3',fontdict=font)\n",
    "ax3.grid(linestyle='--', linewidth=1)"
   ]
  },
  {
   "cell_type": "markdown",
   "metadata": {},
   "source": [
    "Consider the **excess demand functions:**\n",
    "\n",
    "$$ z_i(p_1,p_2) = \\sum_{j=1}^N x_{i}^{\\star j}(p_{1},p_{2},\\boldsymbol{e}^{j}) - e_i^j$$\n",
    "\n",
    "**Question 2:** Plot the excess demand functions."
   ]
  },
  {
   "cell_type": "markdown",
   "metadata": {},
   "source": [
    "### **Answer 3.2:**"
   ]
  },
  {
   "cell_type": "markdown",
   "metadata": {},
   "source": [
    "In the next couple of questions a lot of the inspiration came from Problem set 2, Problem set 7.4 (again) and lecture notebook 4.\n",
    "\n",
    "First we define the demand functions and excess demand functions for each good."
   ]
  },
  {
   "cell_type": "code",
   "execution_count": null,
   "metadata": {},
   "outputs": [],
   "source": [
    "# demand functions\n",
    "def demand_good_1_func(betas,p1,p2,e1,e2,e3):\n",
    "    I = p1*e1+p2*e2+e3\n",
    "    return betas[:,0]*(I/p1)\n",
    "\n",
    "def demand_good_2_func(betas,p1,p2,e1,e2,e3):\n",
    "    I = p1*e1+p2*e2+e3\n",
    "    return betas[:,1]*(I/p2)\n",
    "\n",
    "def demand_good_3_func(betas,p1,p2,e1,e2,e3):\n",
    "    I = p1*e1+p2*e2+e3\n",
    "    return betas[:,2]*(I)\n",
    "\n",
    "# excess demand functions\n",
    "def excess_demand_good_1_func(betas,p1,p2,e1,e2,e3):\n",
    "    \n",
    "    # demand\n",
    "    demand = np.sum(demand_good_1_func(betas,p1,p2,e1,e2,e3))\n",
    "    \n",
    "    # supply\n",
    "    supply = np.sum(e1)\n",
    "    \n",
    "    # excess demand\n",
    "    excess_demand = demand-supply\n",
    "    \n",
    "    return excess_demand\n",
    "\n",
    "def excess_demand_good_2_func(betas,p1,p2,e1,e2,e3):\n",
    "    \n",
    "    # demand\n",
    "    demand = np.sum(demand_good_2_func(betas,p1,p2,e1,e2,e3))\n",
    "    \n",
    "    # supply\n",
    "    supply = np.sum(e2)\n",
    "    \n",
    "    # excess demand\n",
    "    excess_demand = demand-supply\n",
    "    \n",
    "    return excess_demand\n",
    "\n",
    "def excess_demand_good_3_func(betas,p1,p2,e1,e2,e3):\n",
    "    \n",
    "    # demand\n",
    "    demand = np.sum(demand_good_3_func(betas,p1,p2,e1,e2,e3))\n",
    "    \n",
    "    # supply\n",
    "    supply = np.sum(e3)\n",
    "    \n",
    "    # excess demand\n",
    "    excess_demand = demand-supply\n",
    "    \n",
    "    return excess_demand"
   ]
  },
  {
   "cell_type": "markdown",
   "metadata": {},
   "source": [
    "To plot the excess demand function for good 1 and good 2, we first define a price vector for each good, and set up grids for the prices and endowments."
   ]
  },
  {
   "cell_type": "code",
   "execution_count": null,
   "metadata": {},
   "outputs": [],
   "source": [
    "p1_vec = np.linspace(0.1,10,100)\n",
    "p2_vec = np.linspace(0.1,10,100)\n",
    "e1_grid = np.empty((100,100))\n",
    "e2_grid = np.empty((100,100))\n",
    "\n",
    "p1_grid,p2_grid = np.meshgrid(p1_vec,p2_vec,indexing='ij')\n",
    "\n",
    "for i,p1 in enumerate(p1_vec):\n",
    "    for j,p2 in enumerate(p2_vec):\n",
    "        e1_grid[i,j] = excess_demand_good_1_func(betas,p1,p2,e1,e2,e3)\n",
    "        e2_grid[i,j] = excess_demand_good_2_func(betas,p1,p2,e1,e2,e3)"
   ]
  },
  {
   "cell_type": "markdown",
   "metadata": {},
   "source": [
    "We can not plot the two excess demand functions for good 1 and good 2."
   ]
  },
  {
   "cell_type": "code",
   "execution_count": null,
   "metadata": {},
   "outputs": [],
   "source": [
    "fig = plt.figure(figsize=(8,12))\n",
    "ax = fig.add_subplot(2,1,1,projection='3d')\n",
    "cs = ax.plot_surface(p1_grid,p2_grid,e1_grid,cmap=cm.jet)\n",
    "font = {'family':'serif','color':'darkblue','weight':'normal','size': 16,}\n",
    "ax.invert_xaxis()\n",
    "ax.set_xlabel('$p_1$',fontdict=font)\n",
    "ax.set_ylabel('$p_2$',fontdict=font)\n",
    "ax.set_zlabel('$e_1$',fontdict=font)\n",
    "ax.set_title('Excess demand for good 1',fontdict=font)\n",
    "ax.xaxis.pane.fill = False\n",
    "ax.yaxis.pane.fill = False\n",
    "ax.zaxis.pane.fill = False\n",
    "\n",
    "ax1 = fig.add_subplot(2,1,2,projection='3d')\n",
    "cs1 = ax1.plot_surface(p1_grid,p2_grid,e2_grid,cmap=cm.jet)\n",
    "ax1.invert_xaxis()\n",
    "ax1.set_xlabel('$p_1$',fontdict=font)\n",
    "ax1.set_ylabel('$p_2$',fontdict=font)\n",
    "ax1.set_zlabel('$e_2$',fontdict=font)\n",
    "ax1.set_title('Excess demand for good 2',fontdict=font)\n",
    "ax1.xaxis.pane.fill = False\n",
    "ax1.yaxis.pane.fill = False\n",
    "ax1.zaxis.pane.fill = False"
   ]
  },
  {
   "cell_type": "markdown",
   "metadata": {},
   "source": [
    "**Quesiton 3:** Find the Walras-equilibrium prices, $(p_1,p_2)$, where both excess demands are (approximately) zero, e.g. by using the following tâtonnement process:\n",
    "\n",
    "1. Guess on $p_1 > 0$, $p_2 > 0$ and choose tolerance $\\epsilon > 0$ and adjustment aggressivity parameter, $\\kappa > 0$.\n",
    "2. Calculate $z_1(p_1,p_2)$ and $z_2(p_1,p_2)$.\n",
    "3. If $|z_1| < \\epsilon$ and $|z_2| < \\epsilon$ then stop.\n",
    "4. Else set $p_1 = p_1 + \\kappa \\frac{z_1}{N}$ and $p_2 = p_2 + \\kappa \\frac{z_2}{N}$ and return to step 2."
   ]
  },
  {
   "cell_type": "markdown",
   "metadata": {},
   "source": [
    "### **Answer 3.3:**"
   ]
  },
  {
   "cell_type": "markdown",
   "metadata": {},
   "source": []
  },
  {
   "cell_type": "code",
   "execution_count": null,
   "metadata": {},
   "outputs": [],
   "source": [
    "# equilibrium function\n",
    "def find_equilibrium(betas,p1,p2,p3,e1,e2,e3,kappa=1/3,eps=1e-8,maxiter=50000):\n",
    "    \n",
    "    t = 0\n",
    "    while True:\n",
    "        \n",
    "        # excess demand\n",
    "        Z1 = excess_demand_good_1_func(betas,p1,p2,e1,e2,e3)\n",
    "        Z2 = excess_demand_good_2_func(betas,p1,p2,e1,e2,e3)\n",
    "        \n",
    "        # stop?\n",
    "        if (np.abs(Z1) < eps or np.abs(Z2) < eps) or t >= maxiter:\n",
    "            print(f'{t:3d}: p1 = {p1:12.8f} -> excess demand -> {Z1:14.8f}')\n",
    "            print(f'{t:3d}: p2 = {p2:12.8f} -> excess demand -> {Z2:14.8f}')\n",
    "            break\n",
    "        \n",
    "        # updata p1 and p2\n",
    "        p1 = p1 + kappa*Z1/betas.size\n",
    "        p2 = p2 + kappa*Z2/betas.size\n",
    "        \n",
    "        # return\n",
    "        if t < 5 or t%2500 == 0:\n",
    "            print(f'{t:3d}: p1 = {p1:12.8f} -> excess demand -> {Z1:14.8f}')\n",
    "            print(f'{t:3d}: p2 = {p2:12.8f} -> excess demand -> {Z2:14.8f}')\n",
    "        elif t == 5:\n",
    "            print ('    ...')\n",
    "        \n",
    "        t += 1\n",
    "    \n",
    "    return p1, p2\n",
    "\n",
    "# find equilibrium function\n",
    "p1 = 0.1\n",
    "p2 = 0.1\n",
    "p3 = 1\n",
    "kappa = 1/3\n",
    "eps = 1e-8\n",
    "p1,p2 = find_equilibrium(betas,p1,p2,p3,e1,e2,e3,kappa=kappa,eps=eps)"
   ]
  },
  {
   "cell_type": "code",
   "execution_count": null,
   "metadata": {},
   "outputs": [],
   "source": [
    "Z1 = excess_demand_good_1_func(betas,p1,p2,e1,e2,e3)\n",
    "Z2 = excess_demand_good_2_func(betas,p1,p2,e1,e2,e3)\n",
    "print(Z1,Z2)\n",
    "assert(np.abs(Z1) < 1e-5)\n",
    "assert(np.abs(Z2) < 1e-5)\n",
    "print(f'Walras-equilibrium price for good 1 is {p1:.4f}')\n",
    "print(f'Walras-equilibrium price for good 2 is {p2:.4f}')"
   ]
  },
  {
   "cell_type": "markdown",
   "metadata": {},
   "source": [
    "**Question 4:** Plot the distribution of utility in the Walras-equilibrium and calculate its mean and variance."
   ]
  },
  {
   "cell_type": "markdown",
   "metadata": {},
   "source": [
    "### **Answer 3.4:**"
   ]
  },
  {
   "cell_type": "markdown",
   "metadata": {},
   "source": [
    "To plot the distribution of utility in the Walras-equilibrium we will first define the utility function below and then plot the utility for all consumers, for all tree goods, and for the equilibrium prices."
   ]
  },
  {
   "cell_type": "code",
   "execution_count": null,
   "metadata": {},
   "outputs": [],
   "source": [
    "def u(p1,p2,e1,e2,e3,betas,gamma):\n",
    "    \n",
    "    I = p1*e1 + p2*e2 + e3\n",
    "    \n",
    "    x1 = betas[:,0]*(I/p1)\n",
    "    x2 = betas[:,1]*(I/p2)\n",
    "    x3 = betas[:,0]*I\n",
    "    \n",
    "    utility = ((x1**betas[:,0])*(x2**betas[:,1])*(x3**betas[:,2]))**gamma\n",
    "    \n",
    "    return utility\n",
    "\n",
    "fig = plt.figure()\n",
    "ax = fig.add_subplot(1,1,1)\n",
    "ax.hist(u(p1,p2,e1,e2,e3,betas,gamma),bins=200)\n",
    "font = {'family':'serif','color':'darkblue','weight':'normal','size': 16,}\n",
    "ax.set_xlabel('Utility',fontdict=font)\n",
    "ax.set_ylabel('Consumers',fontdict=font)\n",
    "ax.set_title('Distribution of utility in the Walras-equilibrium',fontdict=font)\n",
    "print(f'Walras-equilibrium prices:')\n",
    "p1,p2"
   ]
  },
  {
   "cell_type": "markdown",
   "metadata": {},
   "source": [
    "Above the distribution of utility is plotted as a histogram.\n",
    "Now we will calculate the mean and variance."
   ]
  },
  {
   "cell_type": "code",
   "execution_count": null,
   "metadata": {},
   "outputs": [],
   "source": [
    "mean = np.mean(u(p1,p2,e1,e2,e3,betas,gamma))\n",
    "var = np.var(u(p1,p2,e1,e2,e3,betas,gamma))\n",
    "print(f'The mean of the distribution of utility is : {mean:.4f}')\n",
    "print(f'The variance of the distribution of utility is : {var:.4f}')"
   ]
  },
  {
   "cell_type": "markdown",
   "metadata": {},
   "source": [
    "**Question 5:** Find the Walras-equilibrium prices if instead all endowments were distributed equally. Discuss the implied changes in the distribution of utility. Does the value of $\\gamma$ play a role for your conclusions?"
   ]
  },
  {
   "cell_type": "markdown",
   "metadata": {},
   "source": [
    "### **Answer 3.5:**"
   ]
  },
  {
   "cell_type": "markdown",
   "metadata": {},
   "source": []
  },
  {
   "cell_type": "code",
   "execution_count": null,
   "metadata": {},
   "outputs": [],
   "source": [
    "e1,e2,e3"
   ]
  },
  {
   "cell_type": "code",
   "execution_count": null,
   "metadata": {},
   "outputs": [],
   "source": [
    "seed = 1986\n",
    "np.random.seed(seed)\n",
    "e = np.random.exponential(zeta,size=N)\n",
    "e"
   ]
  },
  {
   "cell_type": "code",
   "execution_count": null,
   "metadata": {},
   "outputs": [],
   "source": [
    "# demand functions\n",
    "def demand_good_1_func2(betas,p1_new,p2_new,e):\n",
    "    I = (p1_new+p2_new+1)*e\n",
    "    return betas[:,0]*(I/p1_new)\n",
    "\n",
    "def demand_good_2_func2(betas,p1_new,p2_new,e):\n",
    "    I = (p1_new+p2_new+1)*e\n",
    "    return betas[:,1]*(I/p2_new)\n",
    "\n",
    "def demand_good_3_func2(betas,p1_new,p2_new,e):\n",
    "    I = (p1_new+p2_new+1)*e\n",
    "    return betas[:,2]*(I)\n",
    "\n",
    "# excess demand functions\n",
    "def excess_demand_good_1_func2(betas,p1_new,p2_new,e):\n",
    "    \n",
    "    # demand\n",
    "    demand = np.sum(demand_good_1_func2(betas,p1_new,p2_new,e))\n",
    "    \n",
    "    # supply\n",
    "    supply = np.sum(e)\n",
    "    \n",
    "    # excess demand\n",
    "    excess_demand = demand-supply\n",
    "    \n",
    "    return excess_demand\n",
    "\n",
    "def excess_demand_good_2_func2(betas,p1_new,p2_new,e):\n",
    "    \n",
    "    # demand\n",
    "    demand = np.sum(demand_good_2_func2(betas,p1_new,p2_new,e))\n",
    "    \n",
    "    # supply\n",
    "    supply = np.sum(e)\n",
    "    \n",
    "    # excess demand\n",
    "    excess_demand = demand-supply\n",
    "    \n",
    "    return excess_demand\n",
    "\n",
    "def excess_demand_good_3_func2(betas,p1_new,p2_new,e):\n",
    "    \n",
    "    # demand\n",
    "    demand = np.sum(demand_good_3_func2(betas,p1_new,p2_new,e))\n",
    "    \n",
    "    # supply\n",
    "    supply = np.sum(e)\n",
    "    \n",
    "    # excess demand\n",
    "    excess_demand = demand-supply\n",
    "    \n",
    "    return excess_demand"
   ]
  },
  {
   "cell_type": "code",
   "execution_count": null,
   "metadata": {},
   "outputs": [],
   "source": [
    "# equilibrium function\n",
    "def find_equilibrium2(betas,p1_new,p2_new,p3_new,e,kappa=1/3,eps=1e-8,maxiter=50000):\n",
    "    \n",
    "    t = 0\n",
    "    while True:\n",
    "        \n",
    "        # excess demand\n",
    "        Z1 = excess_demand_good_1_func2(betas,p1_new,p2_new,e)\n",
    "        Z2 = excess_demand_good_2_func2(betas,p1_new,p2_new,e)\n",
    "        \n",
    "        eps = 1e-8\n",
    "        \n",
    "        # stop?\n",
    "        if (np.abs(Z1) < eps or np.abs(Z2) < eps) or t >= maxiter:\n",
    "            print(f'{t:3d}: p1_new = {p1_new:12.8f} -> excess demand -> {Z1:14.8f}')\n",
    "            print(f'{t:3d}: p2_new = {p2_new:12.8f} -> excess demand -> {Z2:14.8f}')\n",
    "            break\n",
    "        \n",
    "        # updata p1 and p2\n",
    "        p1_new = p1_new + kappa*Z1/betas.size\n",
    "        p2_new = p2_new + kappa*Z2/betas.size\n",
    "        \n",
    "        # return\n",
    "        if t < 5 or t%2500 == 0:\n",
    "            print(f'{t:3d}: p1_new = {p1:12.8f} -> excess demand -> {Z1:14.8f}')\n",
    "            print(f'{t:3d}: p2_new = {p2:12.8f} -> excess demand -> {Z2:14.8f}')\n",
    "        elif t == 5:\n",
    "            print ('    ...')\n",
    "        \n",
    "        t += 1\n",
    "    \n",
    "    return p1_new, p2_new\n",
    "\n",
    "# find equilibrium function\n",
    "p1_new = 0.1\n",
    "p2_new = 0.1\n",
    "p3_new = 1\n",
    "kappa = 1/3\n",
    "eps = 1e-8\n",
    "p1_new,p2_new = find_equilibrium2(betas,p1_new,p2,p3,e,kappa=kappa,eps=eps)"
   ]
  },
  {
   "cell_type": "code",
   "execution_count": null,
   "metadata": {},
   "outputs": [],
   "source": [
    "p1,p1_new,p2,p2_new"
   ]
  },
  {
   "cell_type": "code",
   "execution_count": null,
   "metadata": {},
   "outputs": [],
   "source": [
    "Z12 = excess_demand_good_1_func2(betas,p1_new,p2_new,e)\n",
    "Z22 = excess_demand_good_2_func2(betas,p1_new,p2_new,e)\n",
    "print(Z1,Z2,Z12,Z22)\n",
    "assert(np.abs(Z1) < 1e-5)\n",
    "assert(np.abs(Z2) < 1e-5)\n",
    "print(f'Walras-equilibrium price for good 1 is {p1:.4f}')\n",
    "print(f'Walras-equilibrium price for good 2 is {p2:.4f}')\n",
    "print(f'Walras-equilibrium price for good 1 with equal edowment is {p1_new:.4f}')\n",
    "print(f'Walras-equilibrium price for good 2 with equal edowment is {p2_new:.4f}')"
   ]
  },
  {
   "cell_type": "code",
   "execution_count": null,
   "metadata": {},
   "outputs": [],
   "source": [
    "def u_new(p1_new,p2_new,e,betas,gamma):\n",
    "    \n",
    "    I = (p1 + p2 + 1)*e\n",
    "    \n",
    "    x1 = betas[:,0]*(I/p1)\n",
    "    x2 = betas[:,1]*(I/p2)\n",
    "    x3 = betas[:,0]*I\n",
    "    \n",
    "    utility_new = ((x1**betas[:,0])*(x2**betas[:,1])*(x3**betas[:,2]))**gamma\n",
    "    \n",
    "    return utility_new\n",
    "\n",
    "fig = plt.figure(figsize=(12,10))\n",
    "ax = fig.add_subplot(2,1,1)\n",
    "ax.hist(u_new(p1_new,p2_new,e,betas,gamma),bins=200)\n",
    "font = {'family':'serif','color':'darkblue','weight':'normal','size': 20,}\n",
    "ax.set_xlabel('Utility',fontdict=font)\n",
    "ax.set_xlim(0,8)\n",
    "ax.set_ylabel('Consumers',fontdict=font)\n",
    "ax.set_title('Distribution of utility in the Walras-equilibrium with equal endowments',fontdict=font)\n",
    "print(f'Walras-equilibrium prices with equal endowment: p1_new = {p1_new:.4f} and p2_new = {p2_new:.4f}')\n",
    "ax1 = fig.add_subplot(2,1,2)\n",
    "ax1.hist(u(p1,p2,e1,e2,e3,betas,gamma),bins=200)\n",
    "ax1.set_xlabel('Utility',fontdict=font)\n",
    "ax1.set_xlim(0,8)\n",
    "ax1.set_ylabel('Consumers',fontdict=font)\n",
    "ax1.set_title('Distribution of utility in the Walras-equilibrium',fontdict=font)\n",
    "plt.tight_layout()\n",
    "print(f'Walras-equilibrium prices: p1 = {p1:.4f} and p2 = {p2:.4f}')\n",
    "mean_new = np.mean(u_new(p1_new,p2_new,e,betas,gamma))\n",
    "var_new = np.var(u_new(p1_new,p2_new,e,betas,gamma))\n",
    "print(f'The mean of the distribution of the new utility is : {mean_new:.4f}')\n",
    "print(f'The variance of the distribution of new utility is : {var_new:.4f}')\n",
    "print(f'The mean of the distribution of the old utility is : {mean:.4f}')\n",
    "print(f'The variance of the distribution of the oldutility is : {var:.4f}')"
   ]
  },
  {
   "cell_type": "code",
   "execution_count": null,
   "metadata": {},
   "outputs": [],
   "source": [
    "def plot(gamma):\n",
    "    fig = plt.figure(figsize=(8,8))\n",
    "    ax = fig.add_subplot(2,1,1)\n",
    "    ax.hist(u_new(p1_new,p2_new,e,betas,gamma),bins=200)\n",
    "    font = {'family':'serif','color':'darkblue','weight':'normal','size': 16,}\n",
    "    ax.set_xlabel('Utility',fontdict=font)\n",
    "    ax.set_ylabel('Consumers',fontdict=font)\n",
    "    ax.set_title('Distribution of utility in the Walras-equilibrium with equal endowments',fontdict=font)\n",
    "    ax1 = fig.add_subplot(2,1,2)\n",
    "    ax1.hist(u(p1,p2,e1,e2,e3,betas,gamma),bins=200)\n",
    "    ax1.set_xlabel('Utility',fontdict=font)\n",
    "    ax1.set_ylabel('Consumers',fontdict=font)\n",
    "    ax1.set_title('Distribution of utility in the Walras-equilibrium',fontdict=font)\n",
    "    plt.tight_layout()\n",
    "    return fig\n",
    "\n",
    "widgets.interact(\n",
    "        plot, \n",
    "        gamma = widgets.FloatSlider(\n",
    "            description=\"$\\\\gamma$\",\n",
    "            min=-1,\n",
    "            max=2,\n",
    "            step=0.01,\n",
    "            value=0.8,\n",
    "            continuous_update=False,\n",
    "        ),\n",
    ")"
   ]
  }
 ],
 "metadata": {
  "kernelspec": {
   "display_name": "Python 3",
   "language": "python",
   "name": "python3"
  },
  "language_info": {
   "codemirror_mode": {
    "name": "ipython",
    "version": 3
   },
   "file_extension": ".py",
   "mimetype": "text/x-python",
   "name": "python",
   "nbconvert_exporter": "python",
   "pygments_lexer": "ipython3",
   "version": "3.6.8"
  },
  "toc-autonumbering": true
 },
 "nbformat": 4,
 "nbformat_minor": 2
}
