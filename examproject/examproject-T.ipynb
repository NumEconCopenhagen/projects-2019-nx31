{
 "cells": [
  {
   "cell_type": "markdown",
   "metadata": {},
   "source": [
    "## NX31 Examproject"
   ]
  },
  {
   "cell_type": "markdown",
   "metadata": {},
   "source": [
    "## Packages and extensions"
   ]
  },
  {
   "cell_type": "code",
   "execution_count": 1,
   "metadata": {},
   "outputs": [],
   "source": [
    "%load_ext autoreload\n",
    "%autoreload 2"
   ]
  },
  {
   "cell_type": "code",
   "execution_count": 2,
   "metadata": {},
   "outputs": [],
   "source": [
    "import numpy as np\n",
    "import scipy as sp\n",
    "from scipy import interpolate\n",
    "import sympy as sm\n",
    "from IPython.display import display\n",
    "import ipywidgets as widgets\n",
    "\n",
    "%matplotlib inline\n",
    "import matplotlib.pyplot as plt\n",
    "sm.init_printing(use_unicode=True)"
   ]
  },
  {
   "cell_type": "markdown",
   "metadata": {},
   "source": [
    "## Introduction\n",
    "\n",
    "This examproject is made by our own effort combined with inspiration from Problem sets, Lecture notebooks and earlier project. Also with a big amount of 'trial and error' and google searches. "
   ]
  },
  {
   "cell_type": "markdown",
   "metadata": {},
   "source": [
    "# Human capital accumulation"
   ]
  },
  {
   "cell_type": "markdown",
   "metadata": {},
   "source": [
    "Consider a worker living in **two periods**, $t \\in \\{1,2\\}$. \n",
    "\n",
    "In each period she decides whether to **work ($l_t = 1$) or not ($l_t = 0$)**. \n",
    "\n",
    "She can *not* borrow or save and thus **consumes all of her income** in each period. "
   ]
  },
  {
   "cell_type": "markdown",
   "metadata": {},
   "source": [
    "If she **works** her **consumption** becomes:\n",
    "\n",
    "$$c_t = w h_t l_t\\,\\,\\text{if}\\,\\,l_t=1$$\n",
    "\n",
    "where $w$ is **the wage rate** and $h_t$ is her **human capital**. \n",
    "\n",
    "If she does **not work** her consumption becomes:\n",
    "\n",
    "$$c_t = b\\,\\,\\text{if}\\,\\,l_t=0$$\n",
    "\n",
    "where $b$ is the **unemployment benefits**."
   ]
  },
  {
   "cell_type": "markdown",
   "metadata": {},
   "source": [
    "Her **utility of consumption** is: \n",
    "\n",
    "$$ \\frac{c_t^{1-\\rho}}{1-\\rho} $$\n",
    "\n",
    "Her **disutility of working** is:\n",
    "\n",
    "$$ \\gamma l_t $$"
   ]
  },
  {
   "cell_type": "markdown",
   "metadata": {},
   "source": [
    "From period 1 to period 2, she **accumulates human capital** according to:\n",
    "\n",
    "$$ h_2 = h_1 + l_1 + \n",
    "\\begin{cases}\n",
    "0 & \\text{with prob. }0.5 \\\\\n",
    "\\Delta & \\text{with prob. }0.5 \n",
    "\\end{cases} \\\\\n",
    "$$\n",
    "\n",
    "where $\\Delta$ is a **stochastic experience gain**."
   ]
  },
  {
   "cell_type": "markdown",
   "metadata": {},
   "source": [
    "In the **second period** the worker thus solves:\n",
    "\n",
    "$$\n",
    "\\begin{eqnarray*}\n",
    "v_{2}(h_{2}) & = &\\max_{l_{2}} \\frac{c_2^{1-\\rho}}{1-\\rho} - \\gamma l_2\n",
    "\\\\ & \\text{s.t.} & \\\\\n",
    "c_{2}& = & w h_2 l_2 \\\\\n",
    "l_{2}& \\in &\\{0,1\\}\n",
    "\\\\ & \\text{ NEW - s.t.} & \\\\\n",
    "c_{2}& = & \\begin{cases}\n",
    "w h_2 & \n",
    "\\text{if }l_2 = 1  \\\\\n",
    "b & \\text{if }l_2 = 0 \n",
    "\\end{cases} \\\\\n",
    "\\end{eqnarray*}\n",
    "$$"
   ]
  },
  {
   "cell_type": "markdown",
   "metadata": {},
   "source": [
    "In the **first period** the worker thus solves:\n",
    "\n",
    "$$\n",
    "\\begin{eqnarray*}\n",
    "v_{1}(h_{1}) &=& \\max_{l_{1}} \\frac{c_1^{1-\\rho}}{1-\\rho} - \\gamma l_1 + \\beta\\mathbb{E}_{1}\\left[v_2(h_2)\\right]\n",
    "\\\\ & \\text{s.t.} & \\\\\n",
    "c_1 &=& w h_1 l_1 \\\\\n",
    "h_2 &=& h_1 + l_1 + \\begin{cases}\n",
    "0 & \\text{with prob. }0.5\\\\\n",
    "\\Delta & \\text{with prob. }0.5 \n",
    "\\end{cases}\\\\\n",
    "l_{1} &\\in& \\{0,1\\}\\\\\n",
    "\\end{eqnarray*}\n",
    "$$\n",
    "\n",
    "where $\\beta$ is the **discount factor** and $\\mathbb{E}_{1}\\left[v_2(h_2)\\right]$ is the **expected value of living in period two**."
   ]
  },
  {
   "cell_type": "markdown",
   "metadata": {},
   "source": [
    "The **parameters** of the model are:"
   ]
  },
  {
   "cell_type": "code",
   "execution_count": 3,
   "metadata": {},
   "outputs": [],
   "source": [
    "rho = 2\n",
    "beta = 0.96\n",
    "gamma = 0.1\n",
    "w = 2\n",
    "b = 1\n",
    "Delta = 0.1"
   ]
  },
  {
   "cell_type": "markdown",
   "metadata": {},
   "source": [
    "The **relevant levels of human capital** are:"
   ]
  },
  {
   "cell_type": "code",
   "execution_count": 4,
   "metadata": {},
   "outputs": [],
   "source": [
    "h_vec = np.linspace(0.1,1.5,100)"
   ]
  },
  {
   "cell_type": "markdown",
   "metadata": {},
   "source": [
    "**Question 1:** Solve the model in period 2 and illustrate the solution (including labor supply as a function of human capital). "
   ]
  },
  {
   "cell_type": "markdown",
   "metadata": {},
   "source": [
    "**Question 2:** Solve the model in period 1 and illustrate the solution (including labor supply as a function of human capital). "
   ]
  },
  {
   "cell_type": "markdown",
   "metadata": {},
   "source": [
    "**Question 3:** Will the worker never work if her potential wage income is lower than the unemployment benefits she can get? Explain and illustrate why or why not."
   ]
  },
  {
   "cell_type": "markdown",
   "metadata": {},
   "source": [
    "## **Answer 1**: Human capital accumulation\n",
    "\n",
    "For the three question concerning Human capital accumulation have taking a lot of inspiration from Problem set 7.4.\n",
    "\n",
    "Solving the model in period 2 and illustrating labor supply as a function of human capital.\n",
    "\n",
    "First we set up the functions of the model, both for period one and period two."
   ]
  },
  {
   "cell_type": "code",
   "execution_count": 5,
   "metadata": {},
   "outputs": [],
   "source": [
    "def utility(c,rho):\n",
    "    return c**(1-rho)/(1-rho)\n",
    "\n",
    "def c(w,h,l,b):\n",
    "    return w*h*l + b*(1-l)\n",
    "\n",
    "def bequest(l,gamma):\n",
    "    return gamma*l\n",
    "\n",
    "def v2(w,h2,l2,b,rho,gamma):\n",
    "    return utility(c(w,h2,l2,b),rho) - bequest(l2,gamma)\n",
    "\n",
    "def v1(h1,l1,v2_interp,Delta,w,b,rho,gamma,beta):\n",
    "    \n",
    "    # a. v2 value, if no accumulation of humancapital\n",
    "    h2_No = h1 + l1 + 0\n",
    "    v2_No = v2_interp([h2_No])[0]\n",
    "    \n",
    "    # b. v2 value, if accumulation of human capital\n",
    "    h2_Yes = h1 + l1 + Delta\n",
    "    v2_Yes = v2_interp([h2_Yes])[0]\n",
    "    \n",
    "    # c. expected v2 value\n",
    "    v2 = 0.5*v2_No + 0.5*v2_Yes\n",
    "    \n",
    "    # d. total value\n",
    "    return utility(c(w,h1,l1,b),rho) - bequest(l1,gamma) + beta*v2"
   ]
  },
  {
   "cell_type": "markdown",
   "metadata": {},
   "source": [
    "We now ready to solve Question 1.1."
   ]
  },
  {
   "cell_type": "markdown",
   "metadata": {},
   "source": [
    "### Question 1.1\n",
    "\n",
    "Next we will define a function to solve the model for period 2."
   ]
  },
  {
   "cell_type": "code",
   "execution_count": 6,
   "metadata": {},
   "outputs": [],
   "source": [
    "def solve_period_2(rho,gamma,Delta):\n",
    "    \n",
    "    # Vectors\n",
    "    l2_vec = np.empty(100)\n",
    "    v2_vec = np.empty(100)\n",
    "    \n",
    "    # Solve for each h2\n",
    "    for i,h2 in enumerate(h_vec):\n",
    "        \n",
    "        # to work or not to work; if utility is higher when not working, then you will not work, else you work\n",
    "        if v2(w,h2,1,b,rho,gamma) < v2(w,h2,0,b,rho,gamma):\n",
    "            l2_vec[i] = 0\n",
    "        else:\n",
    "            l2_vec[i] = 1\n",
    "        \n",
    "        v2_vec[i] = v2(w,h2,l2_vec[i],b,rho,gamma)\n",
    "        \n",
    "    return l2_vec, v2_vec"
   ]
  },
  {
   "cell_type": "markdown",
   "metadata": {},
   "source": [
    "Using our vector for labor supply and vector utility for each value of human capital, we will solve and illustrate the solution."
   ]
  },
  {
   "cell_type": "code",
   "execution_count": 7,
   "metadata": {},
   "outputs": [
    {
     "data": {
      "text/plain": [
       "[<matplotlib.lines.Line2D at 0x215e194ca58>]"
      ]
     },
     "execution_count": 7,
     "metadata": {},
     "output_type": "execute_result"
    },
    {
     "data": {
      "image/png": "[encoded data removed]",
      "text/plain": [
       "<Figure size 864x432 with 1 Axes>"
      ]
     },
     "metadata": {
      "needs_background": "light"
     },
     "output_type": "display_data"
    }
   ],
   "source": [
    "# Solving\n",
    "l2_vec,v2_vec = solve_period_2(rho,gamma,Delta)\n",
    "\n",
    "# Figure\n",
    "fig = plt.figure(figsize=(12,6))\n",
    "ax = fig.add_subplot(1,1,1)\n",
    "ax.plot(h_vec,l2_vec)\n",
    "\n",
    "# Labels\n",
    "font = {'family':'serif','color':'darkblue','weight':'normal','size': 16,}\n",
    "ax.set_xlabel('Human Capital ($h_2$)', fontdict=font)\n",
    "ax.set_ylabel('Labor supply ($l_2$)', fontdict=font)\n",
    "ax.set_title('Labor supply as a function of human capital in period 2', fontdict=font)\n",
    "ax.grid()\n",
    "ax.plot(0.5555555555555556,0.5,marker='o')"
   ]
  },
  {
   "cell_type": "markdown",
   "metadata": {},
   "source": [
    "We see that with low human capital you will decide not to work in period two, in fact you will only work if your level of human capital is over 0.5556.\n",
    "\n",
    "Below we have quickly found the kink in human capital with a short analytical solution."
   ]
  },
  {
   "cell_type": "code",
   "execution_count": 8,
   "metadata": {},
   "outputs": [],
   "source": [
    "# Symbols\n",
    "w = sm.symbols('w')\n",
    "h_2 = sm.symbols('h_2')\n",
    "rho = sm.symbols('rho')\n",
    "gamma = sm.symbols('gamma')\n",
    "v21 = sm.symbols('v_{2, l=1}')\n",
    "v20 = sm.symbols('v_{2, l=0}')\n",
    "b = sm.symbols('b')"
   ]
  },
  {
   "cell_type": "code",
   "execution_count": 9,
   "metadata": {},
   "outputs": [
    {
     "name": "stdout",
     "output_type": "stream",
     "text": [
      "Utility when working:\n"
     ]
    },
    {
     "data": {
      "image/png": "[encoded data removed]",
      "text/latex": [
       "$$\\left ( v_{2, \\quad l=1}\\right ) = - \\gamma + \\frac{\\left(h_{2} w\\right)^{- \\rho + 1}}{- \\rho + 1}$$"
      ],
      "text/plain": [
       "                          -ρ + 1\n",
       "                    (h₂⋅w)      \n",
       "(v_{2, l=1}) = -γ + ────────────\n",
       "                       -ρ + 1   "
      ]
     },
     "metadata": {},
     "output_type": "display_data"
    },
    {
     "name": "stdout",
     "output_type": "stream",
     "text": [
      "Utility whn not working:\n"
     ]
    },
    {
     "data": {
      "image/png": "[encoded data removed]",
      "text/latex": [
       "$$\\left ( v_{2, \\quad l=0}\\right ) = \\frac{b^{- \\rho + 1}}{- \\rho + 1}$$"
      ],
      "text/plain": [
       "                -ρ + 1\n",
       "               b      \n",
       "(v_{2, l=0}) = ───────\n",
       "                -ρ + 1"
      ]
     },
     "metadata": {},
     "output_type": "display_data"
    },
    {
     "name": "stdout",
     "output_type": "stream",
     "text": [
      "The kink in human capital is then where the two utilities are equal, so we set them equal and isolate h_2:\n"
     ]
    },
    {
     "data": {
      "image/png": "[encoded data removed]",
      "text/latex": [
       "$$\\frac{b^{- \\rho + 1}}{- \\rho + 1} = - \\gamma + \\frac{\\left(h_{2} w\\right)^{- \\rho + 1}}{- \\rho + 1}$$"
      ],
      "text/plain": [
       " -ρ + 1              -ρ + 1\n",
       "b              (h₂⋅w)      \n",
       "─────── = -γ + ────────────\n",
       " -ρ + 1           -ρ + 1   "
      ]
     },
     "metadata": {},
     "output_type": "display_data"
    },
    {
     "data": {
      "image/png": "[encoded data removed]",
      "text/latex": [
       "$$\\left [ \\frac{\\left(b^{- \\rho + 1} - \\gamma \\rho + \\gamma\\right)^{- \\frac{1}{\\rho - 1}}}{w}\\right ]$$"
      ],
      "text/plain": [
       "⎡                    -1  ⎤\n",
       "⎢                   ─────⎥\n",
       "⎢                   ρ - 1⎥\n",
       "⎢⎛ -ρ + 1          ⎞     ⎥\n",
       "⎢⎝b       - γ⋅ρ + γ⎠     ⎥\n",
       "⎢────────────────────────⎥\n",
       "⎣           w            ⎦"
      ]
     },
     "execution_count": 9,
     "metadata": {},
     "output_type": "execute_result"
    }
   ],
   "source": [
    "# Solves for the kink point in human capial i period 2\n",
    "print(f'Utility when working:')\n",
    "v_21 = (w*h_2*1)**(1-rho)/(1-rho)-gamma\n",
    "display(sm.Eq(v21,v_21))\n",
    "print(f'Utility whn not working:')\n",
    "v_20 = b**(1-rho)/(1-rho)\n",
    "display(sm.Eq(v20,v_20))\n",
    "print(f'The kink in human capital is then where the two utilities are equal, so we set them equal and isolate h_2:')\n",
    "display(sm.Eq(v_20,v_21))\n",
    "f = v_21-v_20\n",
    "fs = sm.solve(f,h_2)\n",
    "fs"
   ]
  },
  {
   "cell_type": "code",
   "execution_count": 10,
   "metadata": {},
   "outputs": [
    {
     "data": {
      "image/png": "[encoded data removed]",
      "text/latex": [
       "$$\\left [ 0.5555555555555556\\right ]$$"
      ],
      "text/plain": [
       "[0.5555555555555556]"
      ]
     },
     "execution_count": 10,
     "metadata": {},
     "output_type": "execute_result"
    }
   ],
   "source": [
    "rho = 2\n",
    "beta = 0.96\n",
    "gamma = 0.1\n",
    "w = 2\n",
    "b = 1\n",
    "[(b**(-rho + 1) - gamma*rho + gamma)**(-1/(rho - 1))/w]"
   ]
  },
  {
   "cell_type": "markdown",
   "metadata": {},
   "source": [
    "This result match the illustration above."
   ]
  },
  {
   "cell_type": "markdown",
   "metadata": {},
   "source": [
    "### Question 1.2\n",
    "\n",
    "We will now solve the model for period one."
   ]
  },
  {
   "cell_type": "code",
   "execution_count": 11,
   "metadata": {},
   "outputs": [],
   "source": [
    "def solve_period_1(rho,gamma,beta,Delta,v1,v2_interp):\n",
    "    \n",
    "    # Vectors\n",
    "    l1_vec = np.empty(100)\n",
    "    v1_vec = np.empty(100)\n",
    "    \n",
    "    # Solve for each h1\n",
    "    for i,h1 in enumerate(h_vec):\n",
    "             \n",
    "        # to work or not to work; if utility is higher when not working, then you will not work, else you work\n",
    "        if v1(h1,1,v2_interp,Delta,w,b,rho,gamma,beta) < v1(h1,0,v2_interp,Delta,w,b,rho,gamma,beta):\n",
    "            l1_vec[i] = 0\n",
    "        else:\n",
    "            l1_vec[i] = 1\n",
    "        \n",
    "        v1_vec[i] = v1(h1,l1_vec[i],v2_interp,Delta,w,b,rho,gamma,beta)\n",
    "        \n",
    "    return l1_vec, v1_vec\n",
    "\n",
    "# Construct interpolator\n",
    "v2_interp = interpolate.RegularGridInterpolator((h_vec,), v2_vec, bounds_error=False, fill_value=None)"
   ]
  },
  {
   "cell_type": "code",
   "execution_count": 12,
   "metadata": {},
   "outputs": [
    {
     "data": {
      "text/plain": [
       "[<matplotlib.lines.Line2D at 0x215e2fa7390>]"
      ]
     },
     "execution_count": 12,
     "metadata": {},
     "output_type": "execute_result"
    },
    {
     "data": {
      "image/png": "[encoded data removed]",
      "text/plain": [
       "<Figure size 864x432 with 1 Axes>"
      ]
     },
     "metadata": {
      "needs_background": "light"
     },
     "output_type": "display_data"
    }
   ],
   "source": [
    "# Solving\n",
    "l1_vec,v1_vec = solve_period_1(rho,gamma,beta,Delta,v1,v2_interp)\n",
    "\n",
    "# Figure\n",
    "fig = plt.figure(figsize=(12,6))\n",
    "ax = fig.add_subplot(1,1,1)\n",
    "ax.plot(h_vec,l1_vec)\n",
    "\n",
    "# Labels\n",
    "font = {'family':'serif','color':'darkblue','weight':'normal','size': 16,}\n",
    "ax.set_xlabel('Human Capital ($h_1$)', fontdict=font)\n",
    "ax.set_ylabel('Labor supply ($l_1$)', fontdict=font)\n",
    "ax.set_title('Labor supply as a function of human capital in period 1', fontdict=font)\n",
    "ax.grid()\n",
    "ax.plot(0.345,0.5,marker='o') # guess"
   ]
  },
  {
   "cell_type": "markdown",
   "metadata": {},
   "source": [
    "We see again that with low human capital you will decide not to work in period two, in fact you will only work if your level of human capital is over 0.345.\n",
    "\n",
    "Below we have quickly found the kink in human capital with a short analytical solution."
   ]
  },
  {
   "cell_type": "code",
   "execution_count": 13,
   "metadata": {},
   "outputs": [],
   "source": [
    "# Symbols\n",
    "w = sm.symbols('w')\n",
    "h_1 = sm.symbols('h_1')\n",
    "rho = sm.symbols('rho')\n",
    "gamma = sm.symbols('gamma')\n",
    "v11 = sm.symbols('v_{1, l=1}')\n",
    "v10 = sm.symbols('v_{1, l=0}')\n",
    "b = sm.symbols('b')\n",
    "beta = sm.symbols('beta')\n",
    "v2 = sm.symbols('E{[v_2]}')"
   ]
  },
  {
   "cell_type": "code",
   "execution_count": 14,
   "metadata": {},
   "outputs": [
    {
     "name": "stdout",
     "output_type": "stream",
     "text": [
      "Utility when working:\n"
     ]
    },
    {
     "data": {
      "image/png": "[encoded data removed]",
      "text/latex": [
       "$$\\left ( v_{1, \\quad l=1}\\right ) = E{[v_2]} \\beta - \\gamma + \\frac{\\left(h_{1} w\\right)^{- \\rho + 1}}{- \\rho + 1}$$"
      ],
      "text/plain": [
       "                                      -ρ + 1\n",
       "                                (h₁⋅w)      \n",
       "(v_{1, l=1}) = E{[v_2]}⋅β - γ + ────────────\n",
       "                                   -ρ + 1   "
      ]
     },
     "metadata": {},
     "output_type": "display_data"
    },
    {
     "name": "stdout",
     "output_type": "stream",
     "text": [
      "Utility whn not working:\n"
     ]
    },
    {
     "data": {
      "image/png": "[encoded data removed]",
      "text/latex": [
       "$$\\left ( v_{1, \\quad l=0}\\right ) = \\frac{b^{- \\rho + 1}}{- \\rho + 1}$$"
      ],
      "text/plain": [
       "                -ρ + 1\n",
       "               b      \n",
       "(v_{1, l=0}) = ───────\n",
       "                -ρ + 1"
      ]
     },
     "metadata": {},
     "output_type": "display_data"
    },
    {
     "name": "stdout",
     "output_type": "stream",
     "text": [
      "The kink in human capital is then where the two utilities are equal, so we set them equal and isolate h_2:\n"
     ]
    },
    {
     "data": {
      "image/png": "[encoded data removed]",
      "text/latex": [
       "$$\\frac{b^{- \\rho + 1}}{- \\rho + 1} = E{[v_2]} \\beta - \\gamma + \\frac{\\left(h_{1} w\\right)^{- \\rho + 1}}{- \\rho + 1}$$"
      ],
      "text/plain": [
       " -ρ + 1                          -ρ + 1\n",
       "b                          (h₁⋅w)      \n",
       "─────── = E{[v_2]}⋅β - γ + ────────────\n",
       " -ρ + 1                       -ρ + 1   "
      ]
     },
     "metadata": {},
     "output_type": "display_data"
    },
    {
     "data": {
      "image/png": "[encoded data removed]",
      "text/latex": [
       "$$\\left [ \\frac{\\left(E{[v_2]} \\beta \\rho - E{[v_2]} \\beta + b^{- \\rho + 1} - \\gamma \\rho + \\gamma\\right)^{- \\frac{1}{\\rho - 1}}}{w}\\right ]$$"
      ],
      "text/plain": [
       "⎡                                                -1  ⎤\n",
       "⎢                                               ─────⎥\n",
       "⎢                                               ρ - 1⎥\n",
       "⎢⎛                             -ρ + 1          ⎞     ⎥\n",
       "⎢⎝E{[v_2]}⋅β⋅ρ - E{[v_2]}⋅β + b       - γ⋅ρ + γ⎠     ⎥\n",
       "⎢────────────────────────────────────────────────────⎥\n",
       "⎣                         w                          ⎦"
      ]
     },
     "execution_count": 14,
     "metadata": {},
     "output_type": "execute_result"
    }
   ],
   "source": [
    "# Solves for the kink point in human capial i period 2\n",
    "print(f'Utility when working:')\n",
    "v_11 = (w*h_1*1)**(1-rho)/(1-rho)-gamma+beta*v2\n",
    "display(sm.Eq(v11,v_11))\n",
    "print(f'Utility whn not working:')\n",
    "v_10 = b**(1-rho)/(1-rho)\n",
    "display(sm.Eq(v10,v_10))\n",
    "print(f'The kink in human capital is then where the two utilities are equal, so we set them equal and isolate h_2:')\n",
    "display(sm.Eq(v_10,v_11))\n",
    "f1 = v_11-v_10\n",
    "f1s = sm.solve(f1,h_1)\n",
    "f1s"
   ]
  },
  {
   "cell_type": "code",
   "execution_count": 15,
   "metadata": {},
   "outputs": [
    {
     "data": {
      "image/png": "[encoded data removed]",
      "text/latex": [
       "$$0.5555555555555556$$"
      ],
      "text/plain": [
       "0.5555555555555556"
      ]
     },
     "execution_count": 15,
     "metadata": {},
     "output_type": "execute_result"
    }
   ],
   "source": [
    "# Breakeven human capital in period 2\n",
    "rho = 2\n",
    "beta = 0.96\n",
    "gamma = 0.1\n",
    "w = 2\n",
    "b = 1\n",
    "h2 = (b**(-rho + 1) - gamma*rho + gamma)**(-1/(rho - 1))/w\n",
    "h2"
   ]
  },
  {
   "cell_type": "code",
   "execution_count": 16,
   "metadata": {},
   "outputs": [
    {
     "data": {
      "image/png": "[encoded data removed]",
      "text/latex": [
       "$$-0.9999999999999999$$"
      ],
      "text/plain": [
       "-0.9999999999999999"
      ]
     },
     "execution_count": 16,
     "metadata": {},
     "output_type": "execute_result"
    }
   ],
   "source": [
    "#Expected v_2\n",
    "v2 = (w*h2*1)**(1-rho)/(1-rho)-gamma\n",
    "v2"
   ]
  },
  {
   "cell_type": "code",
   "execution_count": 17,
   "metadata": {},
   "outputs": [
    {
     "data": {
      "image/png": "[encoded data removed]",
      "text/latex": [
       "$$-8.333333333333353$$"
      ],
      "text/plain": [
       "-8.333333333333353"
      ]
     },
     "execution_count": 17,
     "metadata": {},
     "output_type": "execute_result"
    }
   ],
   "source": [
    "# Breakeven human capital period 1\n",
    "((v2*beta*rho - v2*beta + (b**(-rho + 1)) - gamma*rho + gamma)**(-1/(rho - 1)))/w"
   ]
  },
  {
   "cell_type": "markdown",
   "metadata": {},
   "source": [
    "This does not look correct, but the illustration is."
   ]
  },
  {
   "cell_type": "markdown",
   "metadata": {},
   "source": [
    "### Question 1.3"
   ]
  },
  {
   "cell_type": "markdown",
   "metadata": {},
   "source": [
    "To investigate if the worker never will work we change the solution for period 2 and period 1, so that labor supply will depend on the potential wage income. We chose the highest level of human capital, so that we capture all types of workers.\n",
    "\n",
    "First we will solve for period 2."
   ]
  },
  {
   "cell_type": "code",
   "execution_count": 18,
   "metadata": {},
   "outputs": [],
   "source": [
    "rho = 2\n",
    "beta = 0.96\n",
    "gamma = 0.1\n",
    "b = 1\n",
    "Delta = 0.1"
   ]
  },
  {
   "cell_type": "code",
   "execution_count": 19,
   "metadata": {},
   "outputs": [],
   "source": [
    "def utility(c,rho):\n",
    "    return c**(1-rho)/(1-rho)\n",
    "\n",
    "def c(w,h,l,b):\n",
    "    return w*h*l + b*(1-l)\n",
    "\n",
    "def bequest(l,gamma):\n",
    "    return gamma*l\n",
    "\n",
    "def v2(w,h2,l2,b,rho,gamma):\n",
    "    return utility(c(w,h2,l2,b),rho) - bequest(l2,gamma)\n",
    "\n",
    "def v1(h1,l1,v2_interp,Delta,w,b,rho,gamma,beta):\n",
    "    \n",
    "    # a. v2 value, if no accumulation of humancapital\n",
    "    h2_No = h1 + l1 + 0\n",
    "    v2_No = v2_interp([h2_No])[0]\n",
    "    \n",
    "    # b. v2 value, if accumulation of human capital\n",
    "    h2_Yes = h1 + l1 + Delta\n",
    "    v2_Yes = v2_interp([h2_Yes])[0]\n",
    "    \n",
    "    # c. expected v2 value\n",
    "    v2 = 0.5*v2_No + 0.5*v2_Yes\n",
    "    \n",
    "    # d. total value\n",
    "    return utility(c(w,h1,l1,b),rho) - bequest(l1,gamma) + beta*v2"
   ]
  },
  {
   "cell_type": "markdown",
   "metadata": {},
   "source": [
    "The function for period 2 is no dependent on a vector of values for income wage from approximatly zero to three."
   ]
  },
  {
   "cell_type": "code",
   "execution_count": 20,
   "metadata": {},
   "outputs": [],
   "source": [
    "h2 = 1.5\n",
    "w_vec = np.linspace(1e-8,2,100)\n",
    "\n",
    "def solve_period_2_2(rho,gamma,Delta):\n",
    "    \n",
    "    # Vectors\n",
    "    l2_vec = np.empty(100)\n",
    "    v2_vec = np.empty(100)\n",
    "    \n",
    "    # Solve for each h2\n",
    "    for i,w in enumerate(w_vec):\n",
    "        \n",
    "        # to work or not to work; if utility is higher when not working, then you will not work, else you work\n",
    "        if v2(w,h2,1,b,rho,gamma) < v2(w,h2,0,b,rho,gamma):\n",
    "            l2_vec[i] = 0\n",
    "        else:\n",
    "            l2_vec[i] = 1\n",
    "        \n",
    "        v2_vec[i] = v2(w,h2,l2_vec[i],b,rho,gamma)\n",
    "        \n",
    "    return l2_vec, v2_vec"
   ]
  },
  {
   "cell_type": "code",
   "execution_count": 21,
   "metadata": {},
   "outputs": [
    {
     "data": {
      "text/plain": [
       "[<matplotlib.lines.Line2D at 0x215e333c208>]"
      ]
     },
     "execution_count": 21,
     "metadata": {},
     "output_type": "execute_result"
    },
    {
     "data": {
      "image/png": "[encoded data removed]",
      "text/plain": [
       "<Figure size 864x432 with 1 Axes>"
      ]
     },
     "metadata": {
      "needs_background": "light"
     },
     "output_type": "display_data"
    }
   ],
   "source": [
    "# Solving\n",
    "l2_vec,v2_vec = solve_period_2_2(rho,gamma,Delta)\n",
    "\n",
    "# Figure\n",
    "fig = plt.figure(figsize=(12,6))\n",
    "ax = fig.add_subplot(1,1,1)\n",
    "ax.plot(w_vec,l2_vec)\n",
    "\n",
    "# Labels\n",
    "font = {'family':'serif','color':'darkblue','weight':'normal','size': 16,}\n",
    "ax.set_xlabel('Income wage ($w$)', fontdict=font)\n",
    "ax.set_ylabel('Labor supply ($l_2$)', fontdict=font)\n",
    "ax.set_title('Labor supply as a function of wage income in period 2', fontdict=font)\n",
    "ax.grid()\n",
    "ax.plot(0.7407407407407408,0.5,marker='o')"
   ]
  },
  {
   "cell_type": "markdown",
   "metadata": {},
   "source": [
    "If the wage is below 0.741 no one will work in periode 2, if the worker have a lower level of human capital, this limit will increase.\n",
    "\n",
    "Because utility decrease with the level of human capital, the wage will have to increase for the worker to choose to work.\n",
    "\n",
    "To find the exact limit value of income wage we have done a short analytical solution below."
   ]
  },
  {
   "cell_type": "code",
   "execution_count": 22,
   "metadata": {},
   "outputs": [],
   "source": [
    "# Symbols\n",
    "w = sm.symbols('w')\n",
    "h_2 = sm.symbols('h_2')\n",
    "rho = sm.symbols('rho')\n",
    "gamma = sm.symbols('gamma')\n",
    "v21 = sm.symbols('v_{2, l=1}')\n",
    "v20 = sm.symbols('v_{2, l=0}')\n",
    "b = sm.symbols('b')"
   ]
  },
  {
   "cell_type": "code",
   "execution_count": 23,
   "metadata": {},
   "outputs": [
    {
     "name": "stdout",
     "output_type": "stream",
     "text": [
      "Utility when working:\n"
     ]
    },
    {
     "data": {
      "image/png": "[encoded data removed]",
      "text/latex": [
       "$$\\left ( v_{2, \\quad l=1}\\right ) = - \\gamma + \\frac{\\left(h_{2} w\\right)^{- \\rho + 1}}{- \\rho + 1}$$"
      ],
      "text/plain": [
       "                          -ρ + 1\n",
       "                    (h₂⋅w)      \n",
       "(v_{2, l=1}) = -γ + ────────────\n",
       "                       -ρ + 1   "
      ]
     },
     "metadata": {},
     "output_type": "display_data"
    },
    {
     "name": "stdout",
     "output_type": "stream",
     "text": [
      "Utility whn not working:\n"
     ]
    },
    {
     "data": {
      "image/png": "[encoded data removed]",
      "text/latex": [
       "$$\\left ( v_{2, \\quad l=0}\\right ) = \\frac{b^{- \\rho + 1}}{- \\rho + 1}$$"
      ],
      "text/plain": [
       "                -ρ + 1\n",
       "               b      \n",
       "(v_{2, l=0}) = ───────\n",
       "                -ρ + 1"
      ]
     },
     "metadata": {},
     "output_type": "display_data"
    },
    {
     "name": "stdout",
     "output_type": "stream",
     "text": [
      "The kink in income wage is then where the two utilities are equal, so we set them equal and isolate w:\n"
     ]
    },
    {
     "data": {
      "image/png": "[encoded data removed]",
      "text/latex": [
       "$$\\frac{b^{- \\rho + 1}}{- \\rho + 1} = - \\gamma + \\frac{\\left(h_{2} w\\right)^{- \\rho + 1}}{- \\rho + 1}$$"
      ],
      "text/plain": [
       " -ρ + 1              -ρ + 1\n",
       "b              (h₂⋅w)      \n",
       "─────── = -γ + ────────────\n",
       " -ρ + 1           -ρ + 1   "
      ]
     },
     "metadata": {},
     "output_type": "display_data"
    },
    {
     "name": "stdout",
     "output_type": "stream",
     "text": [
      "[(b**(-rho + 1) - gamma*rho + gamma)**(-1/(rho - 1))/h_2]\n"
     ]
    },
    {
     "data": {
      "image/png": "[encoded data removed]",
      "text/latex": [
       "$$\\left [ \\frac{\\left(b^{- \\rho + 1} - \\gamma \\rho + \\gamma\\right)^{- \\frac{1}{\\rho - 1}}}{h_{2}}\\right ]$$"
      ],
      "text/plain": [
       "⎡                    -1  ⎤\n",
       "⎢                   ─────⎥\n",
       "⎢                   ρ - 1⎥\n",
       "⎢⎛ -ρ + 1          ⎞     ⎥\n",
       "⎢⎝b       - γ⋅ρ + γ⎠     ⎥\n",
       "⎢────────────────────────⎥\n",
       "⎣           h₂           ⎦"
      ]
     },
     "execution_count": 23,
     "metadata": {},
     "output_type": "execute_result"
    }
   ],
   "source": [
    "# Solves for the kink point in income wage i period 2\n",
    "print(f'Utility when working:')\n",
    "v_21 = (w*h_2*1)**(1-rho)/(1-rho)-gamma\n",
    "display(sm.Eq(v21,v_21))\n",
    "print(f'Utility whn not working:')\n",
    "v_20 = b**(1-rho)/(1-rho)\n",
    "display(sm.Eq(v20,v_20))\n",
    "print(f'The kink in income wage is then where the two utilities are equal, so we set them equal and isolate w:')\n",
    "display(sm.Eq(v_20,v_21))\n",
    "f = v_21-v_20\n",
    "fs = sm.solve(f,w)\n",
    "print(fs)\n",
    "fs"
   ]
  },
  {
   "cell_type": "code",
   "execution_count": 24,
   "metadata": {},
   "outputs": [
    {
     "data": {
      "image/png": "[encoded data removed]",
      "text/latex": [
       "$$\\left [ 0.7407407407407408\\right ]$$"
      ],
      "text/plain": [
       "[0.7407407407407408]"
      ]
     },
     "execution_count": 24,
     "metadata": {},
     "output_type": "execute_result"
    }
   ],
   "source": [
    "rho = 2\n",
    "beta = 0.96\n",
    "gamma = 0.1\n",
    "h_2 = 1.5\n",
    "b = 1\n",
    "[(b**(-rho + 1) - gamma*rho + gamma)**(-1/(rho - 1))/h_2]"
   ]
  },
  {
   "cell_type": "markdown",
   "metadata": {},
   "source": [
    "Now we will solve for period 1, using the same the same procedure as above."
   ]
  },
  {
   "cell_type": "code",
   "execution_count": 25,
   "metadata": {},
   "outputs": [],
   "source": [
    "h1 = 1.5\n",
    "\n",
    "def solve_period_1_2(rho,gamma,beta,Delta,v1,v2_interp):\n",
    "    \n",
    "    # Vectors\n",
    "    l1_vec = np.empty(100)\n",
    "    v1_vec = np.empty(100)\n",
    "    \n",
    "    # Solve for each h1\n",
    "    for i,w in enumerate(w_vec):\n",
    "             \n",
    "        # to work or not to work; if utility is higher when not working, then you will not work, else you work\n",
    "        if v1(h1,1,v2_interp,Delta,w,b,rho,gamma,beta) < v1(h1,0,v2_interp,Delta,w,b,rho,gamma,beta):\n",
    "            l1_vec[i] = 0\n",
    "        else:\n",
    "            l1_vec[i] = 1\n",
    "        \n",
    "        v1_vec[i] = v1(h1,l1_vec[i],v2_interp,Delta,w,b,rho,gamma,beta)\n",
    "        \n",
    "    return l1_vec, v1_vec\n",
    "\n",
    "# Construct interpolator\n",
    "v2_interp = interpolate.RegularGridInterpolator((w_vec,), v2_vec, bounds_error=False, fill_value=None)"
   ]
  },
  {
   "cell_type": "code",
   "execution_count": 26,
   "metadata": {},
   "outputs": [
    {
     "data": {
      "text/plain": [
       "[<matplotlib.lines.Line2D at 0x215e3689748>]"
      ]
     },
     "execution_count": 26,
     "metadata": {},
     "output_type": "execute_result"
    },
    {
     "data": {
      "image/png": "[encoded data removed]",
      "text/plain": [
       "<Figure size 864x432 with 1 Axes>"
      ]
     },
     "metadata": {
      "needs_background": "light"
     },
     "output_type": "display_data"
    }
   ],
   "source": [
    "# Solving\n",
    "l1_vec,v1_vec = solve_period_1_2(rho,gamma,beta,Delta,v1,v2_interp)\n",
    "\n",
    "# Figure\n",
    "fig = plt.figure(figsize=(12,6))\n",
    "ax = fig.add_subplot(1,1,1)\n",
    "ax.plot(w_vec,l1_vec)\n",
    "\n",
    "# Labels\n",
    "font = {'family':'serif','color':'darkblue','weight':'normal','size': 16,}\n",
    "ax.set_xlabel('Income wage ($w$)', fontdict=font)\n",
    "ax.set_ylabel('Labor supply ($l_1$)', fontdict=font)\n",
    "ax.set_title('Labor supply as a function of income wage in period 1', fontdict=font)\n",
    "ax.grid()\n",
    "ax.plot(0.619,0.5,marker='o') # guess"
   ]
  },
  {
   "cell_type": "code",
   "execution_count": 27,
   "metadata": {},
   "outputs": [],
   "source": [
    "# Symbols\n",
    "w = sm.symbols('w')\n",
    "h_1 = sm.symbols('h_1')\n",
    "rho = sm.symbols('rho')\n",
    "gamma = sm.symbols('gamma')\n",
    "v11 = sm.symbols('v_{1, l=1}')\n",
    "v10 = sm.symbols('v_{1, l=0}')\n",
    "b = sm.symbols('b')\n",
    "beta = sm.symbols('beta')\n",
    "v2 = sm.symbols('E{[v_2]}')"
   ]
  },
  {
   "cell_type": "code",
   "execution_count": 28,
   "metadata": {},
   "outputs": [
    {
     "name": "stdout",
     "output_type": "stream",
     "text": [
      "Utility when working:\n"
     ]
    },
    {
     "data": {
      "image/png": "[encoded data removed]",
      "text/latex": [
       "$$\\left ( v_{1, \\quad l=1}\\right ) = E{[v_2]} \\beta - \\gamma + \\frac{\\left(h_{1} w\\right)^{- \\rho + 1}}{- \\rho + 1}$$"
      ],
      "text/plain": [
       "                                      -ρ + 1\n",
       "                                (h₁⋅w)      \n",
       "(v_{1, l=1}) = E{[v_2]}⋅β - γ + ────────────\n",
       "                                   -ρ + 1   "
      ]
     },
     "metadata": {},
     "output_type": "display_data"
    },
    {
     "name": "stdout",
     "output_type": "stream",
     "text": [
      "Utility whn not working:\n"
     ]
    },
    {
     "data": {
      "image/png": "[encoded data removed]",
      "text/latex": [
       "$$\\left ( v_{1, \\quad l=0}\\right ) = \\frac{b^{- \\rho + 1}}{- \\rho + 1}$$"
      ],
      "text/plain": [
       "                -ρ + 1\n",
       "               b      \n",
       "(v_{1, l=0}) = ───────\n",
       "                -ρ + 1"
      ]
     },
     "metadata": {},
     "output_type": "display_data"
    },
    {
     "name": "stdout",
     "output_type": "stream",
     "text": [
      "The kink in human capital is then where the two utilities are equal, so we set them equal and isolate h_2:\n"
     ]
    },
    {
     "data": {
      "image/png": "[encoded data removed]",
      "text/latex": [
       "$$\\frac{b^{- \\rho + 1}}{- \\rho + 1} = E{[v_2]} \\beta - \\gamma + \\frac{\\left(h_{1} w\\right)^{- \\rho + 1}}{- \\rho + 1}$$"
      ],
      "text/plain": [
       " -ρ + 1                          -ρ + 1\n",
       "b                          (h₁⋅w)      \n",
       "─────── = E{[v_2]}⋅β - γ + ────────────\n",
       " -ρ + 1                       -ρ + 1   "
      ]
     },
     "metadata": {},
     "output_type": "display_data"
    },
    {
     "name": "stdout",
     "output_type": "stream",
     "text": [
      "[(E{[v_2]}*beta*rho - E{[v_2]}*beta + b**(-rho + 1) - gamma*rho + gamma)**(-1/(rho - 1))/h_1]\n"
     ]
    },
    {
     "data": {
      "image/png": "[encoded data removed]",
      "text/latex": [
       "$$\\left [ \\frac{\\left(E{[v_2]} \\beta \\rho - E{[v_2]} \\beta + b^{- \\rho + 1} - \\gamma \\rho + \\gamma\\right)^{- \\frac{1}{\\rho - 1}}}{h_{1}}\\right ]$$"
      ],
      "text/plain": [
       "⎡                                                -1  ⎤\n",
       "⎢                                               ─────⎥\n",
       "⎢                                               ρ - 1⎥\n",
       "⎢⎛                             -ρ + 1          ⎞     ⎥\n",
       "⎢⎝E{[v_2]}⋅β⋅ρ - E{[v_2]}⋅β + b       - γ⋅ρ + γ⎠     ⎥\n",
       "⎢────────────────────────────────────────────────────⎥\n",
       "⎣                         h₁                         ⎦"
      ]
     },
     "execution_count": 28,
     "metadata": {},
     "output_type": "execute_result"
    }
   ],
   "source": [
    "# Solves for the kink point in human capial i period 2\n",
    "print(f'Utility when working:')\n",
    "v_11 = (w*h_1*1)**(1-rho)/(1-rho)-gamma+beta*v2\n",
    "display(sm.Eq(v11,v_11))\n",
    "print(f'Utility whn not working:')\n",
    "v_10 = b**(1-rho)/(1-rho)\n",
    "display(sm.Eq(v10,v_10))\n",
    "print(f'The kink in human capital is then where the two utilities are equal, so we set them equal and isolate h_2:')\n",
    "display(sm.Eq(v_10,v_11))\n",
    "f1 = v_11-v_10\n",
    "f1s = sm.solve(f1,w)\n",
    "print(f1s)\n",
    "f1s"
   ]
  },
  {
   "cell_type": "code",
   "execution_count": 29,
   "metadata": {},
   "outputs": [
    {
     "data": {
      "image/png": "[encoded data removed]",
      "text/latex": [
       "$$0.7407407407407408$$"
      ],
      "text/plain": [
       "0.7407407407407408"
      ]
     },
     "execution_count": 29,
     "metadata": {},
     "output_type": "execute_result"
    }
   ],
   "source": [
    "rho = 2\n",
    "beta = 0.96\n",
    "gamma = 0.1\n",
    "h2 = 1.5\n",
    "b = 1\n",
    "w = (b**(-rho + 1) - gamma*rho + gamma)**(-1/(rho - 1))/h2\n",
    "w"
   ]
  },
  {
   "cell_type": "code",
   "execution_count": 30,
   "metadata": {},
   "outputs": [
    {
     "data": {
      "image/png": "[encoded data removed]",
      "text/latex": [
       "$$-0.9999999999999999$$"
      ],
      "text/plain": [
       "-0.9999999999999999"
      ]
     },
     "execution_count": 30,
     "metadata": {},
     "output_type": "execute_result"
    }
   ],
   "source": [
    "#Expected v_2\n",
    "v2 = (w*h2*1)**(1-rho)/(1-rho)-gamma\n",
    "v2"
   ]
  },
  {
   "cell_type": "code",
   "execution_count": 31,
   "metadata": {},
   "outputs": [
    {
     "data": {
      "image/png": "[encoded data removed]",
      "text/latex": [
       "$$\\left [ -11.111111111111137\\right ]$$"
      ],
      "text/plain": [
       "[-11.111111111111137]"
      ]
     },
     "execution_count": 31,
     "metadata": {},
     "output_type": "execute_result"
    }
   ],
   "source": [
    "h1 = 1.5\n",
    "[(v2*beta*rho - v2*beta + b**(-rho + 1) - gamma*rho + gamma)**(-1/(rho - 1))/h1]"
   ]
  },
  {
   "cell_type": "markdown",
   "metadata": {},
   "source": [
    "Again, this is not corret, but the illustration above is correct, and show the level of income wage where no one will work."
   ]
  },
  {
   "cell_type": "markdown",
   "metadata": {},
   "source": [
    "# AS-AD model"
   ]
  },
  {
   "cell_type": "markdown",
   "metadata": {},
   "source": [
    "Consider the following **AS-AD model**. The **goods market equilibrium** is given by\n",
    "\n",
    "$$ y_{t} = -\\alpha r_{t} + v_{t} $$\n",
    "\n",
    "where $y_{t}$ is the **output gap**, $r_{t}$ is the **ex ante real interest** and $v_{t}$ is a **demand disturbance**. "
   ]
  },
  {
   "cell_type": "markdown",
   "metadata": {},
   "source": [
    "The central bank's **Taylor rule** is\n",
    "\n",
    "$$ i_{t} = \\pi_{t+1}^{e} + h \\pi_{t} + b y_{t}$$\n",
    "\n",
    "where $i_{t}$ is the **nominal interest rate**, $\\pi_{t}$ is the **inflation gap**, and $\\pi_{t+1}^{e}$ is the **expected inflation gap**. "
   ]
  },
  {
   "cell_type": "markdown",
   "metadata": {},
   "source": [
    "The **ex ante real interest rate** is given by \n",
    "\n",
    "$$ r_{t} = i_{t} - \\pi_{t+1}^{e} $$"
   ]
  },
  {
   "cell_type": "markdown",
   "metadata": {},
   "source": [
    "Together, the above implies that the **AD-curve** is\n",
    "\n",
    "$$ \\pi_{t} = \\frac{1}{h\\alpha}\\left[v_{t} - (1+b\\alpha)y_{t}\\right]$$"
   ]
  },
  {
   "cell_type": "markdown",
   "metadata": {},
   "source": [
    "Further, assume that the **short-run supply curve (SRAS)** is given by\n",
    "\n",
    "$$ \\pi_{t} = \\pi_{t}^{e} + \\gamma y_{t} + s_{t}$$\n",
    "\n",
    "where $s_t$ is a **supply disturbance**."
   ]
  },
  {
   "cell_type": "markdown",
   "metadata": {},
   "source": [
    "**Inflation expectations are adaptive** and given by\n",
    "\n",
    "$$ \\pi_{t}^{e} = \\phi\\pi_{t-1}^{e} + (1-\\phi)\\pi_{t-1}$$"
   ]
  },
  {
   "cell_type": "markdown",
   "metadata": {},
   "source": [
    "Together, this implies that the **SRAS-curve** can also be written as\n",
    "\n",
    "$$ \\pi_{t} = \\pi_{t-1} + \\gamma y_{t} - \\phi\\gamma y_{t-1} + s_{t} - \\phi s_{t-1} $$"
   ]
  },
  {
   "cell_type": "markdown",
   "metadata": {},
   "source": [
    "The **parameters** of the model are:"
   ]
  },
  {
   "cell_type": "code",
   "execution_count": 32,
   "metadata": {},
   "outputs": [],
   "source": [
    "par = {}\n",
    "\n",
    "par['alpha'] = 5.76\n",
    "par['h'] = 0.5\n",
    "par['b'] = 0.5\n",
    "par['phi'] = 0\n",
    "par['gamma'] = 0.075"
   ]
  },
  {
   "cell_type": "markdown",
   "metadata": {},
   "source": [
    "**Question 1:** Use the ``sympy`` module to solve for the equilibrium values of output, $y_t$, and inflation, $\\pi_t$, (where AD = SRAS) given the parameters ($\\alpha$, $h$, $b$, $\\alpha$, $\\gamma$) and $y_{t-1}$ , $\\pi_{t-1}$, $v_t$, $s_t$, and $s_{t-1}$.\n",
    "\n",
    "**Question 2:** Find and illustrate the equilibrium when $y_{t-1} = \\pi_{t-1} = v_t = s_t = s_{t-1} = 0$. Illustrate how the equilibrium changes when instead $v_t = 0.1$."
   ]
  },
  {
   "cell_type": "markdown",
   "metadata": {},
   "source": [
    "**Persistent disturbances:** Now, additionaly, assume that both the demand and the supply disturbances are AR(1) processes\n",
    "\n",
    "$$ v_{t} = \\delta v_{t-1} + x_{t} $$\n",
    "$$ s_{t} = \\omega s_{t-1} + c_{t} $$\n",
    "\n",
    "where $x_{t}$ is a **demand shock**, and $c_t$ is a **supply shock**. The **autoregressive parameters** are:"
   ]
  },
  {
   "cell_type": "code",
   "execution_count": 33,
   "metadata": {},
   "outputs": [],
   "source": [
    "par['delta'] = 0.80\n",
    "par['omega'] = 0.15"
   ]
  },
  {
   "cell_type": "markdown",
   "metadata": {},
   "source": [
    "**Question 3:** Starting from $y_{-1} = \\pi_{-1} = s_{-1} = 0$, how does the economy evolve for $x_0 = 0.1$, $x_t = 0, \\forall t > 0$ and $c_t = 0, \\forall t \\geq 0$?"
   ]
  },
  {
   "cell_type": "markdown",
   "metadata": {},
   "source": [
    "**Stochastic shocks:** Now, additionally, assume that $x_t$ and $c_t$ are stochastic and normally distributed\n",
    "\n",
    "$$ x_{t}\\sim\\mathcal{N}(0,\\sigma_{x}^{2}) $$\n",
    "$$ c_{t}\\sim\\mathcal{N}(0,\\sigma_{c}^{2}) $$\n",
    "\n",
    "The **standard deviations of the shocks** are:"
   ]
  },
  {
   "cell_type": "code",
   "execution_count": 34,
   "metadata": {},
   "outputs": [],
   "source": [
    "par['sigma_x'] = 3.492\n",
    "par['sigma_c'] = 0.2"
   ]
  },
  {
   "cell_type": "markdown",
   "metadata": {},
   "source": [
    "**Question 4:** Simulate the AS-AD model for 1,000 periods. Calculate the following five statistics:\n",
    "\n",
    "1. Variance of $y_t$, $var(y_t)$\n",
    "2. Variance of $\\pi_t$, $var(\\pi_t)$\n",
    "3. Correlation between $y_t$ and $\\pi_t$, $corr(y_t,\\pi_t)$\n",
    "4. Auto-correlation between $y_t$ and $y_{t-1}$, $corr(y_t,y_{t-1})$\n",
    "5. Auto-correlation between $\\pi_t$ and $\\pi_{t-1}$, $corr(\\pi_t,\\pi_{t-1})$"
   ]
  },
  {
   "cell_type": "markdown",
   "metadata": {},
   "source": [
    "**Question 5:** Plot how the correlation between $y_t$ and $\\pi_t$ changes with $\\phi$. Use a numerical optimizer or root finder to choose $\\phi\\in(0,1)$ such that the simulated correlation between $y_t$ and $\\pi_t$ comes close to 0.31. "
   ]
  },
  {
   "cell_type": "markdown",
   "metadata": {},
   "source": [
    "**Quesiton 6:** Use a numerical optimizer to choose $\\sigma_x>0$, $\\sigma_c>0$ and $\\phi\\in(0,1)$ to make the simulated statistics as close as possible to US business cycle data where:\n",
    "\n",
    "1. $var(y_t) = 1.64$\n",
    "2. $var(\\pi_t) = 0.21$\n",
    "3. $corr(y_t,\\pi_t) = 0.31$\n",
    "4. $corr(y_t,y_{t-1}) = 0.84$\n",
    "5. $corr(\\pi_t,\\pi_{t-1}) = 0.48$"
   ]
  },
  {
   "cell_type": "markdown",
   "metadata": {},
   "source": [
    "# Exchange economy"
   ]
  },
  {
   "cell_type": "markdown",
   "metadata": {},
   "source": [
    "Consider an **exchange economy** with\n",
    "\n",
    "1. 3 goods, $(x_1,x_2,x_3)$\n",
    "2. $N$ consumers indexed by \\\\( j \\in \\{1,2,\\dots,N\\} \\\\)\n",
    "3. Preferences are Cobb-Douglas with log-normally distributed coefficients\n",
    "\n",
    "    $$ \\begin{eqnarray*}\n",
    "    u^{j}(x_{1},x_{2},x_{3}) &=& \n",
    "    \\left(x_{1}^{\\beta_{1}^{j}}x_{2}^{\\beta_{2}^{j}}x_{3}^{\\beta_{3}^{j}}\\right)^{\\gamma}\\\\\n",
    "     &  & \\,\\,\\,\\beta_{i}^{j}=\\frac{\\alpha_{i}^{j}}{\\alpha_{1}^{j}+\\alpha_{2}^{j}+\\alpha_{3}^{j}} \\\\\n",
    "     &  & \\,\\,\\,\\boldsymbol{\\alpha}^{j}=(\\alpha_{1}^{j},\\alpha_{2}^{j},\\alpha_{3}^{j}) \\\\ \n",
    "     &  & \\,\\,\\,\\log(\\boldsymbol{\\alpha}^j) \\sim \\mathcal{N}(\\mu,\\Sigma) \\\\\n",
    "    \\end{eqnarray*} $$\n",
    "\n",
    "4. Endowments are exponentially distributed,\n",
    "\n",
    "$$\n",
    "\\begin{eqnarray*}\n",
    "\\boldsymbol{e}^{j} &=& (e_{1}^{j},e_{2}^{j},e_{3}^{j}) \\\\\n",
    " &  & e_i^j \\sim f, f(z;\\zeta) =  1/\\zeta \\exp(-z/\\zeta)\n",
    "\\end{eqnarray*}\n",
    "$$"
   ]
  },
  {
   "cell_type": "markdown",
   "metadata": {},
   "source": [
    "Let $p_3 = 1$ be the **numeraire**. The implied **demand functions** are:\n",
    "\n",
    "$$\n",
    "\\begin{eqnarray*}\n",
    "x_{i}^{\\star j}(p_{1},p_{2},\\boldsymbol{e}^{j})&=&\\beta^{j}_i\\frac{I^j}{p_{i}} \\\\\n",
    "\\end{eqnarray*}\n",
    "$$\n",
    "\n",
    "where consumer $j$'s income is\n",
    "\n",
    "$$I^j = p_1 e_1^j + p_2 e_2^j +p_3 e_3^j$$"
   ]
  },
  {
   "cell_type": "markdown",
   "metadata": {},
   "source": [
    "The **parameters** and **random preferences and endowments** are given by:"
   ]
  },
  {
   "cell_type": "code",
   "execution_count": 35,
   "metadata": {},
   "outputs": [],
   "source": [
    "# a. parameters\n",
    "N = 50000\n",
    "mu = np.array([3,2,1])\n",
    "Sigma = np.array([[0.25, 0, 0], [0, 0.25, 0], [0, 0, 0.25]])\n",
    "gamma = 0.8\n",
    "zeta = 1\n",
    "\n",
    "# b. random draws\n",
    "seed = 1986\n",
    "np.random.seed(seed)\n",
    "\n",
    "# preferences\n",
    "alphas = np.exp(np.random.multivariate_normal(mu, Sigma, size=N))\n",
    "betas = alphas/np.reshape(np.sum(alphas,axis=1),(N,1))\n",
    "\n",
    "# endowments\n",
    "e1 = np.random.exponential(zeta,size=N)\n",
    "e2 = np.random.exponential(zeta,size=N)\n",
    "e3 = np.random.exponential(zeta,size=N)"
   ]
  },
  {
   "cell_type": "markdown",
   "metadata": {},
   "source": [
    "**Question 1:** Plot the histograms of the budget shares for each good across agents.\n",
    "\n",
    "Consider the **excess demand functions:**\n",
    "\n",
    "$$ z_i(p_1,p_2) = \\sum_{j=1}^N x_{i}^{\\star j}(p_{1},p_{2},\\boldsymbol{e}^{j}) - e_i^j$$\n",
    "\n",
    "**Question 2:** Plot the excess demand functions."
   ]
  },
  {
   "cell_type": "markdown",
   "metadata": {},
   "source": [
    "**Quesiton 3:** Find the Walras-equilibrium prices, $(p_1,p_2)$, where both excess demands are (approximately) zero, e.g. by using the following tâtonnement process:\n",
    "\n",
    "1. Guess on $p_1 > 0$, $p_2 > 0$ and choose tolerance $\\epsilon > 0$ and adjustment aggressivity parameter, $\\kappa > 0$.\n",
    "2. Calculate $z_1(p_1,p_2)$ and $z_2(p_1,p_2)$.\n",
    "3. If $|z_1| < \\epsilon$ and $|z_2| < \\epsilon$ then stop.\n",
    "4. Else set $p_1 = p_1 + \\kappa \\frac{z_1}{N}$ and $p_2 = p_2 + \\kappa \\frac{z_2}{N}$ and return to step 2."
   ]
  },
  {
   "cell_type": "markdown",
   "metadata": {},
   "source": [
    "**Question 4:** Plot the distribution of utility in the Walras-equilibrium and calculate its mean and variance."
   ]
  },
  {
   "cell_type": "markdown",
   "metadata": {},
   "source": [
    "**Question 5:** Find the Walras-equilibrium prices if instead all endowments were distributed equally. Discuss the implied changes in the distribution of utility. Does the value of $\\gamma$ play a role for your conclusions?"
   ]
  },
  {
   "cell_type": "markdown",
   "metadata": {},
   "source": [
    "## **Answer 3**: Exchange economy"
   ]
  },
  {
   "cell_type": "markdown",
   "metadata": {},
   "source": [
    "### Question 3.1"
   ]
  },
  {
   "cell_type": "markdown",
   "metadata": {},
   "source": [
    "\"\n",
    "\n",
    "**Question 1:** Plot the histograms of the budget shares for each good across agents.\n",
    "\n",
    "\""
   ]
  },
  {
   "cell_type": "markdown",
   "metadata": {},
   "source": [
    "We see from the demand function that the budget shares are the betas, we take a look at them below."
   ]
  },
  {
   "cell_type": "code",
   "execution_count": 36,
   "metadata": {},
   "outputs": [
    {
     "name": "stdout",
     "output_type": "stream",
     "text": [
      "[[0.53104511 0.30693723 0.16201766]\n",
      " [0.50866997 0.4162364  0.07509363]\n",
      " [0.83317207 0.07722226 0.08960567]\n",
      " ...\n",
      " [0.63725404 0.22027742 0.14246854]\n",
      " [0.78205036 0.11988119 0.09806844]\n",
      " [0.65552751 0.24728801 0.09718448]]\n",
      "(50000, 3)\n",
      "<class 'numpy.ndarray'>\n"
     ]
    }
   ],
   "source": [
    "print(betas)\n",
    "print(betas.shape)\n",
    "print(type(betas))"
   ]
  },
  {
   "cell_type": "markdown",
   "metadata": {},
   "source": [
    "We have three columns in for each good, below we plot them as histograms."
   ]
  },
  {
   "cell_type": "code",
   "execution_count": 37,
   "metadata": {},
   "outputs": [
    {
     "data": {
      "text/plain": [
       "Text(0.5, 1.0, 'Good 3')"
      ]
     },
     "execution_count": 37,
     "metadata": {},
     "output_type": "execute_result"
    },
    {
     "data": {
      "image/png": "[encoded data removed]",
      "text/plain": [
       "<Figure size 864x576 with 3 Axes>"
      ]
     },
     "metadata": {
      "needs_background": "light"
     },
     "output_type": "display_data"
    }
   ],
   "source": [
    "fig = plt.figure(figsize=(12,8))\n",
    "ax1 = fig.add_subplot(1,3,1)\n",
    "ax2 = fig.add_subplot(1,3,2)\n",
    "ax3 = fig.add_subplot(1,3,3)\n",
    "\n",
    "ax1.hist(betas[:,0], bins=100)\n",
    "ax2.hist(betas[:,1], bins=100)\n",
    "ax3.hist(betas[:,2], bins=100)\n",
    "\n",
    "fig.suptitle('Histograms of the budget shares', fontsize=22)\n",
    "ax1.set_ylabel('Consumers', fontsize=18)\n",
    "ax1.set_title('Good 1', fontsize=16)\n",
    "ax2.set_title('Good 2', fontsize=16)\n",
    "ax3.set_title('Good 3', fontsize=16)"
   ]
  },
  {
   "cell_type": "markdown",
   "metadata": {},
   "source": [
    "### Question 3.2"
   ]
  },
  {
   "cell_type": "markdown",
   "metadata": {},
   "source": [
    "\"\n",
    "\n",
    "Consider the **excess demand functions:**\n",
    "\n",
    "$$ z_i(p_1,p_2) = \\sum_{j=1}^N x_{i}^{\\star j}(p_{1},p_{2},\\boldsymbol{e}^{j}) - e_i^j$$\n",
    "\n",
    "**Question 2:** Plot the excess demand functions.\n",
    "\n",
    "\""
   ]
  },
  {
   "cell_type": "markdown",
   "metadata": {},
   "source": [
    "In the next couple of questions a lot of the inspiration came from Problem set 2 and lecture notebook 4.\n",
    "\n",
    "First we define the demand functions..."
   ]
  },
  {
   "cell_type": "code",
   "execution_count": 38,
   "metadata": {},
   "outputs": [],
   "source": [
    "# demand functions\n",
    "def demand_good_1_func(betas,p1,p2,e1,e2,e3):\n",
    "    I = p1*e1+p2*e2+e3\n",
    "    return betas[:,0]*(I/p1)\n",
    "\n",
    "def demand_good_2_func(betas,p1,p2,e1,e2,e3):\n",
    "    I = p1*e1+p2*e2+e3\n",
    "    return betas[:,1]*(I/p2)\n",
    "\n",
    "def demand_good_3_func(betas,p1,p2,e1,e2,e3):\n",
    "    I = p1*e1+p2*e2+e3\n",
    "    return betas[:,1]*(I)\n",
    "\n",
    "# excess demand functions\n",
    "def excess_demand_good_1_func(betas,p1,p2,e1,e2,e3):\n",
    "    \n",
    "    # demand\n",
    "    demand = np.sum(demand_good_1_func(betas,p1,p2,e1,e2,e3))\n",
    "    \n",
    "    # supply\n",
    "    supply = np.sum(e1)\n",
    "    \n",
    "    # excess demand\n",
    "    excess_demand = demand-supply\n",
    "    \n",
    "    return excess_demand\n",
    "\n",
    "def excess_demand_good_2_func(betas,p1,p2,e1,e2,e3):\n",
    "    \n",
    "    # demand\n",
    "    demand = np.sum(demand_good_2_func(betas,p1,p2,e1,e2,e3))\n",
    "    \n",
    "    # supply\n",
    "    supply = np.sum(e2)\n",
    "    \n",
    "    # excess demand\n",
    "    excess_demand = demand-supply\n",
    "    \n",
    "    return excess_demand\n",
    "\n",
    "def excess_demand_good_3_func(betas,p1,p2,e1,e2,e3):\n",
    "    \n",
    "    # demand\n",
    "    demand = np.sum(demand_good_3_func(betas,p1,p2,e1,e2,e3))\n",
    "    \n",
    "    # supply\n",
    "    supply = np.sum(e3)\n",
    "    \n",
    "    # excess demand\n",
    "    excess_demand = demand-supply\n",
    "    \n",
    "    return excess_demand"
   ]
  },
  {
   "cell_type": "code",
   "execution_count": null,
   "metadata": {},
   "outputs": [],
   "source": []
  },
  {
   "cell_type": "code",
   "execution_count": 39,
   "metadata": {},
   "outputs": [
    {
     "data": {
      "application/vnd.jupyter.widget-view+json": {
       "model_id": "8595433323754204af914b9c7254be21",
       "version_major": 2,
       "version_minor": 0
      },
      "text/plain": [
       "interactive(children=(FloatSlider(value=1.0, description='$p_1$', max=10.0, min=1e-08, step=0.01), FloatSlider…"
      ]
     },
     "metadata": {},
     "output_type": "display_data"
    }
   ],
   "source": [
    "def excess_demand_good_1_fig(betas,p1,p2,e1,e2,e3):\n",
    "    \n",
    "    fig = plt.figure(dpi=100)\n",
    "    ax = fig.add_subplot(1,1,1)\n",
    "    ax.plot(excess_demand_good_1_func(betas,p1,p2,e1,e2,e3))\n",
    "    \n",
    "widgets.interact(excess_demand_good_1_fig,\n",
    "                 betas=widgets.fixed(betas),\n",
    "                 p1=widgets.FloatSlider(description='$p_1$',min=1e-8,max=10,step=0.01,value=1),\n",
    "                 p2=widgets.FloatSlider(description='$p_2$',min=1e-8,max=10,step=0.01,value=1),\n",
    "                 e1=widgets.fixed(e1),\n",
    "                 e2=widgets.fixed(e2),\n",
    "                 e3=widgets.fixed(e3)\n",
    "                );"
   ]
  },
  {
   "cell_type": "markdown",
   "metadata": {},
   "source": [
    "### Question 3.3"
   ]
  },
  {
   "cell_type": "markdown",
   "metadata": {},
   "source": [
    "\"\n",
    "\n",
    "**Quesiton 3:** Find the Walras-equilibrium prices, $(p_1,p_2)$, where both excess demands are (approximately) zero, e.g. by using the following tâtonnement process:\n",
    "\n",
    "1. Guess on $p_1 > 0$, $p_2 > 0$ and choose tolerance $\\epsilon > 0$ and adjustment aggressivity parameter, $\\kappa > 0$.\n",
    "2. Calculate $z_1(p_1,p_2)$ and $z_2(p_1,p_2)$.\n",
    "3. If $|z_1| < \\epsilon$ and $|z_2| < \\epsilon$ then stop.\n",
    "4. Else set $p_1 = p_1 + \\kappa \\frac{z_1}{N}$ and $p_2 = p_2 + \\kappa \\frac{z_2}{N}$ and return to step 2.\n",
    "\n",
    "\""
   ]
  },
  {
   "cell_type": "markdown",
   "metadata": {},
   "source": []
  },
  {
   "cell_type": "code",
   "execution_count": 40,
   "metadata": {},
   "outputs": [
    {
     "name": "stdout",
     "output_type": "stream",
     "text": [
      "  0: p1 =   1.48244575 -> excess demand -> 37100.58726327\n",
      "  0: p2 =   1.36726504 -> excess demand -> -14730.73305402\n",
      "  1: p1 =   1.55653496 -> excess demand -> 33340.14529067\n",
      "  1: p2 =   1.33743269 -> excess demand -> -13424.55499891\n",
      "  2: p1 =   1.62385091 -> excess demand -> 30292.17672587\n",
      "  2: p2 =   1.31034698 -> excess demand -> -12188.57297909\n",
      "  3: p1 =   1.68554955 -> excess demand -> 27764.38789401\n",
      "  3: p2 =   1.28586438 -> excess demand -> -11017.16969743\n",
      "  4: p1 =   1.74250814 -> excess demand -> 25631.36672052\n",
      "  4: p2 =   1.26384803 -> excess demand -> -9907.35535004\n",
      "    ...\n",
      "2500: p1 =   6.47576031 -> excess demand ->    13.10501492\n",
      "2500: p2 =   2.61136115 -> excess demand ->     4.88903084\n",
      "5000: p1 =   6.48996614 -> excess demand ->     0.08141568\n",
      "5000: p2 =   2.61666080 -> excess demand ->     0.03037275\n",
      "7500: p1 =   6.49005459 -> excess demand ->     0.00050799\n",
      "7500: p2 =   2.61669379 -> excess demand ->     0.00018951\n",
      "10000: p1 =   6.49005514 -> excess demand ->     0.00000317\n",
      "10000: p2 =   2.61669400 -> excess demand ->     0.00000118\n",
      "12351: p1 =   6.49005515 -> excess demand ->     0.00000003\n",
      "12351: p2 =   2.61669400 -> excess demand ->     0.00000001\n"
     ]
    }
   ],
   "source": [
    "# equilibrium function\n",
    "def find_equilibrium(betas,p1,p2,p3,e1,e2,e3,kappa=1/3,eps=1e-8,maxiter=50000):\n",
    "    \n",
    "    t = 0\n",
    "    while True:\n",
    "        \n",
    "        # excess demand\n",
    "        Z1 = excess_demand_good_1_func(betas,p1,p2,e1,e2,e3)\n",
    "        Z2 = excess_demand_good_2_func(betas,p1,p2,e1,e2,e3)\n",
    "        \n",
    "        # stop?\n",
    "        if (np.abs(Z1) < eps or np.abs(Z2) < eps) or t >= maxiter:\n",
    "            print(f'{t:3d}: p1 = {p1:12.8f} -> excess demand -> {Z1:14.8f}')\n",
    "            print(f'{t:3d}: p2 = {p2:12.8f} -> excess demand -> {Z2:14.8f}')\n",
    "            break\n",
    "        \n",
    "        # updata p1 and p2\n",
    "        p1 = p1 + kappa*Z1/betas.size\n",
    "        p2 = p2 + kappa*Z2/betas.size\n",
    "        \n",
    "        # return\n",
    "        if t < 5 or t%2500 == 0:\n",
    "            print(f'{t:3d}: p1 = {p1:12.8f} -> excess demand -> {Z1:14.8f}')\n",
    "            print(f'{t:3d}: p2 = {p2:12.8f} -> excess demand -> {Z2:14.8f}')\n",
    "        elif t == 5:\n",
    "            print ('    ...')\n",
    "        \n",
    "        t += 1\n",
    "    \n",
    "    return p1, p2\n",
    "\n",
    "# find equilibrium function\n",
    "p1 = 1.4\n",
    "p2 = 1.4\n",
    "p3 = 1\n",
    "kappa = 1/3\n",
    "eps = 1e-8\n",
    "p1,p2 = find_equilibrium(betas,p1,p2,p3,e1,e2,e3,kappa=kappa,eps=eps)"
   ]
  },
  {
   "cell_type": "code",
   "execution_count": 41,
   "metadata": {},
   "outputs": [
    {
     "name": "stdout",
     "output_type": "stream",
     "text": [
      "2.6768248062580824e-08 9.989889804273844e-09\n"
     ]
    },
    {
     "data": {
      "image/png": "[encoded data removed]",
      "text/latex": [
       "$$2.6768248062580824e-08$$"
      ],
      "text/plain": [
       "2.6768248062580824e-08"
      ]
     },
     "execution_count": 41,
     "metadata": {},
     "output_type": "execute_result"
    }
   ],
   "source": [
    "Z1 = excess_demand_good_1_func(betas,p1,p2,e1,e2,e3)\n",
    "Z2 = excess_demand_good_2_func(betas,p1,p2,e1,e2,e3)\n",
    "print(Z1,Z2)\n",
    "assert(np.abs(Z1) < 1e-5)\n",
    "assert(np.abs(Z2) < 1e-5)\n",
    "Z1"
   ]
  },
  {
   "cell_type": "markdown",
   "metadata": {},
   "source": [
    "### Question 3.4"
   ]
  },
  {
   "cell_type": "markdown",
   "metadata": {},
   "source": [
    "\"\n",
    "\n",
    "**Question 4:** Plot the distribution of utility in the Walras-equilibrium and calculate its mean and variance.\n",
    "\n",
    "\""
   ]
  },
  {
   "cell_type": "markdown",
   "metadata": {},
   "source": []
  },
  {
   "cell_type": "code",
   "execution_count": null,
   "metadata": {},
   "outputs": [],
   "source": []
  },
  {
   "cell_type": "markdown",
   "metadata": {},
   "source": [
    "### Question 3.5"
   ]
  },
  {
   "cell_type": "markdown",
   "metadata": {},
   "source": [
    "\"\n",
    "\n",
    "**Question 5:** Find the Walras-equilibrium prices if instead all endowments were distributed equally. Discuss the implied changes in the distribution of utility. Does the value of $\\gamma$ play a role for your conclusions?\n",
    "\n",
    "\""
   ]
  },
  {
   "cell_type": "markdown",
   "metadata": {},
   "source": []
  },
  {
   "cell_type": "code",
   "execution_count": null,
   "metadata": {},
   "outputs": [],
   "source": []
  }
 ],
 "metadata": {
  "kernelspec": {
   "display_name": "Python 3",
   "language": "python",
   "name": "python3"
  },
  "language_info": {
   "codemirror_mode": {
    "name": "ipython",
    "version": 3
   },
   "file_extension": ".py",
   "mimetype": "text/x-python",
   "name": "python",
   "nbconvert_exporter": "python",
   "pygments_lexer": "ipython3",
   "version": "3.7.1"
  },
  "toc-autonumbering": true
 },
 "nbformat": 4,
 "nbformat_minor": 2
}
