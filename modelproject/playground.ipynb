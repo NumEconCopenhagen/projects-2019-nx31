{
 "cells": [
  {
   "cell_type": "code",
   "execution_count": 41,
   "metadata": {},
   "outputs": [],
   "source": [
    "#from numpy import *\n",
    "#from matplotlib.pyplot import *\n",
    "#\n",
    "#def k(k_t, alpha, A, rho, n):\n",
    "#    k = (1-alpha)*A*k_t**alpha/(2+rho)*(1+n)\n",
    "#    return (1-alpha)*A*k_t**alpha/(2+rho)*(1+n)\n",
    "#\n",
    "#k_t = linspace(0, 1, 100)    \n",
    "#k = zeros(len(k_t))\n",
    "#for i in range(len(k_t)):\n",
    "#    k[i] = f(k_t[i])\n",
    "#\n",
    "#plot(k_t, k)\n",
    "#xlabel('k_t')\n",
    "#ylabel('k_t+1')\n",
    "#legend(['(1-alpha)*A*k_t**alpha/(2+rho)*(1+n)'])\n",
    "#axis([0, 1, 0, 0.5])\n",
    "#title('The Transition Curve')\n",
    "#show()"
   ]
  },
  {
   "cell_type": "code",
   "execution_count": 42,
   "metadata": {},
   "outputs": [],
   "source": [
    "import pickle\n",
    "import numpy as np\n",
    "\n",
    "from scipy.stats import norm # normal distribution\n",
    "\n",
    "%matplotlib inline\n",
    "import matplotlib.pyplot as plt\n",
    "import ipywidgets as widgets\n",
    "\n",
    "k_t = np.linspace(0, 1, 100)\n",
    "A = 1"
   ]
  },
  {
   "cell_type": "code",
   "execution_count": 43,
   "metadata": {},
   "outputs": [],
   "source": [
    "def k(k_t, alpha, A, rho, n):\n",
    "    #k = (1-alpha)*A*k_t**alpha/(2+rho)*(1+n)\n",
    "    return (1-alpha)*A*k_t**alpha/(2+rho)*(1+n)\n",
    "\n",
    "def interactive_k(alpha, rho, n):\n",
    "    k(k_t, alpha, A, rho, n)\n",
    "    \n",
    "    fig = plt.figure(dpi=100)\n",
    "    ax = fig.add_subplot(1,1,1)\n",
    "    ax.set_xlim([0,1]) # fixed x range\n",
    "    ax.set_ylim([0,0.5]) # fixed y range\n",
    "    plt.plot(k_t,k(k_t, alpha, A, rho, n))\n",
    "    return plt"
   ]
  },
  {
   "cell_type": "code",
   "execution_count": 44,
   "metadata": {},
   "outputs": [
    {
     "data": {
      "application/vnd.jupyter.widget-view+json": {
       "model_id": "0951e6d107e7473ab4464bdd5868b484",
       "version_major": 2,
       "version_minor": 0
      },
      "text/plain": [
       "interactive(children=(FloatSlider(value=0.3333333333333333, description='$alpha$', max=0.99, min=0.1, step=0.0…"
      ]
     },
     "metadata": {},
     "output_type": "display_data"
    }
   ],
   "source": [
    "widgets.interact(interactive_k,\n",
    "    alpha=widgets.FloatSlider(description=\"$alpha$\", min=0.1, max=0.99, step=0.01, value=1/3),\n",
    "    rho=widgets.FloatSlider(description=\"$rho$\", min=-0.99, max=1, step=0.01, value=0.04),\n",
    "    n=widgets.FloatSlider(description=\"$n$\", min=0.00, max=0.1, step=0.01, value=0.02),\n",
    ");"
   ]
  }
 ],
 "metadata": {
  "kernelspec": {
   "display_name": "Python 3",
   "language": "python",
   "name": "python3"
  },
  "language_info": {
   "codemirror_mode": {
    "name": "ipython",
    "version": 3
   },
   "file_extension": ".py",
   "mimetype": "text/x-python",
   "name": "python",
   "nbconvert_exporter": "python",
   "pygments_lexer": "ipython3",
   "version": "3.7.1"
  }
 },
 "nbformat": 4,
 "nbformat_minor": 2
}
