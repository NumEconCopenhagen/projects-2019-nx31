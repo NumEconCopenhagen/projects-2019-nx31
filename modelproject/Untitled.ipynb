{
 "cells": [
  {
   "cell_type": "code",
   "execution_count": 1,
   "metadata": {},
   "outputs": [],
   "source": [
    "import numpy as np\n",
    "import scipy as sp\n",
    "from scipy import linalg\n",
    "from scipy import optimize\n",
    "from scipy import interpolate\n",
    "import sympy as sm\n",
    "\n",
    "%matplotlib inline\n",
    "import matplotlib.pyplot as plt\n",
    "from matplotlib import cm\n",
    "from mpl_toolkits.mplot3d import Axes3D"
   ]
  },
  {
   "cell_type": "code",
   "execution_count": 2,
   "metadata": {},
   "outputs": [],
   "source": [
    "#Global definitions of parameters\n",
    "alpha = 1/3\n",
    "n = 0.02\n",
    "rho = 0.04\n",
    "A = 1\n",
    "delta = 1"
   ]
  },
  {
   "cell_type": "code",
   "execution_count": 3,
   "metadata": {},
   "outputs": [],
   "source": [
    "def c1_gen(w,s):\n",
    "    return w-s\n",
    "\n",
    "def c2_gen(r,s):\n",
    "    return (1+r)*s\n",
    "\n",
    "def utility(c1,c2,rho):\n",
    "    return np.log(c1)+(1/(1+rho))*np.log(c2)"
   ]
  },
  {
   "cell_type": "code",
   "execution_count": 4,
   "metadata": {},
   "outputs": [],
   "source": [
    "def output(K,L,alpha,A):\n",
    "    return A*(K**alpha)*(L**(1 - alpha))\n",
    "def profit(output,w,L,r,K,delta=1):\n",
    "    return output-w*L-(r+delta)*K"
   ]
  },
  {
   "cell_type": "code",
   "execution_count": 5,
   "metadata": {},
   "outputs": [],
   "source": [
    "#Solving the general model gives:\n",
    "def r(k,alpha,A,delta):\n",
    "    return alpha*A*k**(alpha-1)-delta\n",
    "def w(k,alpha,A):\n",
    "    return (1-alpha)*A*k**alpha\n",
    "def s(w,rho):\n",
    "    return w/(2+rho)"
   ]
  },
  {
   "cell_type": "code",
   "execution_count": 6,
   "metadata": {},
   "outputs": [
    {
     "name": "stdout",
     "output_type": "stream",
     "text": [
      "Interest Rate Steady State:  -0.5314262970545838\n",
      "Wages Steady State:  0.5622884435344996\n",
      "Savings Steady State:  0.27563158996789194\n",
      "Consumption 1 Steady State:  0.28665685356660764\n",
      "Consumption 2 Steady State:  0.12915371475998777\n",
      "Utility Steady State:  -3.217500176800699\n",
      "0.18135001783804433\n"
     ]
    },
    {
     "data": {
      "text/plain": [
       "False"
      ]
     },
     "execution_count": 6,
     "metadata": {},
     "output_type": "execute_result"
    }
   ],
   "source": [
    "#a: Guess\n",
    "k_ss = 0.6\n",
    "\n",
    "#b: Calculate r_ss and w_ss for guess\n",
    "r_ss = r(k_ss,alpha,A,delta)\n",
    "w_ss = w(k_ss,alpha,A)\n",
    "print('Interest Rate Steady State: ',r_ss)\n",
    "print('Wages Steady State: ',w_ss)\n",
    "\n",
    "#c: Solve household problem\n",
    "s_ss = s(w_ss,rho)\n",
    "\n",
    "print('Savings Steady State: ',s_ss)\n",
    "\n",
    "c1 = c1_gen(w_ss,s_ss)\n",
    "c2 = c2_gen(r_ss,s_ss)\n",
    "util = utility(c1,c2,rho)\n",
    "print('Consumption 1 Steady State: ', c1)\n",
    "print('Consumption 2 Steady State: ', c2)\n",
    "print('Utility Steady State: ', util)\n",
    "\n",
    "\n",
    "k_sst = ((1-alpha)/((2+rho)*(1+n)))**(1/(1-alpha))\n",
    "print(k_sst)\n",
    "\n",
    "k_ss-k_sst == 0"
   ]
  },
  {
   "cell_type": "code",
   "execution_count": 29,
   "metadata": {},
   "outputs": [
    {
     "name": "stdout",
     "output_type": "stream",
     "text": [
      "log(-s + w) + log(s*(r_t+1 + 1))/(rho + 1)\n",
      "Eq(s, -1/(-s + w) + 1/(s*(rho + 1)))\n"
     ]
    },
    {
     "data": {
      "image/png": "[encoded data removed]",
      "text/latex": [
       "$$\\frac{w}{\\rho + 2}$$"
      ],
      "text/plain": [
       "  w  \n",
       "─────\n",
       "ρ + 2"
      ]
     },
     "execution_count": 29,
     "metadata": {},
     "output_type": "execute_result"
    }
   ],
   "source": [
    "# CHECK IF WE CAN GET THIS TO WORK!\n",
    "\n",
    "sm.init_printing(use_unicode=True)\n",
    "\n",
    "K = sm.symbols('K')\n",
    "L = sm.symbols('L')\n",
    "A = sm.symbols('A')\n",
    "alpha = sm.symbols('alpha')\n",
    "delta = sm.symbols('delta')\n",
    "rho = sm.symbols('rho')\n",
    "s = sm.symbols('s')\n",
    "n = sm.symbols('n')\n",
    "U = sm.symbols('U')\n",
    "w = sm.symbols('w')\n",
    "r_plus = sm.symbols('r_t+1')\n",
    "\n",
    "\n",
    "\n",
    "U = sm.log(w-s)+(1/(1+rho))*sm.log((1+r_plus)*s)\n",
    "print(U)\n",
    "\n",
    "u1 = sm.diff(U,s)\n",
    "\n",
    "u = sm.Eq(s,u1)\n",
    "u\n",
    "print(u)\n",
    "usolve = sm.solve(-1/(-s + w) + 1/(s*(rho + 1)),s)[0]\n",
    "\n",
    "usolve"
   ]
  },
  {
   "cell_type": "code",
   "execution_count": null,
   "metadata": {},
   "outputs": [],
   "source": []
  }
 ],
 "metadata": {
  "kernelspec": {
   "display_name": "Python 3",
   "language": "python",
   "name": "python3"
  },
  "language_info": {
   "codemirror_mode": {
    "name": "ipython",
    "version": 3
   },
   "file_extension": ".py",
   "mimetype": "text/x-python",
   "name": "python",
   "nbconvert_exporter": "python",
   "pygments_lexer": "ipython3",
   "version": "3.6.8"
  }
 },
 "nbformat": 4,
 "nbformat_minor": 2
}
