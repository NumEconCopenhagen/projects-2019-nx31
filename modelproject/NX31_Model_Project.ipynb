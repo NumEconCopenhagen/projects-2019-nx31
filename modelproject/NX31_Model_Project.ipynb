{
 "cells": [
  {
   "cell_type": "markdown",
   "metadata": {},
   "source": [
    "# NX31 Model Project"
   ]
  },
  {
   "cell_type": "markdown",
   "metadata": {},
   "source": [
    "___\n",
    "DELETE BEFORE HANDIN!\n",
    "\n",
    "Notes, and things to remember before handing in!\n",
    "\n",
    "- notes in parentheses\n",
    "- ( lav docstrings til funktionerne! )\n",
    "- (import packages - erase those we do not use)\n",
    "- Clear difference between numerical variables and analytical variable for math eg. n_v vs. n_a\n",
    "___"
   ]
  },
  {
   "cell_type": "markdown",
   "metadata": {},
   "source": [
    "# Introduction"
   ]
  },
  {
   "cell_type": "markdown",
   "metadata": {},
   "source": [
    "We will examine the overlapping generations model (OLG), first the general OLG model with consumption and savings, second will expand with one extensions, as the Fully Funded (FF) method where the young generation pay a tax on their wages.\n",
    "In the OLG model there is typically two generations, a generation working and a generation living on pension.\n",
    "The FF model is like a state pension where the young generation pays to the current retired generation. When the young generation retires, the new young generation will pay a tax and thus fund the pensionscheme."
   ]
  },
  {
   "cell_type": "code",
   "execution_count": 1,
   "metadata": {},
   "outputs": [],
   "source": [
    "#Loads packages\n",
    "import numpy as np\n",
    "import scipy as sp\n",
    "from scipy import linalg\n",
    "from scipy import optimize\n",
    "from scipy import interpolate\n",
    "import sympy as sm\n",
    "import OLGModel\n",
    "\n",
    "import numecon_linalg\n",
    "\n",
    "%matplotlib inline\n",
    "import matplotlib.pyplot as plt\n",
    "from matplotlib import cm\n",
    "from mpl_toolkits.mplot3d import Axes3D"
   ]
  },
  {
   "cell_type": "markdown",
   "metadata": {},
   "source": [
    "# The General OLG model:"
   ]
  },
  {
   "cell_type": "markdown",
   "metadata": {},
   "source": [
    "As mentioned, we start with our general OLG model with just savings and consumption. This model looks as shown below."
   ]
  },
  {
   "cell_type": "markdown",
   "metadata": {},
   "source": [
    "Population growth or Labor growth:\n",
    "\n",
    "\\begin{eqnarray*}\n",
    "L_t=(1+n) L_{t-1}\n",
    "\\end{eqnarray*}\n",
    "\n",
    "Utility:\n",
    "\n",
    "\\begin{eqnarray*}\n",
    "U_t=ln⁡(c_{1,t} )+ \\frac{1}{(1+\\rho)}ln⁡(c_{2,t+1} )\n",
    "\\end{eqnarray*}\n",
    "\n",
    "Contraints:\n",
    "\n",
    "\\begin{eqnarray*}\n",
    "ρ>-1\n",
    "\\end{eqnarray*}\n",
    "\\begin{eqnarray*}\n",
    "c_{1,t}=w_t-s_t\n",
    "\\end{eqnarray*}\n",
    "\\begin{eqnarray*}\n",
    "c_{2,t+1}=(1+r_{t+1} ) s_t\n",
    "\\end{eqnarray*}\n",
    "\n",
    "where\n",
    "\n",
    "- $L$ is population\n",
    "- $n$ is the rate of population\n",
    "- $U$ is lifetime utility\n",
    "- $c_1$ is consumption as young\n",
    "- $c_2$ is consumption as old\n",
    "- $\\rho$ is the discount rate on consumption\n",
    "- $w$ is wage\n",
    "- $s$ is savings\n",
    "- $r$ is the interest rate"
   ]
  },
  {
   "cell_type": "markdown",
   "metadata": {},
   "source": [
    "## The firm problem"
   ]
  },
  {
   "cell_type": "markdown",
   "metadata": {},
   "source": [
    "The firms optimization problem will be the same in all extensions of the OLG model."
   ]
  },
  {
   "cell_type": "markdown",
   "metadata": {},
   "source": [
    "The output function is given by:\n",
    "\n",
    "\\begin{eqnarray*}\n",
    "F(K_t,L_t)=Y_t=A(K_t)^\\alpha(L_t)^{1-\\alpha}\n",
    "\\end{eqnarray*}\n",
    "\n",
    "The profit function is given by:\n",
    "\n",
    "\\begin{eqnarray*}\n",
    "\\Pi(K_t,L_t)=F(K_t,L_t)-w_tL_t-(r_t+\\delta)K_t\n",
    "\\end{eqnarray*}\n",
    "\n",
    "\n",
    "\n",
    "\n",
    "- $Y$ is output\n",
    "- $A$ is total factor productivity (TFP)\n",
    "- $K$ is capital\n",
    "- $L$ is population / labor force\n",
    "- $\\alpha$ is the share of capital\n",
    "- $\\Pi$ is profit\n",
    "- $w$ is wage\n",
    "- $r$ is the real interest rate\n",
    "- $\\delta$ is the degree of depreciation\n"
   ]
  },
  {
   "cell_type": "markdown",
   "metadata": {},
   "source": [
    "We will calculate our marginal products, r and w,  using the sympy package. We start off by defining variables as symbols."
   ]
  },
  {
   "cell_type": "code",
   "execution_count": 2,
   "metadata": {},
   "outputs": [],
   "source": [
    "# Enables sympy to write functions as math\n",
    "sm.init_printing(use_unicode=True)"
   ]
  },
  {
   "cell_type": "code",
   "execution_count": 3,
   "metadata": {},
   "outputs": [],
   "source": [
    "# Defines variables for sympy\n",
    "K = sm.symbols('K')\n",
    "L = sm.symbols('L')\n",
    "A = sm.symbols('A')\n",
    "alpha = sm.symbols('alpha')\n",
    "delta = sm.symbols('delta')\n",
    "rho = sm.symbols('rho')\n",
    "w = sm.symbols('w')\n",
    "r = sm.symbols('r')\n",
    "y = sm.symbols('y')\n",
    "n = sm.symbols('n')\n",
    "k = sm.symbols('k')\n",
    "Pi = sm.symbols('Pi')\n",
    "s = sm.symbols('s')\n",
    "U = sm.symbols('U')\n",
    "r_plus = sm.symbols('r_t+1')"
   ]
  },
  {
   "cell_type": "markdown",
   "metadata": {},
   "source": [
    "Now that the symbols are defined, we now setup the functions and solve using the sympy package."
   ]
  },
  {
   "cell_type": "code",
   "execution_count": 4,
   "metadata": {},
   "outputs": [
    {
     "name": "stdout",
     "output_type": "stream",
     "text": [
      "A*K**alpha*L**(-alpha + 1) - K*(delta + r) - L*w\n",
      "A*K**alpha*L**(-alpha + 1)*alpha/K - delta - r\n",
      "A*K**alpha*L**(-alpha + 1)*(-alpha + 1)/L - w\n",
      "A*K**alpha*L*L**(-alpha)*alpha/K - delta\n",
      "-A*K**alpha*L**(-alpha)*(alpha - 1)\n",
      "r = (A*K**alpha*L*L**(-alpha)*alpha/K - delta)\n",
      "w = (-A*K**alpha*L**(-alpha)*(alpha - 1))\n"
     ]
    }
   ],
   "source": [
    "# Solves the firm problem and finds r and w\n",
    "Pi = A*(K**alpha)*(L**(1-alpha))-w*L-(r+delta)*K\n",
    "print(Pi)\n",
    "f1 = sm.diff(Pi,K)\n",
    "f2 = sm.diff(Pi,L)\n",
    "print(f1)\n",
    "print(f2)\n",
    "f1solve = sm.solve(A*K**alpha*L**(-alpha + 1)*alpha/K - delta - r, r)[0]\n",
    "f2solve = sm.solve(A*K**alpha*L**(-alpha + 1)*(-alpha + 1)/L - w, w)[0]\n",
    "print(f1solve)\n",
    "print(f2solve)\n",
    "print(f'r = (A*K**alpha*L*L**(-alpha)*alpha/K - delta)')\n",
    "print(f'w = (-A*K**alpha*L**(-alpha)*(alpha - 1))')"
   ]
  },
  {
   "cell_type": "code",
   "execution_count": 5,
   "metadata": {},
   "outputs": [
    {
     "data": {
      "image/png": "[encoded data removed]",
      "text/latex": [
       "$$\\frac{A \\alpha}{K} K^{\\alpha} L^{- \\alpha + 1} - \\delta - r$$"
      ],
      "text/plain": [
       "   α  -α + 1          \n",
       "A⋅K ⋅L      ⋅α        \n",
       "────────────── - δ - r\n",
       "      K               "
      ]
     },
     "execution_count": 5,
     "metadata": {},
     "output_type": "execute_result"
    }
   ],
   "source": [
    "f1"
   ]
  },
  {
   "cell_type": "code",
   "execution_count": 6,
   "metadata": {},
   "outputs": [
    {
     "data": {
      "image/png": "[encoded data removed]",
      "text/latex": [
       "$$\\frac{A K^{\\alpha}}{L} L^{- \\alpha + 1} \\left(- \\alpha + 1\\right) - w$$"
      ],
      "text/plain": [
       "   α  -α + 1             \n",
       "A⋅K ⋅L      ⋅(-α + 1)    \n",
       "───────────────────── - w\n",
       "          L              "
      ]
     },
     "execution_count": 6,
     "metadata": {},
     "output_type": "execute_result"
    }
   ],
   "source": [
    "f2"
   ]
  },
  {
   "cell_type": "code",
   "execution_count": 7,
   "metadata": {},
   "outputs": [
    {
     "data": {
      "image/png": "[encoded data removed]",
      "text/latex": [
       "$$\\frac{A L}{K} K^{\\alpha} L^{- \\alpha} \\alpha - \\delta$$"
      ],
      "text/plain": [
       "   α    -α      \n",
       "A⋅K ⋅L⋅L  ⋅α    \n",
       "──────────── - δ\n",
       "     K          "
      ]
     },
     "execution_count": 7,
     "metadata": {},
     "output_type": "execute_result"
    }
   ],
   "source": [
    "f1solve"
   ]
  },
  {
   "cell_type": "code",
   "execution_count": 8,
   "metadata": {},
   "outputs": [
    {
     "data": {
      "image/png": "[encoded data removed]",
      "text/latex": [
       "$$- A K^{\\alpha} L^{- \\alpha} \\left(\\alpha - 1\\right)$$"
      ],
      "text/plain": [
       "    α  -α        \n",
       "-A⋅K ⋅L  ⋅(α - 1)"
      ]
     },
     "execution_count": 8,
     "metadata": {},
     "output_type": "execute_result"
    }
   ],
   "source": [
    "f2solve"
   ]
  },
  {
   "cell_type": "markdown",
   "metadata": {},
   "source": [
    "Now that we have the marginal products of capital and labors. We are interested in having the results giving with capital pr. capita, $k$.\n",
    "\n",
    "The marginal products of capital (r) and labor (w) can be written as.\n",
    "\n",
    "\\begin{eqnarray*}\n",
    "r_t = \\alpha Ak_t^{\\alpha-1}-\\delta\n",
    "\\end{eqnarray*}\n",
    "\n",
    "\\begin{eqnarray*}\n",
    "w_t = (1-\\alpha) Ak_t^{\\alpha}\n",
    "\\end{eqnarray*}"
   ]
  },
  {
   "cell_type": "markdown",
   "metadata": {},
   "source": [
    "## The household problem"
   ]
  },
  {
   "cell_type": "markdown",
   "metadata": {},
   "source": [
    "Next we will have to solve the household problem, by finding a expression for savings, $s$. Below we once again use the sympy package to solve the household problem and thus finds the savings rate."
   ]
  },
  {
   "cell_type": "code",
   "execution_count": 9,
   "metadata": {},
   "outputs": [
    {
     "name": "stdout",
     "output_type": "stream",
     "text": [
      "Eq(s, -1/(-s + w) + 1/(s*(rho + 1)))\n",
      "w/(rho + 2)\n",
      "s = w/(rho + 2)\n"
     ]
    }
   ],
   "source": [
    "# Solve the household problem and find s\n",
    "U = sm.log(w-s)+(1/(1+rho))*sm.log((1+r_plus)*s)\n",
    "U_d = sm.diff(U,s)\n",
    "u = sm.Eq(s,U_d)\n",
    "print(u)\n",
    "usolve = sm.solve(-1/(-s + w) + 1/(s*(rho + 1)),s)[0]\n",
    "print(usolve)\n",
    "print(f's = w/(rho + 2)')"
   ]
  },
  {
   "cell_type": "markdown",
   "metadata": {},
   "source": [
    "## Finding steady state"
   ]
  },
  {
   "cell_type": "markdown",
   "metadata": {},
   "source": [
    "In order to reach a steady state for $k$, we have to setup the transitions curve for capital. Below we use the model and the results we have found, to reach an expression for steady state $k$.\n",
    "\n",
    "The aggregated solution in the OLG model is defined as\n",
    "\\begin{eqnarray*}\n",
    "K_{t+1}=K_t (1-δ)+S_{1,t}+S_{2,t+1}, S_{2,t+1}≡-(1-δ) K_t=0\t\n",
    "\\end{eqnarray*}\n",
    "Because there are no savings in second period and we have assumed full depreciation we get\n",
    "\\begin{eqnarray*}\n",
    "K_{t+1}=S_{1,t}=s_t L_t\n",
    "\\end{eqnarray*}\n",
    "Now we set up the transition curve\n",
    "\\begin{eqnarray*}\n",
    "\\frac{K_{t+1}}{L_{t+1}} =k_{t+1}=s_t  \\frac{L_t}{L_{t+1}} =s_t  \\frac{L_t}{(L_t (1+n) )}=\\frac{s_t}{(1+n)}=\\frac{w_t}{(2+ρ)}  \\frac{1}{(1+n)}=\\frac{(1-α)Ak_t^α}{(2+ρ)(1+n)} \n",
    "\\end{eqnarray*}\n",
    "\n",
    "Next up we solve it using sympy, and find en expression for steady state $k$"
   ]
  },
  {
   "cell_type": "code",
   "execution_count": 10,
   "metadata": {},
   "outputs": [
    {
     "data": {
      "image/png": "[encoded data removed]",
      "text/latex": [
       "$$\\left(\\frac{A \\left(- \\alpha + 1\\right)}{n \\rho + 2 n + \\rho + 2}\\right)^{- \\frac{1}{\\alpha - 1}}$$"
      ],
      "text/plain": [
       "                    -1  \n",
       "                   ─────\n",
       "                   α - 1\n",
       "⎛    A⋅(-α + 1)   ⎞     \n",
       "⎜─────────────────⎟     \n",
       "⎝n⋅ρ + 2⋅n + ρ + 2⎠     "
      ]
     },
     "execution_count": 10,
     "metadata": {},
     "output_type": "execute_result"
    }
   ],
   "source": [
    "# Solves transition curve to find SS k\n",
    "ss = sm.Eq(k,(((1-alpha)*A*(k**alpha))/((2+rho)*(1+n))))\n",
    "kss = sm.solve(ss,k)[0]\n",
    "kss"
   ]
  },
  {
   "cell_type": "markdown",
   "metadata": {},
   "source": [
    "### Analytical solution"
   ]
  },
  {
   "cell_type": "code",
   "execution_count": 11,
   "metadata": {},
   "outputs": [],
   "source": [
    "#Creates SS function for k\n",
    "ss_func = sm.lambdify((alpha,n,rho,A),kss)"
   ]
  },
  {
   "cell_type": "code",
   "execution_count": 12,
   "metadata": {},
   "outputs": [
    {
     "data": {
      "image/png": "[encoded data removed]",
      "text/latex": [
       "$$0.18135001783804433$$"
      ],
      "text/plain": [
       "0.18135001783804433"
      ]
     },
     "execution_count": 12,
     "metadata": {},
     "output_type": "execute_result"
    }
   ],
   "source": [
    "# Solves SS for k, given input\n",
    "ss_func(1/3,0.02,0.04,1)"
   ]
  },
  {
   "cell_type": "markdown",
   "metadata": {},
   "source": [
    "### Numerical solution"
   ]
  },
  {
   "cell_type": "code",
   "execution_count": 13,
   "metadata": {},
   "outputs": [],
   "source": [
    "# Defines global values for parameters\n",
    "alpha_v = 1/3\n",
    "n_v = 0.02\n",
    "rho_v = 0.04\n",
    "A_v = 1"
   ]
  },
  {
   "cell_type": "code",
   "execution_count": 14,
   "metadata": {},
   "outputs": [
    {
     "data": {
      "text/plain": [
       "      converged: True\n",
       "           flag: 'converged'\n",
       " function_calls: 8\n",
       "     iterations: 7\n",
       "           root: 0.18135001783804428"
      ]
     },
     "execution_count": 14,
     "metadata": {},
     "output_type": "execute_result"
    }
   ],
   "source": [
    "obj_kss = lambda kss: kss - ((1-alpha_v)*A_v*(kss**alpha_v))/((2+rho_v)*(1+n_v))\n",
    "result = optimize.root_scalar(obj_kss,bracket=[0.1,100],method='brentq')\n",
    "result"
   ]
  },
  {
   "cell_type": "code",
   "execution_count": 15,
   "metadata": {},
   "outputs": [
    {
     "name": "stdout",
     "output_type": "stream",
     "text": [
      "Analytical solution is: 0.181\n",
      "Numerical solution is: 0.181\n"
     ]
    }
   ],
   "source": [
    "print(f'Analytical solution is: {ss_func(alpha_v,n_v,rho_v,A_v):.3f}')\n",
    "print(f'Numerical solution is: {result.root:.3f}')"
   ]
  },
  {
   "cell_type": "markdown",
   "metadata": {},
   "source": [
    "## Visualization"
   ]
  },
  {
   "cell_type": "markdown",
   "metadata": {},
   "source": [
    "### Interactive Figures"
   ]
  },
  {
   "cell_type": "markdown",
   "metadata": {},
   "source": [
    "Below we plot the interactive figures showing the transition curve"
   ]
  },
  {
   "cell_type": "code",
   "execution_count": 16,
   "metadata": {},
   "outputs": [
    {
     "data": {
      "application/vnd.jupyter.widget-view+json": {
       "model_id": "8495075f2b6c48d587426f712b68eba2",
       "version_major": 2,
       "version_minor": 0
      },
      "text/plain": [
       "interactive(children=(FloatSlider(value=0.33, continuous_update=False, description='$\\\\alpha$', max=0.99, min=…"
      ]
     },
     "metadata": {},
     "output_type": "display_data"
    }
   ],
   "source": [
    "# Transitions kurver\n",
    "OLGModel.interactive_transition_curve()"
   ]
  },
  {
   "cell_type": "markdown",
   "metadata": {},
   "source": [
    "# NOTES !"
   ]
  },
  {
   "cell_type": "markdown",
   "metadata": {},
   "source": [
    "a: Guess on a k_ss, could be 1.6, or atleast lets start with that.\n",
    "b: Calculate r_ss and w_ss\n",
    "c: Solve the household problem\n",
    "d: Calculate S (for the young)\n",
    "e: k_sst (true) = s/1-n\n",
    "f: Visualize your guesses\n",
    "\n",
    "\n",
    "The true is the k_ss at the 45 degree line\n",
    "\n",
    "g: k_sst-k_ss = 0\n",
    "\n",
    "Tilbage til punkt a hvis nr. g ikke passer."
   ]
  },
  {
   "cell_type": "code",
   "execution_count": 23,
   "metadata": {},
   "outputs": [],
   "source": [
    "##a: Guess\n",
    "#k_ss = 1\n",
    "#delta_v=1\n",
    "#r_ss = sm.symbols('r_ss')\n",
    "#w_ss = sm.symbols('w_ss')\n",
    "#\n",
    "#def r(k,alpha,A,delta):\n",
    "#    return alpha*A*k**(alpha-1)-delta\n",
    "#def w(k,alpha,A):\n",
    "#    return (1-alpha)*A*k**alpha\n",
    "#def c1_gen(w,s):\n",
    "#    return w-s\n",
    "#def c2_gen(r,s):\n",
    "#    return (1+r)*s\n",
    "#def utility(c1,c2,rho_v):\n",
    "#    rho_v>-1\n",
    "#    return np.log(c1) + (1/(1+rho_v))*np.log(c2)\n",
    "#\n",
    "##b: Calculate r_ss and w_ss for guess\n",
    "#r_ss = r(k_ss,alpha_v,A_v,delta_v)\n",
    "#w_ss = w(k_ss,alpha_v,A_v)\n",
    "#print('Interest Rate Steady State: ',r_ss)\n",
    "#print('Wages Steady State: ',w_ss)\n",
    "#\n",
    "##c: Solve household problem\n",
    "#s_ss = w_ss/(2+rho_v)\n",
    "#\n",
    "#print('Savings Steady State: ',s_ss)\n",
    "#\n",
    "#c1 = c1_gen(w_ss,s_ss)\n",
    "#c2 = c2_gen(r_ss,s_ss)\n",
    "#util = utility(c1,c2,rho_v)\n",
    "#print('Consumption 1 Steady State: ', c1)\n",
    "#print('Consumption 2 Steady State: ', c2)\n",
    "#print('Utility Steady State: ', util)\n",
    "#\n",
    "#\n",
    "#k_sst = ((1-alpha_v)/((2+rho_v)*(1+n_v)))**(1/(1-alpha_v))\n",
    "#print(k_sst)\n",
    "#\n",
    "#k_ss-k_sst == 0"
   ]
  },
  {
   "cell_type": "markdown",
   "metadata": {},
   "source": [
    "### functions "
   ]
  },
  {
   "cell_type": "code",
   "execution_count": 18,
   "metadata": {},
   "outputs": [],
   "source": [
    "def output(K,L,alpha,A):\n",
    "    return A*(K**alpha)*(L**(1 - alpha))\n",
    "def profit(output,w,L,r,K,delta=1):\n",
    "    return output-w*L-(r+delta)*K"
   ]
  },
  {
   "cell_type": "code",
   "execution_count": 19,
   "metadata": {},
   "outputs": [],
   "source": [
    "#Solving the general model gives:\n",
    "def r_payg(k,alpha,A,delta):\n",
    "    return alpha*A*k**(alpha-1)-delta\n",
    "def w_payg(k,alpha,A):\n",
    "    return (1-alpha)*A*k**alpha"
   ]
  },
  {
   "cell_type": "markdown",
   "metadata": {},
   "source": [
    "PAYG OLG model\n",
    "\n",
    "Utility...\n",
    "\n",
    "\\begin{eqnarray*}\n",
    "U_t=ln⁡(c_{1,t} )+ \\frac{1}{(1+\\rho)}ln⁡(c_{2,t+1} )\n",
    "\\end{eqnarray*}\n",
    "\n",
    "s.t.\n",
    "\n",
    "\\begin{eqnarray*}\n",
    "ρ>-1\n",
    "\\end{eqnarray*}\n",
    "\\begin{eqnarray*}\n",
    "c_{1,t}=w_t(1-d)-s_t\n",
    "\\end{eqnarray*}\n",
    "\\begin{eqnarray*}\n",
    "c_{2,t+1}=(1+r_{t+1} ) s_t + w_{t+1}d(1+n)\n",
    "\\end{eqnarray*}\n",
    "\n",
    "where\n",
    "\n",
    "- $L$ is population\n",
    "- $n$ is the rate of population\n",
    "- $U$ is lifetime utility\n",
    "- $c_1$ is consumption as young\n",
    "- $c_2$ is consumption as old\n",
    "- $\\rho$ is the discount rate\n",
    "- $w$ is wage\n",
    "- $s$ is savings\n",
    "- $r$ is the interest rate"
   ]
  },
  {
   "cell_type": "code",
   "execution_count": 20,
   "metadata": {},
   "outputs": [],
   "source": [
    "def c1_payg(w,s,d):\n",
    "    return w(1-d)-s\n",
    "\n",
    "def c2_payg(r,s,w,d,n):\n",
    "    return (1+r)*s+wd(1+n)\n",
    "\n",
    "d = 0.12"
   ]
  },
  {
   "cell_type": "markdown",
   "metadata": {},
   "source": [
    "FF model\n",
    "\n",
    "Utility...\n",
    "\n",
    "\\begin{eqnarray*}\n",
    "U_t=ln⁡(c_{1,t} )+ \\frac{1}{(1+\\rho)}ln⁡(c_{2,t+1} )\n",
    "\\end{eqnarray*}\n",
    "\n",
    "s.t.\n",
    "\n",
    "\\begin{eqnarray*}\n",
    "ρ>-1\n",
    "\\end{eqnarray*}\n",
    "\\begin{eqnarray*}\n",
    "c_{1,t}=w_t(1-\\tau)-s_t\n",
    "\\end{eqnarray*}\n",
    "\\begin{eqnarray*}\n",
    "c_{2,t+1}=(1+r_{t+1} ) s_t + \\tau(1+r_{t+1})w_t\n",
    "\\end{eqnarray*}\n",
    "\n",
    "where\n",
    "\n",
    "- $L$ is population\n",
    "- $n$ is the rate of population\n",
    "- $U$ is lifetime utility\n",
    "- $c_1$ is consumption as young\n",
    "- $c_2$ is consumption as old\n",
    "- $\\rho$ is the discount rate\n",
    "- $w$ is wage\n",
    "- $s$ is savings\n",
    "- $r$ is the interest rate"
   ]
  },
  {
   "cell_type": "code",
   "execution_count": 21,
   "metadata": {},
   "outputs": [],
   "source": [
    "def c1_ff(w,s,tau):\n",
    "    return w(1-tau)-s\n",
    "\n",
    "def c2_ff(r,s,tau,w):\n",
    "    return (1+r)*s+tau*(1+r)*w\n",
    "\n",
    "tau = 0.13"
   ]
  },
  {
   "cell_type": "code",
   "execution_count": 22,
   "metadata": {},
   "outputs": [],
   "source": [
    "def c1_gen(w,s):\n",
    "    return w-s\n",
    "\n",
    "def c2_gen(r,s):\n",
    "    return (1+r)*s\n",
    "\n",
    "def utility(c1,c2,rho):\n",
    "    rho>-1\n",
    "    return np.log(c1)+(1/(1+rho))*np.log(c2)"
   ]
  }
 ],
 "metadata": {
  "kernelspec": {
   "display_name": "Python 3",
   "language": "python",
   "name": "python3"
  },
  "language_info": {
   "codemirror_mode": {
    "name": "ipython",
    "version": 3
   },
   "file_extension": ".py",
   "mimetype": "text/x-python",
   "name": "python",
   "nbconvert_exporter": "python",
   "pygments_lexer": "ipython3",
   "version": "3.6.8"
  }
 },
 "nbformat": 4,
 "nbformat_minor": 2
}
