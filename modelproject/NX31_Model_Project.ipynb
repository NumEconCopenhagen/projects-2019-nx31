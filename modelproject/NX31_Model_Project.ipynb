{
 "cells": [
  {
   "cell_type": "markdown",
   "metadata": {},
   "source": [
    "# NX31 Model Project"
   ]
  },
  {
   "cell_type": "markdown",
   "metadata": {},
   "source": [
    "___\n",
    "DELETE !\n",
    "\n",
    "Notes, and things to remember before handing in!\n",
    "\n",
    "- notes in parentheses\n",
    "- \n",
    "___"
   ]
  },
  {
   "cell_type": "markdown",
   "metadata": {},
   "source": [
    "# Introduction"
   ]
  },
  {
   "cell_type": "markdown",
   "metadata": {},
   "source": [
    "(import packages - erase those we do not use)"
   ]
  },
  {
   "cell_type": "markdown",
   "metadata": {},
   "source": [
    "We will examine the overlapping generations model (OLG), first the basic OLG model with consumption and savings, second will expand with two extensions, the pay as you go (PAYG) method and the fully funded (FF) method.\n",
    "In the OLG model there is typical two generation, a generation working and a generation living on pension.\n",
    "The PAYG is similar to state pension where the young generation pay a tax and this tax is used to fund the pension for the old generation and the FF model is more like a private pension savings account, where the young generation save for when they retire."
   ]
  },
  {
   "cell_type": "code",
   "execution_count": 1,
   "metadata": {},
   "outputs": [],
   "source": [
    "import numpy as np\n",
    "import scipy as sp\n",
    "from scipy import linalg\n",
    "from scipy import optimize\n",
    "from scipy import interpolate\n",
    "import sympy as sm\n",
    "import math\n",
    "import OLGModel\n",
    "\n",
    "import numecon_linalg\n",
    "\n",
    "%matplotlib inline\n",
    "import matplotlib.pyplot as plt\n",
    "from matplotlib import cm\n",
    "from mpl_toolkits.mplot3d import Axes3D"
   ]
  },
  {
   "cell_type": "markdown",
   "metadata": {},
   "source": [
    "As mentioned, we start with our general OLG model with savings. This model looks as shown below.\n",
    "\n",
    "General OLG model with savings:"
   ]
  },
  {
   "cell_type": "markdown",
   "metadata": {},
   "source": [
    "Population growth or Labor growth:\n",
    "\n",
    "\\begin{eqnarray*}\n",
    "L_t=(1+n) L_{t-1}\n",
    "\\end{eqnarray*}\n",
    "\n",
    "Utility:\n",
    "\n",
    "\\begin{eqnarray*}\n",
    "U_t=ln⁡(c_{1,t} )+ \\frac{1}{(1+\\rho)}ln⁡(c_{2,t+1} )\n",
    "\\end{eqnarray*}\n",
    "\n",
    "Contraints:\n",
    "\n",
    "\\begin{eqnarray*}\n",
    "ρ>-1\n",
    "\\end{eqnarray*}\n",
    "\\begin{eqnarray*}\n",
    "c_{1,t}=w_t-s_t\n",
    "\\end{eqnarray*}\n",
    "\\begin{eqnarray*}\n",
    "c_{2,t+1}=(1+r_{t+1} ) s_t\n",
    "\\end{eqnarray*}\n",
    "\n",
    "where\n",
    "\n",
    "- $L$ is population\n",
    "- $n$ is the rate of population\n",
    "- $U$ is lifetime utility\n",
    "- $c_1$ is consumption as young\n",
    "- $c_2$ is consumption as old\n",
    "- $\\rho$ is the discount rate\n",
    "- $w$ is wage\n",
    "- $s$ is savings\n",
    "- $r$ is the interest rate"
   ]
  },
  {
   "cell_type": "markdown",
   "metadata": {},
   "source": [
    "( lav docstrings til funktionerne! )"
   ]
  },
  {
   "cell_type": "code",
   "execution_count": 14,
   "metadata": {},
   "outputs": [],
   "source": [
    "def c1_gen(w,s):\n",
    "    return w-s\n",
    "\n",
    "def c2_gen(r,s):\n",
    "    return (1+r)*s\n",
    "\n",
    "def utility(c1,c2,rho):\n",
    "    rho>-1\n",
    "    return np.log(c1)+(1/(1+rho))*np.log(c2)"
   ]
  },
  {
   "cell_type": "markdown",
   "metadata": {},
   "source": [
    "( lav dem rigtig globale! )"
   ]
  },
  {
   "cell_type": "code",
   "execution_count": 3,
   "metadata": {},
   "outputs": [],
   "source": [
    "#Global definitions of parameters\n",
    "alpha = 1/3\n",
    "n = 0.02\n",
    "rho = 0.04\n",
    "A = 1\n",
    "delta = 1"
   ]
  },
  {
   "cell_type": "markdown",
   "metadata": {},
   "source": [
    "The firm\n",
    "\n",
    "The firms optimization will be the same in all extensions of the OLG model"
   ]
  },
  {
   "cell_type": "markdown",
   "metadata": {},
   "source": [
    "Output function is given by:\n",
    "\n",
    "\\begin{eqnarray*}\n",
    "F(K_t,L_t)=Y_t=A(K_t)^\\alpha(L_t)^{1-\\alpha}\n",
    "\\end{eqnarray*}\n",
    "\n",
    "Profit function is given by:\n",
    "\n",
    "\\begin{eqnarray*}\n",
    "\\Pi(K_t,L_t)=F(K_t,L_t)-w_tL_t-(r_t+\\delta)K_t\n",
    "\\end{eqnarray*}\n",
    "\n",
    "With interest and wages being.\n",
    "\n",
    "\\begin{eqnarray*}\n",
    "r_t = \\alpha Ak_t^{\\alpha-1}-\\delta\n",
    "\\end{eqnarray*}\n",
    "\n",
    "\\begin{eqnarray*}\n",
    "w_t = (1-\\alpha) Ak_t^{\\alpha}\n",
    "\\end{eqnarray*}\n",
    "\n",
    "\n",
    "\n",
    "- $Y$ is output\n",
    "- $A$ is total factor productivity (TFP)\n",
    "- $K$ is capital\n",
    "- $L$ is population / labor force\n",
    "- $\\alpha$ is the share of capital\n",
    "- $\\Pi$ is profit\n",
    "- $w$ is wage\n",
    "- $r$ is the real interest rate\n",
    "- $\\delta$ is the degree of depreciation\n"
   ]
  },
  {
   "cell_type": "markdown",
   "metadata": {},
   "source": [
    "We will check our results using the sympy package to make sure we have found the correct functions for the interest rate and wages."
   ]
  },
  {
   "cell_type": "code",
   "execution_count": 15,
   "metadata": {},
   "outputs": [],
   "source": [
    "sm.init_printing(use_unicode=True)"
   ]
  },
  {
   "cell_type": "code",
   "execution_count": 41,
   "metadata": {},
   "outputs": [
    {
     "data": {
      "image/png": "[encoded data removed]",
      "text/latex": [
       "$$\\left [ A^{- \\frac{1}{\\alpha - 1}}\\right ]$$"
      ],
      "text/plain": [
       "⎡  -1  ⎤\n",
       "⎢ ─────⎥\n",
       "⎢ α - 1⎥\n",
       "⎣A     ⎦"
      ]
     },
     "execution_count": 41,
     "metadata": {},
     "output_type": "execute_result"
    }
   ],
   "source": [
    "K = sm.symbols('K')\n",
    "L = sm.symbols('L')\n",
    "A = sm.symbols('A')\n",
    "alpha = sm.symbols('alpha')\n",
    "y = sm.symbols('y')\n",
    "k = sm.symbols('k')\n",
    "Y = A*(K**alpha)*(L**(1-alpha))\n",
    "yy = Y/L\n",
    "k = K/L\n",
    "f = k**alpha\n",
    "y = sm.Eq(k,(A*f))\n",
    "sy = sm.solve(y,k)\n",
    "sy"
   ]
  },
  {
   "cell_type": "code",
   "execution_count": 55,
   "metadata": {},
   "outputs": [
    {
     "name": "stdout",
     "output_type": "stream",
     "text": [
      "A*K**alpha*L**(-alpha + 1) - K*(delta + r) - L*w\n",
      "A*K**alpha*L**(-alpha + 1)*alpha/K - delta - r\n",
      "A*K**alpha*L**(-alpha + 1)*(-alpha + 1)/L - w\n"
     ]
    }
   ],
   "source": [
    "K = sm.symbols('K')\n",
    "L = sm.symbols('L')\n",
    "A = sm.symbols('A')\n",
    "alpha = sm.symbols('alpha')\n",
    "delta = sm.symbols('delta')\n",
    "w = sm.symbols('w')\n",
    "r = sm.symbols('r')\n",
    "y = sm.symbols('y')\n",
    "k = sm.symbols('k')\n",
    "Pi = sm.symbols('Pi')\n",
    "Pi = A*(K**alpha)*(L**(1-alpha))-w*L-(r+delta)*K\n",
    "print(Pi)\n",
    "f1 = sm.diff(Pi,K)\n",
    "f2 = sm.diff(Pi,L)\n",
    "print(f1)\n",
    "print(f2)"
   ]
  },
  {
   "cell_type": "code",
   "execution_count": 5,
   "metadata": {},
   "outputs": [],
   "source": [
    "def output(K,L,alpha,A):\n",
    "    return A*(K**alpha)*(L**(1 - alpha))\n",
    "def profit(output,w,L,r,K,delta=1):\n",
    "    return output-w*L-(r+delta)*K"
   ]
  },
  {
   "cell_type": "code",
   "execution_count": 6,
   "metadata": {},
   "outputs": [],
   "source": [
    "#Solving the general model gives:\n",
    "def r(k,alpha,A,delta):\n",
    "    return alpha*A*k**(alpha-1)-delta\n",
    "def w(k,alpha,A):\n",
    "    return (1-alpha)*A*k**alpha"
   ]
  },
  {
   "cell_type": "markdown",
   "metadata": {},
   "source": [
    "### Firm problem"
   ]
  },
  {
   "cell_type": "markdown",
   "metadata": {},
   "source": [
    "a: Guess on a k_ss, could be 1.6, or atleast lets start with that.\n",
    "b: Calculate r_ss and w_ss\n",
    "c: Solve the household problem\n",
    "d: Calculate S (for the young)\n",
    "e: k_sst (true) = s/1-n\n",
    "f: Visualize your guesses\n",
    "\n",
    "\n",
    "The true is the k_ss at the 45 degree line\n",
    "\n",
    "g: k_sst-k_ss = 0\n",
    "\n",
    "Tilbage til punkt a hvis nr. g ikke passer."
   ]
  },
  {
   "cell_type": "code",
   "execution_count": 7,
   "metadata": {},
   "outputs": [
    {
     "name": "stdout",
     "output_type": "stream",
     "text": [
      "Interest Rate Steady State:  -0.5314262970545838\n",
      "Wages Steady State:  0.5622884435344996\n",
      "Savings Steady State:  0.27563158996789194\n",
      "Consumption 1 Steady State:  0.28665685356660764\n",
      "Consumption 2 Steady State:  0.12915371475998777\n",
      "Utility Steady State:  -3.217500176800699\n",
      "0.18135001783804433\n"
     ]
    },
    {
     "data": {
      "text/plain": [
       "False"
      ]
     },
     "execution_count": 7,
     "metadata": {},
     "output_type": "execute_result"
    }
   ],
   "source": [
    "#a: Guess\n",
    "k_ss = 0.6\n",
    "\n",
    "#b: Calculate r_ss and w_ss for guess\n",
    "r_ss = r(k_ss,alpha,A,delta)\n",
    "w_ss = w(k_ss,alpha,A)\n",
    "print('Interest Rate Steady State: ',r_ss)\n",
    "print('Wages Steady State: ',w_ss)\n",
    "\n",
    "#c: Solve household problem\n",
    "\n",
    "\n",
    "print('Savings Steady State: ',s_ss)\n",
    "\n",
    "c1 = c1_gen(w_ss,s_ss)\n",
    "c2 = c2_gen(r_ss,s_ss)\n",
    "util = utility(c1,c2,rho)\n",
    "print('Consumption 1 Steady State: ', c1)\n",
    "print('Consumption 2 Steady State: ', c2)\n",
    "print('Utility Steady State: ', util)\n",
    "\n",
    "\n",
    "k_sst = ((1-alpha)/((2+rho)*(1+n)))**(1/(1-alpha))\n",
    "print(k_sst)\n",
    "\n",
    "k_ss-k_sst == 0"
   ]
  },
  {
   "cell_type": "markdown",
   "metadata": {},
   "source": [
    "## Interactive Figures"
   ]
  },
  {
   "cell_type": "markdown",
   "metadata": {},
   "source": [
    "Below we plot the interative figures showing the transistion curve"
   ]
  },
  {
   "cell_type": "code",
   "execution_count": 8,
   "metadata": {},
   "outputs": [
    {
     "data": {
      "application/vnd.jupyter.widget-view+json": {
       "model_id": "3b61235612944f06801d0f078c812f1f",
       "version_major": 2,
       "version_minor": 0
      },
      "text/plain": [
       "interactive(children=(FloatSlider(value=0.33, continuous_update=False, description='$\\\\alpha$', max=0.99, min=…"
      ]
     },
     "metadata": {},
     "output_type": "display_data"
    }
   ],
   "source": [
    "# Transitions kurver\n",
    "OLGModel.interactive_transition_curve()"
   ]
  },
  {
   "cell_type": "markdown",
   "metadata": {},
   "source": [
    "PAYG OLG model\n",
    "\n",
    "Utility...\n",
    "\n",
    "\\begin{eqnarray*}\n",
    "U_t=ln⁡(c_{1,t} )+ \\frac{1}{(1+\\rho)}ln⁡(c_{2,t+1} )\n",
    "\\end{eqnarray*}\n",
    "\n",
    "s.t.\n",
    "\n",
    "\\begin{eqnarray*}\n",
    "ρ>-1\n",
    "\\end{eqnarray*}\n",
    "\\begin{eqnarray*}\n",
    "c_{1,t}=w_t(1-d)-s_t\n",
    "\\end{eqnarray*}\n",
    "\\begin{eqnarray*}\n",
    "c_{2,t+1}=(1+r_{t+1} ) s_t + w_{t+1}d(1+n)\n",
    "\\end{eqnarray*}\n",
    "\n",
    "where\n",
    "\n",
    "- $L$ is population\n",
    "- $n$ is the rate of population\n",
    "- $U$ is lifetime utility\n",
    "- $c_1$ is consumption as young\n",
    "- $c_2$ is consumption as old\n",
    "- $\\rho$ is the discount rate\n",
    "- $w$ is wage\n",
    "- $s$ is savings\n",
    "- $r$ is the interest rate"
   ]
  },
  {
   "cell_type": "code",
   "execution_count": 9,
   "metadata": {},
   "outputs": [],
   "source": [
    "def c1_payg(w,s,d):\n",
    "    return w(1-d)-s\n",
    "\n",
    "def c2_payg(r,s,w,d,n):\n",
    "    return (1+r)*s+wd(1+n)\n",
    "\n",
    "d = 0.12"
   ]
  },
  {
   "cell_type": "markdown",
   "metadata": {},
   "source": [
    "FF model\n",
    "\n",
    "Utility...\n",
    "\n",
    "\\begin{eqnarray*}\n",
    "U_t=ln⁡(c_{1,t} )+ \\frac{1}{(1+\\rho)}ln⁡(c_{2,t+1} )\n",
    "\\end{eqnarray*}\n",
    "\n",
    "s.t.\n",
    "\n",
    "\\begin{eqnarray*}\n",
    "ρ>-1\n",
    "\\end{eqnarray*}\n",
    "\\begin{eqnarray*}\n",
    "c_{1,t}=w_t(1-\\tau)-s_t\n",
    "\\end{eqnarray*}\n",
    "\\begin{eqnarray*}\n",
    "c_{2,t+1}=(1+r_{t+1} ) s_t + \\tau(1+r_{t+1})w_t\n",
    "\\end{eqnarray*}\n",
    "\n",
    "where\n",
    "\n",
    "- $L$ is population\n",
    "- $n$ is the rate of population\n",
    "- $U$ is lifetime utility\n",
    "- $c_1$ is consumption as young\n",
    "- $c_2$ is consumption as old\n",
    "- $\\rho$ is the discount rate\n",
    "- $w$ is wage\n",
    "- $s$ is savings\n",
    "- $r$ is the interest rate"
   ]
  },
  {
   "cell_type": "code",
   "execution_count": 10,
   "metadata": {},
   "outputs": [],
   "source": [
    "def c1_ff(w,s,tau):\n",
    "    return w(1-tau)-s\n",
    "\n",
    "def c2_ff(r,s,tau,w):\n",
    "    return (1+r)*s+tau*(1+r)*w\n",
    "\n",
    "tau = 0.13"
   ]
  }
 ],
 "metadata": {
  "kernelspec": {
   "display_name": "Python 3",
   "language": "python",
   "name": "python3"
  },
  "language_info": {
   "codemirror_mode": {
    "name": "ipython",
    "version": 3
   },
   "file_extension": ".py",
   "mimetype": "text/x-python",
   "name": "python",
   "nbconvert_exporter": "python",
   "pygments_lexer": "ipython3",
   "version": "3.7.1"
  }
 },
 "nbformat": 4,
 "nbformat_minor": 2
}
