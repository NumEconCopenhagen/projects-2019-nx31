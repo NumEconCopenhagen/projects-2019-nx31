{
 "cells": [
  {
   "cell_type": "markdown",
   "metadata": {},
   "source": [
    "# NX31 Model Project"
   ]
  },
  {
   "cell_type": "markdown",
   "metadata": {},
   "source": [
    "# Introduction"
   ]
  },
  {
   "cell_type": "markdown",
   "metadata": {},
   "source": [
    "In this Model project we will examine the Overlapping Generations Model (OLG). First we will look at the General OLG model with  consumption and savings in two periods. Second we will expand with an extensions of the model, as we look at the Pay As You Go (PAYG) OLG model. The PAYG OLG model includes a tax, which the young generation pay from their wages. This tax is then transfered to the elderly generation for them to consume. \n",
    "We will look an an OLG model with two generations, a generation which is working and a generation living on pension. They have a life-time utility function. In both models there are no savings in period two, as you consume everything as old.\n",
    "\n",
    "The PAYG OLG model is like a state funded pension, where the young generation pays to the current old generation. When the young generation retires, a new young generation will pay a tax and thus fund their pension.\n",
    "\n",
    "Our analysis of the model will consist of how the share of capital $\\alpha$, the discount factor on consumption $\\rho$, and the population growth $n$ effect in the two models differently."
   ]
  },
  {
   "cell_type": "markdown",
   "metadata": {},
   "source": [
    "## Packages and extensions "
   ]
  },
  {
   "cell_type": "code",
   "execution_count": 1,
   "metadata": {},
   "outputs": [],
   "source": [
    "# These two lines above makes sure that the functions and packages are automatically reloaded each time we run a cell.\n",
    "%load_ext autoreload\n",
    "%autoreload 2"
   ]
  },
  {
   "cell_type": "code",
   "execution_count": 2,
   "metadata": {},
   "outputs": [],
   "source": [
    "#Loading packages\n",
    "import numpy as np\n",
    "import scipy as sp\n",
    "from scipy import linalg\n",
    "from scipy import optimize\n",
    "from scipy import interpolate\n",
    "import sympy as sm\n",
    "from IPython.display import display\n",
    "\n",
    "%matplotlib inline\n",
    "import matplotlib.pyplot as plt\n",
    "import ipywidgets as widgets\n",
    "\n",
    "# Enables sympy to write functions as math\n",
    "sm.init_printing(use_unicode=True)"
   ]
  },
  {
   "cell_type": "markdown",
   "metadata": {},
   "source": [
    "# The General OLG model:"
   ]
  },
  {
   "cell_type": "markdown",
   "metadata": {},
   "source": [
    "As mentioned, we start with the General OLG model with savings and consumption. This model looks as shown below."
   ]
  },
  {
   "cell_type": "markdown",
   "metadata": {},
   "source": [
    "Population growth:\n",
    "\n",
    "\\begin{eqnarray*}\n",
    "L_t=(1+n) L_{t-1}\n",
    "\\end{eqnarray*}\n",
    "\n",
    "Life-time utility:\n",
    "\n",
    "\\begin{eqnarray*}\n",
    "U_t=ln⁡(c_{1,t} )+ \\frac{1}{(1+\\rho)}ln⁡(c_{2,t+1} )\n",
    "\\end{eqnarray*}\n",
    "\n",
    "Model contraints:\n",
    "\n",
    "\\begin{eqnarray*}\n",
    "ρ>-1\n",
    "\\end{eqnarray*}\n",
    "\\begin{eqnarray*}\n",
    "c_{1,t}=w_t-s_t\n",
    "\\end{eqnarray*}\n",
    "\\begin{eqnarray*}\n",
    "c_{2,t+1}=(1+r_{t+1} ) s_t\n",
    "\\end{eqnarray*}\n",
    "\n",
    "where\n",
    "\n",
    "- $L_t$ is population\n",
    "- $n$ is growth rate of population\n",
    "- $U_t$ is life-time utility\n",
    "- $c_1,_t$ is consumption as young\n",
    "- $c_2,_t$ is consumption as old\n",
    "- $\\rho$ is the discount rate on consumption\n",
    "- $w_t$ is wage\n",
    "- $s_t$ is savings\n",
    "- $r_t$ is the interest rate"
   ]
  },
  {
   "cell_type": "markdown",
   "metadata": {},
   "source": [
    "## The firm problem"
   ]
  },
  {
   "cell_type": "markdown",
   "metadata": {},
   "source": [
    "We start by optimizing the firm problem, this  will be the same in all extensions of our OLG models."
   ]
  },
  {
   "cell_type": "markdown",
   "metadata": {},
   "source": [
    "The output function is given by:\n",
    "\n",
    "\\begin{eqnarray*}\n",
    "F(K_t,L_t)=Y_t=A(K_t)^\\alpha(L_t)^{1-\\alpha}\n",
    "\\end{eqnarray*}\n",
    "\n",
    "The profit function is given by:\n",
    "\n",
    "\\begin{eqnarray*}\n",
    "\\Pi(K_t,L_t)=F(K_t,L_t)-w_tL_t-(r_t+\\delta)K_t\n",
    "\\end{eqnarray*}\n",
    "\n",
    "\n",
    "\n",
    "\n",
    "- $Y_t$ is output\n",
    "- $A_t$ is total factor productivity (TFP)\n",
    "- $K_t$ is capital\n",
    "- $L_t$ is population / labor force\n",
    "- $\\alpha$ is the share of capital\n",
    "- $\\Pi$ is profit\n",
    "- $w_t$ is wage\n",
    "- $r_t$ is the real interest rate\n",
    "- $\\delta$ is the degree of depreciation\n"
   ]
  },
  {
   "cell_type": "markdown",
   "metadata": {},
   "source": [
    "We will use the profit function and output function, to calculate our marginal products, $r$ and $w$. To do this, we will  use the sympy package, which has math solving tools. We start off by defining variables as symbols.\n",
    "\n",
    "All symbols used for this model project is defined below."
   ]
  },
  {
   "cell_type": "code",
   "execution_count": 3,
   "metadata": {},
   "outputs": [],
   "source": [
    "# Defines variables for sympy math symbols\n",
    "K_t = sm.symbols('K_t')\n",
    "L_t = sm.symbols('L_t')\n",
    "A = sm.symbols('A')\n",
    "alpha = sm.symbols('alpha')\n",
    "delta = sm.symbols('delta')\n",
    "rho = sm.symbols('rho')\n",
    "w_t = sm.symbols('w_t')\n",
    "r_t = sm.symbols('r_t')\n",
    "n = sm.symbols('n')\n",
    "k_t = sm.symbols('k_t')\n",
    "Pi = sm.symbols('Pi_t')\n",
    "\n",
    "s_t = sm.symbols('s_t')\n",
    "U_t = sm.symbols('U_t')\n",
    "U = sm.symbols('U_t')\n",
    "r_plus = sm.symbols('r_t+1')\n",
    "k = sm.symbols('k^*')\n",
    "\n",
    "d = sm.symbols('d')\n",
    "s_payg = sm.symbols('s_payg')\n",
    "w_plus = sm.symbols('w_t+1')\n",
    "k_payg = sm.symbols('k_payg')\n",
    "U_payg = sm.symbols('U_paygt')\n",
    "kpaygss = sm.symbols('k_payg^*')"
   ]
  },
  {
   "cell_type": "markdown",
   "metadata": {},
   "source": [
    "Now that the symbols are defined, we now setup the functions and solve using the sympy package."
   ]
  },
  {
   "cell_type": "code",
   "execution_count": 4,
   "metadata": {},
   "outputs": [
    {
     "name": "stdout",
     "output_type": "stream",
     "text": [
      "The Profit of the Firm\n"
     ]
    },
    {
     "data": {
      "image/png": "[encoded data removed]",
      "text/latex": [
       "$$\\Pi_{t} = A K_{t}^{\\alpha} L_{t}^{- \\alpha + 1} - K_{t} \\left(\\delta + r_{t}\\right) - L_{t} w_{t}$$"
      ],
      "text/plain": [
       "         α   -α + 1                      \n",
       "Πₜ = A⋅Kₜ ⋅Lₜ       - Kₜ⋅(δ + rₜ) - Lₜ⋅wₜ"
      ]
     },
     "metadata": {},
     "output_type": "display_data"
    },
    {
     "name": "stdout",
     "output_type": "stream",
     "text": [
      "The First Order Conditions:\n"
     ]
    },
    {
     "data": {
      "image/png": "[encoded data removed]",
      "text/latex": [
       "$$0 = \\frac{A K_{t}^{\\alpha} L_{t}^{- \\alpha + 1} \\alpha}{K_{t}} - \\delta - r_{t}$$"
      ],
      "text/plain": [
       "        α   -α + 1           \n",
       "    A⋅Kₜ ⋅Lₜ      ⋅α         \n",
       "0 = ──────────────── - δ - rₜ\n",
       "           Kₜ                "
      ]
     },
     "metadata": {},
     "output_type": "display_data"
    },
    {
     "data": {
      "image/png": "[encoded data removed]",
      "text/latex": [
       "$$0 = \\frac{A K_{t}^{\\alpha} L_{t}^{- \\alpha + 1} \\left(- \\alpha + 1\\right)}{L_{t}} - w_{t}$$"
      ],
      "text/plain": [
       "        α   -α + 1              \n",
       "    A⋅Kₜ ⋅Lₜ      ⋅(-α + 1)     \n",
       "0 = ─────────────────────── - wₜ\n",
       "               Lₜ               "
      ]
     },
     "metadata": {},
     "output_type": "display_data"
    },
    {
     "name": "stdout",
     "output_type": "stream",
     "text": [
      "The marginal products:\n"
     ]
    },
    {
     "data": {
      "image/png": "[encoded data removed]",
      "text/latex": [
       "$$r_{t} = \\frac{A K_{t}^{\\alpha} L_{t} L_{t}^{- \\alpha} \\alpha}{K_{t}} - \\delta$$"
      ],
      "text/plain": [
       "         α      -α      \n",
       "     A⋅Kₜ ⋅Lₜ⋅Lₜ  ⋅α    \n",
       "rₜ = ─────────────── - δ\n",
       "            Kₜ          "
      ]
     },
     "metadata": {},
     "output_type": "display_data"
    },
    {
     "data": {
      "image/png": "[encoded data removed]",
      "text/latex": [
       "$$w_{t} = - A K_{t}^{\\alpha} L_{t}^{- \\alpha} \\left(\\alpha - 1\\right)$$"
      ],
      "text/plain": [
       "          α   -α        \n",
       "wₜ = -A⋅Kₜ ⋅Lₜ  ⋅(α - 1)"
      ]
     },
     "metadata": {},
     "output_type": "display_data"
    }
   ],
   "source": [
    "# Solves the firm problem and finds r and w\n",
    "print(f'The Profit of the Firm')\n",
    "PI = A*(K_t**alpha)*(L_t**(1-alpha))-w_t*L_t-(r_t+delta)*K_t\n",
    "display(sm.Eq(Pi,PI))\n",
    "print(f'The First Order Conditions:')\n",
    "f1 = sm.diff(PI,K_t)\n",
    "f2 = sm.diff(PI,L_t)\n",
    "display(sm.Eq(0,f1))\n",
    "display(sm.Eq(0,f2))\n",
    "print(f'The marginal products:')\n",
    "f1solve = sm.solve(f1, r_t)[0]\n",
    "f2solve = sm.solve(f2, w_t)[0]\n",
    "display(sm.Eq(r_t,f1solve))\n",
    "display(sm.Eq(w_t,f2solve))"
   ]
  },
  {
   "cell_type": "markdown",
   "metadata": {},
   "source": [
    "Now that we have the marginal products of capital and labor. We are interested in having the results given by capital pr. capita, $k$. We do this using:\n",
    "\n",
    "\\begin{eqnarray*}\n",
    "k_t = \\frac{K_t}{L_t} , k_{t+1} = \\frac{K_{t+1}}{L_{t+1}}\n",
    "\\end{eqnarray*}\n",
    "\n",
    "The marginal products of capital, $r_t$, and labor, $w_t$, can be written as.\n",
    "\n",
    "\\begin{eqnarray*}\n",
    "r_t = \\alpha Ak_t^{\\alpha-1}-\\delta\n",
    "\\end{eqnarray*}\n",
    "\n",
    "\\begin{eqnarray*}\n",
    "w_t = (1-\\alpha) Ak_t^{\\alpha}\n",
    "\\end{eqnarray*}"
   ]
  },
  {
   "cell_type": "markdown",
   "metadata": {},
   "source": [
    "## The household problem"
   ]
  },
  {
   "cell_type": "markdown",
   "metadata": {},
   "source": [
    "Next we will have to solve the household problem, by finding an expression for savings, $s_t$. Below we once again use the sympy package to solve the household problem and thus finds the savings rate."
   ]
  },
  {
   "cell_type": "code",
   "execution_count": 5,
   "metadata": {},
   "outputs": [
    {
     "name": "stdout",
     "output_type": "stream",
     "text": [
      "The Life-time Utility\n"
     ]
    },
    {
     "data": {
      "image/png": "[encoded data removed]",
      "text/latex": [
       "$$U_{t} = \\log{\\left (- s_{t} + w_{t} \\right )} + \\frac{\\log{\\left (s_{t} \\left(r_{t+1} + 1\\right) \\right )}}{\\rho + 1}$$"
      ],
      "text/plain": [
       "                     log(sₜ⋅(rₜ₊₁ + 1))\n",
       "Uₜ = log(-sₜ + wₜ) + ──────────────────\n",
       "                           ρ + 1       "
      ]
     },
     "metadata": {},
     "output_type": "display_data"
    },
    {
     "name": "stdout",
     "output_type": "stream",
     "text": [
      "The First Orden Condition:\n"
     ]
    },
    {
     "data": {
      "image/png": "[encoded data removed]",
      "text/latex": [
       "$$0 = - \\frac{1}{- s_{t} + w_{t}} + \\frac{1}{s_{t} \\left(\\rho + 1\\right)}$$"
      ],
      "text/plain": [
       "         1           1     \n",
       "0 = - ──────── + ──────────\n",
       "      -sₜ + wₜ   sₜ⋅(ρ + 1)"
      ]
     },
     "metadata": {},
     "output_type": "display_data"
    },
    {
     "name": "stdout",
     "output_type": "stream",
     "text": [
      "The Savings rate:\n"
     ]
    },
    {
     "data": {
      "image/png": "[encoded data removed]",
      "text/latex": [
       "$$s_{t} = \\frac{w_{t}}{\\rho + 2}$$"
      ],
      "text/plain": [
       "       wₜ \n",
       "sₜ = ─────\n",
       "     ρ + 2"
      ]
     },
     "metadata": {},
     "output_type": "display_data"
    }
   ],
   "source": [
    "# Solve the household problem and find s\n",
    "U_t = sm.log(w_t-s_t)+(1/(1+rho))*sm.log((1+r_plus)*s_t)\n",
    "print(f'The Life-time Utility')\n",
    "display(sm.Eq(U,U_t))\n",
    "U_d = sm.diff(U_t,s_t)\n",
    "print(f'The First Orden Condition:')\n",
    "display(sm.Eq(0,U_d))\n",
    "usolve = sm.solve(U_d,s_t)[0]\n",
    "print(f'The Savings rate:')\n",
    "display(sm.Eq(s_t,usolve))"
   ]
  },
  {
   "cell_type": "markdown",
   "metadata": {},
   "source": [
    "## Finding steady state"
   ]
  },
  {
   "cell_type": "markdown",
   "metadata": {},
   "source": [
    "### Steady state function"
   ]
  },
  {
   "cell_type": "markdown",
   "metadata": {},
   "source": [
    "In order to reach a steady state for capital, $k$, we have to setup the transitions curve for capital. Below we use the model and the results we have found, to reach an expression for steady state value $k^*$.\n",
    "\n",
    "The aggregated solution in the OLG model is defined as:\n",
    "\\begin{eqnarray*}\n",
    "K_{t+1}=K_t (1-δ)+S_{1,t}+S_{2,t+1},  S_{2,t+1}≡-(1-δ) K_t=0\t\n",
    "\\end{eqnarray*}\n",
    "Because there are no savings in second period, and we have assumed full depreciation ($\\delta = 1$) we get:\n",
    "\\begin{eqnarray*}\n",
    "K_{t+1}=S_{1,t}=s_t L_t\n",
    "\\end{eqnarray*}\n",
    "Now we set up the transition curve:\n",
    "\\begin{eqnarray*}\n",
    "\\frac{K_{t+1}}{L_{t+1}} =k_{t+1}=s_t  \\frac{L_t}{L_{t+1}} =s_t  \\frac{L_t}{(L_t (1+n) )}=\\frac{s_t}{(1+n)}=\\frac{w_t}{(2+ρ)}  \\frac{1}{(1+n)}=\\frac{(1-α)Ak_t^α}{(2+ρ)(1+n)} \n",
    "\\end{eqnarray*}\n",
    "In steady state we know that there are no change i capital so that:\n",
    "\\begin{eqnarray*}\n",
    "k_{t+1} = k_t = k^*\n",
    "\\end{eqnarray*}\n",
    "\n",
    "Next up we solve it using sympy, and find en expression for steady state $k^*$."
   ]
  },
  {
   "cell_type": "code",
   "execution_count": 6,
   "metadata": {},
   "outputs": [
    {
     "name": "stdout",
     "output_type": "stream",
     "text": [
      "The steady state in the General OLG model is:\n"
     ]
    },
    {
     "data": {
      "image/png": "[encoded data removed]",
      "text/latex": [
       "$$k^{*} = \\left(\\frac{A \\left(- \\alpha + 1\\right)}{n \\rho + 2 n + \\rho + 2}\\right)^{- \\frac{1}{\\alpha - 1}}$$"
      ],
      "text/plain": [
       "                           -1  \n",
       "                          ─────\n",
       "                          α - 1\n",
       "       ⎛    A⋅(-α + 1)   ⎞     \n",
       "k__* = ⎜─────────────────⎟     \n",
       "       ⎝n⋅ρ + 2⋅n + ρ + 2⎠     "
      ]
     },
     "metadata": {},
     "output_type": "display_data"
    }
   ],
   "source": [
    "# Solves transition curve to find SS k\n",
    "ss = sm.Eq(k_t,(((1-alpha)*A*(k_t**alpha))/((2+rho)*(1+n))))\n",
    "kss = sm.solve(ss,k_t)[0]\n",
    "print(f'The steady state in the General OLG model is:')\n",
    "display(sm.Eq(k,kss))"
   ]
  },
  {
   "cell_type": "markdown",
   "metadata": {},
   "source": [
    "### Analytical solution\n",
    "\n",
    "We will now use the function for the steady state $k^*$ in a lambdify function to find the value of the steady state $k^*$ using the analytical method. "
   ]
  },
  {
   "cell_type": "code",
   "execution_count": 7,
   "metadata": {},
   "outputs": [],
   "source": [
    "#Creates SS function for k\n",
    "ss_func = sm.lambdify((alpha,n,rho,A),kss)"
   ]
  },
  {
   "cell_type": "code",
   "execution_count": 8,
   "metadata": {},
   "outputs": [
    {
     "data": {
      "image/png": "[encoded data removed]",
      "text/latex": [
       "$$0.18135001783804433$$"
      ],
      "text/plain": [
       "0.18135001783804433"
      ]
     },
     "execution_count": 8,
     "metadata": {},
     "output_type": "execute_result"
    }
   ],
   "source": [
    "# Solves SS for k, given input\n",
    "ss_func(1/3,0.02,0.04,1)"
   ]
  },
  {
   "cell_type": "code",
   "execution_count": 9,
   "metadata": {},
   "outputs": [
    {
     "name": "stdout",
     "output_type": "stream",
     "text": [
      "The steady state value of capital in the General OLG model is :\n"
     ]
    },
    {
     "data": {
      "image/png": "[encoded data removed]",
      "text/latex": [
       "$$k^{*} = 0.1814$$"
      ],
      "text/plain": [
       "k__* = 0.1814"
      ]
     },
     "metadata": {},
     "output_type": "display_data"
    }
   ],
   "source": [
    "print(f'The steady state value of capital in the General OLG model is :')\n",
    "display(sm.Eq(k,0.1814))"
   ]
  },
  {
   "cell_type": "markdown",
   "metadata": {},
   "source": [
    "### Numerical solution"
   ]
  },
  {
   "cell_type": "markdown",
   "metadata": {},
   "source": [
    "We define the numerical parameter for usage in the numerical solution as well as the visualization later on.\n",
    "\n",
    "The share of capital, $\\alpha$, is generally agreed to be one third, also described by Sørensen and Whitta-Jacobsen.\n",
    "The growth rate of population, $n$, is set as default to two percent as Romer also would do.\n",
    "The discount rate on consumption, $\\rho$, is set to $0.04$, as default, which means that consumption as young generate more utility than consumption as old.\n",
    "TFP/A has been normalized to one."
   ]
  },
  {
   "cell_type": "code",
   "execution_count": 10,
   "metadata": {},
   "outputs": [],
   "source": [
    "# Defines global values for parameters\n",
    "alpha_v = 1/3\n",
    "n_v = 0.02\n",
    "rho_v = 0.04\n",
    "A_v = 1"
   ]
  },
  {
   "cell_type": "markdown",
   "metadata": {},
   "source": [
    "To solve the numerical solution we use the function for the steady state $k^*$ from section 3.3.1 and the root_scalar optimizer."
   ]
  },
  {
   "cell_type": "code",
   "execution_count": 11,
   "metadata": {},
   "outputs": [
    {
     "data": {
      "text/plain": [
       "      converged: True\n",
       "           flag: 'converged'\n",
       " function_calls: 8\n",
       "     iterations: 7\n",
       "           root: 0.18135001783804428"
      ]
     },
     "execution_count": 11,
     "metadata": {},
     "output_type": "execute_result"
    }
   ],
   "source": [
    "obj_kss = lambda kss: kss - ((1-alpha_v)*A_v*(kss**alpha_v))/((2+rho_v)*(1+n_v))\n",
    "result = optimize.root_scalar(obj_kss,bracket=[0.1,100],method='brentq')\n",
    "result"
   ]
  },
  {
   "cell_type": "markdown",
   "metadata": {},
   "source": [
    "To make sure that the analytical and numerical solution have found the same result we assert this in the cell below."
   ]
  },
  {
   "cell_type": "code",
   "execution_count": 12,
   "metadata": {},
   "outputs": [
    {
     "name": "stdout",
     "output_type": "stream",
     "text": [
      "Analytical solution is: 0.1814\n",
      "Numerical solution is: 0.1814\n"
     ]
    }
   ],
   "source": [
    "print(f'Analytical solution is: {ss_func(alpha_v,n_v,rho_v,A_v):.4f}')\n",
    "print(f'Numerical solution is: {result.root:.4f}')\n",
    "\n",
    "assert abs(ss_func(alpha_v,n_v,rho_v,A_v) - result.root) < 10**(-2)"
   ]
  },
  {
   "cell_type": "markdown",
   "metadata": {},
   "source": [
    "## Visualization"
   ]
  },
  {
   "cell_type": "markdown",
   "metadata": {},
   "source": [
    "To compare the General OLG model, with the PAYG OLG model, we will make visualizations of the models. First we will look at the General OLG model, therefore the figures below are all for the General OLG model, but with the option to change the share of capital $\\alpha$, the discount factor on consumption $\\rho$ and the population growth $n$."
   ]
  },
  {
   "cell_type": "markdown",
   "metadata": {},
   "source": [
    "### Interactive Figures\n",
    "Below we define the function for the the transition curve. After that is done, we create the plots with interactive sliders, where you can see the changes in the transistion towards steady state"
   ]
  },
  {
   "cell_type": "code",
   "execution_count": 13,
   "metadata": {},
   "outputs": [],
   "source": [
    "# Defining transistion curve general model\n",
    "def trans_func(k_t, alpha, A, rho, n):\n",
    "    return ((1-alpha)*A*k_t**alpha)/((2+rho)*(1+n))"
   ]
  },
  {
   "cell_type": "code",
   "execution_count": 14,
   "metadata": {},
   "outputs": [],
   "source": [
    "# Define k_t\n",
    "k_t = np.linspace(0,1,1000) #(min, max, steps)"
   ]
  },
  {
   "cell_type": "code",
   "execution_count": 15,
   "metadata": {},
   "outputs": [],
   "source": [
    "#Defining the plots\n",
    "def plot_alpha(alpha):\n",
    "    print(f\"The analytic solution is {ss_func(alpha, n_v,rho_v,A_v):.4f}\")\n",
    "    plt.figure(dpi=100)\n",
    "    plt.xlabel('k_t')\n",
    "    plt.ylabel('k_t+1')\n",
    "    plt.title('General OLG model - change in $\\\\alpha$')\n",
    "    plt.xlim([0,1]) # fixed x range\n",
    "    plt.ylim([0,0.5]) # fixed y range\n",
    "    plt.plot(range(10),range(10), color = 'black')\n",
    "    plt.plot(k_t,trans_func(k_t, alpha, A_v, rho_v, n_v))\n",
    "    plt.plot(ss_func(alpha, n_v, rho_v, A_v),ss_func(alpha, n_v,rho_v,A_v), marker='o')\n",
    "    plt.legend(('45\\N{DEGREE SIGN}-line', 'General OLG', 'Steady state'), loc='upper right')\n",
    "    plt.grid()\n",
    "    return plt\n",
    "\n",
    "def plot_rho(rho):\n",
    "    print(f\"The analytic solution is {ss_func(alpha_v, n_v,rho,A_v):.4f}\")\n",
    "    plt.figure(dpi=100)\n",
    "    plt.xlabel('k_t')\n",
    "    plt.ylabel('k_t+1')\n",
    "    plt.title('General OLG model - change in $\\\\rho$')\n",
    "    plt.xlim([0,1]) # fixed x range\n",
    "    plt.ylim([0,0.5]) # fixed y range\n",
    "    plt.plot(range(10),range(10), color = 'black')\n",
    "    plt.plot(k_t,trans_func(k_t, alpha_v, A_v, rho, n_v))\n",
    "    plt.plot(ss_func(alpha_v, n_v,rho,A_v),ss_func(alpha_v, n_v,rho,A_v), marker='o')\n",
    "    plt.legend(('45\\N{DEGREE SIGN}-line', 'General OLG', 'Steady state'), loc='upper right')\n",
    "    plt.grid()\n",
    "    return plt\n",
    "\n",
    "def plot_n(n):\n",
    "    print(f\"The analytic solution is {ss_func(alpha_v, n,rho_v,A_v):.4f}\")\n",
    "    plt.figure(dpi=100)\n",
    "    plt.xlabel('k_t')\n",
    "    plt.ylabel('k_t+1')\n",
    "    plt.title('General OLG model - change in $n$')\n",
    "    plt.xlim([0,1]) # fixed x range\n",
    "    plt.ylim([0,0.5]) # fixed y range\n",
    "    plt.plot(range(10),range(10), color = 'black')\n",
    "    plt.plot(k_t,trans_func(k_t, alpha_v, A_v, rho_v, n))\n",
    "    plt.plot(ss_func(alpha_v, n,rho_v,A_v),ss_func(alpha_v, n,rho_v,A_v), marker='o')\n",
    "    plt.legend(('45\\N{DEGREE SIGN}-line', 'General OLG', 'Steady state'), loc='upper right')\n",
    "    plt.grid()\n",
    "    return plt"
   ]
  },
  {
   "cell_type": "markdown",
   "metadata": {},
   "source": [
    "Below we plot the transisition curve with the interactive sliders. The figure is also updating the steady state value of $k^*$, when the slider is moved. This is plotted as an orange dot."
   ]
  },
  {
   "cell_type": "code",
   "execution_count": 16,
   "metadata": {},
   "outputs": [
    {
     "data": {
      "application/vnd.jupyter.widget-view+json": {
       "model_id": "3772776ef1b9423aa86d829ddd372bb2",
       "version_major": 2,
       "version_minor": 0
      },
      "text/plain": [
       "interactive(children=(FloatSlider(value=0.3333333333333333, continuous_update=False, description='$\\\\alpha$', …"
      ]
     },
     "metadata": {},
     "output_type": "display_data"
    },
    {
     "data": {
      "application/vnd.jupyter.widget-view+json": {
       "model_id": "4756323736d845c9ae348b2159895edc",
       "version_major": 2,
       "version_minor": 0
      },
      "text/plain": [
       "interactive(children=(FloatSlider(value=0.04, continuous_update=False, description='$\\\\rho$', max=0.99, min=-0…"
      ]
     },
     "metadata": {},
     "output_type": "display_data"
    },
    {
     "data": {
      "application/vnd.jupyter.widget-view+json": {
       "model_id": "dd1bbf31144340b7a133776a99a34858",
       "version_major": 2,
       "version_minor": 0
      },
      "text/plain": [
       "interactive(children=(FloatSlider(value=0.02, continuous_update=False, description='n', max=0.2, min=-0.2, ste…"
      ]
     },
     "metadata": {},
     "output_type": "display_data"
    },
    {
     "data": {
      "text/plain": [
       "<function __main__.plot_n(n)>"
      ]
     },
     "execution_count": 16,
     "metadata": {},
     "output_type": "execute_result"
    }
   ],
   "source": [
    "# Plotting plots, with interactive slider\n",
    "widgets.interact(\n",
    "        plot_alpha, \n",
    "        alpha = widgets.FloatSlider(\n",
    "            description=\"$\\\\alpha$\",\n",
    "            min=0.01,\n",
    "            max=0.99,\n",
    "            step=0.01,\n",
    "            value=alpha_v,\n",
    "            continuous_update=False,),)\n",
    "widgets.interact(\n",
    "        plot_rho, \n",
    "        rho = widgets.FloatSlider(\n",
    "            description=\"$\\\\rho$\",\n",
    "            min=-.99,\n",
    "            max=0.99,\n",
    "            step=0.1,\n",
    "            value=rho_v,\n",
    "            continuous_update=False,),)\n",
    "widgets.interact(\n",
    "        plot_n, \n",
    "        n = widgets.FloatSlider(\n",
    "            description=\"n\",\n",
    "            min=-.20,\n",
    "            max=0.20,\n",
    "            step=0.01,\n",
    "            value=n_v,\n",
    "            continuous_update=False,),)"
   ]
  },
  {
   "cell_type": "markdown",
   "metadata": {},
   "source": [
    "We see that by changing the share of capital, $\\alpha$, to a lower share, the steady state of capital moves up, and vice versa .\n",
    "The steady state of capital goes up, when the depreciation of consumption, $\\rho$, falls, which will make consumption in period two more valuable, and thus the consumer will save more.\n",
    "Lastly we look at the population growth, $n$, which as the other two parameters, also make capital rise when population growth falls."
   ]
  },
  {
   "cell_type": "markdown",
   "metadata": {},
   "source": [
    "# The Pay-As-You-Go OLG model\n",
    "\n",
    "The life-time utility is same as in the General OLG model, but constraints are different.\n",
    "The consumption function have changed so that there is a tax when young and pension when old.\n",
    "\n",
    "\\begin{eqnarray*}\n",
    "U_t=ln⁡(c_{1,t} )+ \\frac{1}{(1+\\rho)}ln⁡(c_{2,t+1} )\n",
    "\\end{eqnarray*}\n",
    "\n",
    "constraints\n",
    "\n",
    "\\begin{eqnarray*}\n",
    "ρ>-1\n",
    "\\end{eqnarray*}\n",
    "\\begin{eqnarray*}\n",
    "c_{1,t}=w_t(1-d)-s_t\n",
    "\\end{eqnarray*}\n",
    "\\begin{eqnarray*}\n",
    "c_{2,t+1}=(1+r_{t+1} ) s_t + w_{t+1}d(1+n)\n",
    "\\end{eqnarray*}\n",
    "\n",
    "where\n",
    "\n",
    "- $L$ is population\n",
    "- $n$ is the rate of population\n",
    "- $U$ is lifetime utility\n",
    "- $c_1$ is consumption as young\n",
    "- $c_2$ is consumption as old\n",
    "- $\\rho$ is the discount rate\n",
    "- $w$ is wage\n",
    "- $s$ is savings\n",
    "- $r$ is the interest rate"
   ]
  },
  {
   "cell_type": "markdown",
   "metadata": {},
   "source": [
    "## Household problem"
   ]
  },
  {
   "cell_type": "code",
   "execution_count": 17,
   "metadata": {},
   "outputs": [
    {
     "name": "stdout",
     "output_type": "stream",
     "text": [
      "The life-time utility\n"
     ]
    },
    {
     "data": {
      "image/png": "[encoded data removed]",
      "text/latex": [
       "$$U_{t} = \\log{\\left (- s_{payg} + w_{t} \\left(- d + 1\\right) \\right )} + \\frac{\\log{\\left (d w_{t+1} \\left(n + 1\\right) + s_{payg} \\left(r_{t+1} + 1\\right) \\right )}}{\\rho + 1}$$"
      ],
      "text/plain": [
       "                                  log(d⋅wₜ₊₁⋅(n + 1) + s_payg⋅(rₜ₊₁ + 1))\n",
       "Uₜ = log(-s_payg + wₜ⋅(-d + 1)) + ───────────────────────────────────────\n",
       "                                                   ρ + 1                 "
      ]
     },
     "metadata": {},
     "output_type": "display_data"
    },
    {
     "name": "stdout",
     "output_type": "stream",
     "text": [
      "The First Order Condition:\n"
     ]
    },
    {
     "data": {
      "image/png": "[encoded data removed]",
      "text/latex": [
       "$$0 = \\frac{r_{t+1} + 1}{\\left(\\rho + 1\\right) \\left(d w_{t+1} \\left(n + 1\\right) + s_{payg} \\left(r_{t+1} + 1\\right)\\right)} - \\frac{1}{- s_{payg} + w_{t} \\left(- d + 1\\right)}$$"
      ],
      "text/plain": [
       "                      rₜ₊₁ + 1                               1          \n",
       "0 = ──────────────────────────────────────────── - ─────────────────────\n",
       "    (ρ + 1)⋅(d⋅wₜ₊₁⋅(n + 1) + s_payg⋅(rₜ₊₁ + 1))   -s_payg + wₜ⋅(-d + 1)"
      ]
     },
     "metadata": {},
     "output_type": "display_data"
    },
    {
     "name": "stdout",
     "output_type": "stream",
     "text": [
      "The Savings rate:\n"
     ]
    },
    {
     "data": {
      "image/png": "[encoded data removed]",
      "text/latex": [
       "$$s_{payg} = \\frac{- d n \\rho w_{t+1} - d n w_{t+1} - d r_{t+1} w_{t} - d \\rho w_{t+1} - d w_{t} - d w_{t+1} + r_{t+1} w_{t} + w_{t}}{r_{t+1} \\rho + 2 r_{t+1} + \\rho + 2}$$"
      ],
      "text/plain": [
       "         -d⋅n⋅ρ⋅wₜ₊₁ - d⋅n⋅wₜ₊₁ - d⋅rₜ₊₁⋅wₜ - d⋅ρ⋅wₜ₊₁ - d⋅wₜ - d⋅wₜ₊₁ + rₜ₊₁⋅\n",
       "s_payg = ─────────────────────────────────────────────────────────────────────\n",
       "                                   rₜ₊₁⋅ρ + 2⋅rₜ₊₁ + ρ + 2                    \n",
       "\n",
       "wₜ + wₜ\n",
       "───────\n",
       "       "
      ]
     },
     "metadata": {},
     "output_type": "display_data"
    }
   ],
   "source": [
    "# Solve the household problem and find s\n",
    "U_payg = sm.log(w_t*(1-d)-s_payg)+(1/(1+rho))*sm.log((1+r_plus)*s_payg+w_plus*d*(1+n))\n",
    "print(f'The life-time utility')\n",
    "display(sm.Eq(U,U_payg))\n",
    "U_d_payg = sm.diff(U_payg,s_payg)\n",
    "print(f'The First Order Condition:')\n",
    "display(sm.Eq(0,U_d_payg))\n",
    "usolve_payg = sm.solve((r_plus + 1)/((rho + 1)*(d*w_plus*(n + 1) + s_payg*(r_plus + 1))) - 1/(-s_payg + w_t*(-d + 1)),s_payg)[0]\n",
    "print(f'The Savings rate:')\n",
    "display(sm.Eq(s_payg,usolve_payg))"
   ]
  },
  {
   "cell_type": "markdown",
   "metadata": {},
   "source": [
    "## Finding staedy state"
   ]
  },
  {
   "cell_type": "markdown",
   "metadata": {},
   "source": [
    "### The transition curve"
   ]
  },
  {
   "cell_type": "markdown",
   "metadata": {},
   "source": [
    "Now we set up the transition curve, and we have done some algebraic reduction of the savings function, and we insert the marginal products from the firm problem from the General OLG model.\n",
    "\\begin{eqnarray*}\n",
    "\\frac{K_{t+1}}{L_{t+1}} =k_{t+1}=s_t  \\frac{L_t}{L_{t+1}} =s_t  \\frac{L_t}{(L_t (1+n) )}=\\frac{s_t}{(1+n)}=\\frac{1}{(1+n)(2+\\rho)}(w_t(1-d)-w_{t+1}d \\frac{(1+\\rho)(1+n)}{1+r_{t+1}}) = \\frac{1}{(1+n)(2+\\rho)}((1-\\alpha)Ak_t^\\alpha(1-d)-(1-\\alpha)Ak_{t+1}^\\alpha d \\frac{(1+\\rho)(1+n)}{1+\\alpha Ak_{t+1}^{\\alpha-1}-\\delta})\n",
    "\\end{eqnarray*}"
   ]
  },
  {
   "cell_type": "markdown",
   "metadata": {},
   "source": [
    "### Analytical solution\n",
    "We have manually isolated the $k's$ in the transition curve function above, do to sympy not being able to do it.\n",
    "We found the steady state in the PAYG OLG model only defined by parameters, and defined it as a function to show steady state in the analytic solution."
   ]
  },
  {
   "cell_type": "code",
   "execution_count": 18,
   "metadata": {},
   "outputs": [
    {
     "name": "stdout",
     "output_type": "stream",
     "text": [
      "The steady state in the PAYG OLG model is:\n"
     ]
    },
    {
     "data": {
      "image/png": "[encoded data removed]",
      "text/latex": [
       "$$k^{*}_{payg} = \\left(\\frac{\\alpha \\left(- \\alpha + 1\\right) \\left(- d + 1\\right)}{\\alpha \\left(n + 1\\right) \\left(\\rho + 2\\right) + d \\left(- \\alpha + 1\\right) \\left(n + 1\\right) \\left(\\rho + 1\\right)}\\right)^{\\frac{1}{- \\alpha + 1}}$$"
      ],
      "text/plain": [
       "                                                              1   \n",
       "                                                            ──────\n",
       "                                                            -α + 1\n",
       "            ⎛             α⋅(-α + 1)⋅(-d + 1)              ⎞      \n",
       "k_payg__* = ⎜──────────────────────────────────────────────⎟      \n",
       "            ⎝α⋅(n + 1)⋅(ρ + 2) + d⋅(-α + 1)⋅(n + 1)⋅(ρ + 1)⎠      "
      ]
     },
     "metadata": {},
     "output_type": "display_data"
    }
   ],
   "source": [
    "# Defining steady state value of k\n",
    "def kss_payg2(alpha,n,rho,A,delta,d):\n",
    "    return ((alpha*(1-alpha)*(1-d))/((1+n)*(2+rho)*alpha+(1+n)*(1-alpha)*d*(1+rho)))**(1/(1-alpha))\n",
    "print(f'The steady state in the PAYG OLG model is:')\n",
    "display(sm.Eq(kpaygss,(((alpha*(1-alpha)*(1-d))/((1+n)*(2+rho)*alpha+(1+n)*(1-alpha)*d*(1+rho)))**(1/(1-alpha)))))"
   ]
  },
  {
   "cell_type": "code",
   "execution_count": 19,
   "metadata": {},
   "outputs": [
    {
     "data": {
      "image/png": "[encoded data removed]",
      "text/latex": [
       "$$0.1259062929956192$$"
      ],
      "text/plain": [
       "0.1259062929956192"
      ]
     },
     "execution_count": 19,
     "metadata": {},
     "output_type": "execute_result"
    }
   ],
   "source": [
    "# Solves SS for k, given input\n",
    "kss_payg2(1/3,0.02,0.04,1,1,0.12)"
   ]
  },
  {
   "cell_type": "code",
   "execution_count": 20,
   "metadata": {},
   "outputs": [
    {
     "name": "stdout",
     "output_type": "stream",
     "text": [
      "The steady state value of capital in the PAYG OLG model is :\n"
     ]
    },
    {
     "data": {
      "image/png": "[encoded data removed]",
      "text/latex": [
       "$$k^{*}_{payg} = 0.1259$$"
      ],
      "text/plain": [
       "k_payg__* = 0.1259"
      ]
     },
     "metadata": {},
     "output_type": "display_data"
    }
   ],
   "source": [
    "print(f'The steady state value of capital in the PAYG OLG model is :')\n",
    "display(sm.Eq(kpaygss,0.1259))"
   ]
  },
  {
   "cell_type": "markdown",
   "metadata": {},
   "source": [
    "### Numerical solution\n",
    "Now will find the steady state with numerical analysis. First we define the transition curve function as a lambda function. Then we set up the objective function, which is the transition curve function minus $k_{t+1}$. Lastly we optimize with the root_scalar optimizer. "
   ]
  },
  {
   "cell_type": "code",
   "execution_count": 21,
   "metadata": {},
   "outputs": [],
   "source": [
    "# Defines global values for parameters\n",
    "alpha_v = 1/3\n",
    "n_v = 0.02\n",
    "rho_v = 0.04\n",
    "A_v = 1\n",
    "delta_v = 1\n",
    "d_v = 0.12"
   ]
  },
  {
   "cell_type": "code",
   "execution_count": 22,
   "metadata": {},
   "outputs": [
    {
     "data": {
      "text/plain": [
       "      converged: True\n",
       "           flag: 'converged'\n",
       " function_calls: 8\n",
       "     iterations: 7\n",
       "           root: 0.12590629299561928"
      ]
     },
     "execution_count": 22,
     "metadata": {},
     "output_type": "execute_result"
    }
   ],
   "source": [
    "# Solves the numerical solution\n",
    "transition_payg = lambda k_payg, n, rho, alpha, d, A, delta: ((1/((1+n)*(2+rho)))*((1-alpha)*A*(k_payg**alpha)*(1-d)-(1-alpha)*A*(k_payg**alpha)*d*(((1+rho)*(1+n))/(1+alpha*A*(k_payg**(alpha - 1))-delta))))\n",
    "\n",
    "obj_transition_payg = lambda x, n, rho, alpha, d, A, delta: x - transition_payg(x, n, rho, alpha, d, A, delta)\n",
    "result_payg = optimize.root_scalar(obj_transition_payg, args=(n_v, rho_v, alpha_v, d_v, A_v, delta_v), bracket=[0.1,100],method='brentq')\n",
    "result_payg"
   ]
  },
  {
   "cell_type": "markdown",
   "metadata": {},
   "source": [
    "To make sure that the analytical and numerical solution have found the same result we assert this in the cell below."
   ]
  },
  {
   "cell_type": "code",
   "execution_count": 23,
   "metadata": {},
   "outputs": [
    {
     "name": "stdout",
     "output_type": "stream",
     "text": [
      "Analytical solution is: 0.1259\n",
      "Numerical solution is: 0.1259\n"
     ]
    }
   ],
   "source": [
    "print(f'Analytical solution is: {kss_payg2(alpha_v,n_v,rho_v,A_v,delta_v,d_v):.4f}')\n",
    "print(f'Numerical solution is: {result_payg.root:.4f}')\n",
    "\n",
    "assert abs(kss_payg2(alpha_v,n_v,rho_v,A_v,delta_v,d_v) - result_payg.root) < 10**(-2)"
   ]
  },
  {
   "cell_type": "markdown",
   "metadata": {},
   "source": [
    "## Visualization of the PAYG OLG model"
   ]
  },
  {
   "cell_type": "markdown",
   "metadata": {},
   "source": [
    "We will again make visualizations of the model. The PAYG model, also has the option to change the share of capital, $\\alpha$, the discount factor on consumption when old, $\\rho$, and the population growth $n$."
   ]
  },
  {
   "cell_type": "code",
   "execution_count": 24,
   "metadata": {},
   "outputs": [],
   "source": [
    "# Defining transistion curve PAYG model\n",
    "def trans_func_payg(k_t, alpha, A, rho, n, d, delta):\n",
    "    return (alpha*(1-alpha)*(1-d)*k_t**alpha)/((1+n)*(2+rho)*alpha+(1+n)*(1-alpha)*d*(1+rho))\n",
    "k_t = np.linspace(0,1,1000)"
   ]
  },
  {
   "cell_type": "code",
   "execution_count": 25,
   "metadata": {},
   "outputs": [],
   "source": [
    "#Defining the plots\n",
    "def plot_alpha_payg(alpha):\n",
    "    print(f\"The analytic solution is {kss_payg2(alpha, n_v, rho_v, A_v, delta_v, d_v):.4f}\")\n",
    "    plt.figure(dpi=100)\n",
    "    plt.xlabel('k_t')\n",
    "    plt.ylabel('k_t+1')\n",
    "    plt.title('PAYG OLG model - change in $\\\\alpha$')\n",
    "    plt.xlim([0,1]) # fixed x range\n",
    "    plt.ylim([0,0.5]) # fixed y range\n",
    "    plt.plot(range(10),range(10), color = 'black')\n",
    "    plt.plot(k_t,trans_func_payg(k_t, alpha, A_v, rho_v, n_v, d_v, delta_v))\n",
    "    plt.plot(kss_payg2(alpha, n_v, rho_v, A_v, delta_v, d_v), kss_payg2(alpha, n_v, rho_v, A_v, delta_v, d_v), marker='o')\n",
    "    plt.legend(('45\\N{DEGREE SIGN}-line', 'PAYG OLG', 'Steady state'), loc='upper right')\n",
    "    plt.grid()\n",
    "    return plt\n",
    "\n",
    "def plot_rho_payg(rho):\n",
    "    print(f\"The analytic solution is {kss_payg2(alpha_v, n_v, rho, A_v, delta_v, d_v):.4f}\")\n",
    "    plt.figure(dpi=100)\n",
    "    plt.xlabel('k_t')\n",
    "    plt.ylabel('k_t+1')\n",
    "    plt.title('PAYG OLG model - change in $\\\\rho$')\n",
    "    plt.xlim([0,1]) # fixed x range\n",
    "    plt.ylim([0,0.5]) # fixed y range\n",
    "    plt.plot(range(10),range(10), color = 'black')\n",
    "    plt.plot(k_t,trans_func_payg(k_t, alpha_v, A_v, rho, n_v, d_v, delta_v))\n",
    "    plt.plot(kss_payg2(alpha_v, n_v, rho, A_v, delta_v, d_v),kss_payg2(alpha_v, n_v, rho, A_v, delta_v, d_v), marker='o')\n",
    "    plt.legend(('45\\N{DEGREE SIGN}-line', 'PAYG OLG', 'Steady state'), loc='upper right')\n",
    "    plt.grid()\n",
    "    return plt\n",
    "\n",
    "\n",
    "def plot_n_payg(n):\n",
    "    print(f\"The analytic solution is {kss_payg2(alpha_v, n, rho_v, A_v, delta_v, d_v):.4f}\")\n",
    "    plt.figure(dpi=100)\n",
    "    plt.xlabel('k_t')\n",
    "    plt.ylabel('k_t+1')\n",
    "    plt.title('PAYG OLG model - change in $n$')\n",
    "    plt.xlim([0,1]) # fixed x range\n",
    "    plt.ylim([0,0.5]) # fixed y range\n",
    "    plt.plot(range(10),range(10), color = 'black')\n",
    "    plt.plot(k_t,trans_func_payg(k_t, alpha_v, A_v, rho_v, n, d_v, delta_v))\n",
    "    plt.plot(kss_payg2(alpha_v, n, rho_v, A_v, delta_v, d_v),kss_payg2(alpha_v, n, rho_v, A_v, delta_v, d_v), marker='o')\n",
    "    plt.legend(('45\\N{DEGREE SIGN}-line', 'PAYG OLG', 'Steady state'), loc='upper right')\n",
    "    plt.grid()\n",
    "    return plt"
   ]
  },
  {
   "cell_type": "code",
   "execution_count": 26,
   "metadata": {},
   "outputs": [
    {
     "data": {
      "application/vnd.jupyter.widget-view+json": {
       "model_id": "be1969f232074905b58590445f4b0111",
       "version_major": 2,
       "version_minor": 0
      },
      "text/plain": [
       "interactive(children=(FloatSlider(value=0.3333333333333333, continuous_update=False, description='$\\\\alpha$', …"
      ]
     },
     "metadata": {},
     "output_type": "display_data"
    },
    {
     "data": {
      "application/vnd.jupyter.widget-view+json": {
       "model_id": "1a365ce1ecf446c4bc73d8e38616724f",
       "version_major": 2,
       "version_minor": 0
      },
      "text/plain": [
       "interactive(children=(FloatSlider(value=0.04, continuous_update=False, description='$\\\\rho$', max=1.0, min=-0.…"
      ]
     },
     "metadata": {},
     "output_type": "display_data"
    },
    {
     "data": {
      "application/vnd.jupyter.widget-view+json": {
       "model_id": "0a6efef4dc0e474c992aed794eb6a100",
       "version_major": 2,
       "version_minor": 0
      },
      "text/plain": [
       "interactive(children=(FloatSlider(value=0.02, continuous_update=False, description='n', max=0.1, min=-0.1, ste…"
      ]
     },
     "metadata": {},
     "output_type": "display_data"
    },
    {
     "data": {
      "text/plain": [
       "<function __main__.plot_n_payg(n)>"
      ]
     },
     "execution_count": 26,
     "metadata": {},
     "output_type": "execute_result"
    }
   ],
   "source": [
    "widgets.interact(\n",
    "        plot_alpha_payg, \n",
    "        alpha = widgets.FloatSlider(\n",
    "            description=\"$\\\\alpha$\",\n",
    "            min=0.01,\n",
    "            max=0.99,\n",
    "            step=0.01,\n",
    "            value=alpha_v,\n",
    "            continuous_update=False,\n",
    "        ), \n",
    "    )\n",
    "\n",
    "widgets.interact(\n",
    "        plot_rho_payg, \n",
    "        rho = widgets.FloatSlider(\n",
    "            description=\"$\\\\rho$\",\n",
    "            min=-.99,\n",
    "            max=1,\n",
    "            step=0.1,\n",
    "            value=rho_v,\n",
    "            continuous_update=False,\n",
    "        ), \n",
    "    )\n",
    "\n",
    "widgets.interact(\n",
    "        plot_n_payg, \n",
    "        n = widgets.FloatSlider(\n",
    "            description=\"n\",\n",
    "            min=-.10,\n",
    "            max=0.1,\n",
    "            step=0.01,\n",
    "            value=n_v,\n",
    "            continuous_update=False,\n",
    "        ), \n",
    "    )"
   ]
  },
  {
   "cell_type": "markdown",
   "metadata": {},
   "source": [
    "The PAYG OLG model has the exact same properties on the parameters as in the General OLG model. The changes are just smaller, as the level of capital per capita is lower in steady state for the PAYG OLG model."
   ]
  },
  {
   "cell_type": "markdown",
   "metadata": {},
   "source": [
    "# Comparing\n",
    "Before drawing our conclusion we will compare the to OLG models against each other in the figure below, to better get a grasp on their differences.\n",
    "Using the same code and procedures as above we have contained it all in one plot."
   ]
  },
  {
   "cell_type": "code",
   "execution_count": 27,
   "metadata": {},
   "outputs": [
    {
     "data": {
      "application/vnd.jupyter.widget-view+json": {
       "model_id": "13277bc63fe440afa50b43eb18348eae",
       "version_major": 2,
       "version_minor": 0
      },
      "text/plain": [
       "interactive(children=(FloatSlider(value=0.3333333333333333, continuous_update=False, description='$\\\\alpha$', …"
      ]
     },
     "metadata": {},
     "output_type": "display_data"
    },
    {
     "data": {
      "text/plain": [
       "<function __main__.plot_com(alpha, n, rho)>"
      ]
     },
     "execution_count": 27,
     "metadata": {},
     "output_type": "execute_result"
    }
   ],
   "source": [
    "def plot_com(alpha, n, rho):\n",
    "    print(f\"Interactive figure comparing The General OLG Model and The PAYG OLG Model\")\n",
    "    plt.figure(dpi=100)\n",
    "    plt.xlabel('k_t')\n",
    "    plt.ylabel('k_t+1')\n",
    "    plt.title('PAYG model - change in $\\\\alpha$, $n$ and $\\\\rho$')\n",
    "    plt.xlim([0,1]) # fixed x range\n",
    "    plt.ylim([0,1]) # fixed y range\n",
    "    plt.plot(range(10),range(10), color = 'black')\n",
    "    plt.plot(k_t,trans_func(k_t, alpha, A_v, rho, n))\n",
    "    plt.plot(k_t,trans_func_payg(k_t, alpha, A_v, rho, n, d_v, delta_v))\n",
    "    plt.plot(ss_func(alpha, n,rho ,A_v), ss_func(alpha, n,rho ,A_v), marker='x')\n",
    "    plt.plot(kss_payg2(alpha, n, rho, A_v, delta_v, d_v), kss_payg2(alpha, n, rho, A_v, delta_v, d_v), marker='o')\n",
    "    plt.legend(('45\\N{DEGREE SIGN}-line','General OLG', 'PAYG OLG', 'Steady state for General OLG', 'Steady state for PAYG OLG'), loc='upper right')\n",
    "    plt.grid()\n",
    "    return plt\n",
    "\n",
    "widgets.interact(\n",
    "        plot_com, \n",
    "        alpha = widgets.FloatSlider(\n",
    "            description=\"$\\\\alpha$\",\n",
    "            min=0.01,\n",
    "            max=0.99,\n",
    "            step=0.01,\n",
    "            value=alpha_v,\n",
    "            continuous_update=False,\n",
    "        ),\n",
    "            n = widgets.FloatSlider(\n",
    "            description=\"$n$\",\n",
    "            min=-0.2,\n",
    "            max=2,\n",
    "            step=0.01,\n",
    "            value=n_v,\n",
    "            continuous_update=False,\n",
    "        ),\n",
    "            rho = widgets.FloatSlider(\n",
    "            description=\"$\\\\rho$\",\n",
    "            min=-0.99,\n",
    "            max=0.99,\n",
    "            step=0.01,\n",
    "            value=rho_v,\n",
    "            continuous_update=False,\n",
    "        ),\n",
    "    )"
   ]
  },
  {
   "cell_type": "markdown",
   "metadata": {},
   "source": [
    "# Conclusion"
   ]
  },
  {
   "cell_type": "markdown",
   "metadata": {},
   "source": [
    "For all parameter values the steady state value of capital per capita is always larger in the General OLG model, than in the PAYG OLG model. This follow economic theory, as the way the PAYG OLG model is build, with the tax transfer of income. The young generation pays a part of their income straight to the elder generation, which requires a lower level of capital, as the old generation now needs a lower level of savings."
   ]
  }
 ],
 "metadata": {
  "kernelspec": {
   "display_name": "Python 3",
   "language": "python",
   "name": "python3"
  },
  "language_info": {
   "codemirror_mode": {
    "name": "ipython",
    "version": 3
   },
   "file_extension": ".py",
   "mimetype": "text/x-python",
   "name": "python",
   "nbconvert_exporter": "python",
   "pygments_lexer": "ipython3",
   "version": "3.7.1"
  },
  "toc-autonumbering": true
 },
 "nbformat": 4,
 "nbformat_minor": 2
}
