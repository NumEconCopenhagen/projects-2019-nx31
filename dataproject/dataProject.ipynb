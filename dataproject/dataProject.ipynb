{
 "cells": [
  {
   "cell_type": "markdown",
   "metadata": {},
   "source": [
    " # NX31 - Dataproject"
   ]
  },
  {
   "cell_type": "markdown",
   "metadata": {},
   "source": [
    "# Introduction\n",
    "\n",
    "This dataproject examines the employment changes, by looking at the workforce distribution in Denmark, from Q1 2009 and until Q4 2018. It contains a data analysis of the employment, in both the private and public sector over this period. It tries to explain the fluctuations, using known events and changes to policies, over this period. We will also include both stationary and interactive plots to better visualize the changes to the employment over this periode.\n",
    "\n",
    "During this project, we will be doing the following:\n",
    "* Establish an API connection to Statistics Denmark, to feed the analysis data\n",
    "* Clean and structure this data\n",
    "* Plot this data\n",
    "* Make an analysis and compare results\n",
    "* Conclusion"
   ]
  },
  {
   "cell_type": "markdown",
   "metadata": {},
   "source": [
    "## Packages and extentions \n",
    "\n",
    "We will load the following packages and attributes for this data project."
   ]
  },
  {
   "cell_type": "code",
   "execution_count": 1,
   "metadata": {},
   "outputs": [],
   "source": [
    "# These two lines above makes sure that the functions and packages are automatically reloaded each time we run a cell.\n",
    "%load_ext autoreload\n",
    "%autoreload 2"
   ]
  },
  {
   "cell_type": "code",
   "execution_count": 2,
   "metadata": {},
   "outputs": [],
   "source": [
    "# Imports the packages that are needed to run the project in full.\n",
    "import numpy as np\n",
    "import matplotlib.pyplot as plt\n",
    "import pandas as pd\n",
    "import pydst\n",
    "import matplotlib.ticker as mtick\n",
    "import ipywidgets as widgets"
   ]
  },
  {
   "cell_type": "markdown",
   "metadata": {},
   "source": [
    "# Data\n",
    "\n",
    "We have choosen to use the PyDST package that can load data from Statistics Denmark, using an API call. As we want to look into the workforce distribution, we start by finding the data we want. We do this using our browser on Statistic Denmark. From our research we will need to load the table \"LBESK21\" as this table includes data on how many is employed in the public and private sector. We put in the table id we just found, and start off by looking into, what variables that are present in the table.  \n",
    "\n",
    "We use the information about the variables, when we load in the data, to sort out data that we don't need. The PyDST packages then makes sure, we only get the data that we are interested in, feeding it what variables we want to look at."
   ]
  },
  {
   "cell_type": "code",
   "execution_count": 3,
   "metadata": {},
   "outputs": [
    {
     "data": {
      "text/html": [
       "<div>\n",
       "<style scoped>\n",
       "    .dataframe tbody tr th:only-of-type {\n",
       "        vertical-align: middle;\n",
       "    }\n",
       "\n",
       "    .dataframe tbody tr th {\n",
       "        vertical-align: top;\n",
       "    }\n",
       "\n",
       "    .dataframe thead th {\n",
       "        text-align: right;\n",
       "    }\n",
       "</style>\n",
       "<table border=\"1\" class=\"dataframe\">\n",
       "  <thead>\n",
       "    <tr style=\"text-align: right;\">\n",
       "      <th></th>\n",
       "      <th>elimination</th>\n",
       "      <th>id</th>\n",
       "      <th>text</th>\n",
       "      <th>time</th>\n",
       "      <th>values</th>\n",
       "    </tr>\n",
       "  </thead>\n",
       "  <tbody>\n",
       "    <tr>\n",
       "      <th>0</th>\n",
       "      <td>False</td>\n",
       "      <td>TAL</td>\n",
       "      <td>unit</td>\n",
       "      <td>False</td>\n",
       "      <td>[{'id': '1020', 'text': 'Employees'}, {'id': '...</td>\n",
       "    </tr>\n",
       "    <tr>\n",
       "      <th>1</th>\n",
       "      <td>True</td>\n",
       "      <td>SEKTOR</td>\n",
       "      <td>sector</td>\n",
       "      <td>False</td>\n",
       "      <td>[{'id': '1000', 'text': 'All sectors'}, {'id':...</td>\n",
       "    </tr>\n",
       "    <tr>\n",
       "      <th>2</th>\n",
       "      <td>False</td>\n",
       "      <td>Tid</td>\n",
       "      <td>time</td>\n",
       "      <td>True</td>\n",
       "      <td>[{'id': '2008K1', 'text': '2008Q1'}, {'id': '2...</td>\n",
       "    </tr>\n",
       "  </tbody>\n",
       "</table>\n",
       "</div>"
      ],
      "text/plain": [
       "   elimination      id    text   time  \\\n",
       "0        False     TAL    unit  False   \n",
       "1         True  SEKTOR  sector  False   \n",
       "2        False     Tid    time   True   \n",
       "\n",
       "                                              values  \n",
       "0  [{'id': '1020', 'text': 'Employees'}, {'id': '...  \n",
       "1  [{'id': '1000', 'text': 'All sectors'}, {'id':...  \n",
       "2  [{'id': '2008K1', 'text': '2008Q1'}, {'id': '2...  "
      ]
     },
     "execution_count": 3,
     "metadata": {},
     "output_type": "execute_result"
    }
   ],
   "source": [
    "# Creates a variable that sets the pydst package to load data variables in english\n",
    "dst = pydst.Dst(lang='en') \n",
    "\n",
    "FTE_variables = dst.get_variables(table_id = 'LBESK21')\n",
    "FTE_variables"
   ]
  },
  {
   "cell_type": "code",
   "execution_count": 4,
   "metadata": {},
   "outputs": [
    {
     "data": {
      "text/plain": [
       "[{'id': '1020', 'text': 'Employees'},\n",
       " {'id': '1010', 'text': 'Full-time employees'}]"
      ]
     },
     "execution_count": 4,
     "metadata": {},
     "output_type": "execute_result"
    }
   ],
   "source": [
    "# Shows what variables that is contained in the table\n",
    "FTE_variables['values'][0][:]"
   ]
  },
  {
   "cell_type": "code",
   "execution_count": 5,
   "metadata": {},
   "outputs": [
    {
     "data": {
      "text/plain": [
       "[{'id': '1000', 'text': 'All sectors'},\n",
       " {'id': '1015', 'text': 'Central government'},\n",
       " {'id': '1020', 'text': 'Regional government'},\n",
       " {'id': '1025', 'text': 'Municipal government'},\n",
       " {'id': '1030', 'text': 'Social security funds'},\n",
       " {'id': '1035', 'text': 'Public corporations'},\n",
       " {'id': '1040', 'text': 'Private corporations'},\n",
       " {'id': '1045', 'text': 'Private nonprofit organizations'},\n",
       " {'id': '1050', 'text': 'Sector not stated'}]"
      ]
     },
     "execution_count": 5,
     "metadata": {},
     "output_type": "execute_result"
    }
   ],
   "source": [
    "# Shows what variables that is contained in the table\n",
    "FTE_variables['values'][1][:]"
   ]
  },
  {
   "cell_type": "markdown",
   "metadata": {},
   "source": [
    "We see that the data for employment in Denmark has 9 different variables, where one of them contains a total of the other 8. And we are only interested in the Full-time employees."
   ]
  },
  {
   "cell_type": "markdown",
   "metadata": {},
   "source": [
    "### Creating Dictionaires\n",
    "\n",
    "We create the following dictionaries to better structure the data and to create shorter or more precise variable names. </br>\n",
    "We again use the variable names which we found above to make these dictionaires."
   ]
  },
  {
   "cell_type": "code",
   "execution_count": 6,
   "metadata": {},
   "outputs": [],
   "source": [
    "# Creates empty dictionairies, which we fill with keys and a  corresponding values.\n",
    "columns_dict = {}\n",
    "columns_dict['TAL'] = 'Type'\n",
    "columns_dict['SEKTOR'] = 'Sector'\n",
    "columns_dict['TID'] = 'Quarter'\n",
    "columns_dict['INDHOLD'] = 'FTE'\n",
    "\n",
    "var_dict = {} \n",
    "var_dict['All sectors'] = 'Total'\n",
    "var_dict['Central government'] = 'Central'\n",
    "var_dict['Regional government'] = 'Regional'\n",
    "var_dict['Municipal government'] = 'Municipal'\n",
    "var_dict['Social security funds'] = 'Social'\n",
    "var_dict['Public corporations'] = 'Public corp'\n",
    "var_dict['Private corporations'] = 'Private corp'\n",
    "var_dict['Private nonprofit organizations'] = 'Private NPO'\n",
    "var_dict['Sector not stated'] = 'SNS'"
   ]
  },
  {
   "cell_type": "markdown",
   "metadata": {},
   "source": [
    "### Importing Data\n",
    "\n",
    "We now import data from Statistic Denmark using the PyDST. We use the variables we found above, so we only get the data from the full-time employess. In this case we need all Sector data from the table as well as all periods."
   ]
  },
  {
   "cell_type": "code",
   "execution_count": 7,
   "metadata": {},
   "outputs": [
    {
     "data": {
      "text/html": [
       "<div>\n",
       "<style scoped>\n",
       "    .dataframe tbody tr th:only-of-type {\n",
       "        vertical-align: middle;\n",
       "    }\n",
       "\n",
       "    .dataframe tbody tr th {\n",
       "        vertical-align: top;\n",
       "    }\n",
       "\n",
       "    .dataframe thead th {\n",
       "        text-align: right;\n",
       "    }\n",
       "</style>\n",
       "<table border=\"1\" class=\"dataframe\">\n",
       "  <thead>\n",
       "    <tr style=\"text-align: right;\">\n",
       "      <th></th>\n",
       "      <th>SEKTOR</th>\n",
       "      <th>TAL</th>\n",
       "      <th>TID</th>\n",
       "      <th>INDHOLD</th>\n",
       "    </tr>\n",
       "  </thead>\n",
       "  <tbody>\n",
       "    <tr>\n",
       "      <th>0</th>\n",
       "      <td>All sectors</td>\n",
       "      <td>Full-time employees</td>\n",
       "      <td>2008Q1</td>\n",
       "      <td>2245921</td>\n",
       "    </tr>\n",
       "    <tr>\n",
       "      <th>1</th>\n",
       "      <td>Central government</td>\n",
       "      <td>Full-time employees</td>\n",
       "      <td>2008Q1</td>\n",
       "      <td>164276</td>\n",
       "    </tr>\n",
       "    <tr>\n",
       "      <th>2</th>\n",
       "      <td>Regional government</td>\n",
       "      <td>Full-time employees</td>\n",
       "      <td>2008Q1</td>\n",
       "      <td>111410</td>\n",
       "    </tr>\n",
       "    <tr>\n",
       "      <th>3</th>\n",
       "      <td>Municipal government</td>\n",
       "      <td>Full-time employees</td>\n",
       "      <td>2008Q1</td>\n",
       "      <td>431690</td>\n",
       "    </tr>\n",
       "    <tr>\n",
       "      <th>4</th>\n",
       "      <td>Social security funds</td>\n",
       "      <td>Full-time employees</td>\n",
       "      <td>2008Q1</td>\n",
       "      <td>1921</td>\n",
       "    </tr>\n",
       "    <tr>\n",
       "      <th>5</th>\n",
       "      <td>Public corporations</td>\n",
       "      <td>Full-time employees</td>\n",
       "      <td>2008Q1</td>\n",
       "      <td>66524</td>\n",
       "    </tr>\n",
       "    <tr>\n",
       "      <th>6</th>\n",
       "      <td>Private corporations</td>\n",
       "      <td>Full-time employees</td>\n",
       "      <td>2008Q1</td>\n",
       "      <td>1419034</td>\n",
       "    </tr>\n",
       "    <tr>\n",
       "      <th>7</th>\n",
       "      <td>Private nonprofit organizations</td>\n",
       "      <td>Full-time employees</td>\n",
       "      <td>2008Q1</td>\n",
       "      <td>50890</td>\n",
       "    </tr>\n",
       "    <tr>\n",
       "      <th>8</th>\n",
       "      <td>Sector not stated</td>\n",
       "      <td>Full-time employees</td>\n",
       "      <td>2008Q1</td>\n",
       "      <td>176</td>\n",
       "    </tr>\n",
       "    <tr>\n",
       "      <th>9</th>\n",
       "      <td>All sectors</td>\n",
       "      <td>Full-time employees</td>\n",
       "      <td>2008Q2</td>\n",
       "      <td>2293127</td>\n",
       "    </tr>\n",
       "  </tbody>\n",
       "</table>\n",
       "</div>"
      ],
      "text/plain": [
       "                            SEKTOR                  TAL     TID  INDHOLD\n",
       "0                      All sectors  Full-time employees  2008Q1  2245921\n",
       "1               Central government  Full-time employees  2008Q1   164276\n",
       "2              Regional government  Full-time employees  2008Q1   111410\n",
       "3             Municipal government  Full-time employees  2008Q1   431690\n",
       "4            Social security funds  Full-time employees  2008Q1     1921\n",
       "5              Public corporations  Full-time employees  2008Q1    66524\n",
       "6             Private corporations  Full-time employees  2008Q1  1419034\n",
       "7  Private nonprofit organizations  Full-time employees  2008Q1    50890\n",
       "8                Sector not stated  Full-time employees  2008Q1      176\n",
       "9                      All sectors  Full-time employees  2008Q2  2293127"
      ]
     },
     "execution_count": 7,
     "metadata": {},
     "output_type": "execute_result"
    }
   ],
   "source": [
    "# Creates a variable that contains the data from the table, which we give as input.\n",
    "FTE_raw = dst.get_data(table_id = 'LBESK21', variables = {'SEKTOR':['*'], 'TAL':['1010'], 'Tid':['*']})\n",
    "\n",
    "FTE_raw.head(10)"
   ]
  },
  {
   "cell_type": "markdown",
   "metadata": {},
   "source": [
    "### Renaming variables\n",
    "We use the dictionaries to rename the variable names."
   ]
  },
  {
   "cell_type": "code",
   "execution_count": 8,
   "metadata": {},
   "outputs": [
    {
     "data": {
      "text/html": [
       "<div>\n",
       "<style scoped>\n",
       "    .dataframe tbody tr th:only-of-type {\n",
       "        vertical-align: middle;\n",
       "    }\n",
       "\n",
       "    .dataframe tbody tr th {\n",
       "        vertical-align: top;\n",
       "    }\n",
       "\n",
       "    .dataframe thead th {\n",
       "        text-align: right;\n",
       "    }\n",
       "</style>\n",
       "<table border=\"1\" class=\"dataframe\">\n",
       "  <thead>\n",
       "    <tr style=\"text-align: right;\">\n",
       "      <th></th>\n",
       "      <th>Sector</th>\n",
       "      <th>Type</th>\n",
       "      <th>Quarter</th>\n",
       "      <th>FTE</th>\n",
       "    </tr>\n",
       "  </thead>\n",
       "  <tbody>\n",
       "    <tr>\n",
       "      <th>0</th>\n",
       "      <td>Total</td>\n",
       "      <td>Full-time employees</td>\n",
       "      <td>2008Q1</td>\n",
       "      <td>2245921</td>\n",
       "    </tr>\n",
       "    <tr>\n",
       "      <th>1</th>\n",
       "      <td>Central</td>\n",
       "      <td>Full-time employees</td>\n",
       "      <td>2008Q1</td>\n",
       "      <td>164276</td>\n",
       "    </tr>\n",
       "    <tr>\n",
       "      <th>2</th>\n",
       "      <td>Regional</td>\n",
       "      <td>Full-time employees</td>\n",
       "      <td>2008Q1</td>\n",
       "      <td>111410</td>\n",
       "    </tr>\n",
       "    <tr>\n",
       "      <th>3</th>\n",
       "      <td>Municipal</td>\n",
       "      <td>Full-time employees</td>\n",
       "      <td>2008Q1</td>\n",
       "      <td>431690</td>\n",
       "    </tr>\n",
       "    <tr>\n",
       "      <th>4</th>\n",
       "      <td>Social</td>\n",
       "      <td>Full-time employees</td>\n",
       "      <td>2008Q1</td>\n",
       "      <td>1921</td>\n",
       "    </tr>\n",
       "    <tr>\n",
       "      <th>5</th>\n",
       "      <td>Public corp</td>\n",
       "      <td>Full-time employees</td>\n",
       "      <td>2008Q1</td>\n",
       "      <td>66524</td>\n",
       "    </tr>\n",
       "    <tr>\n",
       "      <th>6</th>\n",
       "      <td>Private corp</td>\n",
       "      <td>Full-time employees</td>\n",
       "      <td>2008Q1</td>\n",
       "      <td>1419034</td>\n",
       "    </tr>\n",
       "    <tr>\n",
       "      <th>7</th>\n",
       "      <td>Private NPO</td>\n",
       "      <td>Full-time employees</td>\n",
       "      <td>2008Q1</td>\n",
       "      <td>50890</td>\n",
       "    </tr>\n",
       "    <tr>\n",
       "      <th>8</th>\n",
       "      <td>SNS</td>\n",
       "      <td>Full-time employees</td>\n",
       "      <td>2008Q1</td>\n",
       "      <td>176</td>\n",
       "    </tr>\n",
       "    <tr>\n",
       "      <th>9</th>\n",
       "      <td>Total</td>\n",
       "      <td>Full-time employees</td>\n",
       "      <td>2008Q2</td>\n",
       "      <td>2293127</td>\n",
       "    </tr>\n",
       "  </tbody>\n",
       "</table>\n",
       "</div>"
      ],
      "text/plain": [
       "         Sector                 Type Quarter      FTE\n",
       "0         Total  Full-time employees  2008Q1  2245921\n",
       "1       Central  Full-time employees  2008Q1   164276\n",
       "2      Regional  Full-time employees  2008Q1   111410\n",
       "3     Municipal  Full-time employees  2008Q1   431690\n",
       "4        Social  Full-time employees  2008Q1     1921\n",
       "5   Public corp  Full-time employees  2008Q1    66524\n",
       "6  Private corp  Full-time employees  2008Q1  1419034\n",
       "7   Private NPO  Full-time employees  2008Q1    50890\n",
       "8           SNS  Full-time employees  2008Q1      176\n",
       "9         Total  Full-time employees  2008Q2  2293127"
      ]
     },
     "execution_count": 8,
     "metadata": {},
     "output_type": "execute_result"
    }
   ],
   "source": [
    "# Renames the columns using the dictionaries that we creates\n",
    "FTE_raw.rename(columns = columns_dict, inplace = True) \n",
    "\n",
    "for key, value in var_dict.items():\n",
    "    FTE_raw.Sector.replace(key, value, inplace = True)\n",
    "    \n",
    "FTE_raw.head(10)"
   ]
  },
  {
   "cell_type": "markdown",
   "metadata": {},
   "source": [
    "# Analysis"
   ]
  },
  {
   "cell_type": "markdown",
   "metadata": {},
   "source": [
    "### Table\n",
    "We create this table to give a better view of the data, with the quaters as index and the sectors on the columns section. This way allows us to better follow a changes for a given section from quarter to quarter."
   ]
  },
  {
   "cell_type": "code",
   "execution_count": 9,
   "metadata": {},
   "outputs": [
    {
     "data": {
      "text/html": [
       "<div>\n",
       "<style scoped>\n",
       "    .dataframe tbody tr th:only-of-type {\n",
       "        vertical-align: middle;\n",
       "    }\n",
       "\n",
       "    .dataframe tbody tr th {\n",
       "        vertical-align: top;\n",
       "    }\n",
       "\n",
       "    .dataframe thead th {\n",
       "        text-align: right;\n",
       "    }\n",
       "</style>\n",
       "<table border=\"1\" class=\"dataframe\">\n",
       "  <thead>\n",
       "    <tr style=\"text-align: right;\">\n",
       "      <th>Sector</th>\n",
       "      <th>Central</th>\n",
       "      <th>Municipal</th>\n",
       "      <th>Private NPO</th>\n",
       "      <th>Private corp</th>\n",
       "      <th>Public corp</th>\n",
       "      <th>Regional</th>\n",
       "      <th>SNS</th>\n",
       "      <th>Social</th>\n",
       "      <th>Total</th>\n",
       "    </tr>\n",
       "    <tr>\n",
       "      <th>Quarter</th>\n",
       "      <th></th>\n",
       "      <th></th>\n",
       "      <th></th>\n",
       "      <th></th>\n",
       "      <th></th>\n",
       "      <th></th>\n",
       "      <th></th>\n",
       "      <th></th>\n",
       "      <th></th>\n",
       "    </tr>\n",
       "  </thead>\n",
       "  <tbody>\n",
       "    <tr>\n",
       "      <th>2008Q1</th>\n",
       "      <td>164276</td>\n",
       "      <td>431690</td>\n",
       "      <td>50890</td>\n",
       "      <td>1419034</td>\n",
       "      <td>66524</td>\n",
       "      <td>111410</td>\n",
       "      <td>176</td>\n",
       "      <td>1921</td>\n",
       "      <td>2245921</td>\n",
       "    </tr>\n",
       "    <tr>\n",
       "      <th>2008Q2</th>\n",
       "      <td>167654</td>\n",
       "      <td>438649</td>\n",
       "      <td>51798</td>\n",
       "      <td>1457705</td>\n",
       "      <td>67932</td>\n",
       "      <td>107305</td>\n",
       "      <td>171</td>\n",
       "      <td>1913</td>\n",
       "      <td>2293127</td>\n",
       "    </tr>\n",
       "    <tr>\n",
       "      <th>2008Q3</th>\n",
       "      <td>166319</td>\n",
       "      <td>433840</td>\n",
       "      <td>50579</td>\n",
       "      <td>1434737</td>\n",
       "      <td>67966</td>\n",
       "      <td>111262</td>\n",
       "      <td>155</td>\n",
       "      <td>1849</td>\n",
       "      <td>2266707</td>\n",
       "    </tr>\n",
       "    <tr>\n",
       "      <th>2008Q4</th>\n",
       "      <td>170749</td>\n",
       "      <td>441479</td>\n",
       "      <td>53235</td>\n",
       "      <td>1436549</td>\n",
       "      <td>66651</td>\n",
       "      <td>114385</td>\n",
       "      <td>146</td>\n",
       "      <td>1843</td>\n",
       "      <td>2285036</td>\n",
       "    </tr>\n",
       "    <tr>\n",
       "      <th>2009Q1</th>\n",
       "      <td>169315</td>\n",
       "      <td>442231</td>\n",
       "      <td>52361</td>\n",
       "      <td>1370906</td>\n",
       "      <td>63247</td>\n",
       "      <td>114244</td>\n",
       "      <td>160</td>\n",
       "      <td>1843</td>\n",
       "      <td>2214306</td>\n",
       "    </tr>\n",
       "    <tr>\n",
       "      <th>2009Q2</th>\n",
       "      <td>172790</td>\n",
       "      <td>449778</td>\n",
       "      <td>52847</td>\n",
       "      <td>1345956</td>\n",
       "      <td>63739</td>\n",
       "      <td>116310</td>\n",
       "      <td>158</td>\n",
       "      <td>1873</td>\n",
       "      <td>2203450</td>\n",
       "    </tr>\n",
       "    <tr>\n",
       "      <th>2009Q3</th>\n",
       "      <td>170775</td>\n",
       "      <td>445803</td>\n",
       "      <td>52026</td>\n",
       "      <td>1319382</td>\n",
       "      <td>63619</td>\n",
       "      <td>115956</td>\n",
       "      <td>185</td>\n",
       "      <td>1889</td>\n",
       "      <td>2169636</td>\n",
       "    </tr>\n",
       "    <tr>\n",
       "      <th>2009Q4</th>\n",
       "      <td>173914</td>\n",
       "      <td>450609</td>\n",
       "      <td>54189</td>\n",
       "      <td>1308777</td>\n",
       "      <td>62527</td>\n",
       "      <td>118369</td>\n",
       "      <td>174</td>\n",
       "      <td>1896</td>\n",
       "      <td>2170454</td>\n",
       "    </tr>\n",
       "    <tr>\n",
       "      <th>2010Q1</th>\n",
       "      <td>172563</td>\n",
       "      <td>450873</td>\n",
       "      <td>53405</td>\n",
       "      <td>1256157</td>\n",
       "      <td>61600</td>\n",
       "      <td>117452</td>\n",
       "      <td>154</td>\n",
       "      <td>1860</td>\n",
       "      <td>2114063</td>\n",
       "    </tr>\n",
       "    <tr>\n",
       "      <th>2010Q2</th>\n",
       "      <td>175288</td>\n",
       "      <td>457033</td>\n",
       "      <td>53918</td>\n",
       "      <td>1291292</td>\n",
       "      <td>61138</td>\n",
       "      <td>117755</td>\n",
       "      <td>159</td>\n",
       "      <td>1877</td>\n",
       "      <td>2158461</td>\n",
       "    </tr>\n",
       "  </tbody>\n",
       "</table>\n",
       "</div>"
      ],
      "text/plain": [
       "Sector   Central  Municipal  Private NPO  Private corp  Public corp  Regional  \\\n",
       "Quarter                                                                         \n",
       "2008Q1    164276     431690        50890       1419034        66524    111410   \n",
       "2008Q2    167654     438649        51798       1457705        67932    107305   \n",
       "2008Q3    166319     433840        50579       1434737        67966    111262   \n",
       "2008Q4    170749     441479        53235       1436549        66651    114385   \n",
       "2009Q1    169315     442231        52361       1370906        63247    114244   \n",
       "2009Q2    172790     449778        52847       1345956        63739    116310   \n",
       "2009Q3    170775     445803        52026       1319382        63619    115956   \n",
       "2009Q4    173914     450609        54189       1308777        62527    118369   \n",
       "2010Q1    172563     450873        53405       1256157        61600    117452   \n",
       "2010Q2    175288     457033        53918       1291292        61138    117755   \n",
       "\n",
       "Sector   SNS  Social    Total  \n",
       "Quarter                        \n",
       "2008Q1   176    1921  2245921  \n",
       "2008Q2   171    1913  2293127  \n",
       "2008Q3   155    1849  2266707  \n",
       "2008Q4   146    1843  2285036  \n",
       "2009Q1   160    1843  2214306  \n",
       "2009Q2   158    1873  2203450  \n",
       "2009Q3   185    1889  2169636  \n",
       "2009Q4   174    1896  2170454  \n",
       "2010Q1   154    1860  2114063  \n",
       "2010Q2   159    1877  2158461  "
      ]
     },
     "execution_count": 9,
     "metadata": {},
     "output_type": "execute_result"
    }
   ],
   "source": [
    "# Creates a copy of our data and pivot the data using the 'Quarter' as the index.\n",
    "FTE_table = FTE_raw.copy().pivot(index = 'Quarter', columns = 'Sector', values = 'FTE')\n",
    "\n",
    "\n",
    "FTE_table.head(10)"
   ]
  },
  {
   "cell_type": "markdown",
   "metadata": {},
   "source": [
    "### Descirbetive statistics"
   ]
  },
  {
   "cell_type": "code",
   "execution_count": 10,
   "metadata": {},
   "outputs": [
    {
     "data": {
      "text/html": [
       "<div>\n",
       "<style scoped>\n",
       "    .dataframe tbody tr th:only-of-type {\n",
       "        vertical-align: middle;\n",
       "    }\n",
       "\n",
       "    .dataframe tbody tr th {\n",
       "        vertical-align: top;\n",
       "    }\n",
       "\n",
       "    .dataframe thead tr th {\n",
       "        text-align: left;\n",
       "    }\n",
       "\n",
       "    .dataframe thead tr:last-of-type th {\n",
       "        text-align: right;\n",
       "    }\n",
       "</style>\n",
       "<table border=\"1\" class=\"dataframe\">\n",
       "  <thead>\n",
       "    <tr>\n",
       "      <th></th>\n",
       "      <th colspan=\"8\" halign=\"left\">FTE</th>\n",
       "    </tr>\n",
       "    <tr>\n",
       "      <th></th>\n",
       "      <th>count</th>\n",
       "      <th>mean</th>\n",
       "      <th>std</th>\n",
       "      <th>min</th>\n",
       "      <th>25%</th>\n",
       "      <th>50%</th>\n",
       "      <th>75%</th>\n",
       "      <th>max</th>\n",
       "    </tr>\n",
       "    <tr>\n",
       "      <th>Sector</th>\n",
       "      <th></th>\n",
       "      <th></th>\n",
       "      <th></th>\n",
       "      <th></th>\n",
       "      <th></th>\n",
       "      <th></th>\n",
       "      <th></th>\n",
       "      <th></th>\n",
       "    </tr>\n",
       "  </thead>\n",
       "  <tbody>\n",
       "    <tr>\n",
       "      <th>Central</th>\n",
       "      <td>44.0</td>\n",
       "      <td>1.732000e+05</td>\n",
       "      <td>2665.832350</td>\n",
       "      <td>164276.0</td>\n",
       "      <td>172505.00</td>\n",
       "      <td>173527.5</td>\n",
       "      <td>174949.50</td>\n",
       "      <td>177641.0</td>\n",
       "    </tr>\n",
       "    <tr>\n",
       "      <th>Municipal</th>\n",
       "      <td>44.0</td>\n",
       "      <td>4.306531e+05</td>\n",
       "      <td>12017.772657</td>\n",
       "      <td>413069.0</td>\n",
       "      <td>420759.25</td>\n",
       "      <td>428491.5</td>\n",
       "      <td>439356.50</td>\n",
       "      <td>457033.0</td>\n",
       "    </tr>\n",
       "    <tr>\n",
       "      <th>Private NPO</th>\n",
       "      <td>44.0</td>\n",
       "      <td>5.564655e+04</td>\n",
       "      <td>2920.092938</td>\n",
       "      <td>50579.0</td>\n",
       "      <td>53397.25</td>\n",
       "      <td>54823.0</td>\n",
       "      <td>57721.25</td>\n",
       "      <td>61666.0</td>\n",
       "    </tr>\n",
       "    <tr>\n",
       "      <th>Private corp</th>\n",
       "      <td>44.0</td>\n",
       "      <td>1.345794e+06</td>\n",
       "      <td>62470.694702</td>\n",
       "      <td>1256157.0</td>\n",
       "      <td>1295036.75</td>\n",
       "      <td>1326636.0</td>\n",
       "      <td>1406219.25</td>\n",
       "      <td>1474089.0</td>\n",
       "    </tr>\n",
       "    <tr>\n",
       "      <th>Public corp</th>\n",
       "      <td>44.0</td>\n",
       "      <td>5.720139e+04</td>\n",
       "      <td>5156.476606</td>\n",
       "      <td>49765.0</td>\n",
       "      <td>52700.75</td>\n",
       "      <td>56447.0</td>\n",
       "      <td>60960.25</td>\n",
       "      <td>67966.0</td>\n",
       "    </tr>\n",
       "    <tr>\n",
       "      <th>Regional</th>\n",
       "      <td>44.0</td>\n",
       "      <td>1.183478e+05</td>\n",
       "      <td>3491.849366</td>\n",
       "      <td>107305.0</td>\n",
       "      <td>116019.00</td>\n",
       "      <td>119047.0</td>\n",
       "      <td>121126.25</td>\n",
       "      <td>122494.0</td>\n",
       "    </tr>\n",
       "    <tr>\n",
       "      <th>SNS</th>\n",
       "      <td>44.0</td>\n",
       "      <td>2.182500e+02</td>\n",
       "      <td>65.803487</td>\n",
       "      <td>131.0</td>\n",
       "      <td>157.75</td>\n",
       "      <td>196.5</td>\n",
       "      <td>280.75</td>\n",
       "      <td>327.0</td>\n",
       "    </tr>\n",
       "    <tr>\n",
       "      <th>Social</th>\n",
       "      <td>44.0</td>\n",
       "      <td>1.940386e+03</td>\n",
       "      <td>96.370462</td>\n",
       "      <td>1843.0</td>\n",
       "      <td>1876.00</td>\n",
       "      <td>1902.0</td>\n",
       "      <td>1987.75</td>\n",
       "      <td>2147.0</td>\n",
       "    </tr>\n",
       "    <tr>\n",
       "      <th>Total</th>\n",
       "      <td>44.0</td>\n",
       "      <td>2.183001e+06</td>\n",
       "      <td>58137.497454</td>\n",
       "      <td>2090889.0</td>\n",
       "      <td>2139007.75</td>\n",
       "      <td>2166748.0</td>\n",
       "      <td>2228244.75</td>\n",
       "      <td>2307874.0</td>\n",
       "    </tr>\n",
       "  </tbody>\n",
       "</table>\n",
       "</div>"
      ],
      "text/plain": [
       "               FTE                                                     \\\n",
       "             count          mean           std        min         25%   \n",
       "Sector                                                                  \n",
       "Central       44.0  1.732000e+05   2665.832350   164276.0   172505.00   \n",
       "Municipal     44.0  4.306531e+05  12017.772657   413069.0   420759.25   \n",
       "Private NPO   44.0  5.564655e+04   2920.092938    50579.0    53397.25   \n",
       "Private corp  44.0  1.345794e+06  62470.694702  1256157.0  1295036.75   \n",
       "Public corp   44.0  5.720139e+04   5156.476606    49765.0    52700.75   \n",
       "Regional      44.0  1.183478e+05   3491.849366   107305.0   116019.00   \n",
       "SNS           44.0  2.182500e+02     65.803487      131.0      157.75   \n",
       "Social        44.0  1.940386e+03     96.370462     1843.0     1876.00   \n",
       "Total         44.0  2.183001e+06  58137.497454  2090889.0  2139007.75   \n",
       "\n",
       "                                                \n",
       "                    50%         75%        max  \n",
       "Sector                                          \n",
       "Central        173527.5   174949.50   177641.0  \n",
       "Municipal      428491.5   439356.50   457033.0  \n",
       "Private NPO     54823.0    57721.25    61666.0  \n",
       "Private corp  1326636.0  1406219.25  1474089.0  \n",
       "Public corp     56447.0    60960.25    67966.0  \n",
       "Regional       119047.0   121126.25   122494.0  \n",
       "SNS               196.5      280.75      327.0  \n",
       "Social           1902.0     1987.75     2147.0  \n",
       "Total         2166748.0  2228244.75  2307874.0  "
      ]
     },
     "execution_count": 10,
     "metadata": {},
     "output_type": "execute_result"
    }
   ],
   "source": [
    "# Gives a table of decribtive statistics for analysis.\n",
    "FTE_raw.groupby(['Sector']).describe()"
   ]
  },
  {
   "cell_type": "markdown",
   "metadata": {},
   "source": [
    "We create a table with descriptive statistics. From this we can make some simple conclusions. \n",
    "We see that Private Corp has a higher volatility than the total work force. If we look at the figure below we see that the private workforce is much more volatile than the public. The table above doesn't tell us everything, but it gives us a hint of the changes.\n",
    "These findings correspond well with general perceptions of how the private and public workforce move. The public workforce is very stationary and grows slowly each year. The private workforce is much more volitile and moves with the market, and decreases/increases with the economic growth."
   ]
  },
  {
   "cell_type": "markdown",
   "metadata": {},
   "source": [
    "## Visualization"
   ]
  },
  {
   "cell_type": "markdown",
   "metadata": {},
   "source": [
    "### Plot of sectors in the workforce."
   ]
  },
  {
   "cell_type": "markdown",
   "metadata": {},
   "source": [
    "We have 8 sectors in the workforce and a total for the entire workforce. Below we plot these."
   ]
  },
  {
   "cell_type": "code",
   "execution_count": 11,
   "metadata": {},
   "outputs": [
    {
     "data": {
      "text/plain": [
       "Text(0.5, 1.0, 'Full workforce - Split in sectors')"
      ]
     },
     "execution_count": 11,
     "metadata": {},
     "output_type": "execute_result"
    },
    {
     "data": {
      "image/png": "[encoded data removed]",
      "text/plain": [
       "<Figure size 864x864 with 1 Axes>"
      ]
     },
     "metadata": {},
     "output_type": "display_data"
    }
   ],
   "source": [
    "#Creates a figure with only one subplot\n",
    "fig1, ax = plt.subplots(figsize=(12,12)) \n",
    "FTE_raw['Quarter'] = pd.to_datetime(FTE_raw['Quarter']) # Changes variable Quaters to a time format that pandas recognizes\n",
    "\n",
    "FTE_raw.set_index('Quarter').groupby('Sector')['FTE'].plot(x=\"Quarter\", legend=True, ax=ax);\n",
    "\n",
    "ax.set_ylabel(\"Full-time employment\") # Sets title for y-axis\n",
    "ax.set_xlabel('Quaters') # Sets title for x-axis\n",
    "ax.set_title(\"Full workforce - Split in sectors\") # Sets title for the figure"
   ]
  },
  {
   "cell_type": "markdown",
   "metadata": {},
   "source": [
    "We see that there is large differences in the plots and thus we don't really see the changes in the smaller sectors. Instead we will look at the relative changes."
   ]
  },
  {
   "cell_type": "markdown",
   "metadata": {},
   "source": [
    "### Relative changes and merging"
   ]
  },
  {
   "cell_type": "markdown",
   "metadata": {},
   "source": [
    "We will now calculate all the changes as relative changes.\n",
    "We create a dataframe for each sector, which include the relative changes for that sector."
   ]
  },
  {
   "cell_type": "code",
   "execution_count": 12,
   "metadata": {},
   "outputs": [
    {
     "ename": "NameError",
     "evalue": "name 'FTE' is not defined",
     "output_type": "error",
     "traceback": [
      "\u001b[0;31m---------------------------------------------------------------------------\u001b[0m",
      "\u001b[0;31mNameError\u001b[0m                                 Traceback (most recent call last)",
      "\u001b[0;32m<ipython-input-12-1bd087e89cc9>\u001b[0m in \u001b[0;36m<module>\u001b[0;34m()\u001b[0m\n\u001b[1;32m      1\u001b[0m \u001b[0;31m# Calculating the relative changes for the sectors\u001b[0m\u001b[0;34m\u001b[0m\u001b[0;34m\u001b[0m\u001b[0;34m\u001b[0m\u001b[0m\n\u001b[0;32m----> 2\u001b[0;31m \u001b[0mrc_central\u001b[0m \u001b[0;34m=\u001b[0m \u001b[0mpd\u001b[0m\u001b[0;34m.\u001b[0m\u001b[0mDataFrame\u001b[0m\u001b[0;34m(\u001b[0m\u001b[0mdata\u001b[0m\u001b[0;34m=\u001b[0m\u001b[0mFTE\u001b[0m\u001b[0;34m[\u001b[0m\u001b[0;34m'Central'\u001b[0m\u001b[0;34m]\u001b[0m\u001b[0;34m/\u001b[0m\u001b[0mFTE\u001b[0m\u001b[0;34m[\u001b[0m\u001b[0;34m'Total'\u001b[0m\u001b[0;34m]\u001b[0m\u001b[0;34m*\u001b[0m\u001b[0;36m100\u001b[0m\u001b[0;34m)\u001b[0m\u001b[0;34m\u001b[0m\u001b[0;34m\u001b[0m\u001b[0m\n\u001b[0m\u001b[1;32m      3\u001b[0m \u001b[0mrc_municipal\u001b[0m \u001b[0;34m=\u001b[0m \u001b[0mpd\u001b[0m\u001b[0;34m.\u001b[0m\u001b[0mDataFrame\u001b[0m\u001b[0;34m(\u001b[0m\u001b[0mFTE\u001b[0m\u001b[0;34m[\u001b[0m\u001b[0;34m'Municipal'\u001b[0m\u001b[0;34m]\u001b[0m\u001b[0;34m/\u001b[0m\u001b[0mFTE\u001b[0m\u001b[0;34m[\u001b[0m\u001b[0;34m'Total'\u001b[0m\u001b[0;34m]\u001b[0m\u001b[0;34m*\u001b[0m\u001b[0;36m100\u001b[0m\u001b[0;34m)\u001b[0m\u001b[0;34m\u001b[0m\u001b[0;34m\u001b[0m\u001b[0m\n\u001b[1;32m      4\u001b[0m \u001b[0mrc_privnpo\u001b[0m \u001b[0;34m=\u001b[0m \u001b[0mpd\u001b[0m\u001b[0;34m.\u001b[0m\u001b[0mDataFrame\u001b[0m\u001b[0;34m(\u001b[0m\u001b[0mFTE\u001b[0m\u001b[0;34m[\u001b[0m\u001b[0;34m'Private NPO'\u001b[0m\u001b[0;34m]\u001b[0m\u001b[0;34m/\u001b[0m\u001b[0mFTE\u001b[0m\u001b[0;34m[\u001b[0m\u001b[0;34m'Total'\u001b[0m\u001b[0;34m]\u001b[0m\u001b[0;34m*\u001b[0m\u001b[0;36m100\u001b[0m\u001b[0;34m)\u001b[0m\u001b[0;34m\u001b[0m\u001b[0;34m\u001b[0m\u001b[0m\n\u001b[1;32m      5\u001b[0m \u001b[0mrc_privcorp\u001b[0m \u001b[0;34m=\u001b[0m \u001b[0mpd\u001b[0m\u001b[0;34m.\u001b[0m\u001b[0mDataFrame\u001b[0m\u001b[0;34m(\u001b[0m\u001b[0mFTE\u001b[0m\u001b[0;34m[\u001b[0m\u001b[0;34m'Private corp'\u001b[0m\u001b[0;34m]\u001b[0m\u001b[0;34m/\u001b[0m\u001b[0mFTE\u001b[0m\u001b[0;34m[\u001b[0m\u001b[0;34m'Total'\u001b[0m\u001b[0;34m]\u001b[0m\u001b[0;34m*\u001b[0m\u001b[0;36m100\u001b[0m\u001b[0;34m)\u001b[0m\u001b[0;34m\u001b[0m\u001b[0;34m\u001b[0m\u001b[0m\n",
      "\u001b[0;31mNameError\u001b[0m: name 'FTE' is not defined"
     ]
    }
   ],
   "source": [
    "# Calculating the relative changes for the sectors\n",
    "rc_central = pd.DataFrame(data=FTE['Central']/FTE['Total']*100)\n",
    "rc_municipal = pd.DataFrame(FTE['Municipal']/FTE['Total']*100)\n",
    "rc_privnpo = pd.DataFrame(FTE['Private NPO']/FTE['Total']*100)\n",
    "rc_privcorp = pd.DataFrame(FTE['Private corp']/FTE['Total']*100)\n",
    "rc_pubcorp = pd.DataFrame(FTE['Public corp']/FTE['Total']*100)\n",
    "rc_regional = pd.DataFrame(FTE['Regional']/FTE['Total']*100)\n",
    "rc_sns = pd.DataFrame(FTE['SNS']/FTE['Total']*100)\n",
    "rc_social = pd.DataFrame(FTE['Social']/FTE['Total']*100)"
   ]
  },
  {
   "cell_type": "markdown",
   "metadata": {},
   "source": [
    "In order to plot the relative development later, we need to merge the four dataframes into one. We do this in the following code."
   ]
  },
  {
   "cell_type": "code",
   "execution_count": null,
   "metadata": {},
   "outputs": [],
   "source": [
    "# Merging the dataframes for relative changes on quarters\n",
    "rFTE_6 = pd.merge(rc_central, rc_municipal, on='Quarter') \n",
    "rFTE_5 = pd.merge(rFTE_6, rc_privnpo, on='Quarter')\n",
    "rFTE_4 = pd.merge(rFTE_5, rc_privcorp, on='Quarter')\n",
    "rFTE_3 = pd.merge(rFTE_4, rc_pubcorp, on='Quarter')\n",
    "rFTE_2 = pd.merge(rFTE_3, rc_regional, on='Quarter')\n",
    "rFTE_1 = pd.merge(rFTE_2, rc_sns, on='Quarter')\n",
    "rFTE = pd.merge(rFTE_1, rc_social, on='Quarter')\n",
    "\n",
    "rFTE.head(10)"
   ]
  },
  {
   "cell_type": "markdown",
   "metadata": {},
   "source": [
    "### Renaming\n"
   ]
  },
  {
   "cell_type": "markdown",
   "metadata": {},
   "source": [
    "We rename the columns for our new dataframe with relative development to reflect the correct columns."
   ]
  },
  {
   "cell_type": "code",
   "execution_count": null,
   "metadata": {},
   "outputs": [],
   "source": [
    "rFTE.columns = ['Central', 'Municipal', 'Private NPO', 'Private corp', 'Public corp', 'Regional', 'SNS', 'Social']\n",
    "rFTE.head(10)"
   ]
  },
  {
   "cell_type": "code",
   "execution_count": null,
   "metadata": {},
   "outputs": [],
   "source": [
    "#Creates a figure\n",
    "fig2, ax = plt.subplots(figsize=(12,12))\n",
    "\n",
    "rFTE.reset_index(drop=True)\n",
    "FTE_raw.set_index('Quarter')\n",
    "rFTE.index = pd.DatetimeIndex(data=rFTE.index)\n",
    "\n",
    "fmt = '%.0f%%'\n",
    "yticks = mtick.FormatStrFormatter(fmt)\n",
    "ax.yaxis.set_major_formatter(yticks)\n",
    "\n",
    "ax.set_xlabel(\"Quarters\")\n",
    "ax.set_ylabel(\"Percent\")\n",
    "ax.set_title(\"Relative share of total public employment\")\n",
    "\n",
    "rFTE.plot(legend=True, ax=ax);"
   ]
  },
  {
   "cell_type": "markdown",
   "metadata": {},
   "source": [
    "Unfortunately it is still difficult to see the changes due to the scaling. We will move on and do an interactive plot."
   ]
  },
  {
   "cell_type": "markdown",
   "metadata": {},
   "source": [
    "### Interactive Figure for relative development"
   ]
  },
  {
   "cell_type": "markdown",
   "metadata": {},
   "source": [
    "The interactive plot will include a dropdown, where one can choose which sector you want to look at.\n"
   ]
  },
  {
   "cell_type": "code",
   "execution_count": null,
   "metadata": {},
   "outputs": [],
   "source": [
    "def plot_e(dataframe, Central): ax = dataframe.loc[:,[Central]].plot(figsize=(12,12))\n",
    "\n",
    "mylist = rFTE.columns.unique().tolist()\n",
    "widgets.interact(plot_e, dataframe = widgets.fixed(rFTE), Central = widgets.Dropdown(description='Sector', options=mylist) );"
   ]
  },
  {
   "cell_type": "markdown",
   "metadata": {},
   "source": [
    "These relative figures shows us different changes. Looking at the municipals, we see a general decrease in employees, we haven't been able to find other reasons, than the government made some economic changes and lowers the subsidy that municipals get from the state. Private Corp has a high drop of approximate 4% in the beginning of the financial crises. This is due to the firms having a hard economic time and thus had to close or layoff people. "
   ]
  },
  {
   "cell_type": "markdown",
   "metadata": {},
   "source": [
    "## Public vs. Private\n",
    "\n",
    "Now that we have looked into the individual components of the workforce, we create a new dataframe, including the total amount of Full-time employees from the private and the public sector and look at the developments in the workforce from a private and public perspective. We again look at the entire periode from 2008 Q1 up till 2018 Q4. "
   ]
  },
  {
   "cell_type": "code",
   "execution_count": null,
   "metadata": {},
   "outputs": [],
   "source": [
    "## \n",
    "#FTE2 = FTE_raw[(FTE_raw['Sector'] == 'Total')]\n",
    "#FTEG2 = FTE_raw[(FTE_raw['Sector'] == 'Central') + (FTE_raw['Sector'] == 'Regional') + (FTE_raw['Sector'] == 'Municipal') + (FTE_raw['Sector'] == 'Social')]\n",
    "#FTEP2 = FTE_raw[(FTE_raw['Sector'] == 'Private corp') & (FTE_raw['Sector'] == 'Public corp') & (FTE_raw['Sector'] == 'Private NPO')]\n",
    "## The above lines, create 3 dataframes by selecting only the data we need, FTEs and split it in 3, Public, Private and Total workforce.\n",
    "#\n",
    "#print(FTE2.head(10))\n",
    "#print(FTEG2.head(10))\n",
    "#print(FTEP2.head(10))"
   ]
  },
  {
   "cell_type": "code",
   "execution_count": null,
   "metadata": {},
   "outputs": [],
   "source": [
    "FTE_raw_copy = FTE_raw.pivot_table(index=[\"Quarter\", \"Type\"], columns=\"Sector\", values=\"FTE\").reset_index()\n",
    "FTE = FTE_raw_copy[[\"Quarter\", \"Total\"]].copy()\n",
    "FTE[\"Government\"] = FTE_raw_copy[\"Central\"] + FTE_raw_copy[\"Municipal\"] + FTE_raw_copy[\"Public corp\"] + FTE_raw_copy[\"Regional\"] + FTE_raw_copy[\"Social\"]\n",
    "FTE[\"Private\"] = FTE_raw_copy[\"Private NPO\"] + FTE_raw_copy[\"Private corp\"] + FTE_raw_copy[\"SNS\"]\n",
    "\n",
    "FTE.pivot_table(index=\"Quarter\", values=[\"Total\", \"Government\", \"Private\"])"
   ]
  },
  {
   "cell_type": "markdown",
   "metadata": {},
   "source": [
    "Now we merge the three dataframes to get our desired dataframe."
   ]
  },
  {
   "cell_type": "code",
   "execution_count": null,
   "metadata": {},
   "outputs": [],
   "source": [
    "#FTE1 = pd.merge(FTE_total, FTEG_total, on='Quarter') # merging total and public employment\n",
    "#FTE = pd.merge(FTE1, FTEP_total, on='Quarter') # merging private employment with total and public employment\n",
    "\n",
    "#FTE_log = np.log(FTE)\n",
    "#FTE_log.index = pd.DatetimeIndex(data=FTE_log.index) # sets the index to a time index, which is still Quarter but in another format\n",
    "plt.plot(FTE)\n",
    "#FTE.plot(figsize=(12,12), title='Full-time employment') # plots our final figure\n"
   ]
  },
  {
   "cell_type": "code",
   "execution_count": null,
   "metadata": {},
   "outputs": [],
   "source": [
    "fig3, ax = plt.subplots(figsize=(12,12))\n",
    "\n",
    "FTE.index = pd.DatetimeIndex(data=FTE.index)\n",
    "\n",
    "ax.set_xlabel(\"Quarters\")\n",
    "ax.set_ylabel(\"Full-time emplo\")\n",
    "ax.set_title(\"Relative share of total public employment\")\n",
    "\n",
    "FTE.plot(legend=True, ax=ax);"
   ]
  },
  {
   "cell_type": "code",
   "execution_count": null,
   "metadata": {},
   "outputs": [],
   "source": []
  },
  {
   "cell_type": "markdown",
   "metadata": {},
   "source": [
    "Looking on the figure above, we see that the total employment in general follow the private employment (FTEP). Though we see a rise in public employment after the financial crises, this rise is temporary and flattens out. This rise in public employment comes from the increased and expidited investment, that the government approved after the finansial crises hit. This was to lessen the blow to the economy. From an employment perspective, we see that the public employment kept on rising until the private sector had met the current needs, and thus we can conclude that the Government did in fact lessen the blow some. After the private sector started growing again, the public sector started shrinking. \n",
    "\n",
    "We also see that the private sector has to some degree a portion of season workers."
   ]
  },
  {
   "cell_type": "markdown",
   "metadata": {},
   "source": [
    "# Conclusion"
   ]
  },
  {
   "cell_type": "markdown",
   "metadata": {},
   "source": [
    "In 2008 we were hit by one of the longest lasting financial crisis in modern times.\n",
    "In 2010 we see the lowest private employment in the period, but also the largest public sector in history. \n",
    "The private employment is close to 1.3 million employees, almost 300.000 lower than the peak before the crises of 1.6 million. \n",
    "On the other hand the government increased the workforce by almost 50.000 from 810k to 860k employees in just 2 years. This was done to lessen the economic impact of the crises. \n",
    "From 2010 the private employment slowly grows and the public employment slowly returns to its normal level. From 2010 and up, the private employment has been slowly growing, likely because of the loose economic politics in this periode.\n",
    "\n"
   ]
  }
 ],
 "metadata": {
  "kernelspec": {
   "display_name": "Python 3",
   "language": "python",
   "name": "python3"
  },
  "language_info": {
   "codemirror_mode": {
    "name": "ipython",
    "version": 3
   },
   "file_extension": ".py",
   "mimetype": "text/x-python",
   "name": "python",
   "nbconvert_exporter": "python",
   "pygments_lexer": "ipython3",
   "version": "3.6.8"
  }
 },
 "nbformat": 4,
 "nbformat_minor": 2
}
