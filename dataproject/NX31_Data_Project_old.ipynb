{
 "cells": [
  {
   "cell_type": "markdown",
   "metadata": {},
   "source": [
    "# NX31 - Data Project"
   ]
  },
  {
   "cell_type": "markdown",
   "metadata": {},
   "source": [
    "## Introduction\n",
    "\n",
    "In the following data project, we  will be analyzing the workforce distribution between public and private sector over the total employment. We will futhermore look into, if the workforce distribution has changed from 2008 when the financial crises hit. We then compare the two, to see which contributes the most to the total changes in the workforce for Denmark.  \n",
    "\n",
    "During the analysis, we will be doing the following.\n",
    "* Establish an API connection to Statistics Denmark, to feed the analysis data.\n",
    "* Clean and structure this data.\n",
    "* Plot the data.\n",
    "* Make an analysis and compare results."
   ]
  },
  {
   "cell_type": "markdown",
   "metadata": {},
   "source": [
    "## Packages imported\n",
    "\n",
    "We will load the following packages and attributes for this data project."
   ]
  },
  {
   "cell_type": "code",
   "execution_count": 1,
   "metadata": {},
   "outputs": [],
   "source": [
    "# These two lines above makes sure that the functions and packages are automatically reloaded each time we run a cell.\n",
    "%load_ext autoreload\n",
    "%autoreload 2\n",
    "\n"
   ]
  },
  {
   "cell_type": "code",
   "execution_count": 2,
   "metadata": {},
   "outputs": [],
   "source": [
    "# Imports the packages that are needed to run the project in full.\n",
    "import numpy as np\n",
    "import matplotlib.pyplot as plt\n",
    "import pandas as pd\n",
    "import pydst"
   ]
  },
  {
   "cell_type": "markdown",
   "metadata": {},
   "source": [
    "### Data\n",
    "\n",
    "We have choosen to use the PyDST package that can load data from Statistics Denmark using an API call. As we want to look into the workforce distribution, we start by finding the data we want using our browser on Statistic Denmark. From our research we will need to load the table \"LBESK21\". We put in the table id we just found, and start off by looking into, what variables that are present in the table.  \n",
    "\n",
    "We use this information when we load in the data, to only get the data we want."
   ]
  },
  {
   "cell_type": "code",
   "execution_count": 3,
   "metadata": {},
   "outputs": [
    {
     "data": {
      "text/html": [
       "<div>\n",
       "<style scoped>\n",
       "    .dataframe tbody tr th:only-of-type {\n",
       "        vertical-align: middle;\n",
       "    }\n",
       "\n",
       "    .dataframe tbody tr th {\n",
       "        vertical-align: top;\n",
       "    }\n",
       "\n",
       "    .dataframe thead th {\n",
       "        text-align: right;\n",
       "    }\n",
       "</style>\n",
       "<table border=\"1\" class=\"dataframe\">\n",
       "  <thead>\n",
       "    <tr style=\"text-align: right;\">\n",
       "      <th></th>\n",
       "      <th>elimination</th>\n",
       "      <th>id</th>\n",
       "      <th>text</th>\n",
       "      <th>time</th>\n",
       "      <th>values</th>\n",
       "    </tr>\n",
       "  </thead>\n",
       "  <tbody>\n",
       "    <tr>\n",
       "      <th>0</th>\n",
       "      <td>False</td>\n",
       "      <td>TAL</td>\n",
       "      <td>unit</td>\n",
       "      <td>False</td>\n",
       "      <td>[{'id': '1020', 'text': 'Employees'}, {'id': '...</td>\n",
       "    </tr>\n",
       "    <tr>\n",
       "      <th>1</th>\n",
       "      <td>True</td>\n",
       "      <td>SEKTOR</td>\n",
       "      <td>sector</td>\n",
       "      <td>False</td>\n",
       "      <td>[{'id': '1000', 'text': 'All sectors'}, {'id':...</td>\n",
       "    </tr>\n",
       "    <tr>\n",
       "      <th>2</th>\n",
       "      <td>False</td>\n",
       "      <td>Tid</td>\n",
       "      <td>time</td>\n",
       "      <td>True</td>\n",
       "      <td>[{'id': '2008K1', 'text': '2008Q1'}, {'id': '2...</td>\n",
       "    </tr>\n",
       "  </tbody>\n",
       "</table>\n",
       "</div>"
      ],
      "text/plain": [
       "   elimination      id    text   time  \\\n",
       "0        False     TAL    unit  False   \n",
       "1         True  SEKTOR  sector  False   \n",
       "2        False     Tid    time   True   \n",
       "\n",
       "                                              values  \n",
       "0  [{'id': '1020', 'text': 'Employees'}, {'id': '...  \n",
       "1  [{'id': '1000', 'text': 'All sectors'}, {'id':...  \n",
       "2  [{'id': '2008K1', 'text': '2008Q1'}, {'id': '2...  "
      ]
     },
     "execution_count": 3,
     "metadata": {},
     "output_type": "execute_result"
    }
   ],
   "source": [
    "# Creates a variable that sets the pydst package to load data variables in english.\n",
    "dst = pydst.Dst(lang='en') \n",
    "\n",
    "FTEG_variables = dst.get_variables(table_id = 'LBESK21')\n",
    "FTEG_variables"
   ]
  },
  {
   "cell_type": "code",
   "execution_count": 39,
   "metadata": {},
   "outputs": [
    {
     "data": {
      "text/plain": [
       "[{'id': '1000', 'text': 'All sectors'},\n",
       " {'id': '1015', 'text': 'Central government'},\n",
       " {'id': '1020', 'text': 'Regional government'},\n",
       " {'id': '1025', 'text': 'Municipal government'},\n",
       " {'id': '1030', 'text': 'Social security funds'},\n",
       " {'id': '1035', 'text': 'Public corporations'},\n",
       " {'id': '1040', 'text': 'Private corporations'},\n",
       " {'id': '1045', 'text': 'Private nonprofit organizations'},\n",
       " {'id': '1050', 'text': 'Sector not stated'}]"
      ]
     },
     "execution_count": 39,
     "metadata": {},
     "output_type": "execute_result"
    }
   ],
   "source": [
    "# Shows what variables that is contained in the table\n",
    "FTEG_variables['values'][1][:] "
   ]
  },
  {
   "cell_type": "markdown",
   "metadata": {},
   "source": [
    "We see that the data is split into two categories, employees, which include part-time employees and the likes. We are only interested in full-time employees(FTE) and thus we will only load in the data, containing the FTE."
   ]
  },
  {
   "cell_type": "markdown",
   "metadata": {},
   "source": [
    "### Creating Dictionaires\n",
    "\n",
    "We create the following dictionaries to better structure the data and to create shorter or more precise variable names. </br>\n",
    "We again use the variable names from above to make these dictionaires."
   ]
  },
  {
   "cell_type": "code",
   "execution_count": 5,
   "metadata": {},
   "outputs": [],
   "source": [
    "columns_dict = {} # creates a empty dictionairy, we fills the dictionary with keys and corosponding values.\n",
    "# We use the variables seen earlier.\n",
    "columns_dict['SEKTOR'] = 'Sector' \n",
    "columns_dict['TID'] = 'Quarter'\n",
    "columns_dict['INDHOLD'] = 'FTE'\n",
    "\n",
    "var_dict = {} # creates a empty dictionairy, we fills the dictionary with keys and corosponding values.\n",
    "# We use the values seen earlier.\n",
    "var_dict['Central government'] = 'Central'\n",
    "var_dict['Regional government'] = 'Regional'\n",
    "var_dict['Municipal government'] = 'Municipal'\n",
    "var_dict['Social security funds'] = 'Social security funds'\n",
    "var_dict['General government'] = 'Total'"
   ]
  },
  {
   "cell_type": "markdown",
   "metadata": {},
   "source": [
    "### Importing Data\n",
    "\n",
    "We now import data from Statistic Denmark using the PyDST. We use the variables we found above, so we only get the data that we need.\n",
    "In this case we need all data from the table."
   ]
  },
  {
   "cell_type": "code",
   "execution_count": null,
   "metadata": {},
   "outputs": [],
   "source": [
    "FTEG_raw = dst.get_data(table_id = 'OBESK2', variables = {'SEKTOR':['*'], 'Tid':['*']})\n",
    "# Creates a variable that contains data from the table we put in.\n",
    "FTEG_raw.head(10) #shows the first 10 data points in the table."
   ]
  },
  {
   "cell_type": "markdown",
   "metadata": {},
   "source": [
    "### Renaming variables\n",
    "We use the dictionaries to rename the variables names."
   ]
  },
  {
   "cell_type": "code",
   "execution_count": 7,
   "metadata": {},
   "outputs": [
    {
     "data": {
      "text/html": [
       "<div>\n",
       "<style scoped>\n",
       "    .dataframe tbody tr th:only-of-type {\n",
       "        vertical-align: middle;\n",
       "    }\n",
       "\n",
       "    .dataframe tbody tr th {\n",
       "        vertical-align: top;\n",
       "    }\n",
       "\n",
       "    .dataframe thead th {\n",
       "        text-align: right;\n",
       "    }\n",
       "</style>\n",
       "<table border=\"1\" class=\"dataframe\">\n",
       "  <thead>\n",
       "    <tr style=\"text-align: right;\">\n",
       "      <th></th>\n",
       "      <th>Sector</th>\n",
       "      <th>Quarter</th>\n",
       "      <th>FTE</th>\n",
       "    </tr>\n",
       "  </thead>\n",
       "  <tbody>\n",
       "    <tr>\n",
       "      <th>0</th>\n",
       "      <td>Central</td>\n",
       "      <td>2008Q1</td>\n",
       "      <td>164276</td>\n",
       "    </tr>\n",
       "    <tr>\n",
       "      <th>1</th>\n",
       "      <td>Regional</td>\n",
       "      <td>2008Q1</td>\n",
       "      <td>111410</td>\n",
       "    </tr>\n",
       "    <tr>\n",
       "      <th>2</th>\n",
       "      <td>Municipal</td>\n",
       "      <td>2008Q1</td>\n",
       "      <td>431690</td>\n",
       "    </tr>\n",
       "    <tr>\n",
       "      <th>3</th>\n",
       "      <td>Social security funds</td>\n",
       "      <td>2008Q1</td>\n",
       "      <td>1921</td>\n",
       "    </tr>\n",
       "    <tr>\n",
       "      <th>4</th>\n",
       "      <td>Total</td>\n",
       "      <td>2008Q1</td>\n",
       "      <td>709297</td>\n",
       "    </tr>\n",
       "    <tr>\n",
       "      <th>5</th>\n",
       "      <td>Central</td>\n",
       "      <td>2008Q2</td>\n",
       "      <td>167654</td>\n",
       "    </tr>\n",
       "    <tr>\n",
       "      <th>6</th>\n",
       "      <td>Regional</td>\n",
       "      <td>2008Q2</td>\n",
       "      <td>107305</td>\n",
       "    </tr>\n",
       "    <tr>\n",
       "      <th>7</th>\n",
       "      <td>Municipal</td>\n",
       "      <td>2008Q2</td>\n",
       "      <td>438649</td>\n",
       "    </tr>\n",
       "    <tr>\n",
       "      <th>8</th>\n",
       "      <td>Social security funds</td>\n",
       "      <td>2008Q2</td>\n",
       "      <td>1913</td>\n",
       "    </tr>\n",
       "    <tr>\n",
       "      <th>9</th>\n",
       "      <td>Total</td>\n",
       "      <td>2008Q2</td>\n",
       "      <td>715521</td>\n",
       "    </tr>\n",
       "  </tbody>\n",
       "</table>\n",
       "</div>"
      ],
      "text/plain": [
       "                  Sector Quarter     FTE\n",
       "0                Central  2008Q1  164276\n",
       "1               Regional  2008Q1  111410\n",
       "2              Municipal  2008Q1  431690\n",
       "3  Social security funds  2008Q1    1921\n",
       "4                  Total  2008Q1  709297\n",
       "5                Central  2008Q2  167654\n",
       "6               Regional  2008Q2  107305\n",
       "7              Municipal  2008Q2  438649\n",
       "8  Social security funds  2008Q2    1913\n",
       "9                  Total  2008Q2  715521"
      ]
     },
     "execution_count": 7,
     "metadata": {},
     "output_type": "execute_result"
    }
   ],
   "source": [
    "FTEG_raw.rename(columns = columns_dict, inplace = True) # renames the columns, using the keys,\n",
    "# which are the current columns names, and use the values in the dictionary instead\n",
    "\n",
    "for key, value in var_dict.items():\n",
    "    FTEG_raw.Sector.replace(key, value, inplace = True) # runs a for loop to replace the variable names,\n",
    "    # matching the keys and values from the var_dict\n",
    "\n",
    "FTEG_raw.head(10)"
   ]
  },
  {
   "cell_type": "markdown",
   "metadata": {},
   "source": [
    "### Table\n",
    "\n",
    "We create this table to give a better view of the data, with the quaters as index."
   ]
  },
  {
   "cell_type": "code",
   "execution_count": 8,
   "metadata": {},
   "outputs": [
    {
     "data": {
      "text/html": [
       "<div>\n",
       "<style scoped>\n",
       "    .dataframe tbody tr th:only-of-type {\n",
       "        vertical-align: middle;\n",
       "    }\n",
       "\n",
       "    .dataframe tbody tr th {\n",
       "        vertical-align: top;\n",
       "    }\n",
       "\n",
       "    .dataframe thead th {\n",
       "        text-align: right;\n",
       "    }\n",
       "</style>\n",
       "<table border=\"1\" class=\"dataframe\">\n",
       "  <thead>\n",
       "    <tr style=\"text-align: right;\">\n",
       "      <th>Sector</th>\n",
       "      <th>Central</th>\n",
       "      <th>Municipal</th>\n",
       "      <th>Regional</th>\n",
       "      <th>Social security funds</th>\n",
       "      <th>Total</th>\n",
       "    </tr>\n",
       "    <tr>\n",
       "      <th>Quarter</th>\n",
       "      <th></th>\n",
       "      <th></th>\n",
       "      <th></th>\n",
       "      <th></th>\n",
       "      <th></th>\n",
       "    </tr>\n",
       "  </thead>\n",
       "  <tbody>\n",
       "    <tr>\n",
       "      <th>2008Q1</th>\n",
       "      <td>164276</td>\n",
       "      <td>431690</td>\n",
       "      <td>111410</td>\n",
       "      <td>1921</td>\n",
       "      <td>709297</td>\n",
       "    </tr>\n",
       "    <tr>\n",
       "      <th>2008Q2</th>\n",
       "      <td>167654</td>\n",
       "      <td>438649</td>\n",
       "      <td>107305</td>\n",
       "      <td>1913</td>\n",
       "      <td>715521</td>\n",
       "    </tr>\n",
       "    <tr>\n",
       "      <th>2008Q3</th>\n",
       "      <td>166319</td>\n",
       "      <td>433840</td>\n",
       "      <td>111262</td>\n",
       "      <td>1849</td>\n",
       "      <td>713270</td>\n",
       "    </tr>\n",
       "    <tr>\n",
       "      <th>2008Q4</th>\n",
       "      <td>170749</td>\n",
       "      <td>441479</td>\n",
       "      <td>114385</td>\n",
       "      <td>1843</td>\n",
       "      <td>728455</td>\n",
       "    </tr>\n",
       "    <tr>\n",
       "      <th>2009Q1</th>\n",
       "      <td>169315</td>\n",
       "      <td>442231</td>\n",
       "      <td>114244</td>\n",
       "      <td>1843</td>\n",
       "      <td>727633</td>\n",
       "    </tr>\n",
       "    <tr>\n",
       "      <th>2009Q2</th>\n",
       "      <td>172790</td>\n",
       "      <td>449778</td>\n",
       "      <td>116310</td>\n",
       "      <td>1873</td>\n",
       "      <td>740750</td>\n",
       "    </tr>\n",
       "    <tr>\n",
       "      <th>2009Q3</th>\n",
       "      <td>170775</td>\n",
       "      <td>445803</td>\n",
       "      <td>115956</td>\n",
       "      <td>1889</td>\n",
       "      <td>734423</td>\n",
       "    </tr>\n",
       "    <tr>\n",
       "      <th>2009Q4</th>\n",
       "      <td>173914</td>\n",
       "      <td>450609</td>\n",
       "      <td>118369</td>\n",
       "      <td>1896</td>\n",
       "      <td>744787</td>\n",
       "    </tr>\n",
       "    <tr>\n",
       "      <th>2010Q1</th>\n",
       "      <td>172563</td>\n",
       "      <td>450873</td>\n",
       "      <td>117452</td>\n",
       "      <td>1860</td>\n",
       "      <td>742748</td>\n",
       "    </tr>\n",
       "    <tr>\n",
       "      <th>2010Q2</th>\n",
       "      <td>175288</td>\n",
       "      <td>457033</td>\n",
       "      <td>117755</td>\n",
       "      <td>1877</td>\n",
       "      <td>751954</td>\n",
       "    </tr>\n",
       "  </tbody>\n",
       "</table>\n",
       "</div>"
      ],
      "text/plain": [
       "Sector   Central  Municipal  Regional  Social security funds   Total\n",
       "Quarter                                                             \n",
       "2008Q1    164276     431690    111410                   1921  709297\n",
       "2008Q2    167654     438649    107305                   1913  715521\n",
       "2008Q3    166319     433840    111262                   1849  713270\n",
       "2008Q4    170749     441479    114385                   1843  728455\n",
       "2009Q1    169315     442231    114244                   1843  727633\n",
       "2009Q2    172790     449778    116310                   1873  740750\n",
       "2009Q3    170775     445803    115956                   1889  734423\n",
       "2009Q4    173914     450609    118369                   1896  744787\n",
       "2010Q1    172563     450873    117452                   1860  742748\n",
       "2010Q2    175288     457033    117755                   1877  751954"
      ]
     },
     "execution_count": 8,
     "metadata": {},
     "output_type": "execute_result"
    }
   ],
   "source": [
    "FTEG = FTEG_raw.copy().pivot(index = 'Quarter', columns = 'Sector', values = 'FTE')\n",
    "# creates a copy and pivot the data using the 'Quarter' as the index.\n",
    "FTEG.head(10)"
   ]
  },
  {
   "cell_type": "markdown",
   "metadata": {},
   "source": [
    "### Descirbetive statistics\n",
    "\n"
   ]
  },
  {
   "cell_type": "code",
   "execution_count": 9,
   "metadata": {},
   "outputs": [
    {
     "data": {
      "text/html": [
       "<div>\n",
       "<style scoped>\n",
       "    .dataframe tbody tr th:only-of-type {\n",
       "        vertical-align: middle;\n",
       "    }\n",
       "\n",
       "    .dataframe tbody tr th {\n",
       "        vertical-align: top;\n",
       "    }\n",
       "\n",
       "    .dataframe thead tr th {\n",
       "        text-align: left;\n",
       "    }\n",
       "\n",
       "    .dataframe thead tr:last-of-type th {\n",
       "        text-align: right;\n",
       "    }\n",
       "</style>\n",
       "<table border=\"1\" class=\"dataframe\">\n",
       "  <thead>\n",
       "    <tr>\n",
       "      <th></th>\n",
       "      <th colspan=\"8\" halign=\"left\">FTE</th>\n",
       "    </tr>\n",
       "    <tr>\n",
       "      <th></th>\n",
       "      <th>count</th>\n",
       "      <th>mean</th>\n",
       "      <th>std</th>\n",
       "      <th>min</th>\n",
       "      <th>25%</th>\n",
       "      <th>50%</th>\n",
       "      <th>75%</th>\n",
       "      <th>max</th>\n",
       "    </tr>\n",
       "    <tr>\n",
       "      <th>Sector</th>\n",
       "      <th></th>\n",
       "      <th></th>\n",
       "      <th></th>\n",
       "      <th></th>\n",
       "      <th></th>\n",
       "      <th></th>\n",
       "      <th></th>\n",
       "      <th></th>\n",
       "    </tr>\n",
       "  </thead>\n",
       "  <tbody>\n",
       "    <tr>\n",
       "      <th>Central</th>\n",
       "      <td>44.0</td>\n",
       "      <td>173199.977273</td>\n",
       "      <td>2665.832350</td>\n",
       "      <td>164276.0</td>\n",
       "      <td>172505.00</td>\n",
       "      <td>173527.5</td>\n",
       "      <td>174949.50</td>\n",
       "      <td>177641.0</td>\n",
       "    </tr>\n",
       "    <tr>\n",
       "      <th>Municipal</th>\n",
       "      <td>44.0</td>\n",
       "      <td>430653.113636</td>\n",
       "      <td>12017.772657</td>\n",
       "      <td>413069.0</td>\n",
       "      <td>420759.25</td>\n",
       "      <td>428491.5</td>\n",
       "      <td>439356.50</td>\n",
       "      <td>457033.0</td>\n",
       "    </tr>\n",
       "    <tr>\n",
       "      <th>Regional</th>\n",
       "      <td>44.0</td>\n",
       "      <td>118347.772727</td>\n",
       "      <td>3491.849366</td>\n",
       "      <td>107305.0</td>\n",
       "      <td>116019.00</td>\n",
       "      <td>119047.0</td>\n",
       "      <td>121126.25</td>\n",
       "      <td>122494.0</td>\n",
       "    </tr>\n",
       "    <tr>\n",
       "      <th>Social security funds</th>\n",
       "      <td>44.0</td>\n",
       "      <td>1940.386364</td>\n",
       "      <td>96.370462</td>\n",
       "      <td>1843.0</td>\n",
       "      <td>1876.00</td>\n",
       "      <td>1902.0</td>\n",
       "      <td>1987.75</td>\n",
       "      <td>2147.0</td>\n",
       "    </tr>\n",
       "    <tr>\n",
       "      <th>Total</th>\n",
       "      <td>44.0</td>\n",
       "      <td>724141.159091</td>\n",
       "      <td>10917.445550</td>\n",
       "      <td>706772.0</td>\n",
       "      <td>716269.75</td>\n",
       "      <td>722094.5</td>\n",
       "      <td>728439.25</td>\n",
       "      <td>751954.0</td>\n",
       "    </tr>\n",
       "  </tbody>\n",
       "</table>\n",
       "</div>"
      ],
      "text/plain": [
       "                        FTE                                                    \\\n",
       "                      count           mean           std       min        25%   \n",
       "Sector                                                                          \n",
       "Central                44.0  173199.977273   2665.832350  164276.0  172505.00   \n",
       "Municipal              44.0  430653.113636  12017.772657  413069.0  420759.25   \n",
       "Regional               44.0  118347.772727   3491.849366  107305.0  116019.00   \n",
       "Social security funds  44.0    1940.386364     96.370462    1843.0    1876.00   \n",
       "Total                  44.0  724141.159091  10917.445550  706772.0  716269.75   \n",
       "\n",
       "                                                      \n",
       "                            50%        75%       max  \n",
       "Sector                                                \n",
       "Central                173527.5  174949.50  177641.0  \n",
       "Municipal              428491.5  439356.50  457033.0  \n",
       "Regional               119047.0  121126.25  122494.0  \n",
       "Social security funds    1902.0    1987.75    2147.0  \n",
       "Total                  722094.5  728439.25  751954.0  "
      ]
     },
     "execution_count": 9,
     "metadata": {},
     "output_type": "execute_result"
    }
   ],
   "source": [
    "FTEG_raw.groupby(['Sector']).describe() # Gives a table of decribtive statistics for analysis.\n",
    "# Showing the mean, the std., the minimum, the quartiles and the maximum"
   ]
  },
  {
   "cell_type": "markdown",
   "metadata": {},
   "source": [
    "### Plot of public sectors"
   ]
  },
  {
   "cell_type": "code",
   "execution_count": 10,
   "metadata": {},
   "outputs": [
    {
     "data": {
      "text/plain": [
       "Text(0.5, 1.0, 'Public full-time employed')"
      ]
     },
     "execution_count": 10,
     "metadata": {},
     "output_type": "execute_result"
    },
    {
     "data": {
      "image/png": "[encoded data removed]",
      "text/plain": [
       "<Figure size 864x864 with 1 Axes>"
      ]
     },
     "metadata": {
      "needs_background": "light"
     },
     "output_type": "display_data"
    }
   ],
   "source": [
    "fig1, ax = plt.subplots(figsize=(12,12)) #creates a figure with only one subplot\n",
    "FTEG_raw['Quarter'] = pd.to_datetime(FTEG_raw['Quarter']) # changes variable Quaters to a time format\n",
    "# that pandas recognizes\n",
    "\n",
    "FTEG_raw.set_index('Quarter').groupby('Sector')['FTE'].plot(x=\"Quarter\", legend=True, ax=ax);\n",
    "# sets index to new Quaters and plots the sectors values on y-axis\n",
    "\n",
    "ax.set_ylabel(\"Full-time employed\") # sets title for y-axis\n",
    "ax.set_xlabel('Quaters') # sets title for x-axis\n",
    "ax.set_title(\"Public full-time employed\") # sets title for the figure"
   ]
  },
  {
   "cell_type": "markdown",
   "metadata": {},
   "source": [
    "Looking at the plot above, it seems the development for total public employment is primarily is driven by changes in the municipalities. To confirm we will have to look at the relative changes."
   ]
  },
  {
   "cell_type": "markdown",
   "metadata": {},
   "source": [
    "### Relative changes and merging"
   ]
  },
  {
   "cell_type": "markdown",
   "metadata": {},
   "source": [
    "Now we will look at the relative development of each sector.\n",
    "We create four dataframes, one for each sector, where we devide the specific sector with the total public employment."
   ]
  },
  {
   "cell_type": "code",
   "execution_count": 11,
   "metadata": {},
   "outputs": [],
   "source": [
    "rc_central = pd.DataFrame(data=FTEG['Central']/FTEG['Total']*100)\n",
    "rc_municipal = pd.DataFrame(FTEG['Municipal']/FTEG['Total']*100)\n",
    "rc_regional = pd.DataFrame(FTEG['Regional']/FTEG['Total']*100)\n",
    "rc_social = pd.DataFrame(FTEG['Social security funds']/FTEG['Total']*100)\n",
    "# the four lines of code above creates a pandas dataframe for the relative development,\n",
    "# and we multiply the 100 to get our result in percentage."
   ]
  },
  {
   "cell_type": "markdown",
   "metadata": {},
   "source": [
    "In order to plot the relative development later, we need to merge the four dataframes into one. We do this in the following code."
   ]
  },
  {
   "cell_type": "code",
   "execution_count": 12,
   "metadata": {},
   "outputs": [
    {
     "data": {
      "text/html": [
       "<div>\n",
       "<style scoped>\n",
       "    .dataframe tbody tr th:only-of-type {\n",
       "        vertical-align: middle;\n",
       "    }\n",
       "\n",
       "    .dataframe tbody tr th {\n",
       "        vertical-align: top;\n",
       "    }\n",
       "\n",
       "    .dataframe thead th {\n",
       "        text-align: right;\n",
       "    }\n",
       "</style>\n",
       "<table border=\"1\" class=\"dataframe\">\n",
       "  <thead>\n",
       "    <tr style=\"text-align: right;\">\n",
       "      <th></th>\n",
       "      <th>0_x</th>\n",
       "      <th>0_y</th>\n",
       "      <th>0_x</th>\n",
       "      <th>0_y</th>\n",
       "    </tr>\n",
       "    <tr>\n",
       "      <th>Quarter</th>\n",
       "      <th></th>\n",
       "      <th></th>\n",
       "      <th></th>\n",
       "      <th></th>\n",
       "    </tr>\n",
       "  </thead>\n",
       "  <tbody>\n",
       "    <tr>\n",
       "      <th>2008Q1</th>\n",
       "      <td>23.160397</td>\n",
       "      <td>60.861670</td>\n",
       "      <td>15.707102</td>\n",
       "      <td>0.270832</td>\n",
       "    </tr>\n",
       "    <tr>\n",
       "      <th>2008Q2</th>\n",
       "      <td>23.431038</td>\n",
       "      <td>61.304839</td>\n",
       "      <td>14.996765</td>\n",
       "      <td>0.267358</td>\n",
       "    </tr>\n",
       "    <tr>\n",
       "      <th>2008Q3</th>\n",
       "      <td>23.317818</td>\n",
       "      <td>60.824092</td>\n",
       "      <td>15.598862</td>\n",
       "      <td>0.259229</td>\n",
       "    </tr>\n",
       "    <tr>\n",
       "      <th>2008Q4</th>\n",
       "      <td>23.439883</td>\n",
       "      <td>60.604842</td>\n",
       "      <td>15.702411</td>\n",
       "      <td>0.253001</td>\n",
       "    </tr>\n",
       "    <tr>\n",
       "      <th>2009Q1</th>\n",
       "      <td>23.269285</td>\n",
       "      <td>60.776655</td>\n",
       "      <td>15.700772</td>\n",
       "      <td>0.253287</td>\n",
       "    </tr>\n",
       "    <tr>\n",
       "      <th>2009Q2</th>\n",
       "      <td>23.326358</td>\n",
       "      <td>60.719271</td>\n",
       "      <td>15.701654</td>\n",
       "      <td>0.252852</td>\n",
       "    </tr>\n",
       "    <tr>\n",
       "      <th>2009Q3</th>\n",
       "      <td>23.252948</td>\n",
       "      <td>60.701122</td>\n",
       "      <td>15.788721</td>\n",
       "      <td>0.257209</td>\n",
       "    </tr>\n",
       "    <tr>\n",
       "      <th>2009Q4</th>\n",
       "      <td>23.350837</td>\n",
       "      <td>60.501727</td>\n",
       "      <td>15.893000</td>\n",
       "      <td>0.254569</td>\n",
       "    </tr>\n",
       "    <tr>\n",
       "      <th>2010Q1</th>\n",
       "      <td>23.233048</td>\n",
       "      <td>60.703361</td>\n",
       "      <td>15.813169</td>\n",
       "      <td>0.250421</td>\n",
       "    </tr>\n",
       "    <tr>\n",
       "      <th>2010Q2</th>\n",
       "      <td>23.311000</td>\n",
       "      <td>60.779383</td>\n",
       "      <td>15.659867</td>\n",
       "      <td>0.249616</td>\n",
       "    </tr>\n",
       "  </tbody>\n",
       "</table>\n",
       "</div>"
      ],
      "text/plain": [
       "               0_x        0_y        0_x       0_y\n",
       "Quarter                                           \n",
       "2008Q1   23.160397  60.861670  15.707102  0.270832\n",
       "2008Q2   23.431038  61.304839  14.996765  0.267358\n",
       "2008Q3   23.317818  60.824092  15.598862  0.259229\n",
       "2008Q4   23.439883  60.604842  15.702411  0.253001\n",
       "2009Q1   23.269285  60.776655  15.700772  0.253287\n",
       "2009Q2   23.326358  60.719271  15.701654  0.252852\n",
       "2009Q3   23.252948  60.701122  15.788721  0.257209\n",
       "2009Q4   23.350837  60.501727  15.893000  0.254569\n",
       "2010Q1   23.233048  60.703361  15.813169  0.250421\n",
       "2010Q2   23.311000  60.779383  15.659867  0.249616"
      ]
     },
     "execution_count": 12,
     "metadata": {},
     "output_type": "execute_result"
    }
   ],
   "source": [
    "rFTEG_1 = pd.merge(rc_central, rc_municipal, on='Quarter') # merging the dataframe for relative central and\n",
    "# municipalty development changes, and thereby creating a new dataframe contianing relative central and\n",
    "# municipalty development changes\n",
    "\n",
    "rFTEG_2 = pd.merge(rFTEG_1, rc_regional, on='Quarter') # we merge the new dataframe with the datafram for\n",
    "# relative regionale development changes\n",
    "\n",
    "rFTEG = pd.merge(rFTEG_2, rc_social, on='Quarter') # and again with social\n",
    "\n",
    "rFTEG.head(10) # we plot our new dataframe, but observe that the variable names are not correct,\n",
    "# we will solve this in the following code"
   ]
  },
  {
   "cell_type": "markdown",
   "metadata": {},
   "source": [
    "### Renaming\n"
   ]
  },
  {
   "cell_type": "markdown",
   "metadata": {},
   "source": [
    "We rename the colums for our new dataframe with relative development."
   ]
  },
  {
   "cell_type": "code",
   "execution_count": 13,
   "metadata": {},
   "outputs": [
    {
     "data": {
      "text/html": [
       "<div>\n",
       "<style scoped>\n",
       "    .dataframe tbody tr th:only-of-type {\n",
       "        vertical-align: middle;\n",
       "    }\n",
       "\n",
       "    .dataframe tbody tr th {\n",
       "        vertical-align: top;\n",
       "    }\n",
       "\n",
       "    .dataframe thead th {\n",
       "        text-align: right;\n",
       "    }\n",
       "</style>\n",
       "<table border=\"1\" class=\"dataframe\">\n",
       "  <thead>\n",
       "    <tr style=\"text-align: right;\">\n",
       "      <th></th>\n",
       "      <th>Central</th>\n",
       "      <th>Municipal</th>\n",
       "      <th>Regional</th>\n",
       "      <th>Social</th>\n",
       "    </tr>\n",
       "    <tr>\n",
       "      <th>Quarter</th>\n",
       "      <th></th>\n",
       "      <th></th>\n",
       "      <th></th>\n",
       "      <th></th>\n",
       "    </tr>\n",
       "  </thead>\n",
       "  <tbody>\n",
       "    <tr>\n",
       "      <th>2008Q1</th>\n",
       "      <td>23.160397</td>\n",
       "      <td>60.861670</td>\n",
       "      <td>15.707102</td>\n",
       "      <td>0.270832</td>\n",
       "    </tr>\n",
       "    <tr>\n",
       "      <th>2008Q2</th>\n",
       "      <td>23.431038</td>\n",
       "      <td>61.304839</td>\n",
       "      <td>14.996765</td>\n",
       "      <td>0.267358</td>\n",
       "    </tr>\n",
       "    <tr>\n",
       "      <th>2008Q3</th>\n",
       "      <td>23.317818</td>\n",
       "      <td>60.824092</td>\n",
       "      <td>15.598862</td>\n",
       "      <td>0.259229</td>\n",
       "    </tr>\n",
       "    <tr>\n",
       "      <th>2008Q4</th>\n",
       "      <td>23.439883</td>\n",
       "      <td>60.604842</td>\n",
       "      <td>15.702411</td>\n",
       "      <td>0.253001</td>\n",
       "    </tr>\n",
       "    <tr>\n",
       "      <th>2009Q1</th>\n",
       "      <td>23.269285</td>\n",
       "      <td>60.776655</td>\n",
       "      <td>15.700772</td>\n",
       "      <td>0.253287</td>\n",
       "    </tr>\n",
       "    <tr>\n",
       "      <th>2009Q2</th>\n",
       "      <td>23.326358</td>\n",
       "      <td>60.719271</td>\n",
       "      <td>15.701654</td>\n",
       "      <td>0.252852</td>\n",
       "    </tr>\n",
       "    <tr>\n",
       "      <th>2009Q3</th>\n",
       "      <td>23.252948</td>\n",
       "      <td>60.701122</td>\n",
       "      <td>15.788721</td>\n",
       "      <td>0.257209</td>\n",
       "    </tr>\n",
       "    <tr>\n",
       "      <th>2009Q4</th>\n",
       "      <td>23.350837</td>\n",
       "      <td>60.501727</td>\n",
       "      <td>15.893000</td>\n",
       "      <td>0.254569</td>\n",
       "    </tr>\n",
       "    <tr>\n",
       "      <th>2010Q1</th>\n",
       "      <td>23.233048</td>\n",
       "      <td>60.703361</td>\n",
       "      <td>15.813169</td>\n",
       "      <td>0.250421</td>\n",
       "    </tr>\n",
       "    <tr>\n",
       "      <th>2010Q2</th>\n",
       "      <td>23.311000</td>\n",
       "      <td>60.779383</td>\n",
       "      <td>15.659867</td>\n",
       "      <td>0.249616</td>\n",
       "    </tr>\n",
       "  </tbody>\n",
       "</table>\n",
       "</div>"
      ],
      "text/plain": [
       "           Central  Municipal   Regional    Social\n",
       "Quarter                                           \n",
       "2008Q1   23.160397  60.861670  15.707102  0.270832\n",
       "2008Q2   23.431038  61.304839  14.996765  0.267358\n",
       "2008Q3   23.317818  60.824092  15.598862  0.259229\n",
       "2008Q4   23.439883  60.604842  15.702411  0.253001\n",
       "2009Q1   23.269285  60.776655  15.700772  0.253287\n",
       "2009Q2   23.326358  60.719271  15.701654  0.252852\n",
       "2009Q3   23.252948  60.701122  15.788721  0.257209\n",
       "2009Q4   23.350837  60.501727  15.893000  0.254569\n",
       "2010Q1   23.233048  60.703361  15.813169  0.250421\n",
       "2010Q2   23.311000  60.779383  15.659867  0.249616"
      ]
     },
     "execution_count": 13,
     "metadata": {},
     "output_type": "execute_result"
    }
   ],
   "source": [
    "rFTEG.columns = ['Central', 'Municipal', 'Regional', 'Social']\n",
    "rFTEG.head(10)"
   ]
  },
  {
   "cell_type": "markdown",
   "metadata": {},
   "source": [
    "The following code needs to be run twice in order to get the quarters to show correctly, we are not sure why."
   ]
  },
  {
   "cell_type": "code",
   "execution_count": 14,
   "metadata": {},
   "outputs": [
    {
     "data": {
      "image/png": "[encoded data removed]",
      "text/plain": [
       "<Figure size 864x864 with 1 Axes>"
      ]
     },
     "metadata": {
      "needs_background": "light"
     },
     "output_type": "display_data"
    }
   ],
   "source": [
    "fig2, ax = plt.subplots(figsize=(12,12)) # creates a figure\n",
    "\n",
    "rFTEG.reset_index(drop=True) # resets the index\n",
    "FTEG_raw.set_index('Quarter') # sets Quarter as index\n",
    "rFTEG.index = pd.DatetimeIndex(data=rFTEG.index) # set the index to be the time index on the x-axis\n",
    "\n",
    "import matplotlib.ticker as mtick # imports a package used for aplying name format on the axis\n",
    "\n",
    "fmt = '%.0f%%' # setting the format in percent\n",
    "yticks = mtick.FormatStrFormatter(fmt) # defining the format on the y-axis\n",
    "ax.yaxis.set_major_formatter(yticks) # setting the format for the y-axis\n",
    "\n",
    "ax.set_xlabel(\"Quarters\") # sets the lable for the x-axis\n",
    "ax.set_ylabel(\"Percent\") # sets the lable for the y-axis\n",
    "ax.set_title(\"Relative share of total public employment\") # sets the title for the figure\n",
    "\n",
    "rFTEG.plot(legend=True, ax=ax); # select data to be plotted"
   ]
  },
  {
   "cell_type": "markdown",
   "metadata": {},
   "source": [
    "We see that the relative contribution from the municipalties to total public employment is falling, and is the sector changing the most."
   ]
  },
  {
   "cell_type": "markdown",
   "metadata": {},
   "source": [
    "### Interactive Figure for relative development"
   ]
  },
  {
   "cell_type": "markdown",
   "metadata": {},
   "source": [
    "Unfortunately we could not get this to work, please comment if you have any ideas.\n",
    "Our wish was to have a dropdown widget so you could choose wich one you would like to look at."
   ]
  },
  {
   "cell_type": "code",
   "execution_count": 15,
   "metadata": {},
   "outputs": [],
   "source": [
    "import ipywidgets as widgets # imports the widget for interactive figures"
   ]
  },
  {
   "cell_type": "code",
   "execution_count": 16,
   "metadata": {},
   "outputs": [
    {
     "data": {
      "application/vnd.jupyter.widget-view+json": {
       "model_id": "5bee6d57e44347618e46dd23d2d28a91",
       "version_major": 2,
       "version_minor": 0
      },
      "text/plain": [
       "interactive(children=(Dropdown(description='Sector', options=('Central', 'Municipal', 'Regional', 'Social'), v…"
      ]
     },
     "metadata": {},
     "output_type": "display_data"
    }
   ],
   "source": [
    "def plot_e(dataframe, Central): ax = dataframe.loc[:,[Central]].plot()\n",
    "\n",
    "mylist = rFTEG.columns.unique().tolist()\n",
    "widgets.interact(plot_e, dataframe = widgets.fixed(rFTEG), Central = widgets.Dropdown(description='Sector', options=mylist) );"
   ]
  },
  {
   "cell_type": "markdown",
   "metadata": {},
   "source": [
    "### New data - including private employment\n",
    "\n",
    "To compare the public employment to that of the employment in the private sector, we need data for the private sector. We have found a table that has this, and will now do the same precedings as we did with the data for the public sector."
   ]
  },
  {
   "cell_type": "code",
   "execution_count": 17,
   "metadata": {},
   "outputs": [
    {
     "data": {
      "text/html": [
       "<div>\n",
       "<style scoped>\n",
       "    .dataframe tbody tr th:only-of-type {\n",
       "        vertical-align: middle;\n",
       "    }\n",
       "\n",
       "    .dataframe tbody tr th {\n",
       "        vertical-align: top;\n",
       "    }\n",
       "\n",
       "    .dataframe thead th {\n",
       "        text-align: right;\n",
       "    }\n",
       "</style>\n",
       "<table border=\"1\" class=\"dataframe\">\n",
       "  <thead>\n",
       "    <tr style=\"text-align: right;\">\n",
       "      <th></th>\n",
       "      <th>elimination</th>\n",
       "      <th>id</th>\n",
       "      <th>text</th>\n",
       "      <th>time</th>\n",
       "      <th>values</th>\n",
       "    </tr>\n",
       "  </thead>\n",
       "  <tbody>\n",
       "    <tr>\n",
       "      <th>0</th>\n",
       "      <td>False</td>\n",
       "      <td>TAL</td>\n",
       "      <td>unit</td>\n",
       "      <td>False</td>\n",
       "      <td>[{'id': '1020', 'text': 'Employees'}, {'id': '...</td>\n",
       "    </tr>\n",
       "    <tr>\n",
       "      <th>1</th>\n",
       "      <td>True</td>\n",
       "      <td>SEKTOR</td>\n",
       "      <td>sector</td>\n",
       "      <td>False</td>\n",
       "      <td>[{'id': '1000', 'text': 'All sectors'}, {'id':...</td>\n",
       "    </tr>\n",
       "    <tr>\n",
       "      <th>2</th>\n",
       "      <td>False</td>\n",
       "      <td>Tid</td>\n",
       "      <td>time</td>\n",
       "      <td>True</td>\n",
       "      <td>[{'id': '2008K1', 'text': '2008Q1'}, {'id': '2...</td>\n",
       "    </tr>\n",
       "  </tbody>\n",
       "</table>\n",
       "</div>"
      ],
      "text/plain": [
       "   elimination      id    text   time  \\\n",
       "0        False     TAL    unit  False   \n",
       "1         True  SEKTOR  sector  False   \n",
       "2        False     Tid    time   True   \n",
       "\n",
       "                                              values  \n",
       "0  [{'id': '1020', 'text': 'Employees'}, {'id': '...  \n",
       "1  [{'id': '1000', 'text': 'All sectors'}, {'id':...  \n",
       "2  [{'id': '2008K1', 'text': '2008Q1'}, {'id': '2...  "
      ]
     },
     "execution_count": 17,
     "metadata": {},
     "output_type": "execute_result"
    }
   ],
   "source": [
    "FTEP_variables = dst.get_variables(table_id = 'LBESK21')\n",
    "# creates a variable that contains the variables from the table we look at\n",
    "FTEP_variables # shows the variables"
   ]
  },
  {
   "cell_type": "code",
   "execution_count": 18,
   "metadata": {},
   "outputs": [
    {
     "data": {
      "text/plain": [
       "[{'id': '1020', 'text': 'Employees'},\n",
       " {'id': '1010', 'text': 'Full-time employees'}]"
      ]
     },
     "execution_count": 18,
     "metadata": {},
     "output_type": "execute_result"
    }
   ],
   "source": [
    "FTEP_variables['values'][0][:] # shows the sectors in the table"
   ]
  },
  {
   "cell_type": "markdown",
   "metadata": {},
   "source": [
    "### Dictionaries"
   ]
  },
  {
   "cell_type": "code",
   "execution_count": 19,
   "metadata": {},
   "outputs": [],
   "source": [
    "columns_dict3 = {} # creates a empty dictionairy, we fills the dictionary with keys and corosponding values.\n",
    "# We use the variables seen earlier.\n",
    "columns_dict3['TAL'] = 'Type'\n",
    "columns_dict3['SEKTOR'] = 'Sector'\n",
    "columns_dict3['TID'] = 'Quarter'\n",
    "columns_dict3['INDHOLD'] = 'FTE'\n",
    "\n",
    "var_dict2 = {} # creates a empty dictionairy, we fills the dictionary with keys and corosponding values.\n",
    "# We use the variables seen earlier.\n",
    "var_dict2['All sectors'] = 'Total'\n",
    "var_dict2['Central government'] = 'Central'\n",
    "var_dict2['Regional government'] = 'Regional'\n",
    "var_dict2['Municipal government'] = 'Municipal'\n",
    "var_dict2['Social security funds'] = 'Social'\n",
    "var_dict2['Public corporations'] = 'Public corp'\n",
    "var_dict2['Private corporations'] = 'Private corp'\n",
    "var_dict2['Private nonprofit organizations'] = 'Private NPO'\n",
    "var_dict2['Sector not stated'] = 'SNS'"
   ]
  },
  {
   "cell_type": "markdown",
   "metadata": {},
   "source": [
    "### New data - Private employment\n",
    "\n",
    "We now get the data which include the private sector and structure this in the same way, so we can compare the private and public workforce."
   ]
  },
  {
   "cell_type": "code",
   "execution_count": 20,
   "metadata": {},
   "outputs": [
    {
     "data": {
      "text/html": [
       "<div>\n",
       "<style scoped>\n",
       "    .dataframe tbody tr th:only-of-type {\n",
       "        vertical-align: middle;\n",
       "    }\n",
       "\n",
       "    .dataframe tbody tr th {\n",
       "        vertical-align: top;\n",
       "    }\n",
       "\n",
       "    .dataframe thead th {\n",
       "        text-align: right;\n",
       "    }\n",
       "</style>\n",
       "<table border=\"1\" class=\"dataframe\">\n",
       "  <thead>\n",
       "    <tr style=\"text-align: right;\">\n",
       "      <th></th>\n",
       "      <th>TAL</th>\n",
       "      <th>SEKTOR</th>\n",
       "      <th>TID</th>\n",
       "      <th>INDHOLD</th>\n",
       "    </tr>\n",
       "  </thead>\n",
       "  <tbody>\n",
       "    <tr>\n",
       "      <th>0</th>\n",
       "      <td>Full-time employees</td>\n",
       "      <td>All sectors</td>\n",
       "      <td>2008Q1</td>\n",
       "      <td>2245921</td>\n",
       "    </tr>\n",
       "    <tr>\n",
       "      <th>1</th>\n",
       "      <td>Full-time employees</td>\n",
       "      <td>Central government</td>\n",
       "      <td>2008Q1</td>\n",
       "      <td>164276</td>\n",
       "    </tr>\n",
       "    <tr>\n",
       "      <th>2</th>\n",
       "      <td>Full-time employees</td>\n",
       "      <td>Regional government</td>\n",
       "      <td>2008Q1</td>\n",
       "      <td>111410</td>\n",
       "    </tr>\n",
       "    <tr>\n",
       "      <th>3</th>\n",
       "      <td>Full-time employees</td>\n",
       "      <td>Municipal government</td>\n",
       "      <td>2008Q1</td>\n",
       "      <td>431690</td>\n",
       "    </tr>\n",
       "    <tr>\n",
       "      <th>4</th>\n",
       "      <td>Full-time employees</td>\n",
       "      <td>Social security funds</td>\n",
       "      <td>2008Q1</td>\n",
       "      <td>1921</td>\n",
       "    </tr>\n",
       "    <tr>\n",
       "      <th>5</th>\n",
       "      <td>Full-time employees</td>\n",
       "      <td>Public corporations</td>\n",
       "      <td>2008Q1</td>\n",
       "      <td>66524</td>\n",
       "    </tr>\n",
       "    <tr>\n",
       "      <th>6</th>\n",
       "      <td>Full-time employees</td>\n",
       "      <td>Private corporations</td>\n",
       "      <td>2008Q1</td>\n",
       "      <td>1419034</td>\n",
       "    </tr>\n",
       "    <tr>\n",
       "      <th>7</th>\n",
       "      <td>Full-time employees</td>\n",
       "      <td>Private nonprofit organizations</td>\n",
       "      <td>2008Q1</td>\n",
       "      <td>50890</td>\n",
       "    </tr>\n",
       "    <tr>\n",
       "      <th>8</th>\n",
       "      <td>Full-time employees</td>\n",
       "      <td>Sector not stated</td>\n",
       "      <td>2008Q1</td>\n",
       "      <td>176</td>\n",
       "    </tr>\n",
       "    <tr>\n",
       "      <th>9</th>\n",
       "      <td>Employees</td>\n",
       "      <td>All sectors</td>\n",
       "      <td>2008Q1</td>\n",
       "      <td>2685665</td>\n",
       "    </tr>\n",
       "  </tbody>\n",
       "</table>\n",
       "</div>"
      ],
      "text/plain": [
       "                   TAL                           SEKTOR     TID  INDHOLD\n",
       "0  Full-time employees                      All sectors  2008Q1  2245921\n",
       "1  Full-time employees               Central government  2008Q1   164276\n",
       "2  Full-time employees              Regional government  2008Q1   111410\n",
       "3  Full-time employees             Municipal government  2008Q1   431690\n",
       "4  Full-time employees            Social security funds  2008Q1     1921\n",
       "5  Full-time employees              Public corporations  2008Q1    66524\n",
       "6  Full-time employees             Private corporations  2008Q1  1419034\n",
       "7  Full-time employees  Private nonprofit organizations  2008Q1    50890\n",
       "8  Full-time employees                Sector not stated  2008Q1      176\n",
       "9            Employees                      All sectors  2008Q1  2685665"
      ]
     },
     "execution_count": 20,
     "metadata": {},
     "output_type": "execute_result"
    }
   ],
   "source": [
    "FTEP_raw = dst.get_data(table_id = 'LBESK21', variables = {'TAL':['*'], 'SEKTOR':['*'], 'Tid':['*']})\n",
    "FTEP_raw.head(10)"
   ]
  },
  {
   "cell_type": "markdown",
   "metadata": {},
   "source": [
    "### Renaming variables\n",
    "We use the dictionaries to rename the variables names."
   ]
  },
  {
   "cell_type": "code",
   "execution_count": 21,
   "metadata": {},
   "outputs": [
    {
     "data": {
      "text/html": [
       "<div>\n",
       "<style scoped>\n",
       "    .dataframe tbody tr th:only-of-type {\n",
       "        vertical-align: middle;\n",
       "    }\n",
       "\n",
       "    .dataframe tbody tr th {\n",
       "        vertical-align: top;\n",
       "    }\n",
       "\n",
       "    .dataframe thead th {\n",
       "        text-align: right;\n",
       "    }\n",
       "</style>\n",
       "<table border=\"1\" class=\"dataframe\">\n",
       "  <thead>\n",
       "    <tr style=\"text-align: right;\">\n",
       "      <th></th>\n",
       "      <th>Type</th>\n",
       "      <th>Sector</th>\n",
       "      <th>Quarter</th>\n",
       "      <th>FTE</th>\n",
       "    </tr>\n",
       "  </thead>\n",
       "  <tbody>\n",
       "    <tr>\n",
       "      <th>0</th>\n",
       "      <td>Full-time employees</td>\n",
       "      <td>Total</td>\n",
       "      <td>2008Q1</td>\n",
       "      <td>2245921</td>\n",
       "    </tr>\n",
       "    <tr>\n",
       "      <th>1</th>\n",
       "      <td>Full-time employees</td>\n",
       "      <td>Central</td>\n",
       "      <td>2008Q1</td>\n",
       "      <td>164276</td>\n",
       "    </tr>\n",
       "    <tr>\n",
       "      <th>2</th>\n",
       "      <td>Full-time employees</td>\n",
       "      <td>Regional</td>\n",
       "      <td>2008Q1</td>\n",
       "      <td>111410</td>\n",
       "    </tr>\n",
       "    <tr>\n",
       "      <th>3</th>\n",
       "      <td>Full-time employees</td>\n",
       "      <td>Municipal</td>\n",
       "      <td>2008Q1</td>\n",
       "      <td>431690</td>\n",
       "    </tr>\n",
       "    <tr>\n",
       "      <th>4</th>\n",
       "      <td>Full-time employees</td>\n",
       "      <td>Social</td>\n",
       "      <td>2008Q1</td>\n",
       "      <td>1921</td>\n",
       "    </tr>\n",
       "    <tr>\n",
       "      <th>5</th>\n",
       "      <td>Full-time employees</td>\n",
       "      <td>Public corp</td>\n",
       "      <td>2008Q1</td>\n",
       "      <td>66524</td>\n",
       "    </tr>\n",
       "    <tr>\n",
       "      <th>6</th>\n",
       "      <td>Full-time employees</td>\n",
       "      <td>Private corp</td>\n",
       "      <td>2008Q1</td>\n",
       "      <td>1419034</td>\n",
       "    </tr>\n",
       "    <tr>\n",
       "      <th>7</th>\n",
       "      <td>Full-time employees</td>\n",
       "      <td>Private NPO</td>\n",
       "      <td>2008Q1</td>\n",
       "      <td>50890</td>\n",
       "    </tr>\n",
       "    <tr>\n",
       "      <th>8</th>\n",
       "      <td>Full-time employees</td>\n",
       "      <td>SNS</td>\n",
       "      <td>2008Q1</td>\n",
       "      <td>176</td>\n",
       "    </tr>\n",
       "    <tr>\n",
       "      <th>9</th>\n",
       "      <td>Employees</td>\n",
       "      <td>Total</td>\n",
       "      <td>2008Q1</td>\n",
       "      <td>2685665</td>\n",
       "    </tr>\n",
       "  </tbody>\n",
       "</table>\n",
       "</div>"
      ],
      "text/plain": [
       "                  Type        Sector Quarter      FTE\n",
       "0  Full-time employees         Total  2008Q1  2245921\n",
       "1  Full-time employees       Central  2008Q1   164276\n",
       "2  Full-time employees      Regional  2008Q1   111410\n",
       "3  Full-time employees     Municipal  2008Q1   431690\n",
       "4  Full-time employees        Social  2008Q1     1921\n",
       "5  Full-time employees   Public corp  2008Q1    66524\n",
       "6  Full-time employees  Private corp  2008Q1  1419034\n",
       "7  Full-time employees   Private NPO  2008Q1    50890\n",
       "8  Full-time employees           SNS  2008Q1      176\n",
       "9            Employees         Total  2008Q1  2685665"
      ]
     },
     "execution_count": 21,
     "metadata": {},
     "output_type": "execute_result"
    }
   ],
   "source": [
    "FTEP_raw.rename(columns = columns_dict3, inplace = True)\n",
    "\n",
    "for key, value in var_dict2.items():\n",
    "    FTEP_raw.Sector.replace(key, value, inplace = True)\n",
    "\n",
    "FTEP_raw.head(10)"
   ]
  },
  {
   "cell_type": "markdown",
   "metadata": {},
   "source": [
    "### Cleaning, sorting and merging\n",
    "\n",
    "As we are only interested in making the analysis on the total amount of employees, we create a new dataframe, including the total amount of Full-time employees from the private and the public sector and see the developments in the workforce from 2008 Q1 till 2018 Q4. "
   ]
  },
  {
   "cell_type": "code",
   "execution_count": 22,
   "metadata": {},
   "outputs": [
    {
     "name": "stdout",
     "output_type": "stream",
     "text": [
      "                    Type Sector Quarter      FTE\n",
      "0    Full-time employees  Total  2008Q1  2245921\n",
      "18   Full-time employees  Total  2008Q2  2293127\n",
      "36   Full-time employees  Total  2008Q3  2266707\n",
      "54   Full-time employees  Total  2008Q4  2285036\n",
      "72   Full-time employees  Total  2009Q1  2214306\n",
      "90   Full-time employees  Total  2009Q2  2203450\n",
      "108  Full-time employees  Total  2009Q3  2169636\n",
      "126  Full-time employees  Total  2009Q4  2170454\n",
      "144  Full-time employees  Total  2010Q1  2114063\n",
      "162  Full-time employees  Total  2010Q2  2158461\n",
      "                   Type     Sector Quarter     FTE\n",
      "1   Full-time employees    Central  2008Q1  164276\n",
      "2   Full-time employees   Regional  2008Q1  111410\n",
      "3   Full-time employees  Municipal  2008Q1  431690\n",
      "4   Full-time employees     Social  2008Q1    1921\n",
      "19  Full-time employees    Central  2008Q2  167654\n",
      "20  Full-time employees   Regional  2008Q2  107305\n",
      "21  Full-time employees  Municipal  2008Q2  438649\n",
      "22  Full-time employees     Social  2008Q2    1913\n",
      "37  Full-time employees    Central  2008Q3  166319\n",
      "38  Full-time employees   Regional  2008Q3  111262\n",
      "                   Type        Sector Quarter      FTE\n",
      "5   Full-time employees   Public corp  2008Q1    66524\n",
      "6   Full-time employees  Private corp  2008Q1  1419034\n",
      "7   Full-time employees   Private NPO  2008Q1    50890\n",
      "23  Full-time employees   Public corp  2008Q2    67932\n",
      "24  Full-time employees  Private corp  2008Q2  1457705\n",
      "25  Full-time employees   Private NPO  2008Q2    51798\n",
      "41  Full-time employees   Public corp  2008Q3    67966\n",
      "42  Full-time employees  Private corp  2008Q3  1434737\n",
      "43  Full-time employees   Private NPO  2008Q3    50579\n",
      "59  Full-time employees   Public corp  2008Q4    66651\n"
     ]
    },
    {
     "name": "stderr",
     "output_type": "stream",
     "text": [
      "C:\\Users\\45262\\Anaconda3\\lib\\site-packages\\pandas\\core\\computation\\expressions.py:180: UserWarning: evaluating in Python space because the '+' operator is not supported by numexpr for the bool dtype, use '|' instead\n",
      "  .format(op=op_str, alt_op=unsupported[op_str]))\n"
     ]
    }
   ],
   "source": [
    "FTE2 = FTEP_raw[(FTEP_raw['Type'] == 'Full-time employees') & (FTEP_raw['Sector'] == 'Total')]\n",
    "FTEG2 = FTEP_raw[(FTEP_raw['Type'] == 'Full-time employees') & (FTEP_raw['Sector'] == 'Central') + (FTEP_raw['Sector'] == 'Regional') + (FTEP_raw['Sector'] == 'Municipal') + (FTEP_raw['Sector'] == 'Social')]\n",
    "FTEP2 = FTEP_raw[(FTEP_raw['Type'] == 'Full-time employees') & (FTEP_raw['Sector'] == 'Private corp') + (FTEP_raw['Sector'] == 'Public corp') + (FTEP_raw['Sector'] == 'Private NPO')]\n",
    "# The above lines, create 3 dataframes by selecting only the data we need, FTEs and split it in 3, Public, Private and Total workforce.\n",
    "\n",
    "print(FTE2.head(10))\n",
    "print(FTEG2.head(10))\n",
    "print(FTEP2.head(10))\n"
   ]
  },
  {
   "cell_type": "markdown",
   "metadata": {},
   "source": [
    "To reach our final dataframe containing total, private and public employment, we create three new dataframes for total, private and public employment.\n",
    "we use the copy/pivot to make sure that our three dataframes have the same index and dimensions."
   ]
  },
  {
   "cell_type": "code",
   "execution_count": 23,
   "metadata": {},
   "outputs": [
    {
     "name": "stdout",
     "output_type": "stream",
     "text": [
      "           Total\n",
      "Quarter         \n",
      "2008Q1   2245921\n",
      "2008Q2   2293127\n",
      "2008Q3   2266707\n",
      "2008Q4   2285036\n",
      "2009Q1   2214306\n",
      "2009Q2   2203450\n",
      "2009Q3   2169636\n",
      "2009Q4   2170454\n",
      "2010Q1   2114063\n",
      "2010Q2   2158461\n",
      "           FTEG\n",
      "Quarter        \n",
      "2008Q1   709297\n",
      "2008Q2   715521\n",
      "2008Q3   713270\n",
      "2008Q4   728456\n",
      "2009Q1   727633\n",
      "2009Q2   740751\n",
      "2009Q3   734423\n",
      "2009Q4   744788\n",
      "2010Q1   742748\n",
      "2010Q2   751953\n",
      "            FTEP\n",
      "Quarter         \n",
      "2008Q1   1536448\n",
      "2008Q2   1577435\n",
      "2008Q3   1553282\n",
      "2008Q4   1556435\n",
      "2009Q1   1486514\n",
      "2009Q2   1462542\n",
      "2009Q3   1435027\n",
      "2009Q4   1425493\n",
      "2010Q1   1371162\n",
      "2010Q2   1406348\n"
     ]
    }
   ],
   "source": [
    "FTE2_pivot = FTE2.copy().pivot(index = 'Quarter', columns = 'Sector', values = 'FTE')\n",
    "# creates a copy and pivot the data using the 'Quarter' as the index\n",
    "FTE_total = pd.DataFrame(data = FTE2_pivot['Total']) # creates a dataframe\n",
    "\n",
    "FTEG2_pivot = FTEG2.copy().pivot(index = 'Quarter', columns = 'Sector', values = 'FTE')\n",
    "FTEG_total = pd.DataFrame(data = FTEG2_pivot['Central'] + FTEG2_pivot['Regional'] + FTEG2_pivot['Municipal'] + FTEG2_pivot['Social'])\n",
    "FTEG_total.columns = ['FTEG'] # renames the column  \n",
    "\n",
    "FTEP2_pivot = FTEP2.copy().pivot(index = 'Quarter', columns = 'Sector', values = 'FTE')\n",
    "FTEP_total = pd.DataFrame(data = FTEP2_pivot['Private corp'] + FTEP2_pivot['Public corp'] + FTEP2_pivot['Private NPO'])\n",
    "FTEP_total.columns = ['FTEP']\n",
    "\n",
    "print(FTE_total.head(10))\n",
    "print(FTEG_total.head(10))\n",
    "print(FTEP_total.head(10))"
   ]
  },
  {
   "cell_type": "markdown",
   "metadata": {},
   "source": [
    "Now we merge the three dataframes to get our desired dataframe."
   ]
  },
  {
   "cell_type": "code",
   "execution_count": 24,
   "metadata": {},
   "outputs": [
    {
     "data": {
      "text/plain": [
       "<matplotlib.axes._subplots.AxesSubplot at 0x282a8db0da0>"
      ]
     },
     "execution_count": 24,
     "metadata": {},
     "output_type": "execute_result"
    },
    {
     "data": {
      "image/png": "[encoded data removed]",
      "text/plain": [
       "<Figure size 864x864 with 1 Axes>"
      ]
     },
     "metadata": {
      "needs_background": "light"
     },
     "output_type": "display_data"
    }
   ],
   "source": [
    "FTE1 = pd.merge(FTE_total, FTEG_total, on='Quarter') # merging total and public employment\n",
    "FTE = pd.merge(FTE1, FTEP_total, on='Quarter') # merging private employment with total and public employment\n",
    "\n",
    "FTE.index = pd.DatetimeIndex(data=FTE.index) # sets the index to a time index, which is still Quarter but in another format\n",
    "\n",
    "FTE.plot(figsize=(12,12), title='Full-time employment') # plots our final figure"
   ]
  },
  {
   "cell_type": "markdown",
   "metadata": {},
   "source": [
    "In 2010 we see the lowest private employment in the period, where the private employment is close to 1.3 million employees, almost 300.000 lower than the peak before the crises. From 2010 the employment slowly grows from 2010 and up to around the same level as before the crises, in 2018 Q4.\n",
    "\n",
    "From the figure above we see that the majority of the cotribution to the changes in the total employments, stems from the private sector. The public sector is relatively flat, which makes sense intuatively, as the public sector is less exposed to conjuctions as well as the grotwh or decrease is politically decided.\n"
   ]
  }
 ],
 "metadata": {
  "kernelspec": {
   "display_name": "Python 3",
   "language": "python",
   "name": "python3"
  },
  "language_info": {
   "codemirror_mode": {
    "name": "ipython",
    "version": 3
   },
   "file_extension": ".py",
   "mimetype": "text/x-python",
   "name": "python",
   "nbconvert_exporter": "python",
   "pygments_lexer": "ipython3",
   "version": "3.6.8"
  }
 },
 "nbformat": 4,
 "nbformat_minor": 2
}
